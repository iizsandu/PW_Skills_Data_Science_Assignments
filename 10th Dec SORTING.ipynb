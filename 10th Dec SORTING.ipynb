{
 "cells": [
  {
   "cell_type": "markdown",
   "id": "5947630f",
   "metadata": {},
   "source": [
    "Sol 1"
   ]
  },
  {
   "cell_type": "code",
   "execution_count": 6,
   "id": "d0ca4a1a",
   "metadata": {},
   "outputs": [
    {
     "name": "stdout",
     "output_type": "stream",
     "text": [
      "2\n"
     ]
    }
   ],
   "source": [
    "def findMode2(arr):\n",
    "    \n",
    "    my_dict = {}\n",
    "    n = len(arr)\n",
    "    \n",
    "    for i in range(n):\n",
    "        if arr[i] in my_dict:\n",
    "            my_dict[arr[i]] += 1\n",
    "        else:\n",
    "            my_dict[arr[i]] = 1\n",
    "        \n",
    "    max_frequency_value = max(my_dict, key = my_dict.get)\n",
    "    return max_frequency_value\n",
    "\n",
    "arr = [1,2,2,3,2,4,5,2]\n",
    "print(findMode2(arr))"
   ]
  },
  {
   "cell_type": "markdown",
   "id": "30ce4b00",
   "metadata": {},
   "source": [
    "Sol 2"
   ]
  },
  {
   "cell_type": "code",
   "execution_count": 2,
   "id": "8eeaf240",
   "metadata": {},
   "outputs": [
    {
     "name": "stdout",
     "output_type": "stream",
     "text": [
      "5\n"
     ]
    }
   ],
   "source": [
    "def findMissing(arr):\n",
    "    \n",
    "    n = len(arr)\n",
    "    min_value = min(arr)\n",
    "    max_value = max(arr)\n",
    "    \n",
    "    while min_value<max_value:\n",
    "        next_value = min_value + 1\n",
    "        if next_value not in arr:\n",
    "            return next_value\n",
    "        min_value = next_value\n",
    "        \n",
    "        \n",
    "arr = [1,2,4,6,3,7,8]\n",
    "print(findMissing(arr))\n",
    "    "
   ]
  },
  {
   "cell_type": "markdown",
   "id": "3708ede8",
   "metadata": {},
   "source": [
    "Sol 3"
   ]
  },
  {
   "cell_type": "code",
   "execution_count": 7,
   "id": "a8b228a8",
   "metadata": {},
   "outputs": [
    {
     "name": "stdout",
     "output_type": "stream",
     "text": [
      "2\n"
     ]
    }
   ],
   "source": [
    "def findOdd(arr):\n",
    "    \n",
    "    result = 0\n",
    "    for num in arr:\n",
    "        result ^= num\n",
    "        \n",
    "    return result\n",
    "\n",
    "\n",
    "arr = [1,2,3,2,3,1,2]\n",
    "print(findOdd(arr))"
   ]
  },
  {
   "cell_type": "markdown",
   "id": "4ca2d349",
   "metadata": {},
   "source": [
    "Sol 4"
   ]
  },
  {
   "cell_type": "code",
   "execution_count": 11,
   "id": "c810313b",
   "metadata": {},
   "outputs": [
    {
     "data": {
      "text/plain": [
       "(4, 5)"
      ]
     },
     "execution_count": 11,
     "metadata": {},
     "output_type": "execute_result"
    }
   ],
   "source": [
    "\n",
    "def find_element(arr,k):\n",
    "    n = len(arr)\n",
    "    \n",
    "    for i,num in enumerate(arr):\n",
    "        complement = k-num\n",
    "        if complement in arr:\n",
    "            if i!=(arr.index(complement)):\n",
    "                return i, arr.index(complement)\n",
    "arr = [1,2,3,4,5]\n",
    "findelement(arr,9)"
   ]
  },
  {
   "cell_type": "markdown",
   "id": "0ae93ff2",
   "metadata": {},
   "source": [
    "Sol 5"
   ]
  },
  {
   "cell_type": "code",
   "execution_count": 33,
   "id": "7958dadf",
   "metadata": {},
   "outputs": [
    {
     "name": "stdout",
     "output_type": "stream",
     "text": [
      "(-80, 81)\n"
     ]
    }
   ],
   "source": [
    "def closesttozero(arr):\n",
    "    arr.sort()\n",
    "    n = len(arr)\n",
    "\n",
    "    left = arr[0]\n",
    "    right = arr[n - 1]\n",
    "    add_check = 999999\n",
    "    num1, num2 = left, right\n",
    "\n",
    "    while left < right:\n",
    "        addition = left + right\n",
    "        if abs(addition) < add_check:\n",
    "            add_check = abs(addition)\n",
    "            num1, num2 = left, right\n",
    "\n",
    "        if addition > 0:\n",
    "            right = arr[arr.index(right) - 1]\n",
    "        elif addition < 0:\n",
    "            left = arr[arr.index(left) + 1]\n",
    "\n",
    "    return num1, num2\n",
    "\n",
    "\n",
    "arr = [1, 60, -10, 70, -80, 85, 81]\n",
    "print(closesttozero(arr))"
   ]
  },
  {
   "cell_type": "markdown",
   "id": "33e7d756",
   "metadata": {},
   "source": [
    "Sol 6"
   ]
  },
  {
   "cell_type": "code",
   "execution_count": 37,
   "id": "438d85f4",
   "metadata": {},
   "outputs": [
    {
     "name": "stdout",
     "output_type": "stream",
     "text": [
      "(7, 8, 1)\n"
     ]
    }
   ],
   "source": [
    "def find3sum(arr,k):\n",
    "    i=0\n",
    "    n=len(arr)\n",
    "    while(i<n):\n",
    "        target = k-arr[i]\n",
    "        for j in range(n):\n",
    "            if (j!=i):\n",
    "                comp = target - arr[j]\n",
    "                if comp in arr and (arr.index(comp))!=j:\n",
    "                    return arr[i],arr[j],comp\n",
    "                \n",
    "        i+=1\n",
    "        \n",
    "    return None\n",
    "\n",
    "arr = [7,8,1,2,4,5]\n",
    "print(find3sum(arr,16))\n"
   ]
  },
  {
   "cell_type": "markdown",
   "id": "3d071d0b",
   "metadata": {},
   "source": [
    "Sol 7"
   ]
  },
  {
   "cell_type": "code",
   "execution_count": 41,
   "id": "20b8abb4",
   "metadata": {},
   "outputs": [
    {
     "name": "stdout",
     "output_type": "stream",
     "text": [
      "(5, 3, 4)\n"
     ]
    }
   ],
   "source": [
    "def pythagorasNO(arr):\n",
    "    i=0\n",
    "    n = len(arr)\n",
    "    while (i<n):\n",
    "        target = arr[i]*arr[i]\n",
    "        for j in range(n):\n",
    "            if i!=j :\n",
    "                comp = target - (arr[j]*arr[j])\n",
    "                if (comp ** 0.5) in arr and (arr.index(comp**0.5))!=j:\n",
    "                    return arr[i],arr[j],int(comp**0.5)\n",
    "        i=+1\n",
    "        \n",
    "    return None\n",
    "\n",
    "arr = [5,2,3,4,10,11]\n",
    "print(pythagorasNO(arr))"
   ]
  },
  {
   "cell_type": "markdown",
   "id": "f74c4be8",
   "metadata": {},
   "source": [
    "Sol 8"
   ]
  },
  {
   "cell_type": "code",
   "execution_count": 51,
   "id": "dd343722",
   "metadata": {},
   "outputs": [
    {
     "name": "stdout",
     "output_type": "stream",
     "text": [
      "None\n"
     ]
    }
   ],
   "source": [
    "def majority(arr):\n",
    "    \n",
    "    my_dict = {}\n",
    "    n = len(arr)\n",
    "    \n",
    "    for i in range(n):\n",
    "        if arr[i] in my_dict:\n",
    "            my_dict[arr[i]] += 1\n",
    "        else:\n",
    "            my_dict[arr[i]] = 1\n",
    "        \n",
    "    maj = {k for k,v in my_dict.items() if v>(n/2)}\n",
    "    if maj:\n",
    "        return maj\n",
    "    else:\n",
    "        return None\n",
    "\n",
    "\n",
    "arr = [1,2,5,3,5,3,5,3]\n",
    "print(majority(arr))"
   ]
  },
  {
   "cell_type": "markdown",
   "id": "77ab53d5",
   "metadata": {},
   "source": [
    "Sol 9"
   ]
  },
  {
   "cell_type": "code",
   "execution_count": 52,
   "id": "06f35747",
   "metadata": {},
   "outputs": [
    {
     "name": "stdout",
     "output_type": "stream",
     "text": [
      "3\n"
     ]
    }
   ],
   "source": [
    "def find_row_with_max_zeros(matrix):\n",
    "    n = len(matrix)\n",
    "    max_zeros = -1\n",
    "    row_index = -1\n",
    "\n",
    "    for i in range(n):\n",
    "        low, high = 0, n - 1\n",
    "        first_zero_index = n\n",
    "        \n",
    "        while low <= high:\n",
    "            mid = (low + high) // 2\n",
    "            if matrix[i][mid] == 0:\n",
    "                first_zero_index = mid\n",
    "                high = mid - 1\n",
    "            else:\n",
    "                low = mid + 1\n",
    "\n",
    "        num_zeros = n - first_zero_index\n",
    "        \n",
    "        if num_zeros > max_zeros:\n",
    "            max_zeros = num_zeros\n",
    "            row_index = i\n",
    "\n",
    "    return row_index\n",
    "\n",
    "\n",
    "matrix = [\n",
    "    [1, 1, 1, 1, 0, 0, 0],\n",
    "    [1, 1, 1, 0, 0, 0, 0],\n",
    "    [1, 1, 0, 0, 0, 0, 0],\n",
    "    [1, 0, 0, 0, 0, 0, 0]\n",
    "]\n",
    "\n",
    "print(find_row_with_max_zeros(matrix)) \n"
   ]
  },
  {
   "cell_type": "markdown",
   "id": "b1f930fe",
   "metadata": {},
   "source": [
    "Sol 10"
   ]
  },
  {
   "cell_type": "code",
   "execution_count": null,
   "id": "d00f23f5",
   "metadata": {},
   "outputs": [],
   "source": [
    "def sortarray(arr):\n",
    "    left = 0\n",
    "    mid = 0\n",
    "    right = len(arr)-1\n",
    "    \n",
    "    while mid<=right:\n",
    "        if arr[mid] == 0:\n",
    "            arr[left],arr[mid] = arr[mid],arr[left]\n",
    "            left+=1\n",
    "            mid+=1\n",
    "        elif arr[mid] == 1:\n",
    "            mid+=1\n",
    "        else:\n",
    "            arr[mid],arr[right] = arr[right],arr[mid]\n",
    "            right -= 1\n",
    "    \n",
    "    return arr\n",
    "\n",
    "arr = [0,1,1,0,1,2,1,2,0,0,0,1]\n",
    "sorted_arr = sortarray(arr)\n",
    "print(sorted_arr)"
   ]
  },
  {
   "cell_type": "code",
   "execution_count": null,
   "id": "df749c1f",
   "metadata": {},
   "outputs": [],
   "source": []
  },
  {
   "cell_type": "code",
   "execution_count": null,
   "id": "e8c58ac9",
   "metadata": {},
   "outputs": [],
   "source": []
  }
 ],
 "metadata": {
  "kernelspec": {
   "display_name": "Python 3 (ipykernel)",
   "language": "python",
   "name": "python3"
  },
  "language_info": {
   "codemirror_mode": {
    "name": "ipython",
    "version": 3
   },
   "file_extension": ".py",
   "mimetype": "text/x-python",
   "name": "python",
   "nbconvert_exporter": "python",
   "pygments_lexer": "ipython3",
   "version": "3.9.7"
  }
 },
 "nbformat": 4,
 "nbformat_minor": 5
}

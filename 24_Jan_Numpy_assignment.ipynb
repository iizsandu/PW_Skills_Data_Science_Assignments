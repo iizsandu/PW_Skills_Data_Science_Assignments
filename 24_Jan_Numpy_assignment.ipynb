{
 "cells": [
  {
   "cell_type": "markdown",
   "id": "dd1e6e4f",
   "metadata": {},
   "source": [
    "Solution 1"
   ]
  },
  {
   "cell_type": "markdown",
   "id": "1b06ead3",
   "metadata": {},
   "source": [
    "I library is a bundle of code which provides multiple funtions that can be simply imported without having to write it from scratch.\n",
    "\n",
    "It simplifies our code. Enhances reusability."
   ]
  },
  {
   "cell_type": "markdown",
   "id": "2f9c1b7f",
   "metadata": {},
   "source": [
    "Solution 2"
   ]
  },
  {
   "cell_type": "markdown",
   "id": "28df0f92",
   "metadata": {},
   "source": [
    "Array : They are fast. They are immutable. Homogenous\n",
    "    \n",
    "list : They are comparatively slow. They are mutable. Heterogenous."
   ]
  },
  {
   "cell_type": "markdown",
   "id": "576b465b",
   "metadata": {},
   "source": [
    "Solution 3"
   ]
  },
  {
   "cell_type": "code",
   "execution_count": 7,
   "id": "c138df67",
   "metadata": {},
   "outputs": [
    {
     "name": "stdout",
     "output_type": "stream",
     "text": [
      "2\n"
     ]
    }
   ],
   "source": [
    "import numpy as np\n",
    "\n",
    "arr = np.array([[1, 2, 3, 4],\n",
    "               [5, 6, 7, 8],\n",
    "               [9, 10, 11, 12]])\n",
    "\n",
    "print(arr.ndim)"
   ]
  },
  {
   "cell_type": "markdown",
   "id": "9137d365",
   "metadata": {},
   "source": [
    "Solution 4"
   ]
  },
  {
   "cell_type": "code",
   "execution_count": 8,
   "id": "719f83a2",
   "metadata": {},
   "outputs": [
    {
     "data": {
      "text/plain": [
       "array([1, 2, 3, 4])"
      ]
     },
     "execution_count": 8,
     "metadata": {},
     "output_type": "execute_result"
    }
   ],
   "source": [
    "arr = np.array([[1, 2, 3, 4],\n",
    "               [5, 6, 7, 8],\n",
    "               [9, 10, 11, 12]])\n",
    "\n",
    "arr[0]\n"
   ]
  },
  {
   "cell_type": "markdown",
   "id": "94dd8d60",
   "metadata": {},
   "source": [
    "Solution 5"
   ]
  },
  {
   "cell_type": "code",
   "execution_count": 9,
   "id": "24fea9e7",
   "metadata": {},
   "outputs": [
    {
     "data": {
      "text/plain": [
       "12"
      ]
     },
     "execution_count": 9,
     "metadata": {},
     "output_type": "execute_result"
    }
   ],
   "source": [
    "arr = np.array([[1, 2, 3, 4],\n",
    "               [5, 6, 7, 8],\n",
    "               [9, 10, 11, 12]])\n",
    "\n",
    "arr[2][3]"
   ]
  },
  {
   "cell_type": "markdown",
   "id": "6dfd7833",
   "metadata": {},
   "source": [
    "Solution 6"
   ]
  },
  {
   "cell_type": "code",
   "execution_count": 17,
   "id": "4dcd0d84",
   "metadata": {},
   "outputs": [
    {
     "name": "stdout",
     "output_type": "stream",
     "text": [
      "6\n",
      "8\n"
     ]
    }
   ],
   "source": [
    "arr = np.array([[1, 2, 3, 4],\n",
    "               [5, 6, 7, 8],\n",
    "               [9, 10, 11, 12]])\n",
    "\n",
    "for i in range(arr.shape[0]):\n",
    "    for j in range(arr.shape[1]):\n",
    "        if i%2!=0 and j%2!=0:\n",
    "            print(arr[i][j])"
   ]
  },
  {
   "cell_type": "markdown",
   "id": "3f8377e6",
   "metadata": {},
   "source": [
    "Solution 7"
   ]
  },
  {
   "cell_type": "code",
   "execution_count": 19,
   "id": "1bd3a9b0",
   "metadata": {},
   "outputs": [
    {
     "data": {
      "text/plain": [
       "array([[0, 0, 1],\n",
       "       [1, 0, 0],\n",
       "       [0, 1, 1]])"
      ]
     },
     "execution_count": 19,
     "metadata": {},
     "output_type": "execute_result"
    }
   ],
   "source": [
    "arr = np.random.randint(0,2,(3,3))\n",
    "arr"
   ]
  },
  {
   "cell_type": "markdown",
   "id": "b91028fb",
   "metadata": {},
   "source": [
    "Solution 8\n"
   ]
  },
  {
   "cell_type": "markdown",
   "id": "9548737f",
   "metadata": {},
   "source": [
    "arr = np.random.rand - Gives us an array of random numbers of the given size\n",
    "\n",
    "arr = np.random.randn - Gives us an array of random number of a given size which are normally distributed."
   ]
  },
  {
   "cell_type": "markdown",
   "id": "6dd69dff",
   "metadata": {},
   "source": [
    "Soluiton 9"
   ]
  },
  {
   "cell_type": "code",
   "execution_count": 22,
   "id": "7af702d6",
   "metadata": {},
   "outputs": [
    {
     "data": {
      "text/plain": [
       "array([[[ 1,  2,  3,  4],\n",
       "        [ 5,  6,  7,  8],\n",
       "        [ 9, 10, 11, 12]]])"
      ]
     },
     "execution_count": 22,
     "metadata": {},
     "output_type": "execute_result"
    }
   ],
   "source": [
    "arr = np.array([[1, 2, 3, 4],\n",
    "               [5, 6, 7, 8],\n",
    "               [9, 10, 11, 12]])\n",
    "\n",
    "arr = np.expand_dims(arr, axis=0)\n",
    "arr"
   ]
  },
  {
   "cell_type": "markdown",
   "id": "a4b954f7",
   "metadata": {},
   "source": [
    "Solution 10"
   ]
  },
  {
   "cell_type": "code",
   "execution_count": 23,
   "id": "67d7058c",
   "metadata": {},
   "outputs": [
    {
     "data": {
      "text/plain": [
       "array([[ 1,  5,  9],\n",
       "       [ 2,  6, 10],\n",
       "       [ 3,  7, 11],\n",
       "       [ 4,  8, 12]])"
      ]
     },
     "execution_count": 23,
     "metadata": {},
     "output_type": "execute_result"
    }
   ],
   "source": [
    "arr = np.array([[1, 2, 3, 4],\n",
    "               [5, 6, 7, 8],\n",
    "               [9, 10, 11, 12]])\n",
    "arr.T"
   ]
  },
  {
   "cell_type": "markdown",
   "id": "21c2dfb8",
   "metadata": {},
   "source": [
    "Solution 11"
   ]
  },
  {
   "cell_type": "code",
   "execution_count": 25,
   "id": "316c83c6",
   "metadata": {},
   "outputs": [],
   "source": [
    "a = np.array([[1, 2, 3, 4],\n",
    "               [5, 6, 7, 8],\n",
    "               [9, 10, 11, 12]])\n",
    "b = np.array([[1, 2, 3, 4],\n",
    "               [5, 6, 7, 8],\n",
    "               [9, 10, 11, 12]])"
   ]
  },
  {
   "cell_type": "code",
   "execution_count": 26,
   "id": "d639eac3",
   "metadata": {},
   "outputs": [
    {
     "data": {
      "text/plain": [
       "array([[  1,   4,   9,  16],\n",
       "       [ 25,  36,  49,  64],\n",
       "       [ 81, 100, 121, 144]])"
      ]
     },
     "execution_count": 26,
     "metadata": {},
     "output_type": "execute_result"
    }
   ],
   "source": [
    "#1\n",
    "\n",
    "a * b"
   ]
  },
  {
   "cell_type": "markdown",
   "id": "39dc4b2f",
   "metadata": {},
   "source": [
    "#2 \n",
    "\n",
    "Not possible since Number of columns in first matrix is not equal to 2nd matrix"
   ]
  },
  {
   "cell_type": "code",
   "execution_count": 29,
   "id": "49a11c3f",
   "metadata": {},
   "outputs": [
    {
     "data": {
      "text/plain": [
       "array([[ 2,  4,  6,  8],\n",
       "       [10, 12, 14, 16],\n",
       "       [18, 20, 22, 24]])"
      ]
     },
     "execution_count": 29,
     "metadata": {},
     "output_type": "execute_result"
    }
   ],
   "source": [
    "#3\n",
    "\n",
    "a+b"
   ]
  },
  {
   "cell_type": "code",
   "execution_count": 30,
   "id": "74fb83ce",
   "metadata": {},
   "outputs": [
    {
     "data": {
      "text/plain": [
       "array([[0, 0, 0, 0],\n",
       "       [0, 0, 0, 0],\n",
       "       [0, 0, 0, 0]])"
      ]
     },
     "execution_count": 30,
     "metadata": {},
     "output_type": "execute_result"
    }
   ],
   "source": [
    "#4\n",
    "\n",
    "a-b"
   ]
  },
  {
   "cell_type": "code",
   "execution_count": 32,
   "id": "88b4ca73",
   "metadata": {},
   "outputs": [
    {
     "data": {
      "text/plain": [
       "array([[1., 1., 1., 1.],\n",
       "       [1., 1., 1., 1.],\n",
       "       [1., 1., 1., 1.]])"
      ]
     },
     "execution_count": 32,
     "metadata": {},
     "output_type": "execute_result"
    }
   ],
   "source": [
    "#5\n",
    "\n",
    "a/b"
   ]
  },
  {
   "cell_type": "markdown",
   "id": "6e5bcbd1",
   "metadata": {},
   "source": [
    "Solution 12\n",
    "\n",
    "np.ndarray.byteswap()"
   ]
  },
  {
   "cell_type": "markdown",
   "id": "4ac3f054",
   "metadata": {},
   "source": [
    "Solution 13"
   ]
  },
  {
   "cell_type": "markdown",
   "id": "04d0f85e",
   "metadata": {},
   "source": [
    "np.linalg.inv() is used to compute the inverse of a matrix."
   ]
  },
  {
   "cell_type": "markdown",
   "id": "bf4200d5",
   "metadata": {},
   "source": [
    "Solution 14"
   ]
  },
  {
   "cell_type": "markdown",
   "id": "2eabc47b",
   "metadata": {},
   "source": [
    "np.reshape() - It changes the shape of the array without altering its data."
   ]
  },
  {
   "cell_type": "code",
   "execution_count": 33,
   "id": "4510e544",
   "metadata": {},
   "outputs": [
    {
     "data": {
      "text/plain": [
       "array([[ 1,  2],\n",
       "       [ 3,  4],\n",
       "       [ 5,  6],\n",
       "       [ 7,  8],\n",
       "       [ 9, 10],\n",
       "       [11, 12]])"
      ]
     },
     "execution_count": 33,
     "metadata": {},
     "output_type": "execute_result"
    }
   ],
   "source": [
    "arr = np.array([[1, 2, 3, 4],\n",
    "               [5, 6, 7, 8],\n",
    "               [9, 10, 11, 12]])\n",
    "\n",
    "arr.reshape(6,2)"
   ]
  },
  {
   "cell_type": "markdown",
   "id": "f490cf0b",
   "metadata": {},
   "source": [
    "Solution 15"
   ]
  },
  {
   "cell_type": "markdown",
   "id": "8e00397c",
   "metadata": {},
   "source": [
    "Broadcasting refers to the automatic expansion of smaller arrays to match the shape of larger arrays during arithmetic operations."
   ]
  },
  {
   "cell_type": "code",
   "execution_count": 35,
   "id": "db128343",
   "metadata": {},
   "outputs": [
    {
     "data": {
      "text/plain": [
       "array([[ 2,  4,  6,  8],\n",
       "       [ 6,  8, 10, 12],\n",
       "       [10, 12, 14, 16]])"
      ]
     },
     "execution_count": 35,
     "metadata": {},
     "output_type": "execute_result"
    }
   ],
   "source": [
    "arr = np.array([[1, 2, 3, 4],\n",
    "               [5, 6, 7, 8],\n",
    "               [9, 10, 11, 12]])\n",
    "\n",
    "a = np.array([1,2,3,4])\n",
    "\n",
    "\n",
    "arr+a"
   ]
  },
  {
   "cell_type": "code",
   "execution_count": null,
   "id": "38b61052",
   "metadata": {},
   "outputs": [],
   "source": []
  }
 ],
 "metadata": {
  "kernelspec": {
   "display_name": "Python 3 (ipykernel)",
   "language": "python",
   "name": "python3"
  },
  "language_info": {
   "codemirror_mode": {
    "name": "ipython",
    "version": 3
   },
   "file_extension": ".py",
   "mimetype": "text/x-python",
   "name": "python",
   "nbconvert_exporter": "python",
   "pygments_lexer": "ipython3",
   "version": "3.9.7"
  }
 },
 "nbformat": 4,
 "nbformat_minor": 5
}

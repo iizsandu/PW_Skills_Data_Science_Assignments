{
 "cells": [
  {
   "cell_type": "markdown",
   "id": "ec829d11",
   "metadata": {},
   "source": [
    "## String Based Assignment Problem"
   ]
  },
  {
   "cell_type": "markdown",
   "id": "f18ad53f",
   "metadata": {},
   "source": [
    "Sol 1 "
   ]
  },
  {
   "cell_type": "code",
   "execution_count": 1,
   "id": "4bec8871",
   "metadata": {},
   "outputs": [
    {
     "name": "stdout",
     "output_type": "stream",
     "text": [
      "Enter a String hello\n",
      "The reverse of the string is  olleh\n"
     ]
    }
   ],
   "source": [
    "string = input(\"Enter a String \")\n",
    "rev = string[::-1]\n",
    "\n",
    "print(\"The reverse of the string is \", rev)"
   ]
  },
  {
   "cell_type": "markdown",
   "id": "e032fd3f",
   "metadata": {},
   "source": [
    "Sol 2"
   ]
  },
  {
   "cell_type": "code",
   "execution_count": 2,
   "id": "dd2764b7",
   "metadata": {},
   "outputs": [
    {
     "name": "stdout",
     "output_type": "stream",
     "text": [
      "Enter a String MOM\n",
      "The sring is palindrome\n"
     ]
    }
   ],
   "source": [
    "def palin(str1):\n",
    "    if str1[::-1]==str1:\n",
    "        return True\n",
    "    else:\n",
    "        return False\n",
    "    \n",
    "string = input(\"Enter a String \")\n",
    "check = palin(string)\n",
    "\n",
    "if check == True:\n",
    "    print(\"The sring is palindrome\")\n",
    "else:\n",
    "    print(\"The sring is not palindrome\")"
   ]
  },
  {
   "cell_type": "markdown",
   "id": "078a49c4",
   "metadata": {},
   "source": [
    "Sol 3"
   ]
  },
  {
   "cell_type": "code",
   "execution_count": 3,
   "id": "66e11096",
   "metadata": {},
   "outputs": [
    {
     "name": "stdout",
     "output_type": "stream",
     "text": [
      "Enter a String sandip\n",
      "Uppercase string is  SANDIP\n"
     ]
    }
   ],
   "source": [
    "string = input(\"Enter a String \")\n",
    "\n",
    "string.upper()\n",
    "print(\"Uppercase string is \", string.upper())"
   ]
  },
  {
   "cell_type": "markdown",
   "id": "874dcfe5",
   "metadata": {},
   "source": [
    "Sol 4"
   ]
  },
  {
   "cell_type": "code",
   "execution_count": 4,
   "id": "dcb0bf7b",
   "metadata": {},
   "outputs": [
    {
     "name": "stdout",
     "output_type": "stream",
     "text": [
      "Enter a String SANDIP\n",
      "Uppercase string is  sandip\n"
     ]
    }
   ],
   "source": [
    "string = input(\"Enter a String \")\n",
    "\n",
    "string.lower()\n",
    "print(\"Uppercase string is \", string.lower())"
   ]
  },
  {
   "cell_type": "markdown",
   "id": "fc0fd621",
   "metadata": {},
   "source": [
    "Sol 5"
   ]
  },
  {
   "cell_type": "code",
   "execution_count": 5,
   "id": "29530cf1",
   "metadata": {},
   "outputs": [
    {
     "name": "stdout",
     "output_type": "stream",
     "text": [
      "Enter a String my name is sandip shaw\n",
      "Number of vowels :  6\n"
     ]
    }
   ],
   "source": [
    "string = input(\"Enter a String \")\n",
    "\n",
    "count = 0\n",
    "\n",
    "vowels = [\"A\",\"E\",\"I\",\"O\",\"U\",\"a\",\"e\",\"i\",\"o\",\"u\"]\n",
    "for i in range(len(string)):\n",
    "    if string[i] in vowels:\n",
    "        count = count+1\n",
    "\n",
    "print(\"Number of vowels : \", count)"
   ]
  },
  {
   "cell_type": "markdown",
   "id": "e16606bd",
   "metadata": {},
   "source": [
    "Sol 6"
   ]
  },
  {
   "cell_type": "code",
   "execution_count": 6,
   "id": "3723433a",
   "metadata": {
    "scrolled": true
   },
   "outputs": [
    {
     "name": "stdout",
     "output_type": "stream",
     "text": [
      "Enter a String my name is sandip shaw\n",
      "Number of vowels :  12\n"
     ]
    }
   ],
   "source": [
    "string = input(\"Enter a String \")\n",
    "\n",
    "count = 0\n",
    "\n",
    "vowels = [\"A\",\"E\",\"I\",\"O\",\"U\",\"a\",\"e\",\"i\",\"o\",\"u\",\" \"]\n",
    "for i in range(len(string)):\n",
    "    if string[i] not in vowels:\n",
    "        count = count+1\n",
    "\n",
    "print(\"Number of vowels : \", count)"
   ]
  },
  {
   "cell_type": "markdown",
   "id": "f3712f6d",
   "metadata": {},
   "source": [
    "Sol 7"
   ]
  },
  {
   "cell_type": "code",
   "execution_count": 7,
   "id": "d85e7996",
   "metadata": {},
   "outputs": [
    {
     "name": "stdout",
     "output_type": "stream",
     "text": [
      "Enter a String sandip shaw\n",
      "New string with removed spaces  sandipshaw\n"
     ]
    }
   ],
   "source": [
    "string = input(\"Enter a String \")\n",
    "\n",
    "str1 = string.replace(\" \",\"\")\n",
    "\n",
    "print(\"New string with removed spaces \", str1)"
   ]
  },
  {
   "cell_type": "markdown",
   "id": "94c56d86",
   "metadata": {},
   "source": [
    "Sol 8"
   ]
  },
  {
   "cell_type": "code",
   "execution_count": 8,
   "id": "df89270e",
   "metadata": {},
   "outputs": [
    {
     "name": "stdout",
     "output_type": "stream",
     "text": [
      "Enter a String my name is sandip shaw\n",
      "Lenght of the string is  22\n"
     ]
    }
   ],
   "source": [
    "string = input(\"Enter a String \")\n",
    "\n",
    "no_of_char = 0\n",
    "\n",
    "for char in string:\n",
    "    no_of_char = no_of_char + 1\n",
    "\n",
    "print(\"Lenght of the string is \", no_of_char)"
   ]
  },
  {
   "cell_type": "markdown",
   "id": "b19f7eb3",
   "metadata": {},
   "source": [
    "Sol 9"
   ]
  },
  {
   "cell_type": "code",
   "execution_count": 16,
   "id": "dbd9799c",
   "metadata": {},
   "outputs": [
    {
     "name": "stdout",
     "output_type": "stream",
     "text": [
      "Enter a String my name is sandip shaw\n",
      "Enter the word you are searching for dog\n",
      " NO! the word is not present in the string\n"
     ]
    }
   ],
   "source": [
    "string = input(\"Enter a String \")\n",
    "\n",
    "spc = input(\"Enter the word you are searching for \")\n",
    "\n",
    "string += \" \"\n",
    "word = \"\"\n",
    "word_found = False\n",
    "for i in range(len(string)):\n",
    "    if string[i] != \" \":\n",
    "        word = word + string[i]\n",
    "    else:\n",
    "        if word == spc:\n",
    "            print(\" Yes! the word is present in the string\")\n",
    "            word = \"\"\n",
    "            word_found = True\n",
    "        else:\n",
    "            word = \"\"\n",
    "            \n",
    "if not word_found:\n",
    "    print(\" NO! the word is not present in the string\")"
   ]
  },
  {
   "cell_type": "markdown",
   "id": "0227c524",
   "metadata": {},
   "source": [
    "Sol 10"
   ]
  },
  {
   "cell_type": "code",
   "execution_count": 17,
   "id": "d7a0a5b5",
   "metadata": {},
   "outputs": [
    {
     "name": "stdout",
     "output_type": "stream",
     "text": [
      "Enter a String Hello my name is sandip shaw\n",
      "Enter the word you want to replace sandip\n",
      "Enter the word you want to add sangita\n",
      " Yes! the word is present in the string\n",
      "New sentence is :  Hello my name is sangita shaw \n"
     ]
    }
   ],
   "source": [
    "string = input(\"Enter a String \")\n",
    "\n",
    "spc = input(\"Enter the word you want to replace \")\n",
    "rep = input(\"Enter the word you want to add \")\n",
    " \n",
    "string += \" \"\n",
    "word = \"\"\n",
    "word_found = False\n",
    "\n",
    "for i in range(len(string)):\n",
    "    if string[i] != \" \":\n",
    "        word = word + string[i]\n",
    "    else:\n",
    "        if word == spc:\n",
    "            print(\" Yes! the word is present in the string\")\n",
    "            replaced = string.replace(spc,rep)\n",
    "            print(\"New sentence is : \", replaced)\n",
    "            word = \"\"\n",
    "            word_found = True\n",
    "        else:\n",
    "            word = \"\"\n",
    "            \n",
    "if not word_found:\n",
    "    print(\" NO! the word is not present in the string\")"
   ]
  },
  {
   "cell_type": "markdown",
   "id": "5e30e029",
   "metadata": {},
   "source": [
    "Sol 11"
   ]
  },
  {
   "cell_type": "code",
   "execution_count": 20,
   "id": "0f76f013",
   "metadata": {},
   "outputs": [
    {
     "name": "stdout",
     "output_type": "stream",
     "text": [
      "Enter a String :My name is sandip shaw. My hobby is coding. My surname is shaw\n",
      "Enter the word you want to count :is\n",
      "Number of times the word appears in the sentence :  3\n"
     ]
    }
   ],
   "source": [
    "string = input(\"Enter a String :\")\n",
    "\n",
    "spc = input(\"Enter the word you want to count :\")\n",
    "counter = 0\n",
    "\n",
    "string += \" \"\n",
    "word = \"\"\n",
    "\n",
    "for i in range(len(string)):\n",
    "    if string[i] != \" \":\n",
    "        word = word + string[i]\n",
    "    else:\n",
    "        if word == spc:\n",
    "            counter +=1\n",
    "            word = \"\"\n",
    "        else:\n",
    "            word = \"\"\n",
    "            \n",
    "print(\"Number of times the word appears in the sentence : \", counter)"
   ]
  },
  {
   "cell_type": "markdown",
   "id": "06cf96a4",
   "metadata": {},
   "source": [
    "Sol 12"
   ]
  },
  {
   "cell_type": "code",
   "execution_count": 21,
   "id": "7f35c705",
   "metadata": {},
   "outputs": [
    {
     "name": "stdout",
     "output_type": "stream",
     "text": [
      "Enter a String :hello my name is sandip shaw\n",
      "Enter the word you want to find the first occurrence index :name\n",
      "The index of the word is :  9\n"
     ]
    }
   ],
   "source": [
    "string = input(\"Enter a String :\")\n",
    "\n",
    "spc = input(\"Enter the word you want to find the first occurrence index :\")\n",
    "index = string.find(spc)\n",
    "\n",
    "if index == -1:\n",
    "    print(\"Word not found \")\n",
    "else:\n",
    "    print(\"The index of the word is : \", index)"
   ]
  },
  {
   "cell_type": "markdown",
   "id": "d0d3077d",
   "metadata": {},
   "source": [
    "Sol 13"
   ]
  },
  {
   "cell_type": "code",
   "execution_count": 22,
   "id": "f2c8fab0",
   "metadata": {},
   "outputs": [
    {
     "name": "stdout",
     "output_type": "stream",
     "text": [
      "Enter a String :hello my name is sandip shaw hello\n",
      "Enter the word you want to find the last occurrence index :hello\n",
      "The index of the word is :  29\n"
     ]
    }
   ],
   "source": [
    "string = input(\"Enter a String :\")\n",
    "\n",
    "spc = input(\"Enter the word you want to find the last occurrence index :\")\n",
    "index = string.rfind(spc)\n",
    "\n",
    "if index == -1:\n",
    "    print(\"Word not found \")\n",
    "else:\n",
    "    print(\"The index of the word is : \", index)"
   ]
  },
  {
   "cell_type": "markdown",
   "id": "b9624a23",
   "metadata": {},
   "source": [
    "Sol 14"
   ]
  },
  {
   "cell_type": "code",
   "execution_count": 23,
   "id": "4e7f2577",
   "metadata": {},
   "outputs": [
    {
     "name": "stdout",
     "output_type": "stream",
     "text": [
      "Enter a String :Hello My name is sandip shaw\n",
      "The words are :-\n",
      "Hello\n",
      "My\n",
      "name\n",
      "is\n",
      "sandip\n",
      "shaw\n"
     ]
    }
   ],
   "source": [
    "string = input(\"Enter a String :\")\n",
    "print(\"The words are :-\")\n",
    "\n",
    "string += \" \"\n",
    "word = \"\"\n",
    "\n",
    "for i in range(len(string)):\n",
    "    if string[i] != \" \":\n",
    "        word = word + string[i]\n",
    "    else:\n",
    "        print(word)\n",
    "        word = \"\""
   ]
  },
  {
   "cell_type": "markdown",
   "id": "64986b52",
   "metadata": {},
   "source": [
    "Sol 15"
   ]
  },
  {
   "cell_type": "code",
   "execution_count": 3,
   "id": "7169bf14",
   "metadata": {},
   "outputs": [
    {
     "name": "stdout",
     "output_type": "stream",
     "text": [
      "Enter the number of words you want to enter : 3\n",
      "Enter a word : How\n",
      "Enter a word : are\n",
      "Enter a word : you?\n",
      "List of words are :  ['How', 'are', 'you?']\n",
      "Final Senetence :  How are you? \n"
     ]
    }
   ],
   "source": [
    "words = []\n",
    "temp = \"\"\n",
    "sent = \"\"\n",
    "\n",
    "no_words = int(input(\"Enter the number of words you want to enter : \"))\n",
    "for i in range(no_words):\n",
    "    temp = input(\"Enter a word : \")\n",
    "    words.append(temp)\n",
    "    sent = sent + temp + \" \"\n",
    "    temp = \"\"\n",
    "    \n",
    "print(\"List of words are : \", words)\n",
    "print(\"Final Senetence : \", sent)\n"
   ]
  },
  {
   "cell_type": "markdown",
   "id": "e7d334e1",
   "metadata": {},
   "source": [
    "Sol 16"
   ]
  },
  {
   "cell_type": "code",
   "execution_count": 4,
   "id": "1c7d7a17",
   "metadata": {},
   "outputs": [
    {
     "name": "stdout",
     "output_type": "stream",
     "text": [
      "Enter a String :Hello how are you?\n",
      "Hello_how_are_you?\n"
     ]
    }
   ],
   "source": [
    "string = input(\"Enter a String :\")\n",
    "print(string.replace(\" \",\"_\"))"
   ]
  },
  {
   "cell_type": "markdown",
   "id": "8cc98793",
   "metadata": {},
   "source": [
    "Sol 17"
   ]
  },
  {
   "cell_type": "code",
   "execution_count": 5,
   "id": "ebf96688",
   "metadata": {},
   "outputs": [
    {
     "name": "stdout",
     "output_type": "stream",
     "text": [
      "Enter a string : hello how are you. how are you doing. are you well?\n",
      "Enter a word or a phrase : hello how are you\n",
      "Yes! The string starts with the given phrase\n"
     ]
    }
   ],
   "source": [
    "string = input(\"Enter a string : \")\n",
    "string2 = input(\"Enter a word or a phrase : \")\n",
    "\n",
    "check = string[:len(string2)]\n",
    "\n",
    "if check == string2:\n",
    "    print(\"Yes! The string starts with the given phrase\")\n",
    "else:\n",
    "    print(\"No! The string does not starts with the given phrase\")"
   ]
  },
  {
   "cell_type": "markdown",
   "id": "7754920f",
   "metadata": {},
   "source": [
    "Sol 18"
   ]
  },
  {
   "cell_type": "code",
   "execution_count": 8,
   "id": "95b03505",
   "metadata": {},
   "outputs": [
    {
     "name": "stdout",
     "output_type": "stream",
     "text": [
      "Enter a string : hello how are you doing\n",
      "Enter a word or a phrase : you doing\n",
      "Yes! The string ends with the given phrase\n"
     ]
    }
   ],
   "source": [
    "string = input(\"Enter a string : \")\n",
    "string2 = input(\"Enter a word or a phrase : \")\n",
    "\n",
    "check = string[len(string) - len(string2):]\n",
    "\n",
    "if check == string2:\n",
    "    print(\"Yes! The string ends with the given phrase\")\n",
    "else:\n",
    "    print(\"No! The string does not ends with the given phrase\")"
   ]
  },
  {
   "cell_type": "markdown",
   "id": "5022fe49",
   "metadata": {},
   "source": [
    "Sol 19"
   ]
  },
  {
   "cell_type": "code",
   "execution_count": 14,
   "id": "574a98e8",
   "metadata": {},
   "outputs": [
    {
     "name": "stdout",
     "output_type": "stream",
     "text": [
      "Enter a string : sandip shaw\n",
      "Converted string is :  Sandip Shaw\n"
     ]
    }
   ],
   "source": [
    "string = input(\"Enter a string : \")\n",
    "print(\"Converted string is : \", string.title())"
   ]
  },
  {
   "cell_type": "markdown",
   "id": "7cc36aa3",
   "metadata": {},
   "source": [
    "Sol 20"
   ]
  },
  {
   "cell_type": "code",
   "execution_count": 16,
   "id": "1d63937b",
   "metadata": {},
   "outputs": [
    {
     "name": "stdout",
     "output_type": "stream",
     "text": [
      "Enter a string : my name is sandip shaw\n",
      "The longest word is sandip and its length is 6 characters\n"
     ]
    }
   ],
   "source": [
    "words = []\n",
    "word = \"\"\n",
    "temp = 0\n",
    "\n",
    "string = input(\"Enter a string : \")\n",
    "string += \" \"\n",
    "\n",
    "for i in range(len(string)):\n",
    "    if string[i] != \" \":\n",
    "        word = word + string[i]\n",
    "    else:\n",
    "        words.append(word)\n",
    "        word = \"\"\n",
    "\n",
    "for j in words:\n",
    "    len1 = len(j)\n",
    "    if len1 > temp:\n",
    "        temp = len1\n",
    "        temp_word = j\n",
    "        \n",
    "print(f\"The longest word is {temp_word} and its length is {temp} characters\")"
   ]
  },
  {
   "cell_type": "markdown",
   "id": "ed4b1e28",
   "metadata": {},
   "source": [
    "Sol 21"
   ]
  },
  {
   "cell_type": "code",
   "execution_count": 19,
   "id": "123f00da",
   "metadata": {},
   "outputs": [
    {
     "name": "stdout",
     "output_type": "stream",
     "text": [
      "Enter a string : my name is sandip shaw\n",
      "The shortest word is 'my' and its length is 2 characters\n"
     ]
    }
   ],
   "source": [
    "words = []\n",
    "word = \"\"\n",
    "temp = 100\n",
    "\n",
    "string = input(\"Enter a string : \")\n",
    "string += \" \"\n",
    "\n",
    "for i in range(len(string)):\n",
    "    if string[i] != \" \":\n",
    "        word = word + string[i]\n",
    "    else:\n",
    "        words.append(word)\n",
    "        word = \"\"\n",
    "\n",
    "for j in words:\n",
    "    len1 = len(j)\n",
    "    if len1 < temp:\n",
    "        temp = len1\n",
    "        temp_word = j\n",
    "        \n",
    "print(f\"The shortest word is '{temp_word}' and its length is {temp} characters\")"
   ]
  },
  {
   "cell_type": "markdown",
   "id": "d389b0ce",
   "metadata": {},
   "source": [
    "Sol 22"
   ]
  },
  {
   "cell_type": "code",
   "execution_count": 2,
   "id": "3af4a92a",
   "metadata": {},
   "outputs": [
    {
     "name": "stdout",
     "output_type": "stream",
     "text": [
      "Enter a stringmy name is sandip shaw\n",
      "shaw sandip is name my \n"
     ]
    }
   ],
   "source": [
    "string = input(\"Enter a string\")\n",
    "string = string + \" \"\n",
    "\n",
    "sent = \"\"\n",
    "word = \"\"\n",
    "words= []\n",
    "\n",
    "for i in range(len(string)):\n",
    "    if string[i] != \" \":\n",
    "        word = word + string[i]\n",
    "    else:\n",
    "        words.append(word)\n",
    "        word = \"\"\n",
    "for j in words[::-1]:        \n",
    "    sent = sent + j + \" \"\n",
    "    \n",
    "print(sent)"
   ]
  },
  {
   "cell_type": "markdown",
   "id": "3379af51",
   "metadata": {},
   "source": [
    "Sol 23"
   ]
  },
  {
   "cell_type": "code",
   "execution_count": 4,
   "id": "580d705e",
   "metadata": {},
   "outputs": [
    {
     "name": "stdout",
     "output_type": "stream",
     "text": [
      "Enter a string : abcd1234\n",
      "The given string is Alphanumeric string\n"
     ]
    }
   ],
   "source": [
    "string = input(\"Enter a string : \")\n",
    "\n",
    "if string.isalnum():\n",
    "    print(\"The given string is Alphanumeric string\")\n",
    "else:\n",
    "    print(\"The given string is not Alphanumeric string\")   "
   ]
  },
  {
   "cell_type": "markdown",
   "id": "93308100",
   "metadata": {},
   "source": [
    "Sol 24"
   ]
  },
  {
   "cell_type": "code",
   "execution_count": 13,
   "id": "54ded223",
   "metadata": {},
   "outputs": [
    {
     "name": "stdout",
     "output_type": "stream",
     "text": [
      "Enter a string : hello23 how 45 are you?\n",
      "The digits found are the following :-\n",
      "- 2\n",
      "- 3\n",
      "- 4\n",
      "- 5\n"
     ]
    }
   ],
   "source": [
    "string = input(\"Enter a string : \")\n",
    "string +=\" \"\n",
    "\n",
    "print(\"The digits found are the following :-\")\n",
    "\n",
    "numbers = []\n",
    "\n",
    "for i in range(len(string)):\n",
    "    if string[i].isdigit():\n",
    "        numbers.append(string[i])\n",
    "\n",
    "for j in numbers:\n",
    "    print(f\"- {j}\")"
   ]
  },
  {
   "cell_type": "markdown",
   "id": "c04aa055",
   "metadata": {},
   "source": [
    "SOl 25"
   ]
  },
  {
   "cell_type": "code",
   "execution_count": 15,
   "id": "068c96c5",
   "metadata": {},
   "outputs": [
    {
     "name": "stdout",
     "output_type": "stream",
     "text": [
      "Enter a string : how are 56 you 45  \n",
      "The digits found are the following :-\n",
      "['h', 'o', 'w', 'a', 'r', 'e', 'y', 'o', 'u']\n"
     ]
    }
   ],
   "source": [
    "string = input(\"Enter a string : \")\n",
    "string +=\" \"\n",
    "\n",
    "print(\"The digits found are the following :-\")\n",
    "\n",
    "alpha = []\n",
    "\n",
    "for i in range(len(string)):\n",
    "    if string[i].isalpha():\n",
    "        alpha.append(string[i])\n",
    "\n",
    "print(alpha)"
   ]
  },
  {
   "cell_type": "markdown",
   "id": "b330b26a",
   "metadata": {},
   "source": [
    "Sol 26"
   ]
  },
  {
   "cell_type": "code",
   "execution_count": 19,
   "id": "63106d6f",
   "metadata": {},
   "outputs": [
    {
     "name": "stdout",
     "output_type": "stream",
     "text": [
      "Enter a stringMy name is Sandip Shaw\n",
      "Number of Uppercase letters :  3\n"
     ]
    }
   ],
   "source": [
    "string = input(\"Enter a string\")\n",
    "string +=\" \"\n",
    "\n",
    "counter = 0\n",
    "\n",
    "for i in range(len(string)):\n",
    "    if string[i].isupper():\n",
    "        counter +=1\n",
    "    \n",
    "print(\"Number of Uppercase letters : \", counter)"
   ]
  },
  {
   "cell_type": "markdown",
   "id": "04f13ec0",
   "metadata": {},
   "source": [
    "Sol 27"
   ]
  },
  {
   "cell_type": "code",
   "execution_count": 20,
   "id": "78a21461",
   "metadata": {},
   "outputs": [
    {
     "name": "stdout",
     "output_type": "stream",
     "text": [
      "Enter a stringMy name is Sandip Shaw\n",
      "Number of Lowercase letters :  15\n"
     ]
    }
   ],
   "source": [
    "string = input(\"Enter a string\")\n",
    "string +=\" \"\n",
    "\n",
    "counter = 0\n",
    "\n",
    "for i in range(len(string)):\n",
    "    if string[i].islower():\n",
    "        counter +=1\n",
    "    \n",
    "print(\"Number of Lowercase letters : \", counter)"
   ]
  },
  {
   "cell_type": "markdown",
   "id": "54acf94b",
   "metadata": {},
   "source": [
    "Sol 28"
   ]
  },
  {
   "cell_type": "code",
   "execution_count": 1,
   "id": "628321f8",
   "metadata": {},
   "outputs": [
    {
     "name": "stdout",
     "output_type": "stream",
     "text": [
      "Enter a stringMy name is Sandip Shaw\n",
      "Converted string :  My name is Sandip Shaw \n"
     ]
    }
   ],
   "source": [
    "string = input(\"Enter a string\")\n",
    "string +=\" \"\n",
    "\n",
    "for i in range(len(string)):\n",
    "    if string[i].isupper():\n",
    "        string[i].lower()\n",
    "    else:\n",
    "        string[i].upper()\n",
    "        \n",
    "print(\"Converted string : \",string)"
   ]
  },
  {
   "cell_type": "markdown",
   "id": "605c1992",
   "metadata": {},
   "source": [
    "Sol 29"
   ]
  },
  {
   "cell_type": "code",
   "execution_count": 8,
   "id": "b7ceeabe",
   "metadata": {},
   "outputs": [
    {
     "name": "stdout",
     "output_type": "stream",
     "text": [
      "Enter a string : My name is Sandip Shaw\n",
      "Enter the specific word : Shaw\n",
      "New string :  My name is Sandip \n"
     ]
    }
   ],
   "source": [
    "string = input(\"Enter a string : \")\n",
    "spc = input(\"Enter the specific word : \")\n",
    "\n",
    "print(\"New string : \",string.replace(spc, \"\"))"
   ]
  },
  {
   "cell_type": "markdown",
   "id": "ce9d56ec",
   "metadata": {},
   "source": [
    "Sol 30"
   ]
  },
  {
   "cell_type": "code",
   "execution_count": 1,
   "id": "6d745a0b",
   "metadata": {},
   "outputs": [
    {
     "name": "stdout",
     "output_type": "stream",
     "text": [
      "Enter an email address: sandip111shaw@gmail.com\n",
      "Valid email address.\n"
     ]
    }
   ],
   "source": [
    "import re\n",
    "\n",
    "def is_valid_email(email):\n",
    "    email_pattern = re.compile(r'^[a-zA-Z0-9._%+-]+@[a-zA-Z0-9.-]+\\.[a-zA-Z]{2,}$')\n",
    "\n",
    "    return bool(email_pattern.match(email))\n",
    "\n",
    "email_input = input(\"Enter an email address: \")\n",
    "\n",
    "if is_valid_email(email_input):\n",
    "    print(\"Valid email address.\")\n",
    "else:\n",
    "    print(\"Invalid email address.\")"
   ]
  },
  {
   "cell_type": "markdown",
   "id": "c616e121",
   "metadata": {},
   "source": [
    "Sol 31"
   ]
  },
  {
   "cell_type": "code",
   "execution_count": 2,
   "id": "1da59326",
   "metadata": {
    "scrolled": true
   },
   "outputs": [
    {
     "name": "stdout",
     "output_type": "stream",
     "text": [
      "Enter an email address: sandip8017shaw@gmail.com\n",
      "Username: sandip8017shaw\n"
     ]
    }
   ],
   "source": [
    "import re\n",
    "\n",
    "def extract_username(email):\n",
    "    pattern = r'^([\\w\\.-]+)@([\\w\\.-]+)$'\n",
    "    \n",
    "    match = re.match(pattern, email)\n",
    "    \n",
    "    if match:\n",
    "        username = match.group(1)\n",
    "        return username\n",
    "    else:\n",
    "        return None\n",
    "\n",
    "email_input = input(\"Enter an email address: \")\n",
    "\n",
    "username_result = extract_username(email_input)\n",
    "\n",
    "if username_result:\n",
    "    print(\"Username:\", username_result)\n",
    "else:\n",
    "    print(\"Invalid email address.\")\n"
   ]
  },
  {
   "cell_type": "markdown",
   "id": "a3a00371",
   "metadata": {},
   "source": [
    "Sol 32"
   ]
  },
  {
   "cell_type": "code",
   "execution_count": 4,
   "id": "156e81bc",
   "metadata": {},
   "outputs": [
    {
     "name": "stdout",
     "output_type": "stream",
     "text": [
      "Enter an email address: sandip111shaw@gmail.com\n",
      "Domain: gmail.com\n"
     ]
    }
   ],
   "source": [
    "import re\n",
    "\n",
    "def extract_domain(email):\n",
    "    pattern = r'^([\\w\\.-]+)@([\\w\\.-]+)$'\n",
    "    \n",
    "    match = re.match(pattern, email)\n",
    "    \n",
    "    if match:\n",
    "        domain = match.group(2)\n",
    "        return domain\n",
    "    else:\n",
    "        return None\n",
    "\n",
    "email_input = input(\"Enter an email address: \")\n",
    "\n",
    "domain_result = extract_domain(email_input)\n",
    "\n",
    "if domain_result:\n",
    "    print(\"Domain:\", domain_result)\n",
    "else:\n",
    "    print(\"Invalid email address.\")\n"
   ]
  },
  {
   "cell_type": "markdown",
   "id": "e5672a14",
   "metadata": {},
   "source": [
    "Sol 33"
   ]
  },
  {
   "cell_type": "code",
   "execution_count": 5,
   "id": "1e3c150f",
   "metadata": {},
   "outputs": [
    {
     "name": "stdout",
     "output_type": "stream",
     "text": [
      "Enter a string : sandip    shaw\n",
      "New string :  sandip shaw\n"
     ]
    }
   ],
   "source": [
    "string = input(\"Enter a string : \")\n",
    "new_str = \"\"\n",
    "\n",
    "words = string.split(' ')\n",
    "a = list(filter(None, words))\n",
    "new_str = ' '.join(a)\n",
    "print(\"New string : \", new_str)"
   ]
  },
  {
   "cell_type": "markdown",
   "id": "7b08a35d",
   "metadata": {},
   "source": [
    "Sol 34"
   ]
  },
  {
   "cell_type": "code",
   "execution_count": 3,
   "id": "85e2b026",
   "metadata": {},
   "outputs": [
    {
     "name": "stdout",
     "output_type": "stream",
     "text": [
      "Enter a URL: https://www.example.com\n",
      "Valid URL!\n"
     ]
    }
   ],
   "source": [
    "import validators\n",
    "\n",
    "def is_valid_url(url):\n",
    "    return validators.url(url)\n",
    "\n",
    "url_to_check = input(\"Enter a URL: \")\n",
    "\n",
    "if is_valid_url(url_to_check):\n",
    "    print(\"Valid URL!\")\n",
    "else:\n",
    "    print(\"Invalid URL.\")\n"
   ]
  },
  {
   "cell_type": "markdown",
   "id": "c15656a4",
   "metadata": {},
   "source": [
    "Sol 35"
   ]
  },
  {
   "cell_type": "code",
   "execution_count": 13,
   "id": "5625fd0f",
   "metadata": {},
   "outputs": [
    {
     "name": "stdout",
     "output_type": "stream",
     "text": [
      "Enter a stringhttps://www.example.com\n",
      "https\n"
     ]
    }
   ],
   "source": [
    "from urllib.parse import urlparse\n",
    "\n",
    "url = input(\"Enter a string\")\n",
    "\n",
    "result = urlparse(url)\n",
    "a = result.scheme\n",
    "print(a)"
   ]
  },
  {
   "cell_type": "markdown",
   "id": "5819925c",
   "metadata": {},
   "source": [
    "Sol 36"
   ]
  },
  {
   "cell_type": "code",
   "execution_count": 3,
   "id": "a31c07c8",
   "metadata": {},
   "outputs": [
    {
     "name": "stdout",
     "output_type": "stream",
     "text": [
      "Enter a string : my name is sandip shaw\n",
      "{'m': 2, 'y': 1, 'n': 2, 'a': 3, 'e': 1, 'i': 2, 's': 3, 'd': 1, 'p': 1, 'h': 1, 'w': 1}\n"
     ]
    }
   ],
   "source": [
    "string = input(\"Enter a string : \")\n",
    "\n",
    "def char_str(string):\n",
    "    char_dict = {}\n",
    "    for char in string:\n",
    "        if char in char_dict:\n",
    "            char_dict[char] += 1\n",
    "        else:\n",
    "            char_dict[char] = 1\n",
    "    return char_dict\n",
    "\n",
    "result = char_str(string)\n",
    "result.pop(' ')\n",
    "print(result)"
   ]
  },
  {
   "cell_type": "markdown",
   "id": "6b947db4",
   "metadata": {},
   "source": [
    "Sol 37"
   ]
  },
  {
   "cell_type": "code",
   "execution_count": 5,
   "id": "2ac75424",
   "metadata": {},
   "outputs": [
    {
     "name": "stdout",
     "output_type": "stream",
     "text": [
      "Enter a string : my name is sandip shaw!\n",
      "my name is sandip shaw\n"
     ]
    }
   ],
   "source": [
    "import string\n",
    "\n",
    "str1 = input(\"Enter a string : \")\n",
    "trns = str.maketrans('','',string.punctuation)\n",
    "new_str = str1.translate(trns)\n",
    "\n",
    "print(new_str)"
   ]
  },
  {
   "cell_type": "markdown",
   "id": "e0ffad27",
   "metadata": {},
   "source": [
    "Sol 38"
   ]
  },
  {
   "cell_type": "code",
   "execution_count": 3,
   "id": "7ce8a172",
   "metadata": {},
   "outputs": [
    {
     "name": "stdout",
     "output_type": "stream",
     "text": [
      "Enter a string : 1234\n",
      "The string only contains digits! \n"
     ]
    }
   ],
   "source": [
    "string = input(\"Enter a string : \")\n",
    "\n",
    "def check_digit(string):\n",
    "    for char in string:\n",
    "        if not char.isdigit():\n",
    "            print(\"The string is not only digits! \")\n",
    "            break\n",
    "        else:\n",
    "            print(\"The string only contains digits! \")\n",
    "            break\n",
    "            \n",
    "check_digit(string)        "
   ]
  },
  {
   "cell_type": "markdown",
   "id": "87d0b699",
   "metadata": {},
   "source": [
    "Sol 39"
   ]
  },
  {
   "cell_type": "code",
   "execution_count": 4,
   "id": "3a3cbf56",
   "metadata": {},
   "outputs": [
    {
     "name": "stdout",
     "output_type": "stream",
     "text": [
      "Enter a string : hello how are you\n",
      "The string only contains alphabets! \n"
     ]
    }
   ],
   "source": [
    "string = input(\"Enter a string : \")\n",
    "\n",
    "def check_digit(string):\n",
    "    for char in string:\n",
    "        if not char.isalpha():\n",
    "            print(\"The string is not only alphabets! \")\n",
    "            break\n",
    "        else:\n",
    "            print(\"The string only contains alphabets! \")\n",
    "            break\n",
    "            \n",
    "check_digit(string) "
   ]
  },
  {
   "cell_type": "markdown",
   "id": "6dcb871b",
   "metadata": {},
   "source": [
    "Sol 40"
   ]
  },
  {
   "cell_type": "code",
   "execution_count": 5,
   "id": "91c752dc",
   "metadata": {},
   "outputs": [
    {
     "name": "stdout",
     "output_type": "stream",
     "text": [
      "Enter a string : hello world!\n",
      "['h', 'e', 'l', 'l', 'o', ' ', 'w', 'o', 'r', 'l', 'd', '!']\n"
     ]
    }
   ],
   "source": [
    "def strtochar(string):\n",
    "    char_list = []\n",
    "    for char in string:\n",
    "        char_list.append(char)\n",
    "    \n",
    "    return char_list\n",
    "\n",
    "string = input(\"Enter a string : \")\n",
    "result = strtochar(string)\n",
    "print(result)"
   ]
  },
  {
   "cell_type": "markdown",
   "id": "e8d94ecf",
   "metadata": {},
   "source": [
    "Sol 41"
   ]
  },
  {
   "cell_type": "code",
   "execution_count": 7,
   "id": "98c547a8",
   "metadata": {},
   "outputs": [
    {
     "name": "stdout",
     "output_type": "stream",
     "text": [
      "Enter a string : Listen \n",
      "Enter 2nd string : silent\n",
      "The two strings are anagrams\n"
     ]
    }
   ],
   "source": [
    "def check_anagram(string1,string2):\n",
    "    if sorted(string1.replace(' ','').lower()) == sorted(string2.replace(' ','').lower()):\n",
    "        print(\"The two strings are anagrams\")\n",
    "    else:\n",
    "        print(\"The two strings are not anagrams\")\n",
    "string1 = input(\"Enter a string : \")\n",
    "string2 = input(\"Enter 2nd string : \")\n",
    "\n",
    "check_anagram(string1,string2)"
   ]
  },
  {
   "cell_type": "markdown",
   "id": "f56c28a1",
   "metadata": {},
   "source": [
    "Sol 42"
   ]
  },
  {
   "cell_type": "code",
   "execution_count": 12,
   "id": "cbdb3e74",
   "metadata": {},
   "outputs": [
    {
     "name": "stdout",
     "output_type": "stream",
     "text": [
      "Enter a string : sandip shaw\n",
      "Enter a number : 3\n",
      "Encoded string :  vdqgls vkdz\n"
     ]
    }
   ],
   "source": [
    "def cipher(string,number):\n",
    "    new_str = \"\"\n",
    "    for char in string:\n",
    "        if char != \" \":\n",
    "            new_str += chr(ord(char)+number)\n",
    "        else:\n",
    "            new_str += \" \"\n",
    "    \n",
    "    return new_str\n",
    "\n",
    "string = input(\"Enter a string : \")\n",
    "number = int(input(\"Enter a number : \"))\n",
    "result = cipher(string,number)\n",
    "print(\"Encoded string : \",result)"
   ]
  },
  {
   "cell_type": "markdown",
   "id": "76d937ae",
   "metadata": {},
   "source": [
    "Sol 43"
   ]
  },
  {
   "cell_type": "code",
   "execution_count": 13,
   "id": "21d0a0b6",
   "metadata": {},
   "outputs": [
    {
     "name": "stdout",
     "output_type": "stream",
     "text": [
      "Enter a string : vdqgls vkdz\n",
      "Enter a number : 3\n",
      "Encoded string :  sandip shaw\n"
     ]
    }
   ],
   "source": [
    "def cipher(string,number):\n",
    "    new_str = \"\"\n",
    "    for char in string:\n",
    "        if char != \" \":\n",
    "            new_str += chr(ord(char)-number)\n",
    "        else:\n",
    "            new_str += \" \"\n",
    "    \n",
    "    return new_str\n",
    "\n",
    "string = input(\"Enter a string : \")\n",
    "number = int(input(\"Enter a number : \"))\n",
    "result = cipher(string,number)\n",
    "print(\"Encoded string : \",result)"
   ]
  },
  {
   "cell_type": "markdown",
   "id": "29e5a4a1",
   "metadata": {},
   "source": [
    "Sol 44"
   ]
  },
  {
   "cell_type": "code",
   "execution_count": 17,
   "id": "95803ccd",
   "metadata": {},
   "outputs": [
    {
     "name": "stdout",
     "output_type": "stream",
     "text": [
      "Enter a string : my my name name is sandip shaw\n",
      "{'my': 2, 'name': 2, 'is': 1, 'sandip': 1, 'shaw': 1}\n"
     ]
    }
   ],
   "source": [
    "def freq(string):\n",
    "    word_dict = {}\n",
    "    string += \" \"\n",
    "    word = \"\"\n",
    "    for i in range(len(string)):\n",
    "        if string[i] != \" \":\n",
    "            word += string[i]\n",
    "        else:\n",
    "            if word not in word_dict:\n",
    "                word_dict[word] = 1 \n",
    "            else:\n",
    "                word_dict[word] += 1\n",
    "            word = \"\"\n",
    "    return word_dict\n",
    "\n",
    "string = input(\"Enter a string : \")\n",
    "result = freq(string)\n",
    "print(result)"
   ]
  },
  {
   "cell_type": "markdown",
   "id": "60f064ba",
   "metadata": {},
   "source": [
    "Sol 45"
   ]
  },
  {
   "cell_type": "code",
   "execution_count": 2,
   "id": "3d5f95ab",
   "metadata": {},
   "outputs": [
    {
     "name": "stdout",
     "output_type": "stream",
     "text": [
      "Enter a string : my my name name is sandip shaw\n",
      "Words which are unique are :  ['is', 'sandip', 'shaw']\n"
     ]
    }
   ],
   "source": [
    "def freq(string):\n",
    "    word_dict = {}\n",
    "    string += \" \"\n",
    "    word = \"\"\n",
    "    for i in range(len(string)):\n",
    "        if string[i] != \" \":\n",
    "            word += string[i]\n",
    "        else:\n",
    "            if word not in word_dict:\n",
    "                word_dict[word] = 1 \n",
    "            else:\n",
    "                word_dict[word] += 1\n",
    "            word = \"\"\n",
    "    return word_dict\n",
    "\n",
    "string = input(\"Enter a string : \")\n",
    "result = freq(string)\n",
    "\n",
    "unique_list = []\n",
    "\n",
    "for key,value in result.items():\n",
    "    if result[key] == 1:\n",
    "        unique_list.append(key)\n",
    "\n",
    "print(\"Words which are unique are : \", unique_list)"
   ]
  },
  {
   "cell_type": "markdown",
   "id": "276a3480",
   "metadata": {},
   "source": [
    "Sol 46"
   ]
  },
  {
   "cell_type": "code",
   "execution_count": 10,
   "id": "4fd6b443",
   "metadata": {},
   "outputs": [
    {
     "name": "stdout",
     "output_type": "stream",
     "text": [
      "Enter a string : elephant\n",
      "Number of syllables :  2\n"
     ]
    }
   ],
   "source": [
    "def count_syllables(string):\n",
    "    v = \"AEIOUaeiou\"\n",
    "    count = 0\n",
    "    check = False\n",
    "    \n",
    "    for char in string:\n",
    "        if char in v:\n",
    "            if not check:\n",
    "                count += 1\n",
    "                check = True\n",
    "            else:\n",
    "                check = False        \n",
    "    return count\n",
    "\n",
    "string = input(\"Enter a string : \")\n",
    "result = count_syllables(string)    \n",
    "print(\"Number of syllables : \", result)"
   ]
  },
  {
   "cell_type": "markdown",
   "id": "2eca516e",
   "metadata": {},
   "source": [
    "Sol 47"
   ]
  },
  {
   "cell_type": "code",
   "execution_count": 11,
   "id": "fced820f",
   "metadata": {},
   "outputs": [
    {
     "name": "stdout",
     "output_type": "stream",
     "text": [
      "Enter a string : sandip@123\n",
      "Yes! the string contains special characters\n"
     ]
    }
   ],
   "source": [
    "def special_char(string):\n",
    "    special_characters = \"!@#$%^&*()-_=+[]{}|;:'\\\",.<>?/`~\"\n",
    "    for char in string:\n",
    "        if char in special_characters:\n",
    "            return True\n",
    "        \n",
    "    return False    \n",
    "    \n",
    "string = input(\"Enter a string : \")\n",
    "if special_char(string):\n",
    "    print(\"Yes! the string contains special characters\")\n",
    "else:\n",
    "    print(\"No! the string does not contain special characters\")\n",
    "    "
   ]
  },
  {
   "cell_type": "markdown",
   "id": "a721f952",
   "metadata": {},
   "source": [
    "Sol 48"
   ]
  },
  {
   "cell_type": "code",
   "execution_count": 12,
   "id": "32a7e6ae",
   "metadata": {},
   "outputs": [
    {
     "name": "stdout",
     "output_type": "stream",
     "text": [
      "Enter a string : My name is Sandip Shaw\n",
      "Enter a number : 3\n",
      "New Word :  My name Sandip Shaw\n"
     ]
    }
   ],
   "source": [
    "def remove_word(string,no):\n",
    "    \n",
    "    string += \" \"\n",
    "    word = \"\"\n",
    "    word_list = []\n",
    "    new_word = \"\"\n",
    "    \n",
    "    for char in string:\n",
    "        if char != \" \":\n",
    "            word += char\n",
    "        else:\n",
    "            word_list.append(word)\n",
    "            word = \"\"\n",
    "    \n",
    "    word_list.pop(no-1)\n",
    "    new_word = ' '.join(word_list)\n",
    "    \n",
    "    return new_word\n",
    "\n",
    "string = input(\"Enter a string : \")\n",
    "no = int(input(\"Enter a number : \"))\n",
    "res = remove_word(string,no)\n",
    "\n",
    "print(\"New Word : \",res)"
   ]
  },
  {
   "cell_type": "markdown",
   "id": "f5ab1c1a",
   "metadata": {},
   "source": [
    "Sol 49"
   ]
  },
  {
   "cell_type": "code",
   "execution_count": 15,
   "id": "cc3aa7ea",
   "metadata": {},
   "outputs": [
    {
     "name": "stdout",
     "output_type": "stream",
     "text": [
      "Enter a string : my name sandip shaw\n",
      "Enter a word you want to add : is\n",
      "Enter a number : 3\n",
      "New Word :  my name is sandip shaw\n"
     ]
    }
   ],
   "source": [
    "def add_word(string,no,w):\n",
    "    \n",
    "    string += \" \"\n",
    "    word = \"\"\n",
    "    word_list = []\n",
    "    new_word = \"\"\n",
    "    \n",
    "    for char in string:\n",
    "        if char != \" \":\n",
    "            word += char\n",
    "        else:\n",
    "            word_list.append(word)\n",
    "            word = \"\"\n",
    "    \n",
    "    word_list.insert(no-1,w)\n",
    "    new_word = ' '.join(word_list)\n",
    "    \n",
    "    return new_word\n",
    "\n",
    "string = input(\"Enter a string : \")\n",
    "w = input(\"Enter a word you want to add : \")\n",
    "no = int(input(\"Enter a number : \"))\n",
    "\n",
    "res = add_word(string,no,w)\n",
    "\n",
    "print(\"New Word : \",res)"
   ]
  },
  {
   "cell_type": "markdown",
   "id": "1cdb4660",
   "metadata": {},
   "source": [
    "Sol 50"
   ]
  },
  {
   "cell_type": "code",
   "execution_count": 16,
   "id": "ac5bb73c",
   "metadata": {},
   "outputs": [
    {
     "name": "stdout",
     "output_type": "stream",
     "text": [
      "Enter a csv string : hello,how,are,you,\n",
      "CSV List: [['hello', 'how', 'are', 'you', '']]\n"
     ]
    }
   ],
   "source": [
    "import csv\n",
    "from io import StringIO\n",
    "\n",
    "csv_string = input(\"Enter a csv string : \")\n",
    "csv_list = list(csv.reader(StringIO(csv_string)))\n",
    "\n",
    "print(\"CSV List:\", csv_list)"
   ]
  },
  {
   "cell_type": "markdown",
   "id": "61cb2f35",
   "metadata": {},
   "source": [
    "## List Based Practice Problem"
   ]
  },
  {
   "cell_type": "markdown",
   "id": "a224dbec",
   "metadata": {},
   "source": [
    "Sol 1"
   ]
  },
  {
   "cell_type": "code",
   "execution_count": 19,
   "id": "6508a3bf",
   "metadata": {},
   "outputs": [
    {
     "name": "stdout",
     "output_type": "stream",
     "text": [
      "Integer List :  [1, 2, 3, 4, 5, 6, 7, 8, 9, 10]\n"
     ]
    }
   ],
   "source": [
    "no_list = []\n",
    "for i in range(1,11):\n",
    "    no_list.append(i)\n",
    "    \n",
    "print(\"Integer List : \",no_list)"
   ]
  },
  {
   "cell_type": "markdown",
   "id": "4cc5ffbe",
   "metadata": {},
   "source": [
    "Sol 2"
   ]
  },
  {
   "cell_type": "code",
   "execution_count": 21,
   "id": "4bf5d113",
   "metadata": {},
   "outputs": [
    {
     "name": "stdout",
     "output_type": "stream",
     "text": [
      "Length of the list :  8\n"
     ]
    }
   ],
   "source": [
    "list1 = [1,2,3,4,5,6,7,8]\n",
    "count = 0\n",
    "for i in list1:\n",
    "    count += 1\n",
    "    \n",
    "print(\"Length of the list : \", count)"
   ]
  },
  {
   "cell_type": "markdown",
   "id": "d995dcbf",
   "metadata": {},
   "source": [
    "Sol 3"
   ]
  },
  {
   "cell_type": "code",
   "execution_count": 22,
   "id": "af775df0",
   "metadata": {},
   "outputs": [
    {
     "name": "stdout",
     "output_type": "stream",
     "text": [
      "Final List :  [1, 2, 3, 'Dog']\n"
     ]
    }
   ],
   "source": [
    "list1 = [1,2,3]\n",
    "list1.append(\"Dog\")\n",
    "\n",
    "print(\"Final List : \", list1)"
   ]
  },
  {
   "cell_type": "markdown",
   "id": "2014e7e3",
   "metadata": {},
   "source": [
    "Sol 4"
   ]
  },
  {
   "cell_type": "code",
   "execution_count": 27,
   "id": "ef895ba5",
   "metadata": {},
   "outputs": [
    {
     "name": "stdout",
     "output_type": "stream",
     "text": [
      "Enter the index you want to add the value : 6\n",
      "Enter an element you want to enter : 6\n",
      "Final list :  [1, 2, 3, 4, 5, '6', 8]\n"
     ]
    }
   ],
   "source": [
    "list1 = [1,2,3,4,5,8]\n",
    "\n",
    "index = int(input(\"Enter the index you want to add the value : \"))\n",
    "element = input(\"Enter an element you want to enter : \")\n",
    "\n",
    "list1.insert(index-1,element)\n",
    "print(\"Final list : \", list1)"
   ]
  },
  {
   "cell_type": "markdown",
   "id": "71cda12c",
   "metadata": {},
   "source": [
    "Sol 5"
   ]
  },
  {
   "cell_type": "code",
   "execution_count": 26,
   "id": "36c6f410",
   "metadata": {},
   "outputs": [
    {
     "name": "stdout",
     "output_type": "stream",
     "text": [
      "Enter an element you want to remove : 3\n",
      "Final list :  [1, 2, 4, 5, 8]\n"
     ]
    }
   ],
   "source": [
    "list1 = [1,2,3,4,5,8]\n",
    "\n",
    "element = int(input(\"Enter an element you want to remove : \"))\n",
    "list1.remove(element)\n",
    "\n",
    "print(\"Final list : \", list1)"
   ]
  },
  {
   "cell_type": "markdown",
   "id": "a264f165",
   "metadata": {},
   "source": [
    "Sol 6"
   ]
  },
  {
   "cell_type": "code",
   "execution_count": 29,
   "id": "d0f81101",
   "metadata": {},
   "outputs": [
    {
     "name": "stdout",
     "output_type": "stream",
     "text": [
      "Enter the index number you want removed : 6\n",
      "Final list :  [1, 2, 3, 4, 5]\n"
     ]
    }
   ],
   "source": [
    "list1 = [1,2,3,4,5,8]\n",
    "\n",
    "index =  int(input(\"Enter the index number you want removed : \"))\n",
    "list1.pop(index-1)\n",
    "\n",
    "print(\"Final list : \", list1)"
   ]
  },
  {
   "cell_type": "markdown",
   "id": "b661f4ca",
   "metadata": {},
   "source": [
    "Sol 7"
   ]
  },
  {
   "cell_type": "code",
   "execution_count": 30,
   "id": "08b24190",
   "metadata": {},
   "outputs": [
    {
     "name": "stdout",
     "output_type": "stream",
     "text": [
      "Enter a number which you want to check6\n",
      "No the element does not exist in the list\n"
     ]
    }
   ],
   "source": [
    "list1 = [1,2,3,4,5,8]\n",
    "\n",
    "element = int(input(\"Enter a number which you want to check\"))\n",
    "if element in list1:\n",
    "    print(\"Yes the element exists in the list\")\n",
    "else:\n",
    "    print(\"No the element does not exist in the list\")    "
   ]
  },
  {
   "cell_type": "markdown",
   "id": "f5ed4f2e",
   "metadata": {},
   "source": [
    "SOl 8"
   ]
  },
  {
   "cell_type": "code",
   "execution_count": 35,
   "id": "42322113",
   "metadata": {},
   "outputs": [
    {
     "name": "stdout",
     "output_type": "stream",
     "text": [
      "Enter a number which you want to check : 3\n",
      "The Number exists at index :  3\n"
     ]
    }
   ],
   "source": [
    "list1 = [1,2,3,1,2,3,1,2,3]\n",
    "index = 0\n",
    "check = False\n",
    "\n",
    "element = int(input(\"Enter a number which you want to check : \"))\n",
    "for i in range(len(list1)):\n",
    "    if element == list1[i]:\n",
    "        index = i\n",
    "        check = True\n",
    "        break\n",
    "    else:\n",
    "        check = False\n",
    "        \n",
    "if check:\n",
    "    print(\"The Number exists at index : \",index+1)\n",
    "else:\n",
    "    print(\"The number does not exists !\")\n"
   ]
  },
  {
   "cell_type": "markdown",
   "id": "e4bb8a15",
   "metadata": {},
   "source": [
    "Sol 9"
   ]
  },
  {
   "cell_type": "code",
   "execution_count": 37,
   "id": "dbbf4834",
   "metadata": {},
   "outputs": [
    {
     "name": "stdout",
     "output_type": "stream",
     "text": [
      "Enter a number which you want to count the occurance : 3\n",
      "The number of times the number occurs is :  3\n"
     ]
    }
   ],
   "source": [
    "list1 = [1,2,3,1,2,3,1,2,3]\n",
    "element = int(input(\"Enter a number which you want to count the occurance : \"))\n",
    "count = 0\n",
    "\n",
    "for i in list1:\n",
    "    if i == element:\n",
    "        count += 1\n",
    "    \n",
    "print(\"The number of times the number occurs is : \", count)"
   ]
  },
  {
   "cell_type": "markdown",
   "id": "57259431",
   "metadata": {},
   "source": [
    "Sol 10"
   ]
  },
  {
   "cell_type": "code",
   "execution_count": 40,
   "id": "3366fa60",
   "metadata": {},
   "outputs": [
    {
     "name": "stdout",
     "output_type": "stream",
     "text": [
      "Reversed list :  [7, 56, 4, 3, 2, 1]\n"
     ]
    }
   ],
   "source": [
    "list1 = [1,2,3,4,56,7]\n",
    "list1.reverse()\n",
    "print(\"Reversed list : \",list1)"
   ]
  },
  {
   "cell_type": "markdown",
   "id": "86e3c21f",
   "metadata": {},
   "source": [
    "Sol 11"
   ]
  },
  {
   "cell_type": "code",
   "execution_count": 44,
   "id": "e1b85fbf",
   "metadata": {},
   "outputs": [
    {
     "name": "stdout",
     "output_type": "stream",
     "text": [
      "Sorted list :  [1, 2, 3, 4, 7, 56]\n"
     ]
    }
   ],
   "source": [
    "list2 = [1,2,3,4,56,7]\n",
    "sorted_list = list2.sort()\n",
    "print(\"Sorted list : \",list2)"
   ]
  },
  {
   "cell_type": "markdown",
   "id": "4db1f0c8",
   "metadata": {},
   "source": [
    "Sol 12"
   ]
  },
  {
   "cell_type": "code",
   "execution_count": 46,
   "id": "a021900c",
   "metadata": {},
   "outputs": [
    {
     "name": "stdout",
     "output_type": "stream",
     "text": [
      "Sorted list :  [56, 7, 4, 3, 2, 1]\n"
     ]
    }
   ],
   "source": [
    "list2 = [1,2,3,4,56,7]\n",
    "sorted_list = list2.sort(reverse = True)\n",
    "print(\"Sorted list : \",list2)"
   ]
  },
  {
   "cell_type": "markdown",
   "id": "fba6fce1",
   "metadata": {},
   "source": [
    "Sol 13"
   ]
  },
  {
   "cell_type": "code",
   "execution_count": 47,
   "id": "68c0b8f4",
   "metadata": {},
   "outputs": [
    {
     "name": "stdout",
     "output_type": "stream",
     "text": [
      "List of even numbers :  [2, 4, 6, 8, 10, 12, 14, 16, 18, 20]\n"
     ]
    }
   ],
   "source": [
    "even_list = []\n",
    "for i in range(1,21):\n",
    "    if i %2 == 0:\n",
    "        even_list.append(i)\n",
    "\n",
    "print(\"List of even numbers : \",even_list)"
   ]
  },
  {
   "cell_type": "markdown",
   "id": "64df25cb",
   "metadata": {},
   "source": [
    "SOl 14"
   ]
  },
  {
   "cell_type": "code",
   "execution_count": 50,
   "id": "f06a67b8",
   "metadata": {},
   "outputs": [
    {
     "name": "stdout",
     "output_type": "stream",
     "text": [
      "List of even numbers :  [1, 3, 5, 7, 9, 11, 13, 15, 17, 19]\n"
     ]
    }
   ],
   "source": [
    "even_list = []\n",
    "for i in range(1,21):\n",
    "    if i %2 != 0:\n",
    "        even_list.append(i)\n",
    "\n",
    "print(\"List of even numbers : \",even_list)"
   ]
  },
  {
   "cell_type": "markdown",
   "id": "14b45d2a",
   "metadata": {},
   "source": [
    "SOl 15"
   ]
  },
  {
   "cell_type": "code",
   "execution_count": 52,
   "id": "aaa0d3ae",
   "metadata": {},
   "outputs": [
    {
     "name": "stdout",
     "output_type": "stream",
     "text": [
      "Sum of the list :  45\n"
     ]
    }
   ],
   "source": [
    "no_list = [1,2,3,4,5,6,7,8,9]\n",
    "sum = 0\n",
    "for no in no_list:\n",
    "    sum += no\n",
    "    \n",
    "print(\"Sum of the list : \", sum)"
   ]
  },
  {
   "cell_type": "markdown",
   "id": "94bfde17",
   "metadata": {},
   "source": [
    "Sol 16"
   ]
  },
  {
   "cell_type": "code",
   "execution_count": 58,
   "id": "cb95e7d5",
   "metadata": {},
   "outputs": [
    {
     "name": "stdout",
     "output_type": "stream",
     "text": [
      "Max Value =  1000\n"
     ]
    }
   ],
   "source": [
    "no_list = [112,445,12,58,996,1000,23]\n",
    "maxi = no_list[0]\n",
    "\n",
    "for i in range(0,len(no_list)-1):\n",
    "    if no_list[i] > maxi:\n",
    "        maxi = no_list[i]\n",
    "        \n",
    "print(\"Max Value = \",maxi)"
   ]
  },
  {
   "cell_type": "markdown",
   "id": "dc8d7dcb",
   "metadata": {},
   "source": [
    "Sol 17"
   ]
  },
  {
   "cell_type": "code",
   "execution_count": 60,
   "id": "5aa79033",
   "metadata": {},
   "outputs": [
    {
     "name": "stdout",
     "output_type": "stream",
     "text": [
      "Min Value =  12\n"
     ]
    }
   ],
   "source": [
    "no_list = [112,445,12,58,996,1000,23]\n",
    "mini = no_list[0]\n",
    "\n",
    "for i in range(0,len(no_list)-1):\n",
    "    if no_list[i] < mini:\n",
    "        mini = no_list[i]\n",
    "        \n",
    "print(\"Min Value = \",mini)"
   ]
  },
  {
   "cell_type": "markdown",
   "id": "4bb632b5",
   "metadata": {},
   "source": [
    "Sol 18"
   ]
  },
  {
   "cell_type": "code",
   "execution_count": 61,
   "id": "97d59b0c",
   "metadata": {},
   "outputs": [
    {
     "name": "stdout",
     "output_type": "stream",
     "text": [
      "List of square numbers :  [1, 4, 9, 16, 25, 36, 49, 64, 81, 100]\n"
     ]
    }
   ],
   "source": [
    "sq_list = []\n",
    "\n",
    "for i in range(1,11):\n",
    "    sq_list.append(i*i)\n",
    "    \n",
    "print(\"List of square numbers : \",sq_list)"
   ]
  },
  {
   "cell_type": "markdown",
   "id": "10bfd89b",
   "metadata": {},
   "source": [
    "Sol 19"
   ]
  },
  {
   "cell_type": "code",
   "execution_count": 68,
   "id": "7d9a9cec",
   "metadata": {},
   "outputs": [
    {
     "name": "stdout",
     "output_type": "stream",
     "text": [
      "Enter the number of random numbers you want : 3\n",
      "Enter Upper bound number : 100\n",
      "Random List :  [100, 13, 71]\n"
     ]
    }
   ],
   "source": [
    "import random\n",
    "\n",
    "rand_list = []\n",
    "no = int(input(\"Enter the number of random numbers you want : \"))\n",
    "ranges = int(input(\"Enter Upper bound number : \"))\n",
    "\n",
    "for i in range(no):\n",
    "    rand_list.append(random.randint(0,ranges))\n",
    "\n",
    "print(\"Random List : \", rand_list)"
   ]
  },
  {
   "cell_type": "markdown",
   "id": "2f2abcea",
   "metadata": {},
   "source": [
    "Sol 20"
   ]
  },
  {
   "cell_type": "code",
   "execution_count": 69,
   "id": "b935a9dd",
   "metadata": {},
   "outputs": [
    {
     "name": "stdout",
     "output_type": "stream",
     "text": [
      "Unique List :  [1, 2, 3, 4, 5]\n"
     ]
    }
   ],
   "source": [
    "list1 = [1,1,2,2,3,3,4,4,5,5]\n",
    "new_list = list(set(list1))\n",
    "\n",
    "print(\"Unique List : \",new_list)"
   ]
  },
  {
   "cell_type": "markdown",
   "id": "406c6534",
   "metadata": {},
   "source": [
    "Sol 21"
   ]
  },
  {
   "cell_type": "code",
   "execution_count": 72,
   "id": "15d3b57d",
   "metadata": {},
   "outputs": [
    {
     "name": "stdout",
     "output_type": "stream",
     "text": [
      "Common numbers :  [4, 5]\n"
     ]
    }
   ],
   "source": [
    "list1 = [1,2,3,4,5]\n",
    "list2 = [4,5,6,7,8]\n",
    "list3 = []\n",
    "for i in list1:\n",
    "    for j in list2:\n",
    "        if i == j:\n",
    "            list3.append(i)\n",
    "        \n",
    "print(\"Common numbers : \",list3)\n",
    "            "
   ]
  },
  {
   "cell_type": "markdown",
   "id": "684d0770",
   "metadata": {},
   "source": [
    "Sol 22"
   ]
  },
  {
   "cell_type": "code",
   "execution_count": 75,
   "id": "0e0e002b",
   "metadata": {},
   "outputs": [
    {
     "name": "stdout",
     "output_type": "stream",
     "text": [
      "[1, 2, 3]\n"
     ]
    }
   ],
   "source": [
    "list1 = [1,2,3,4,5]\n",
    "list2 = [4,5,6,7,8]\n",
    "list3 = []\n",
    "\n",
    "for item in list1:\n",
    "    if item not in list2:\n",
    "        list3.append(item)\n",
    "    \n",
    "print(list3)  "
   ]
  },
  {
   "cell_type": "markdown",
   "id": "0a5a9346",
   "metadata": {},
   "source": [
    "Sol 23"
   ]
  },
  {
   "cell_type": "code",
   "execution_count": 78,
   "id": "0119059d",
   "metadata": {},
   "outputs": [
    {
     "name": "stdout",
     "output_type": "stream",
     "text": [
      "Merdged List [1, 2, 3, 4, 5, 4, 5, 6, 7, 8]\n"
     ]
    }
   ],
   "source": [
    "list1 = [1,2,3,4,5]\n",
    "list2 = [4,5,6,7,8]\n",
    "\n",
    "print(\"Merdged List\",list1+list2)"
   ]
  },
  {
   "cell_type": "markdown",
   "id": "09f674cf",
   "metadata": {},
   "source": [
    "Sol 24"
   ]
  },
  {
   "cell_type": "code",
   "execution_count": 80,
   "id": "e5877acf",
   "metadata": {},
   "outputs": [
    {
     "name": "stdout",
     "output_type": "stream",
     "text": [
      "New List :  [2, 4, 6, 8, 10]\n"
     ]
    }
   ],
   "source": [
    "list1 = [1,2,3,4,5]\n",
    "new_list = []\n",
    "for item in list1:\n",
    "    new_list.append(2*item)\n",
    "    \n",
    "print(\"New List : \",new_list) "
   ]
  },
  {
   "cell_type": "markdown",
   "id": "35138994",
   "metadata": {},
   "source": [
    "SOl 25"
   ]
  },
  {
   "cell_type": "code",
   "execution_count": 81,
   "id": "810b671f",
   "metadata": {},
   "outputs": [
    {
     "name": "stdout",
     "output_type": "stream",
     "text": [
      "Updated List :  [1, 3, 5]\n"
     ]
    }
   ],
   "source": [
    "list1 = [1,2,3,4,5]\n",
    "for item in list1:\n",
    "    if item %2 == 0:\n",
    "        list1.remove(item)\n",
    "\n",
    "print(\"Updated List : \",list1)"
   ]
  },
  {
   "cell_type": "markdown",
   "id": "231f8fb2",
   "metadata": {},
   "source": [
    "Sol 26"
   ]
  },
  {
   "cell_type": "code",
   "execution_count": 84,
   "id": "c6a6fd79",
   "metadata": {},
   "outputs": [
    {
     "name": "stdout",
     "output_type": "stream",
     "text": [
      "Updated List [1, 2, 3]\n"
     ]
    }
   ],
   "source": [
    "str_list = [\"1\",\"2\",\"3\"]\n",
    "new_list = []\n",
    "for item in str_list:\n",
    "    new_list.append(int(item))\n",
    "    \n",
    "print(\"Updated List\",new_list)"
   ]
  },
  {
   "cell_type": "markdown",
   "id": "b1c70258",
   "metadata": {},
   "source": [
    "Sol 27"
   ]
  },
  {
   "cell_type": "code",
   "execution_count": 85,
   "id": "ebf45e73",
   "metadata": {},
   "outputs": [
    {
     "name": "stdout",
     "output_type": "stream",
     "text": [
      "Updated List ['1', '2', '3']\n"
     ]
    }
   ],
   "source": [
    "str_list = [1, 2, 3]\n",
    "new_list = []\n",
    "for item in str_list:\n",
    "    new_list.append(str(item))\n",
    "    \n",
    "print(\"Updated List\",new_list)"
   ]
  },
  {
   "cell_type": "markdown",
   "id": "616ca56e",
   "metadata": {},
   "source": [
    "Sol 28"
   ]
  },
  {
   "cell_type": "code",
   "execution_count": 86,
   "id": "5745c014",
   "metadata": {},
   "outputs": [
    {
     "name": "stdout",
     "output_type": "stream",
     "text": [
      "Final List :  [1, 2, 3, 4, 5, 6, 7, 8]\n"
     ]
    }
   ],
   "source": [
    "nested_list = [[1, 2, 3], [4, 5], [6, 7, 8]]\n",
    "final_list = []\n",
    "\n",
    "for item in nested_list:\n",
    "    for subitem in item:\n",
    "        final_list.append(subitem)\n",
    "print(\"Final List : \",final_list)"
   ]
  },
  {
   "cell_type": "markdown",
   "id": "6a3a3708",
   "metadata": {},
   "source": [
    "Sol 29"
   ]
  },
  {
   "cell_type": "code",
   "execution_count": 90,
   "id": "be7c6dac",
   "metadata": {},
   "outputs": [
    {
     "name": "stdout",
     "output_type": "stream",
     "text": [
      "Fibonacci series :  [0, 1, 1, 2, 3, 5, 8, 13, 21, 34]\n"
     ]
    }
   ],
   "source": [
    "fib = [0,1]\n",
    "while len(fib)<10:\n",
    "    fib.append(fib[-1]+fib[-2])\n",
    "    \n",
    "print(\"Fibonacci series : \",fib)"
   ]
  },
  {
   "cell_type": "markdown",
   "id": "bb20208e",
   "metadata": {},
   "source": [
    "Sol 30"
   ]
  },
  {
   "cell_type": "code",
   "execution_count": 95,
   "id": "9030ff0e",
   "metadata": {},
   "outputs": [
    {
     "name": "stdout",
     "output_type": "stream",
     "text": [
      "Yes, the list is sorted\n"
     ]
    }
   ],
   "source": [
    "list1 = [0, 1, 1, 2, 3, 5, 8, 13,21]\n",
    "check = True\n",
    "\n",
    "for i in range(len(list1)-1):\n",
    "    if list1[i]<=list1[i+1]:\n",
    "        check =  True\n",
    "    else:\n",
    "        check = False\n",
    "        break\n",
    "if not check:\n",
    "    print(\"NO the list is not sorted\")\n",
    "else:\n",
    "    print(\"Yes, the list is sorted\")\n",
    "        "
   ]
  },
  {
   "cell_type": "markdown",
   "id": "11c4390f",
   "metadata": {},
   "source": [
    "SOl 31"
   ]
  },
  {
   "cell_type": "code",
   "execution_count": 98,
   "id": "f6ae8eca",
   "metadata": {},
   "outputs": [
    {
     "name": "stdout",
     "output_type": "stream",
     "text": [
      "Enter a number by which you want to shift : 3\n",
      "Left Rotated List :  [21, 13, 8, 0, 1, 1, 2, 3, 5]\n"
     ]
    }
   ],
   "source": [
    "list1 = [0, 1, 1, 2, 3, 5, 8, 13,21]\n",
    "new_list = []\n",
    "rotate = int(input(\"Enter a number by which you want to shift : \"))\n",
    "\n",
    "for i in range(rotate):\n",
    "    new_list.append(list1[-(i+1)])\n",
    "\n",
    "list2 = list1[:-rotate]\n",
    "for item in list2:\n",
    "    new_list.append(item)\n",
    "    \n",
    "print(\"Left Rotated List : \",new_list)\n"
   ]
  },
  {
   "cell_type": "markdown",
   "id": "0130e90a",
   "metadata": {},
   "source": [
    "Sol 32"
   ]
  },
  {
   "cell_type": "code",
   "execution_count": 3,
   "id": "d46c26e1",
   "metadata": {},
   "outputs": [
    {
     "name": "stdout",
     "output_type": "stream",
     "text": [
      "Enter a number by which you want to shift : 4\n",
      "Right rotated list [3, 5, 8, 13, 21, 0, 1, 1, 2]\n"
     ]
    }
   ],
   "source": [
    "list1 = [0, 1, 1, 2, 3, 5, 8, 13,21]\n",
    "new_list = []\n",
    "rotate = int(input(\"Enter a number by which you want to shift : \"))\n",
    "\n",
    "print(\"Right rotated list\",list1[rotate:] + list1[:rotate])"
   ]
  },
  {
   "cell_type": "markdown",
   "id": "b88424b9",
   "metadata": {},
   "source": [
    "Sol 33"
   ]
  },
  {
   "cell_type": "code",
   "execution_count": 7,
   "id": "5ae0c59f",
   "metadata": {},
   "outputs": [
    {
     "name": "stdout",
     "output_type": "stream",
     "text": [
      "Prime numbers upto 50 :  [2, 3, 5, 7, 11, 13, 17, 19, 23, 29, 31, 37, 41, 43, 47]\n"
     ]
    }
   ],
   "source": [
    "prime_list = []\n",
    "\n",
    "def isprime(no):\n",
    "    count = 0\n",
    "    for i in range(1,no+1):\n",
    "        if no%i == 0:\n",
    "            count+=1\n",
    "    if count == 2:\n",
    "        return True\n",
    "    else:\n",
    "        return False\n",
    "\n",
    "for i in range(51):\n",
    "    if isprime(i):\n",
    "        prime_list.append(i)\n",
    "        \n",
    "print(\"Prime numbers upto 50 : \",prime_list)"
   ]
  },
  {
   "cell_type": "markdown",
   "id": "164e71be",
   "metadata": {},
   "source": [
    "Sol 34"
   ]
  },
  {
   "cell_type": "code",
   "execution_count": 18,
   "id": "e4f564fa",
   "metadata": {},
   "outputs": [
    {
     "name": "stdout",
     "output_type": "stream",
     "text": [
      "Enter the chunk size 3\n",
      "[2, 3, 5]\n",
      "[7, 11, 13]\n",
      "[17, 19, 23]\n",
      "[29, 31, 37]\n",
      "[41, 43, 47]\n"
     ]
    }
   ],
   "source": [
    "list1 = [2, 3, 5, 7, 11, 13, 17, 19, 23, 29, 31, 37, 41, 43, 47]\n",
    "chunk = int(input(\"Enter the chunk size \"))\n",
    "\n",
    "for i in range(0,len(list1),chunk):\n",
    "    print(list1[i:i+chunk])"
   ]
  },
  {
   "cell_type": "markdown",
   "id": "ba0f3dea",
   "metadata": {},
   "source": [
    "Sol 35"
   ]
  },
  {
   "cell_type": "code",
   "execution_count": 28,
   "id": "396ae843",
   "metadata": {},
   "outputs": [
    {
     "name": "stdout",
     "output_type": "stream",
     "text": [
      "Second largest number in the list :  4\n"
     ]
    }
   ],
   "source": [
    "list1 = [5,4,3,2,1]\n",
    "list1.sort(reverse = True)\n",
    "print(\"Second largest number in the list : \",list1[1])"
   ]
  },
  {
   "cell_type": "markdown",
   "id": "8f200b6d",
   "metadata": {},
   "source": [
    "Sol 36"
   ]
  },
  {
   "cell_type": "code",
   "execution_count": 21,
   "id": "555671c5",
   "metadata": {},
   "outputs": [
    {
     "name": "stdout",
     "output_type": "stream",
     "text": [
      "Updated List :  [4, 9, 25, 49, 121, 169, 289, 361, 529, 841, 961, 1369, 1681, 1849, 2209]\n"
     ]
    }
   ],
   "source": [
    "list3 = [2, 3, 5, 7, 11, 13, 17, 19, 23, 29, 31, 37, 41, 43, 47]\n",
    "\n",
    "for i in range(len(list3)):\n",
    "    list3[i] = list3[i] * list3[i]\n",
    "print(\"Updated List : \",list3)"
   ]
  },
  {
   "cell_type": "markdown",
   "id": "b732970b",
   "metadata": {},
   "source": [
    "Sol 37"
   ]
  },
  {
   "cell_type": "code",
   "execution_count": 31,
   "id": "07e6dc58",
   "metadata": {},
   "outputs": [
    {
     "name": "stdout",
     "output_type": "stream",
     "text": [
      "Dictionary :  {2: 0, 3: 1, 5: 2, 7: 3, 11: 4, 13: 5, 17: 6, 19: 7, 23: 8, 29: 9, 31: 10, 37: 11, 41: 12, 43: 13, 47: 14}\n"
     ]
    }
   ],
   "source": [
    "new_dict = {}\n",
    "list1 = [2, 3, 5, 7, 11, 13, 17, 19, 23, 29, 31, 37, 41, 43, 47]\n",
    "\n",
    "for i in range(len(list1)):\n",
    "    new_dict[list1[i]] = i\n",
    "\n",
    "print(\"Dictionary : \",new_dict)"
   ]
  },
  {
   "cell_type": "markdown",
   "id": "4bfb76dd",
   "metadata": {},
   "source": [
    "Sol 38"
   ]
  },
  {
   "cell_type": "code",
   "execution_count": 33,
   "id": "94717481",
   "metadata": {},
   "outputs": [
    {
     "name": "stdout",
     "output_type": "stream",
     "text": [
      "SHuffled List :  [23, 3, 5, 13, 2, 31, 11, 19, 43, 41, 37, 29, 7, 17, 47]\n"
     ]
    }
   ],
   "source": [
    "import random\n",
    "\n",
    "list1 = [2, 3, 5, 7, 11, 13, 17, 19, 23, 29, 31, 37, 41, 43, 47]\n",
    "random.shuffle(list1)\n",
    "\n",
    "print(\"SHuffled List : \", list1)"
   ]
  },
  {
   "cell_type": "markdown",
   "id": "bf37a61a",
   "metadata": {},
   "source": [
    "Sol 39"
   ]
  },
  {
   "cell_type": "code",
   "execution_count": 36,
   "id": "c3c02f05",
   "metadata": {},
   "outputs": [
    {
     "name": "stdout",
     "output_type": "stream",
     "text": [
      "Factorial List :  [1, 2, 6, 24, 120, 720, 5040, 40320, 362880, 3628800]\n"
     ]
    }
   ],
   "source": [
    "def fac(no):\n",
    "    factorial = 1\n",
    "    for i in range(1,no+1):\n",
    "        factorial *= i\n",
    "    return factorial\n",
    "\n",
    "fac_list = []\n",
    "for i in range(1,11):\n",
    "    fac_list.append(fac(i))\n",
    "        \n",
    "print(\"Factorial List : \",fac_list)"
   ]
  },
  {
   "cell_type": "markdown",
   "id": "d6264ccf",
   "metadata": {},
   "source": [
    "SOl 40"
   ]
  },
  {
   "cell_type": "code",
   "execution_count": 39,
   "id": "db33722d",
   "metadata": {},
   "outputs": [
    {
     "name": "stdout",
     "output_type": "stream",
     "text": [
      "Yes, there are common items present\n"
     ]
    }
   ],
   "source": [
    "list1 = [1,2,3,4]\n",
    "list2 = [4,5,6,7]\n",
    "check = False\n",
    "\n",
    "for item in list1:\n",
    "    if item in list2:\n",
    "        print(\"Yes, there are common items present\")\n",
    "        check = True\n",
    "        break\n",
    "if not check:\n",
    "    print(\"No, there are no common items present \")"
   ]
  },
  {
   "cell_type": "markdown",
   "id": "9c328e51",
   "metadata": {},
   "source": [
    "Sol 41"
   ]
  },
  {
   "cell_type": "code",
   "execution_count": 40,
   "id": "89775f8f",
   "metadata": {},
   "outputs": [
    {
     "name": "stdout",
     "output_type": "stream",
     "text": [
      "[]\n"
     ]
    }
   ],
   "source": [
    "list1 = [1,2,3,4]\n",
    "list1.clear()\n",
    "\n",
    "print(list1)"
   ]
  },
  {
   "cell_type": "markdown",
   "id": "8781891c",
   "metadata": {},
   "source": [
    "Sol 42"
   ]
  },
  {
   "cell_type": "code",
   "execution_count": 41,
   "id": "8b9c2b15",
   "metadata": {},
   "outputs": [
    {
     "name": "stdout",
     "output_type": "stream",
     "text": [
      "New list :  [0, 1, 2, 3, 4]\n"
     ]
    }
   ],
   "source": [
    "list1 = [-1,1,2,3,4]\n",
    "\n",
    "for i in range(len(list1)):\n",
    "    if list1[i] < 0:\n",
    "        list1[i] = 0\n",
    "    \n",
    "print(\"New list : \",list1)\n",
    "        "
   ]
  },
  {
   "cell_type": "markdown",
   "id": "d3c4ae54",
   "metadata": {},
   "source": [
    "Sol 43"
   ]
  },
  {
   "cell_type": "code",
   "execution_count": 43,
   "id": "62f64217",
   "metadata": {},
   "outputs": [
    {
     "name": "stdout",
     "output_type": "stream",
     "text": [
      "Enter a string : hello how are you\n",
      "['hello', 'how', 'are', 'you']\n"
     ]
    }
   ],
   "source": [
    "string = input(\"Enter a string : \")\n",
    "string += \" \"\n",
    "word = \"\"\n",
    "word_list = []\n",
    "\n",
    "for char in string:\n",
    "    if char != \" \":\n",
    "        word += char\n",
    "    else:\n",
    "        word_list.append(word)\n",
    "        word = \"\"\n",
    "print(word_list)"
   ]
  },
  {
   "cell_type": "markdown",
   "id": "d98e59c8",
   "metadata": {},
   "source": [
    "Sol 44"
   ]
  },
  {
   "cell_type": "code",
   "execution_count": 52,
   "id": "4d2bf634",
   "metadata": {},
   "outputs": [
    {
     "name": "stdout",
     "output_type": "stream",
     "text": [
      "hello how are you \n"
     ]
    }
   ],
   "source": [
    "word_list = ['hello', 'how', 'are', 'you']\n",
    "string = \"\"\n",
    "\n",
    "for word in word_list:\n",
    "    string += word+' '\n",
    "    \n",
    "print(string)"
   ]
  },
  {
   "cell_type": "markdown",
   "id": "8bea98c2",
   "metadata": {},
   "source": [
    "Sol 45"
   ]
  },
  {
   "cell_type": "code",
   "execution_count": 54,
   "id": "1c065c5f",
   "metadata": {},
   "outputs": [
    {
     "name": "stdout",
     "output_type": "stream",
     "text": [
      "Enter the power number 3\n",
      "Power list :  [1, 2, 4]\n"
     ]
    }
   ],
   "source": [
    "power = int(input(\"Enter the power number \"))\n",
    "pow_list = []\n",
    "\n",
    "for i in range(power):\n",
    "    pow_list.append(2 ** i)\n",
    "    \n",
    "print(\"Power list : \",pow_list)"
   ]
  },
  {
   "cell_type": "markdown",
   "id": "9196c244",
   "metadata": {},
   "source": [
    "Sol 46"
   ]
  },
  {
   "cell_type": "code",
   "execution_count": 57,
   "id": "947839df",
   "metadata": {},
   "outputs": [
    {
     "name": "stdout",
     "output_type": "stream",
     "text": [
      "Longest word in the string :  matching\n"
     ]
    }
   ],
   "source": [
    "word_list = ['hello', 'how', 'are', 'you','matching']\n",
    "longest = word_list[0]\n",
    "length = len(word_list[0])\n",
    "\n",
    "for word in word_list:\n",
    "    if len(word)>length:\n",
    "        length = len(word)\n",
    "        longest = word\n",
    "        \n",
    "print(\"Longest word in the string : \",longest)"
   ]
  },
  {
   "cell_type": "markdown",
   "id": "d3d58a62",
   "metadata": {},
   "source": [
    "Sol 47"
   ]
  },
  {
   "cell_type": "code",
   "execution_count": 58,
   "id": "13d76f32",
   "metadata": {},
   "outputs": [
    {
     "name": "stdout",
     "output_type": "stream",
     "text": [
      "Longest word in the string :  how\n"
     ]
    }
   ],
   "source": [
    "word_list = ['hello', 'how', 'are', 'you','matching']\n",
    "shortest = word_list[0]\n",
    "length = len(word_list[0])\n",
    "\n",
    "for word in word_list:\n",
    "    if len(word)<length:\n",
    "        length = len(word)\n",
    "        shortest = word\n",
    "        \n",
    "print(\"shortest word in the string : \",shortest)"
   ]
  },
  {
   "cell_type": "markdown",
   "id": "12bee2b6",
   "metadata": {},
   "source": [
    "Sol 48"
   ]
  },
  {
   "cell_type": "code",
   "execution_count": 59,
   "id": "d8371d13",
   "metadata": {},
   "outputs": [
    {
     "name": "stdout",
     "output_type": "stream",
     "text": [
      "Enter a number : 5\n",
      "Triangular Numbers upto 5 : [1.0, 3.0, 6.0, 10.0, 15.0]\n"
     ]
    }
   ],
   "source": [
    "no = int(input(\"Enter a number : \"))\n",
    "no_list = []\n",
    "\n",
    "for i in range(1,no+1):\n",
    "    no_list.append((i*(i+1))/2)\n",
    "\n",
    "print(f\"Triangular Numbers upto {no} : {no_list}\")"
   ]
  },
  {
   "cell_type": "markdown",
   "id": "2a66c836",
   "metadata": {},
   "source": [
    "Sol 49"
   ]
  },
  {
   "cell_type": "code",
   "execution_count": 60,
   "id": "de819868",
   "metadata": {},
   "outputs": [
    {
     "name": "stdout",
     "output_type": "stream",
     "text": [
      "The subsequence [3, 6, 9] is present in [1, 2, 3, 4, 5, 6, 7, 8, 9]\n"
     ]
    }
   ],
   "source": [
    "def is_subsequence(subsequence, main_list):\n",
    "    sub_len = len(subsequence)\n",
    "    main_len = len(main_list)\n",
    "\n",
    "    if sub_len > main_len:\n",
    "        return False\n",
    "\n",
    "    sub_index = 0\n",
    "\n",
    "    for element in main_list:\n",
    "        if element == subsequence[sub_index]:\n",
    "            sub_index += 1\n",
    "\n",
    "            if sub_index == sub_len:\n",
    "                return True\n",
    "\n",
    "    return False\n",
    "\n",
    "main_list = [1, 2, 3, 4, 5, 6, 7, 8, 9]\n",
    "subsequence = [3, 6, 9]\n",
    "\n",
    "result = is_subsequence(subsequence, main_list)\n",
    "\n",
    "if result:\n",
    "    print(\"The subsequence\", subsequence, \"is present in\", main_list)\n",
    "else:\n",
    "    print(\"The subsequence\", subsequence, \"is not present in\", main_list)\n"
   ]
  },
  {
   "cell_type": "markdown",
   "id": "ec4bff6b",
   "metadata": {},
   "source": [
    "Sol 50"
   ]
  },
  {
   "cell_type": "code",
   "execution_count": 61,
   "id": "5f85246c",
   "metadata": {},
   "outputs": [
    {
     "name": "stdout",
     "output_type": "stream",
     "text": [
      "Enter the index number you want to swap : 3\n",
      "[1, 2, 3, 7] [4, 5, 6, 4]\n"
     ]
    }
   ],
   "source": [
    "list1 = [1,2,3,4]\n",
    "list2 = [4,5,6,7]\n",
    "\n",
    "index = int(input(\"Enter the index number you want to swap : \"))\n",
    "\n",
    "temp = list1[index]\n",
    "list1[index] = list2[index]\n",
    "list2[index] = temp\n",
    "\n",
    "print(list1,list2)"
   ]
  },
  {
   "cell_type": "markdown",
   "id": "07f07b45",
   "metadata": {},
   "source": [
    "## Tuple Based Practice Problem"
   ]
  },
  {
   "cell_type": "markdown",
   "id": "129584dc",
   "metadata": {},
   "source": [
    "Sol 1"
   ]
  },
  {
   "cell_type": "code",
   "execution_count": 62,
   "id": "d64baf26",
   "metadata": {},
   "outputs": [
    {
     "name": "stdout",
     "output_type": "stream",
     "text": [
      "Tuple :  (1, 2, 3, 4, 5)\n"
     ]
    }
   ],
   "source": [
    "my_tup = tuple(range(1,6))\n",
    "print(\"Tuple : \", my_tup)"
   ]
  },
  {
   "cell_type": "markdown",
   "id": "feee2c2e",
   "metadata": {},
   "source": [
    "Sol 2"
   ]
  },
  {
   "cell_type": "code",
   "execution_count": 65,
   "id": "98941b90",
   "metadata": {},
   "outputs": [
    {
     "name": "stdout",
     "output_type": "stream",
     "text": [
      "Third element :  3\n"
     ]
    }
   ],
   "source": [
    "tup = (1, 2, 3, 4, 5)\n",
    "print(\"Third element : \", tup[2])"
   ]
  },
  {
   "cell_type": "markdown",
   "id": "110e9640",
   "metadata": {},
   "source": [
    "Sol 3"
   ]
  },
  {
   "cell_type": "code",
   "execution_count": 67,
   "id": "2484c4b1",
   "metadata": {},
   "outputs": [
    {
     "name": "stdout",
     "output_type": "stream",
     "text": [
      "Lenth of the tuple :  5\n"
     ]
    }
   ],
   "source": [
    "tup = (1, 2, 3, 4, 5)\n",
    "count = 0\n",
    "for items in tup:\n",
    "    count += 1\n",
    "    \n",
    "print(\"Lenth of the tuple : \", count)"
   ]
  },
  {
   "cell_type": "markdown",
   "id": "95fae949",
   "metadata": {},
   "source": [
    "Sol 4"
   ]
  },
  {
   "cell_type": "code",
   "execution_count": 69,
   "id": "9a96fc86",
   "metadata": {},
   "outputs": [
    {
     "name": "stdout",
     "output_type": "stream",
     "text": [
      "Enter a number which you want to count the occurance : 5\n",
      "Number of times the element occurs :  2\n"
     ]
    }
   ],
   "source": [
    "tup = (1, 2, 3, 4, 5, 5)\n",
    "\n",
    "element = int(input(\"Enter a number which you want to count the occurance : \"))\n",
    "count = 0\n",
    "\n",
    "for item in tup:\n",
    "    if item == element:\n",
    "        count += 1\n",
    "        \n",
    "print(\"Number of times the element occurs : \",count)"
   ]
  },
  {
   "cell_type": "markdown",
   "id": "36cf1ac8",
   "metadata": {},
   "source": [
    "Sol 5"
   ]
  },
  {
   "cell_type": "code",
   "execution_count": 71,
   "id": "f35b9ce4",
   "metadata": {},
   "outputs": [
    {
     "name": "stdout",
     "output_type": "stream",
     "text": [
      "Enter a number which you want to count the first occurance : 5\n",
      "Index =  4\n"
     ]
    }
   ],
   "source": [
    "tup = (1, 2, 3, 4, 5, 5)\n",
    "\n",
    "element = int(input(\"Enter a number which you want to count the first occurance : \"))\n",
    "count = 0\n",
    "\n",
    "for i in range(len(tup)):\n",
    "    if tup[i] == element:\n",
    "        count = i\n",
    "        break\n",
    "\n",
    "print(\"Index = \", count)"
   ]
  },
  {
   "cell_type": "markdown",
   "id": "e9853c21",
   "metadata": {},
   "source": [
    "Sol 6"
   ]
  },
  {
   "cell_type": "code",
   "execution_count": 78,
   "id": "b7065dec",
   "metadata": {},
   "outputs": [
    {
     "name": "stdout",
     "output_type": "stream",
     "text": [
      "Enter a number which you want to check 5\n",
      "Yes! the element exists in the tuple \n"
     ]
    }
   ],
   "source": [
    "tup = (1, 2, 3, 4, 5, 5)\n",
    "\n",
    "element = int(input(\"Enter a number which you want to check \"))\n",
    "if element in tup:\n",
    "    print(\"Yes! the element exists in the tuple \")\n",
    "else:\n",
    "    print(\"No! the element does not exists in the tuple \")"
   ]
  },
  {
   "cell_type": "markdown",
   "id": "e727b5f1",
   "metadata": {},
   "source": [
    "Sol 7"
   ]
  },
  {
   "cell_type": "code",
   "execution_count": 75,
   "id": "0015d283",
   "metadata": {},
   "outputs": [
    {
     "name": "stdout",
     "output_type": "stream",
     "text": [
      "Converted List :  [1, 2, 3, 4, 5, 5]\n"
     ]
    }
   ],
   "source": [
    "tup = (1, 2, 3, 4, 5, 5)\n",
    "\n",
    "list_tup = list(tup)\n",
    "\n",
    "print(\"Converted List : \",list_tup)"
   ]
  },
  {
   "cell_type": "markdown",
   "id": "d3f7e914",
   "metadata": {},
   "source": [
    "Sol 8"
   ]
  },
  {
   "cell_type": "code",
   "execution_count": 77,
   "id": "f4e90de7",
   "metadata": {},
   "outputs": [
    {
     "name": "stdout",
     "output_type": "stream",
     "text": [
      "Converted Tuple :  (1, 2, 3, 4, 5, 5)\n"
     ]
    }
   ],
   "source": [
    "list1 = [1, 2, 3, 4, 5, 5]\n",
    "\n",
    "tup = tuple(list1)\n",
    "print(\"Converted Tuple : \",tup)"
   ]
  },
  {
   "cell_type": "markdown",
   "id": "e8455051",
   "metadata": {},
   "source": [
    "Sol 9"
   ]
  },
  {
   "cell_type": "code",
   "execution_count": 80,
   "id": "5ee79f6d",
   "metadata": {},
   "outputs": [
    {
     "name": "stdout",
     "output_type": "stream",
     "text": [
      "var1 : 1\n",
      "var2 : 2\n",
      "var3 : 3\n",
      "var4 : 4\n",
      "var5 : 5\n",
      "var6 : 5\n"
     ]
    }
   ],
   "source": [
    "tup = (1, 2, 3, 4, 5, 5)\n",
    "\n",
    "for i in range(len(tup)):\n",
    "    print(f\"var{i+1} : {tup[i]}\")"
   ]
  },
  {
   "cell_type": "markdown",
   "id": "cf398815",
   "metadata": {},
   "source": [
    "Sol 10"
   ]
  },
  {
   "cell_type": "code",
   "execution_count": 86,
   "id": "560bef81",
   "metadata": {},
   "outputs": [
    {
     "name": "stdout",
     "output_type": "stream",
     "text": [
      "Tuple of even numbers :  (2, 4, 6, 8, 10)\n"
     ]
    }
   ],
   "source": [
    "tup = tuple(range(2,11,2))\n",
    "print(\"Tuple of even numbers : \",tup)"
   ]
  },
  {
   "cell_type": "markdown",
   "id": "1848bbf2",
   "metadata": {},
   "source": [
    "Sol 11"
   ]
  },
  {
   "cell_type": "code",
   "execution_count": 87,
   "id": "3060fabd",
   "metadata": {},
   "outputs": [
    {
     "name": "stdout",
     "output_type": "stream",
     "text": [
      "Tuple of odd numbers :  (1, 3, 5, 7, 9)\n"
     ]
    }
   ],
   "source": [
    "tup = tuple(range(1,11,2))\n",
    "print(\"Tuple of odd numbers : \",tup)"
   ]
  },
  {
   "cell_type": "markdown",
   "id": "94166586",
   "metadata": {},
   "source": [
    "Sol 12"
   ]
  },
  {
   "cell_type": "code",
   "execution_count": 90,
   "id": "a11fb535",
   "metadata": {},
   "outputs": [
    {
     "name": "stdout",
     "output_type": "stream",
     "text": [
      "Concatenated Tuple :  (1, 2, 3, 4)\n"
     ]
    }
   ],
   "source": [
    "tup1 = (1,2)\n",
    "tup2 = (3,4)\n",
    "\n",
    "con = tup1+tup2\n",
    "print(\"Concatenated Tuple : \",con)"
   ]
  },
  {
   "cell_type": "markdown",
   "id": "60965994",
   "metadata": {},
   "source": [
    "Sol 13"
   ]
  },
  {
   "cell_type": "code",
   "execution_count": 91,
   "id": "7adb751b",
   "metadata": {},
   "outputs": [
    {
     "name": "stdout",
     "output_type": "stream",
     "text": [
      "Repeated tuple Thrice :  (1, 2, 3, 1, 2, 3, 1, 2, 3)\n"
     ]
    }
   ],
   "source": [
    "ori_tuple = (1,2,3)\n",
    "repeat = ori_tuple * 3\n",
    "\n",
    "print(\"Repeated tuple Thrice : \",repeat)"
   ]
  },
  {
   "cell_type": "markdown",
   "id": "e61516ed",
   "metadata": {},
   "source": [
    "    Sol 14"
   ]
  },
  {
   "cell_type": "code",
   "execution_count": 92,
   "id": "fb42e4bc",
   "metadata": {},
   "outputs": [
    {
     "name": "stdout",
     "output_type": "stream",
     "text": [
      "The tuple is not empty\n"
     ]
    }
   ],
   "source": [
    "tup = (1,2)\n",
    "\n",
    "if len(tup)==0:\n",
    "    print(\"The tuple is empty\")\n",
    "else:\n",
    "    print(\"The tuple is not empty\")"
   ]
  },
  {
   "cell_type": "markdown",
   "id": "058b9492",
   "metadata": {},
   "source": [
    "Sol 15"
   ]
  },
  {
   "cell_type": "code",
   "execution_count": 93,
   "id": "1844e7bf",
   "metadata": {},
   "outputs": [
    {
     "name": "stdout",
     "output_type": "stream",
     "text": [
      "Nested Tuple:\n",
      "(1, 2, 3)\n",
      "('a', 'b', 'c')\n",
      "(True, False, True)\n"
     ]
    }
   ],
   "source": [
    "nested_tuple = ((1, 2, 3), ('a', 'b', 'c'), (True, False, True))\n",
    "\n",
    "print(\"Nested Tuple:\")\n",
    "for inner_tuple in nested_tuple:\n",
    "    print(inner_tuple)\n"
   ]
  },
  {
   "cell_type": "markdown",
   "id": "864fbfbc",
   "metadata": {},
   "source": [
    "Sol 16"
   ]
  },
  {
   "cell_type": "code",
   "execution_count": 94,
   "id": "fb63d719",
   "metadata": {},
   "outputs": [
    {
     "name": "stdout",
     "output_type": "stream",
     "text": [
      "First Element of a Nested Tuple :  (1, 2, 3)\n"
     ]
    }
   ],
   "source": [
    "nested_tuple = ((1, 2, 3), ('a', 'b', 'c'), (True, False, True))\n",
    "print(\"First Element of a Nested Tuple : \", nested_tuple[0])"
   ]
  },
  {
   "cell_type": "markdown",
   "id": "189c1751",
   "metadata": {},
   "source": [
    "Sol 17"
   ]
  },
  {
   "cell_type": "code",
   "execution_count": 96,
   "id": "4b31cd1b",
   "metadata": {},
   "outputs": [
    {
     "name": "stdout",
     "output_type": "stream",
     "text": [
      "Tuple with one element :  (42,)\n"
     ]
    }
   ],
   "source": [
    "sin_tup = (42,)\n",
    "\n",
    "print(\"Tuple with one element : \", sin_tup)"
   ]
  },
  {
   "cell_type": "markdown",
   "id": "25e6cf25",
   "metadata": {},
   "source": [
    "Sol 18"
   ]
  },
  {
   "cell_type": "code",
   "execution_count": 98,
   "id": "8ea95892",
   "metadata": {},
   "outputs": [
    {
     "name": "stdout",
     "output_type": "stream",
     "text": [
      "Tuples are equal\n"
     ]
    }
   ],
   "source": [
    "tuple1 = (1, 2, 3)\n",
    "tuple2 = (1, 2, 3)\n",
    "\n",
    "if tuple1 == tuple2:\n",
    "    print(\"Tuples are equal\")\n",
    "else:\n",
    "    print(\"Tuple are not equal\")"
   ]
  },
  {
   "cell_type": "markdown",
   "id": "65efbc79",
   "metadata": {},
   "source": [
    "Sol 19"
   ]
  },
  {
   "cell_type": "code",
   "execution_count": 101,
   "id": "3a374a54",
   "metadata": {},
   "outputs": [
    {
     "name": "stdout",
     "output_type": "stream",
     "text": [
      "The tuple does not exist :  name 'my_tup' is not defined\n"
     ]
    }
   ],
   "source": [
    "my_tup = (1, 2, 3, 4, 5)\n",
    "\n",
    "del my_tup\n",
    "\n",
    "try:\n",
    "    print(my_tup)\n",
    "except NameError as e:\n",
    "    print(\"The tuple does not exist : \",e)"
   ]
  },
  {
   "cell_type": "markdown",
   "id": "0d6413f4",
   "metadata": {},
   "source": [
    "Sol 20"
   ]
  },
  {
   "cell_type": "code",
   "execution_count": 103,
   "id": "9f0c1780",
   "metadata": {},
   "outputs": [
    {
     "name": "stdout",
     "output_type": "stream",
     "text": [
      "Sliced Tuple :  (3, 4)\n"
     ]
    }
   ],
   "source": [
    "my_tup = (1, 2, 3, 4, 5)\n",
    "slice_tup = my_tup[2:4]\n",
    "\n",
    "print(\"Sliced Tuple : \", slice_tup)"
   ]
  },
  {
   "cell_type": "markdown",
   "id": "eebef93b",
   "metadata": {},
   "source": [
    "Sol 21"
   ]
  },
  {
   "cell_type": "code",
   "execution_count": 105,
   "id": "2f330ea9",
   "metadata": {},
   "outputs": [
    {
     "name": "stdout",
     "output_type": "stream",
     "text": [
      "Max value :  5\n"
     ]
    }
   ],
   "source": [
    "my_tup = (1, 2, 3, 4, 5)\n",
    "print(\"Max value : \",max(my_tup))"
   ]
  },
  {
   "cell_type": "markdown",
   "id": "dda42e50",
   "metadata": {},
   "source": [
    "Sol 22"
   ]
  },
  {
   "cell_type": "code",
   "execution_count": 106,
   "id": "bf62f832",
   "metadata": {},
   "outputs": [
    {
     "name": "stdout",
     "output_type": "stream",
     "text": [
      "Min value :  1\n"
     ]
    }
   ],
   "source": [
    "my_tup = (1, 2, 3, 4, 5)\n",
    "print(\"Min value : \",min(my_tup))"
   ]
  },
  {
   "cell_type": "markdown",
   "id": "40d34882",
   "metadata": {},
   "source": [
    "Sol 23"
   ]
  },
  {
   "cell_type": "code",
   "execution_count": 108,
   "id": "0492ccaf",
   "metadata": {},
   "outputs": [
    {
     "name": "stdout",
     "output_type": "stream",
     "text": [
      "Enter a string : sandip\n",
      "Tuple of characters :  ('s', 'a', 'n', 'd', 'i', 'p')\n"
     ]
    }
   ],
   "source": [
    "string = input(\"Enter a string : \")\n",
    "my_tup = ()\n",
    "for char in string:\n",
    "    my_tup += (char,)\n",
    "    \n",
    "print(\"Tuple of characters : \",my_tup)"
   ]
  },
  {
   "cell_type": "markdown",
   "id": "52d99a95",
   "metadata": {},
   "source": [
    "Sol 24"
   ]
  },
  {
   "cell_type": "code",
   "execution_count": 109,
   "id": "3c0bc1a2",
   "metadata": {},
   "outputs": [
    {
     "name": "stdout",
     "output_type": "stream",
     "text": [
      "String extracted :  sandip\n"
     ]
    }
   ],
   "source": [
    "my_tup = ('s', 'a', 'n', 'd', 'i', 'p')\n",
    "string = \"\"\n",
    "\n",
    "for item in my_tup:\n",
    "    string += item\n",
    "print(\"String extracted : \", string)"
   ]
  },
  {
   "cell_type": "markdown",
   "id": "52203f9d",
   "metadata": {},
   "source": [
    "Sol 25"
   ]
  },
  {
   "cell_type": "code",
   "execution_count": 1,
   "id": "02143245",
   "metadata": {},
   "outputs": [
    {
     "name": "stdout",
     "output_type": "stream",
     "text": [
      "(42, 'Hello, World!', 3.14, True)\n"
     ]
    }
   ],
   "source": [
    "my_tuple = (42, \"Hello, World!\", 3.14, True)\n",
    "print(my_tuple)"
   ]
  },
  {
   "cell_type": "markdown",
   "id": "31fc2156",
   "metadata": {},
   "source": [
    "Sol 26"
   ]
  },
  {
   "cell_type": "code",
   "execution_count": 4,
   "id": "acf8b7bc",
   "metadata": {},
   "outputs": [
    {
     "name": "stdout",
     "output_type": "stream",
     "text": [
      "Yes, the tuples are same\n"
     ]
    }
   ],
   "source": [
    "tup1 = (1,2,3,4)\n",
    "tup2 = (1,2,3,4)\n",
    "\n",
    "if tup1 == tup2:\n",
    "    print(\"Yes, the tuples are same\")\n",
    "else:\n",
    "    print(\"No, the tuples are not same\")"
   ]
  },
  {
   "cell_type": "markdown",
   "id": "a68791a0",
   "metadata": {},
   "source": [
    "Sol 27"
   ]
  },
  {
   "cell_type": "code",
   "execution_count": 9,
   "id": "6ba0ca1e",
   "metadata": {},
   "outputs": [
    {
     "name": "stdout",
     "output_type": "stream",
     "text": [
      "(1, 2, 3, 4, 4, 5, 6, 7, 8)\n"
     ]
    }
   ],
   "source": [
    "tup3 = (5,4,6,7,8,2,1,3,4)\n",
    "sorted_tuple = tuple(sorted(tup3))\n",
    "\n",
    "print(sorted_tuple)"
   ]
  },
  {
   "cell_type": "markdown",
   "id": "9941bb64",
   "metadata": {},
   "source": [
    "Sol 28"
   ]
  },
  {
   "cell_type": "code",
   "execution_count": 13,
   "id": "3c036af5",
   "metadata": {},
   "outputs": [
    {
     "name": "stdout",
     "output_type": "stream",
     "text": [
      "Converted Tuple :  ('5', '4', '6', '7', '8', '2', '1', '3', '4')\n"
     ]
    }
   ],
   "source": [
    "tup3 = (5,4,6,7,8,2,1,3,4)\n",
    "\n",
    "string_tuple = tuple(map(str,tup3))    \n",
    "print(\"Converted Tuple : \", string_tuple)"
   ]
  },
  {
   "cell_type": "markdown",
   "id": "ffd75aee",
   "metadata": {},
   "source": [
    "Sol 29"
   ]
  },
  {
   "cell_type": "code",
   "execution_count": 14,
   "id": "41474a7b",
   "metadata": {},
   "outputs": [
    {
     "name": "stdout",
     "output_type": "stream",
     "text": [
      "Converted Tuple :  (5, 4, 6, 7, 8, 2, 1, 3, 4)\n"
     ]
    }
   ],
   "source": [
    "str_tuple = ('5', '4', '6', '7', '8', '2', '1', '3', '4')\n",
    "\n",
    "int_tuple = tuple(map(int,str_tuple))\n",
    "print(\"Converted Tuple : \", int_tuple)"
   ]
  },
  {
   "cell_type": "markdown",
   "id": "df08cbd9",
   "metadata": {},
   "source": [
    "Sol 30"
   ]
  },
  {
   "cell_type": "code",
   "execution_count": 15,
   "id": "382ccb80",
   "metadata": {},
   "outputs": [
    {
     "name": "stdout",
     "output_type": "stream",
     "text": [
      "Merdged Tuple :  (1, 2, 3, 4, 1, 2, 3, 4)\n"
     ]
    }
   ],
   "source": [
    "tup1 = (1,2,3,4)\n",
    "tup2 = (1,2,3,4)\n",
    "\n",
    "tup3 = tup1 + tup2\n",
    "print(\"Merdged Tuple : \", tup3)"
   ]
  },
  {
   "cell_type": "markdown",
   "id": "d0688e35",
   "metadata": {},
   "source": [
    "Sol 31"
   ]
  },
  {
   "cell_type": "code",
   "execution_count": 30,
   "id": "c9e423a4",
   "metadata": {},
   "outputs": [
    {
     "name": "stdout",
     "output_type": "stream",
     "text": [
      "Final tuple :  (1, 2, 3, 4, 5, 6, 7, 8, 9)\n"
     ]
    }
   ],
   "source": [
    "nested_tuple = (1, (2, 3, (4, 5), 6), 7, (8, 9))\n",
    "list2 = []\n",
    "\n",
    "def flat(tup):\n",
    "    list1 = []\n",
    "    \n",
    "    for item in tup:\n",
    "        if type(item) != tuple:\n",
    "            list1.append(item)\n",
    "        else:\n",
    "            list1.extend(flat(item))\n",
    "    return list1\n",
    "\n",
    "result = flat(nested_tuple)\n",
    "\n",
    "print(\"Final tuple : \",tuple(result))"
   ]
  },
  {
   "cell_type": "markdown",
   "id": "f258675d",
   "metadata": {},
   "source": [
    "Sol 32            "
   ]
  },
  {
   "cell_type": "code",
   "execution_count": 36,
   "id": "eeb1fbc0",
   "metadata": {},
   "outputs": [
    {
     "name": "stdout",
     "output_type": "stream",
     "text": [
      "Tuple of prime numbers :  (2, 3, 5)\n"
     ]
    }
   ],
   "source": [
    "def prime(no):\n",
    "    count = 0\n",
    "    if no != 1:\n",
    "        for i in range(1,no+1):\n",
    "            if no%i == 0:\n",
    "                count+=1\n",
    "    if count == 2:\n",
    "        return True\n",
    "    else:\n",
    "        return False\n",
    "\n",
    "list1 = []\n",
    "for i in range(2,6):\n",
    "    if prime(i):\n",
    "        list1.append(i)\n",
    "print(\"Tuple of prime numbers : \",tuple(list1))"
   ]
  },
  {
   "cell_type": "markdown",
   "id": "6c0b5700",
   "metadata": {},
   "source": [
    "Sol 33"
   ]
  },
  {
   "cell_type": "code",
   "execution_count": 38,
   "id": "08aeb69e",
   "metadata": {},
   "outputs": [
    {
     "name": "stdout",
     "output_type": "stream",
     "text": [
      "no, it is not palindrome tuple\n"
     ]
    }
   ],
   "source": [
    "tup = (1,2,3)\n",
    "\n",
    "if tup == tup[::-1]:\n",
    "    print(\"yes, it is palindrome tuple\")\n",
    "else:\n",
    "    print(\"no, it is not palindrome tuple\")"
   ]
  },
  {
   "cell_type": "markdown",
   "id": "c31fd33a",
   "metadata": {},
   "source": [
    "Sol 34"
   ]
  },
  {
   "cell_type": "code",
   "execution_count": 39,
   "id": "bedb21a6",
   "metadata": {},
   "outputs": [
    {
     "name": "stdout",
     "output_type": "stream",
     "text": [
      "Tuples of Squares :  (1, 4, 9, 16, 25)\n"
     ]
    }
   ],
   "source": [
    "list1 = []\n",
    "\n",
    "for i in range(1,6):\n",
    "    list1.append(i*i)\n",
    "\n",
    "print(\"Tuples of Squares : \",tuple(list1))"
   ]
  },
  {
   "cell_type": "markdown",
   "id": "c912d82f",
   "metadata": {},
   "source": [
    "Sol 35"
   ]
  },
  {
   "cell_type": "code",
   "execution_count": 41,
   "id": "b8951e6b",
   "metadata": {},
   "outputs": [
    {
     "name": "stdout",
     "output_type": "stream",
     "text": [
      "Even numbers in the tuple :  (4, 16)\n"
     ]
    }
   ],
   "source": [
    "tup = (1, 4, 9, 16, 25)\n",
    "even_list = []\n",
    "\n",
    "for item in tup:\n",
    "    if item%2==0:\n",
    "        even_list.append(item)\n",
    "\n",
    "print(\"Even numbers in the tuple : \",tuple(even_list) )"
   ]
  },
  {
   "cell_type": "markdown",
   "id": "b94f4847",
   "metadata": {},
   "source": [
    "Sol 36"
   ]
  },
  {
   "cell_type": "code",
   "execution_count": 43,
   "id": "3ce062c4",
   "metadata": {},
   "outputs": [
    {
     "name": "stdout",
     "output_type": "stream",
     "text": [
      "FInal Tuple :  (2, 8, 18, 32, 50)\n"
     ]
    }
   ],
   "source": [
    "tup = (1, 4, 9, 16, 25)\n",
    "list1 = []\n",
    "\n",
    "for item in tup:\n",
    "    list1.append(item*2)\n",
    "    \n",
    "print(\"FInal Tuple : \",tuple(list1))"
   ]
  },
  {
   "cell_type": "markdown",
   "id": "f749e217",
   "metadata": {},
   "source": [
    "Sol 37"
   ]
  },
  {
   "cell_type": "code",
   "execution_count": 50,
   "id": "cde23953",
   "metadata": {},
   "outputs": [
    {
     "name": "stdout",
     "output_type": "stream",
     "text": [
      "Enter upper limit : 10\n",
      "Enter lower limit : 50\n",
      "Enter number of elements : 5\n",
      "(22, 13, 42, 42, 39)\n"
     ]
    }
   ],
   "source": [
    "import random\n",
    "lo = int(input(\"Enter upper limit : \"))\n",
    "up = int(input(\"Enter lower limit : \"))\n",
    "index = int(input(\"Enter number of elements : \"))\n",
    "\n",
    "list1 = []\n",
    "\n",
    "for i in range(index):\n",
    "    a = random.randint(lo,up)\n",
    "    list1.append(a)\n",
    "    \n",
    "print(tuple(list1))"
   ]
  },
  {
   "cell_type": "markdown",
   "id": "78f85ada",
   "metadata": {},
   "source": [
    "Sol 38"
   ]
  },
  {
   "cell_type": "code",
   "execution_count": 53,
   "id": "6102fe10",
   "metadata": {},
   "outputs": [
    {
     "name": "stdout",
     "output_type": "stream",
     "text": [
      "No, it is not sorted\n"
     ]
    }
   ],
   "source": [
    "tup = (1, 4, 9, 16, 25,4)\n",
    "if tup == tuple(sorted(tup)):\n",
    "    print(\"Yes, it is sorted\")\n",
    "else:\n",
    "    print(\"No, it is not sorted\")"
   ]
  },
  {
   "cell_type": "markdown",
   "id": "6780abdb",
   "metadata": {},
   "source": [
    "Sol 39"
   ]
  },
  {
   "cell_type": "code",
   "execution_count": 54,
   "id": "c043a2f6",
   "metadata": {
    "scrolled": true
   },
   "outputs": [
    {
     "name": "stdout",
     "output_type": "stream",
     "text": [
      "Enter a number by which you want to shift : 3\n",
      "Left Rotated List :  (21, 13, 8, 0, 1, 1, 2, 3, 5)\n"
     ]
    }
   ],
   "source": [
    "tup = [0, 1, 1, 2, 3, 5, 8, 13,21]\n",
    "list1 = list(tup)\n",
    "new_list = []\n",
    "rotate = int(input(\"Enter a number by which you want to shift : \"))\n",
    "\n",
    "for i in range(rotate):\n",
    "    new_list.append(list1[-(i+1)])\n",
    "\n",
    "list2 = list1[:-rotate]\n",
    "for item in list2:\n",
    "    new_list.append(item)\n",
    "    \n",
    "print(\"Left Rotated List : \",tuple(new_list))"
   ]
  },
  {
   "cell_type": "markdown",
   "id": "46669860",
   "metadata": {},
   "source": [
    "Sol 40"
   ]
  },
  {
   "cell_type": "code",
   "execution_count": 55,
   "id": "62cc0da5",
   "metadata": {},
   "outputs": [
    {
     "name": "stdout",
     "output_type": "stream",
     "text": [
      "Enter a number by which you want to shift : 5\n",
      "Right rotated list (5, 8, 13, 21, 0, 1, 1, 2, 3)\n"
     ]
    }
   ],
   "source": [
    "tup = [0, 1, 1, 2, 3, 5, 8, 13,21]\n",
    "list1 = list(tup)\n",
    "new_list = []\n",
    "rotate = int(input(\"Enter a number by which you want to shift : \"))\n",
    "\n",
    "print(\"Right rotated list\",tuple(list1[rotate:] + list1[:rotate]))"
   ]
  },
  {
   "cell_type": "markdown",
   "id": "95339f95",
   "metadata": {},
   "source": [
    "Sol 41"
   ]
  },
  {
   "cell_type": "code",
   "execution_count": 62,
   "id": "6dd410c6",
   "metadata": {},
   "outputs": [
    {
     "name": "stdout",
     "output_type": "stream",
     "text": [
      "Fibonacci series :  (0, 1, 1, 2, 3)\n"
     ]
    }
   ],
   "source": [
    "fib = [0,1]\n",
    "while len(fib)<5:\n",
    "    fib.append(fib[-1]+fib[-2])\n",
    "    \n",
    "print(\"Fibonacci series : \",tuple(fib))"
   ]
  },
  {
   "cell_type": "markdown",
   "id": "a4a3959f",
   "metadata": {},
   "source": [
    "Sol 42"
   ]
  },
  {
   "cell_type": "code",
   "execution_count": 63,
   "id": "cc546712",
   "metadata": {},
   "outputs": [
    {
     "name": "stdout",
     "output_type": "stream",
     "text": [
      "Enter number of elements : 3\n",
      "Enter a number: 14\n",
      "Enter a number: 45\n",
      "Enter a number: 19\n",
      "Final Tuple :  (14, 45, 19)\n"
     ]
    }
   ],
   "source": [
    "index = int(input(\"Enter number of elements : \"))\n",
    "list1 = []\n",
    "\n",
    "for i in range(index):\n",
    "    list1.append(int(input(\"Enter a number: \")))\n",
    "\n",
    "print(\"Final Tuple : \",tuple(list1))"
   ]
  },
  {
   "cell_type": "markdown",
   "id": "d75a3470",
   "metadata": {},
   "source": [
    "Sol 43"
   ]
  },
  {
   "cell_type": "code",
   "execution_count": 65,
   "id": "1e3bdf9e",
   "metadata": {},
   "outputs": [
    {
     "name": "stdout",
     "output_type": "stream",
     "text": [
      "Enter the index number: 1\n",
      "Swapped tupples :  (1, 4, 3) (3, 2, 5)\n"
     ]
    }
   ],
   "source": [
    "tup1 =(1,2,3)\n",
    "tup2 =(3,4,5)\n",
    "\n",
    "index = int(input(\"Enter the index number: \"))\n",
    "\n",
    "list1 = list(tup1)\n",
    "list2 = list(tup2)\n",
    "\n",
    "temp = list1[index]\n",
    "\n",
    "list1[index] = list2[index]\n",
    "list2[index] = temp\n",
    "\n",
    "print(\"Swapped tupples : \",tuple(list1),tuple(list2))"
   ]
  },
  {
   "cell_type": "markdown",
   "id": "3deab9bb",
   "metadata": {},
   "source": [
    "Sol 44"
   ]
  },
  {
   "cell_type": "code",
   "execution_count": 66,
   "id": "fa3b9249",
   "metadata": {},
   "outputs": [
    {
     "name": "stdout",
     "output_type": "stream",
     "text": [
      "Reversed tuple :  (5, 4, 3)\n"
     ]
    }
   ],
   "source": [
    "tup =(3,4,5)\n",
    "print(\"Reversed tuple : \",tuple(list(tup)[::-1]))"
   ]
  },
  {
   "cell_type": "markdown",
   "id": "b8aba5b9",
   "metadata": {},
   "source": [
    "Sol 45"
   ]
  },
  {
   "cell_type": "code",
   "execution_count": 67,
   "id": "16b5b61b",
   "metadata": {},
   "outputs": [
    {
     "name": "stdout",
     "output_type": "stream",
     "text": [
      "Enter the limit number: 5\n"
     ]
    },
    {
     "data": {
      "text/plain": [
       "[1, 4, 9, 16, 25]"
      ]
     },
     "execution_count": 67,
     "metadata": {},
     "output_type": "execute_result"
    }
   ],
   "source": [
    "limit = int(input(\"Enter the limit number: \"))\n",
    "\n",
    "list1 = []\n",
    "for i in range(1,limit+1):\n",
    "    list1.append(i**2)\n",
    "    \n",
    "print(list1)"
   ]
  },
  {
   "cell_type": "markdown",
   "id": "513b8353",
   "metadata": {},
   "source": [
    "Sol 46"
   ]
  },
  {
   "cell_type": "code",
   "execution_count": 68,
   "id": "ee8ffe2d",
   "metadata": {},
   "outputs": [
    {
     "name": "stdout",
     "output_type": "stream",
     "text": [
      "Longest word :  Hello\n"
     ]
    }
   ],
   "source": [
    "tup = (\"Hello\",\"How\",\"Are\",\"You\",\"Doing\")\n",
    "temp = len(tup[0])\n",
    "word = tup[0]\n",
    "for item in tup:\n",
    "    if len(item)>temp:\n",
    "        word = item\n",
    "        temp = len(item)\n",
    "        \n",
    "print(\"Longest word : \",word)"
   ]
  },
  {
   "cell_type": "markdown",
   "id": "f5528543",
   "metadata": {},
   "source": [
    "Sol 47"
   ]
  },
  {
   "cell_type": "code",
   "execution_count": 69,
   "id": "b2fdf69f",
   "metadata": {},
   "outputs": [
    {
     "name": "stdout",
     "output_type": "stream",
     "text": [
      "Shortest word :  How\n"
     ]
    }
   ],
   "source": [
    "tup = (\"Hello\",\"How\",\"Are\",\"You\",\"Doing\")\n",
    "temp = len(tup[0])\n",
    "word = tup[0]\n",
    "for item in tup:\n",
    "    if len(item)<temp:\n",
    "        word = item\n",
    "        temp = len(item)\n",
    "        \n",
    "print(\"Shortest word : \",word)"
   ]
  },
  {
   "cell_type": "markdown",
   "id": "6a424c53",
   "metadata": {},
   "source": [
    "Sol 48"
   ]
  },
  {
   "cell_type": "code",
   "execution_count": 71,
   "id": "3d90945a",
   "metadata": {},
   "outputs": [
    {
     "name": "stdout",
     "output_type": "stream",
     "text": [
      "Enter a numeber : 7\n",
      "(1, 3, 6, 10, 15, 21, 28)\n"
     ]
    }
   ],
   "source": [
    "def triangular_number(n):\n",
    "    return n * (n + 1) // 2\n",
    "\n",
    "def generate_triangular_numbers(count):\n",
    "    return tuple(triangular_number(i) for i in range(1, count + 1))\n",
    "\n",
    "n = int(input(\"Enter a numeber : \"))\n",
    "triangular_numbers = generate_triangular_numbers(n)\n",
    "print(triangular_numbers)"
   ]
  },
  {
   "cell_type": "markdown",
   "id": "5bc3d433",
   "metadata": {},
   "source": [
    "Sol 49"
   ]
  },
  {
   "cell_type": "code",
   "execution_count": 72,
   "id": "3d243acf",
   "metadata": {},
   "outputs": [
    {
     "name": "stdout",
     "output_type": "stream",
     "text": [
      "Yes, there is a subsequence \n"
     ]
    }
   ],
   "source": [
    "def check(tup):\n",
    "    for item in tup:\n",
    "        if type(item) == tuple:\n",
    "            return True\n",
    "    return False\n",
    "\n",
    "tup = (1,2,(3,4,5),45)\n",
    "if check(tup):\n",
    "    print(\"Yes, there is a subsequence \")\n",
    "else:\n",
    "    print(\"No, there is no subsequence \")"
   ]
  },
  {
   "cell_type": "markdown",
   "id": "fcc5b3b5",
   "metadata": {},
   "source": [
    "Sol 50"
   ]
  },
  {
   "cell_type": "code",
   "execution_count": 73,
   "id": "98f36a02",
   "metadata": {},
   "outputs": [
    {
     "name": "stdout",
     "output_type": "stream",
     "text": [
      "Enter limit : 10\n",
      "Final Tuple :  (1, 0, 1, 0, 1, 0, 1, 0, 1, 0)\n"
     ]
    }
   ],
   "source": [
    "index = int(input(\"Enter limit : \"))\n",
    "\n",
    "list1 = []\n",
    "for i in range(1,index+1):\n",
    "    if i%2==0:\n",
    "        list1.append(0)\n",
    "    else:\n",
    "        list1.append(1)\n",
    "print(\"Final Tuple : \",tuple(list1))"
   ]
  },
  {
   "cell_type": "markdown",
   "id": "ff79c2fe",
   "metadata": {},
   "source": [
    "## Set Based Practice Problem"
   ]
  },
  {
   "cell_type": "markdown",
   "id": "0f5ad2fc",
   "metadata": {},
   "source": [
    "Sol 1"
   ]
  },
  {
   "cell_type": "code",
   "execution_count": 3,
   "id": "1e0bf0ec",
   "metadata": {},
   "outputs": [
    {
     "name": "stdout",
     "output_type": "stream",
     "text": [
      "Set with first 5 numbers:  {1, 2, 3, 4, 5}\n"
     ]
    }
   ],
   "source": [
    "empty_set = set()\n",
    "for i in range(1,6):\n",
    "    empty_set.add(i)\n",
    "\n",
    "print(\"Set with first 5 numbers: \",empty_set)"
   ]
  },
  {
   "cell_type": "markdown",
   "id": "43ad553f",
   "metadata": {},
   "source": [
    "Sol 2"
   ]
  },
  {
   "cell_type": "code",
   "execution_count": 4,
   "id": "f2a2fac5",
   "metadata": {},
   "outputs": [
    {
     "name": "stdout",
     "output_type": "stream",
     "text": [
      "Final Set :  {1, 2, 3, 4, 5, 6}\n"
     ]
    }
   ],
   "source": [
    "my_set = {1, 2, 3, 4, 5}\n",
    "my_set.add(6)\n",
    "\n",
    "print(\"Final Set : \", my_set)"
   ]
  },
  {
   "cell_type": "markdown",
   "id": "b755738b",
   "metadata": {},
   "source": [
    "Sol 3"
   ]
  },
  {
   "cell_type": "code",
   "execution_count": 5,
   "id": "948abf69",
   "metadata": {},
   "outputs": [
    {
     "name": "stdout",
     "output_type": "stream",
     "text": [
      "Final Set :  {1, 2, 3, 4}\n"
     ]
    }
   ],
   "source": [
    "my_set = {1, 2, 3, 4, 5}\n",
    "my_set.remove(5)\n",
    "\n",
    "print(\"Final Set : \", my_set)"
   ]
  },
  {
   "cell_type": "markdown",
   "id": "1b5b570c",
   "metadata": {},
   "source": [
    "Sol 4"
   ]
  },
  {
   "cell_type": "code",
   "execution_count": 7,
   "id": "59c96fe2",
   "metadata": {},
   "outputs": [
    {
     "name": "stdout",
     "output_type": "stream",
     "text": [
      "Enter the number which you want to check : 3\n",
      "The number is present!\n"
     ]
    }
   ],
   "source": [
    "my_set = {1, 2, 3, 4, 5}\n",
    "check = int(input(\"Enter the number which you want to check : \"))\n",
    "\n",
    "if check in my_set:\n",
    "    print(\"The number is present!\")\n",
    "else:\n",
    "    print(\"The number is not present!\")"
   ]
  },
  {
   "cell_type": "markdown",
   "id": "178700d5",
   "metadata": {},
   "source": [
    "Sol 5"
   ]
  },
  {
   "cell_type": "code",
   "execution_count": 9,
   "id": "329e8729",
   "metadata": {},
   "outputs": [
    {
     "name": "stdout",
     "output_type": "stream",
     "text": [
      "Length of the set :  5\n"
     ]
    }
   ],
   "source": [
    "my_set = {1, 2, 3, 4, 5}\n",
    "\n",
    "count = 0\n",
    "for item in my_set:\n",
    "    count += 1\n",
    "    \n",
    "print(\"Length of the set : \",count)"
   ]
  },
  {
   "cell_type": "markdown",
   "id": "47d6533d",
   "metadata": {},
   "source": [
    "Sol 6"
   ]
  },
  {
   "cell_type": "code",
   "execution_count": 10,
   "id": "ddd7acee",
   "metadata": {},
   "outputs": [
    {
     "name": "stdout",
     "output_type": "stream",
     "text": [
      "Set after getting cleared :  set()\n"
     ]
    }
   ],
   "source": [
    "my_set = {1, 2, 3, 4, 5}\n",
    "my_set.clear()\n",
    "\n",
    "print(\"Set after getting cleared : \",my_set)"
   ]
  },
  {
   "cell_type": "markdown",
   "id": "a5662c30",
   "metadata": {},
   "source": [
    "Sol 7"
   ]
  },
  {
   "cell_type": "code",
   "execution_count": 11,
   "id": "f1bdb19f",
   "metadata": {},
   "outputs": [
    {
     "name": "stdout",
     "output_type": "stream",
     "text": [
      "Final set :  {2, 4, 6, 8, 10}\n"
     ]
    }
   ],
   "source": [
    "s = set()\n",
    "for i in range(1,11):\n",
    "    if i%2==0:\n",
    "        s.add(i)\n",
    "    \n",
    "print(\"Final set : \",s)"
   ]
  },
  {
   "cell_type": "markdown",
   "id": "13ff0726",
   "metadata": {},
   "source": [
    "Sol 8"
   ]
  },
  {
   "cell_type": "code",
   "execution_count": 12,
   "id": "cf50db29",
   "metadata": {},
   "outputs": [
    {
     "name": "stdout",
     "output_type": "stream",
     "text": [
      "Final set :  {1, 3, 5, 7, 9}\n"
     ]
    }
   ],
   "source": [
    "s = set()\n",
    "for i in range(1,11):\n",
    "    if i%2!=0:\n",
    "        s.add(i)\n",
    "    \n",
    "print(\"Final set : \",s)"
   ]
  },
  {
   "cell_type": "markdown",
   "id": "35d8a35d",
   "metadata": {},
   "source": [
    "Sol 9"
   ]
  },
  {
   "cell_type": "code",
   "execution_count": 13,
   "id": "c474662a",
   "metadata": {},
   "outputs": [
    {
     "name": "stdout",
     "output_type": "stream",
     "text": [
      "Union of two sets :  {1, 2, 3, 4, 5, 6, 7, 8, 9, 10}\n"
     ]
    }
   ],
   "source": [
    "set1 = {1, 3, 5, 7, 9}\n",
    "set2 = {2, 4, 6, 8, 10}\n",
    "\n",
    "set3 = set1.union(set2)\n",
    "print(\"Union of two sets : \",set3)"
   ]
  },
  {
   "cell_type": "markdown",
   "id": "4e863926",
   "metadata": {},
   "source": [
    "Sol 10"
   ]
  },
  {
   "cell_type": "code",
   "execution_count": 15,
   "id": "80779065",
   "metadata": {},
   "outputs": [
    {
     "name": "stdout",
     "output_type": "stream",
     "text": [
      "Intersection of two sets :  {1, 3, 5, 7, 9}\n"
     ]
    }
   ],
   "source": [
    "set1 = {1, 3, 5, 7, 9}\n",
    "set2 = {1, 2, 3, 4, 5, 6, 7, 8, 9, 10}\n",
    "\n",
    "set3 = set1.intersection(set2)\n",
    "print(\"Intersection of two sets : \",set3)"
   ]
  },
  {
   "cell_type": "markdown",
   "id": "4e2fca00",
   "metadata": {},
   "source": [
    "Sol 11"
   ]
  },
  {
   "cell_type": "code",
   "execution_count": 16,
   "id": "303d0538",
   "metadata": {},
   "outputs": [
    {
     "name": "stdout",
     "output_type": "stream",
     "text": [
      "Differeceof two sets :  {2, 4, 6, 8, 10}\n"
     ]
    }
   ],
   "source": [
    "set1 = {1, 2, 3, 4, 5, 6, 7, 8, 9, 10}\n",
    "set2 = {1, 3, 5, 7, 9}\n",
    "\n",
    "set3 = set1 - set2\n",
    "print(\"Differeceof two sets : \",set3)"
   ]
  },
  {
   "cell_type": "markdown",
   "id": "f97c4102",
   "metadata": {},
   "source": [
    "Sol 12"
   ]
  },
  {
   "cell_type": "code",
   "execution_count": 18,
   "id": "328022ff",
   "metadata": {},
   "outputs": [
    {
     "name": "stdout",
     "output_type": "stream",
     "text": [
      "Yes, set2 is subset of set1\n"
     ]
    }
   ],
   "source": [
    "set1 = {1, 2, 3, 4, 5}\n",
    "set2 = {2, 4}\n",
    "\n",
    "if set2.issubset(set1):\n",
    "    print(\"Yes, set2 is subset of set1\")\n",
    "else:\n",
    "    print(\"No, set2 is not a subset of set1\")"
   ]
  },
  {
   "cell_type": "markdown",
   "id": "51119706",
   "metadata": {},
   "source": [
    "Sol 13"
   ]
  },
  {
   "cell_type": "code",
   "execution_count": 20,
   "id": "1f865e8b",
   "metadata": {},
   "outputs": [
    {
     "name": "stdout",
     "output_type": "stream",
     "text": [
      "Yes, set2 is superset of set1\n"
     ]
    }
   ],
   "source": [
    "set1 = {2, 4}\n",
    "set2 = {1, 2, 3, 4, 5}\n",
    "\n",
    "\n",
    "if set2.issuperset(set1):\n",
    "    print(\"Yes, set2 is superset of set1\")\n",
    "else:\n",
    "    print(\"No, set2 is not a superset of set1\")"
   ]
  },
  {
   "cell_type": "markdown",
   "id": "9cf89944",
   "metadata": {},
   "source": [
    "Sol 14"
   ]
  },
  {
   "cell_type": "code",
   "execution_count": 21,
   "id": "c13fc37f",
   "metadata": {},
   "outputs": [
    {
     "name": "stdout",
     "output_type": "stream",
     "text": [
      "List to Set :  {1, 2, 3, 4}\n"
     ]
    }
   ],
   "source": [
    "list1 = [1,2,3,4]\n",
    "my_set = set(list1)\n",
    "\n",
    "print(\"List to Set : \",my_set)"
   ]
  },
  {
   "cell_type": "markdown",
   "id": "4e1f66e4",
   "metadata": {},
   "source": [
    "Sol 15"
   ]
  },
  {
   "cell_type": "code",
   "execution_count": 22,
   "id": "f4f880c1",
   "metadata": {},
   "outputs": [
    {
     "name": "stdout",
     "output_type": "stream",
     "text": [
      "Set to List :  [1, 2, 3, 4]\n"
     ]
    }
   ],
   "source": [
    "set1 = {1, 2, 3, 4}\n",
    "my_list = list(set1)\n",
    "\n",
    "print(\"Set to List : \",my_list)"
   ]
  },
  {
   "cell_type": "markdown",
   "id": "e39023b2",
   "metadata": {},
   "source": [
    "Sol 16"
   ]
  },
  {
   "cell_type": "code",
   "execution_count": 23,
   "id": "a0bfd49e",
   "metadata": {},
   "outputs": [
    {
     "name": "stdout",
     "output_type": "stream",
     "text": [
      "New set after removal of a random element:  {2, 3, 4, 5}\n"
     ]
    }
   ],
   "source": [
    "my_set = {1, 2, 3, 4, 5}\n",
    "my_set.pop()\n",
    "\n",
    "print(\"New set after removal of a random element: \",my_set)"
   ]
  },
  {
   "cell_type": "markdown",
   "id": "4ab28a6e",
   "metadata": {},
   "source": [
    "Sol 17"
   ]
  },
  {
   "cell_type": "code",
   "execution_count": 25,
   "id": "b3f1ba78",
   "metadata": {},
   "outputs": [
    {
     "name": "stdout",
     "output_type": "stream",
     "text": [
      "New set after removal of an element:  {1, 2, 3, 5}\n"
     ]
    }
   ],
   "source": [
    "my_set = {1, 2, 3, 4, 5}\n",
    "my_set.remove(4)\n",
    "\n",
    "print(\"New set after removal of an element: \",my_set)"
   ]
  },
  {
   "cell_type": "markdown",
   "id": "173ce7c5",
   "metadata": {},
   "source": [
    "Sol 18"
   ]
  },
  {
   "cell_type": "code",
   "execution_count": 26,
   "id": "afa4ef52",
   "metadata": {},
   "outputs": [
    {
     "name": "stdout",
     "output_type": "stream",
     "text": [
      "There are elemets common\n"
     ]
    }
   ],
   "source": [
    "set1 = {2, 4}\n",
    "set2 = {1, 2, 3, 4, 5}\n",
    "\n",
    "set3 = set1.intersection(set2)\n",
    "\n",
    "if len(set3) == 0:\n",
    "    print(\"There are no elemets common\")\n",
    "else:\n",
    "    print(\"There are elemets common\")"
   ]
  },
  {
   "cell_type": "markdown",
   "id": "5fa4822f",
   "metadata": {},
   "source": [
    "Sol 19 "
   ]
  },
  {
   "cell_type": "code",
   "execution_count": 32,
   "id": "3fd94fd2",
   "metadata": {},
   "outputs": [
    {
     "name": "stdout",
     "output_type": "stream",
     "text": [
      "Symmetric Difference Between 2 sets :  {1, 2, 6, 7}\n"
     ]
    }
   ],
   "source": [
    "set1 = {1, 2, 3, 4, 5}\n",
    "set2 = {3, 4, 5, 6, 7}\n",
    "\n",
    "set3 = set1.symmetric_difference(set2)\n",
    "print(\"Symmetric Difference Between 2 sets : \", set3)"
   ]
  },
  {
   "cell_type": "markdown",
   "id": "d20422d9",
   "metadata": {},
   "source": [
    "Sol 20"
   ]
  },
  {
   "cell_type": "code",
   "execution_count": 35,
   "id": "47330355",
   "metadata": {},
   "outputs": [
    {
     "name": "stdout",
     "output_type": "stream",
     "text": [
      "Updated Set :  {1, 2, 3, 4, 5, 6, 7, 8}\n"
     ]
    }
   ],
   "source": [
    "set1 = {1, 2, 3, 4, 5}\n",
    "set2 = {4, 5, 6, 7, 8}\n",
    "\n",
    "set1.update(set2)\n",
    "print(\"Updated Set : \",set1)"
   ]
  },
  {
   "cell_type": "markdown",
   "id": "d98b23f6",
   "metadata": {},
   "source": [
    "Sol 21"
   ]
  },
  {
   "cell_type": "code",
   "execution_count": 38,
   "id": "0a3d96d0",
   "metadata": {},
   "outputs": [
    {
     "name": "stdout",
     "output_type": "stream",
     "text": [
      "Set with first 5 prime numbers :  {2, 3, 5, 7, 11}\n"
     ]
    }
   ],
   "source": [
    "set1 = set()\n",
    "count = 0\n",
    "\n",
    "def prime(n):\n",
    "    count=0\n",
    "    for i in range(1,n+1):\n",
    "        if n%i==0:\n",
    "            count +=1\n",
    "    if count==2:\n",
    "        return True\n",
    "    else:\n",
    "        return False\n",
    "\n",
    "for i in range(2,100):\n",
    "    if prime(i):\n",
    "        set1.add(i)\n",
    "        count+=1\n",
    "        \n",
    "    if count == 5:\n",
    "        break\n",
    "        \n",
    "print(\"Set with first 5 prime numbers : \",set1)"
   ]
  },
  {
   "cell_type": "markdown",
   "id": "fe6369d1",
   "metadata": {},
   "source": [
    "Sol 22"
   ]
  },
  {
   "cell_type": "code",
   "execution_count": 39,
   "id": "ade0fc6b",
   "metadata": {},
   "outputs": [
    {
     "name": "stdout",
     "output_type": "stream",
     "text": [
      "Given sets are not identical\n"
     ]
    }
   ],
   "source": [
    "set1 = {1, 2, 3, 4, 5}\n",
    "set2 = {4, 5, 6, 7, 8}\n",
    "\n",
    "if set1==set2:\n",
    "    print(\"Given sets are identical\")\n",
    "else:\n",
    "    print(\"Given sets are not identical\")"
   ]
  },
  {
   "cell_type": "markdown",
   "id": "757fa0d9",
   "metadata": {},
   "source": [
    "Sol 23"
   ]
  },
  {
   "cell_type": "code",
   "execution_count": 40,
   "id": "a1a1d615",
   "metadata": {},
   "outputs": [
    {
     "name": "stdout",
     "output_type": "stream",
     "text": [
      "Frozen Set :  frozenset({1, 2, 3, 4, 5})\n"
     ]
    }
   ],
   "source": [
    "set1 = {1, 2, 3, 4, 5}\n",
    "frozen_set = frozenset(set1)\n",
    "\n",
    "print(\"Frozen Set : \",frozen_set)"
   ]
  },
  {
   "cell_type": "markdown",
   "id": "6ddf11d7",
   "metadata": {},
   "source": [
    "Sol 24"
   ]
  },
  {
   "cell_type": "code",
   "execution_count": 43,
   "id": "8868cee8",
   "metadata": {},
   "outputs": [
    {
     "name": "stdout",
     "output_type": "stream",
     "text": [
      "No, the given sets are not disjoint\n"
     ]
    }
   ],
   "source": [
    "set1 = {1, 2, 3, 4, 5}\n",
    "set2 = {4, 5, 6, 7, 8}\n",
    "\n",
    "if set1.isdisjoint(set2):\n",
    "    print(\"Yes, the given sets are disjoint\")\n",
    "else:\n",
    "    print(\"No, the given sets are not disjoint\")"
   ]
  },
  {
   "cell_type": "markdown",
   "id": "e31c8b02",
   "metadata": {},
   "source": [
    "Sol 25"
   ]
  },
  {
   "cell_type": "code",
   "execution_count": 44,
   "id": "6f1c1ebd",
   "metadata": {},
   "outputs": [
    {
     "name": "stdout",
     "output_type": "stream",
     "text": [
      "Set of Squares :  {1, 4, 9, 16, 25}\n"
     ]
    }
   ],
   "source": [
    "s = set()\n",
    "\n",
    "for i in range(1,6):\n",
    "    s.add(i*i)\n",
    "    \n",
    "print(\"Set of Squares : \",s)"
   ]
  },
  {
   "cell_type": "markdown",
   "id": "857f8888",
   "metadata": {},
   "source": [
    "Sol 26"
   ]
  },
  {
   "cell_type": "code",
   "execution_count": 46,
   "id": "196398ce",
   "metadata": {},
   "outputs": [
    {
     "name": "stdout",
     "output_type": "stream",
     "text": [
      "Even filtered set :  {2, 4}\n"
     ]
    }
   ],
   "source": [
    "set1 = {1, 2, 3, 4, 5}\n",
    "even_set = set()\n",
    "for item in set1:\n",
    "    if item%2==0:\n",
    "        even_set.add(item)\n",
    "print(\"Even filtered set : \",even_set)"
   ]
  },
  {
   "cell_type": "markdown",
   "id": "5c0b4a0e",
   "metadata": {},
   "source": [
    "Sol 27"
   ]
  },
  {
   "cell_type": "code",
   "execution_count": 47,
   "id": "7ab988c3",
   "metadata": {},
   "outputs": [
    {
     "name": "stdout",
     "output_type": "stream",
     "text": [
      "Set after multiplying 2 :  {2, 4, 6, 8, 10}\n"
     ]
    }
   ],
   "source": [
    "set1 = {1, 2, 3, 4, 5}\n",
    "mul_set = set()\n",
    "\n",
    "for item in set1:\n",
    "    mul_set.add(2*item)\n",
    "    \n",
    "print(\"Set after multiplying 2 : \",mul_set)"
   ]
  },
  {
   "cell_type": "markdown",
   "id": "1e011d73",
   "metadata": {},
   "source": [
    "Sol 28"
   ]
  },
  {
   "cell_type": "code",
   "execution_count": 51,
   "id": "6a8d6fd2",
   "metadata": {},
   "outputs": [
    {
     "name": "stdout",
     "output_type": "stream",
     "text": [
      "Enter upper limit100\n",
      "Enter lower limit0\n",
      "Enter number of items7\n",
      "Set of Random numbers :  {66, 18, 20, 90, 27, 62, 63}\n"
     ]
    }
   ],
   "source": [
    "up = int(input(\"Enter upper limit\"))\n",
    "lo = int(input(\"Enter lower limit\"))\n",
    "index = int(input(\"Enter number of items\"))\n",
    "set1 = set()\n",
    "\n",
    "import random\n",
    "\n",
    "for i in range(index):\n",
    "    set1.add(random.randint(lo,up))\n",
    "    \n",
    "print(\"Set of Random numbers : \",set1)"
   ]
  },
  {
   "cell_type": "markdown",
   "id": "682259ce",
   "metadata": {},
   "source": [
    "Sol 30"
   ]
  },
  {
   "cell_type": "code",
   "execution_count": 52,
   "id": "6c211a45",
   "metadata": {},
   "outputs": [
    {
     "name": "stdout",
     "output_type": "stream",
     "text": [
      "Nested Set: {frozenset({1, 2, 3}), frozenset({4, 5, 6}), frozenset({8, 9, 7})}\n"
     ]
    }
   ],
   "source": [
    "nested_set = {frozenset({1, 2, 3}), frozenset({4, 5, 6}), frozenset({7, 8, 9})}\n",
    "\n",
    "print(\"Nested Set:\", nested_set)"
   ]
  },
  {
   "cell_type": "markdown",
   "id": "0aeb9884",
   "metadata": {},
   "source": [
    "Sol 31"
   ]
  },
  {
   "cell_type": "code",
   "execution_count": 55,
   "id": "347c23fd",
   "metadata": {},
   "outputs": [
    {
     "name": "stdout",
     "output_type": "stream",
     "text": [
      "Set after discarding 1 element :  {1, 2, 3, 5}\n"
     ]
    }
   ],
   "source": [
    "set1 = {1, 2, 3, 4, 5}\n",
    "set1.discard(4)\n",
    "\n",
    "print(\"Set after discarding 1 element : \",set1)"
   ]
  },
  {
   "cell_type": "markdown",
   "id": "3796c66c",
   "metadata": {},
   "source": [
    "Sol 32"
   ]
  },
  {
   "cell_type": "code",
   "execution_count": 56,
   "id": "f899f89f",
   "metadata": {},
   "outputs": [
    {
     "name": "stdout",
     "output_type": "stream",
     "text": [
      "The sets are equal\n"
     ]
    }
   ],
   "source": [
    "set1 = {1, 2, 3}\n",
    "set2 = {3, 2, 1}\n",
    "\n",
    "if set1 == set2:\n",
    "    print(\"The sets are equal\")\n",
    "else:\n",
    "    print(\"The sets are not equal\")\n"
   ]
  },
  {
   "cell_type": "markdown",
   "id": "401a7eee",
   "metadata": {},
   "source": [
    "Sol 33"
   ]
  },
  {
   "cell_type": "code",
   "execution_count": 58,
   "id": "69dc9140",
   "metadata": {},
   "outputs": [
    {
     "name": "stdout",
     "output_type": "stream",
     "text": [
      "Enter a string : Sandip\n",
      "Set of string :  {'S', 'd', 'n', 'a', 'p', 'i'}\n"
     ]
    }
   ],
   "source": [
    "string = input(\"Enter a string : \")\n",
    "\n",
    "set1 = set()\n",
    "for char in string:\n",
    "    set1.add(char)\n",
    "    \n",
    "print(\"Set of string : \",set1)"
   ]
  },
  {
   "cell_type": "markdown",
   "id": "5713d064",
   "metadata": {},
   "source": [
    "Sol 34"
   ]
  },
  {
   "cell_type": "code",
   "execution_count": 59,
   "id": "a3ba1c6c",
   "metadata": {},
   "outputs": [
    {
     "name": "stdout",
     "output_type": "stream",
     "text": [
      "Converted Set :  {1, 2, 3}\n"
     ]
    }
   ],
   "source": [
    "set1 = {'1','2','3'}\n",
    "set2 = set()\n",
    "\n",
    "for item in set1:\n",
    "    set2.add(int(item))\n",
    "    \n",
    "print(\"Converted Set : \",set2)"
   ]
  },
  {
   "cell_type": "markdown",
   "id": "80c8844d",
   "metadata": {},
   "source": [
    "Sol 35"
   ]
  },
  {
   "cell_type": "code",
   "execution_count": 60,
   "id": "e7d50605",
   "metadata": {},
   "outputs": [
    {
     "name": "stdout",
     "output_type": "stream",
     "text": [
      "Converted Set :  {'1', '2', '3'}\n"
     ]
    }
   ],
   "source": [
    "set1 = {1, 2, 3}\n",
    "set2 = set()\n",
    "\n",
    "for item in set1:\n",
    "    set2.add(str(item))\n",
    "    \n",
    "print(\"Converted Set : \",set2)"
   ]
  },
  {
   "cell_type": "markdown",
   "id": "2d840648",
   "metadata": {},
   "source": [
    "Sol 36"
   ]
  },
  {
   "cell_type": "code",
   "execution_count": 61,
   "id": "e20bfb4d",
   "metadata": {},
   "outputs": [
    {
     "name": "stdout",
     "output_type": "stream",
     "text": [
      "Tuple to set:  {1, 2, 3, 4}\n"
     ]
    }
   ],
   "source": [
    "tup = (1,2,3,4)\n",
    "set1 = set(tup)\n",
    "\n",
    "print(\"Tuple to set: \",set1 )"
   ]
  },
  {
   "cell_type": "markdown",
   "id": "265f447f",
   "metadata": {},
   "source": [
    "Sol 37"
   ]
  },
  {
   "cell_type": "code",
   "execution_count": 62,
   "id": "97283759",
   "metadata": {},
   "outputs": [
    {
     "name": "stdout",
     "output_type": "stream",
     "text": [
      "Set to Tuple :  (1, 2, 3, 4)\n"
     ]
    }
   ],
   "source": [
    "set1 = {1,2,3,4}\n",
    "tup = tuple(set1)\n",
    "\n",
    "print(\"Set to Tuple : \",tup)"
   ]
  },
  {
   "cell_type": "markdown",
   "id": "d85c42ff",
   "metadata": {},
   "source": [
    "Sol 38"
   ]
  },
  {
   "cell_type": "code",
   "execution_count": 64,
   "id": "0e2da880",
   "metadata": {},
   "outputs": [
    {
     "name": "stdout",
     "output_type": "stream",
     "text": [
      "Maximum value in the set :  4\n"
     ]
    }
   ],
   "source": [
    "set1 = {1,2,3,4}\n",
    "print(\"Maximum value in the set : \",max(set1))"
   ]
  },
  {
   "cell_type": "markdown",
   "id": "e346b017",
   "metadata": {},
   "source": [
    "Sol 39"
   ]
  },
  {
   "cell_type": "code",
   "execution_count": 66,
   "id": "d508b741",
   "metadata": {},
   "outputs": [
    {
     "name": "stdout",
     "output_type": "stream",
     "text": [
      "Minimum value in the set :  1\n"
     ]
    }
   ],
   "source": [
    "set1 = {1,2,3,4}\n",
    "print(\"Minimum value in the set : \",min(set1))"
   ]
  },
  {
   "cell_type": "markdown",
   "id": "5e447a6f",
   "metadata": {},
   "source": [
    "Sol 40"
   ]
  },
  {
   "cell_type": "code",
   "execution_count": 1,
   "id": "d709e0ac",
   "metadata": {},
   "outputs": [
    {
     "name": "stdout",
     "output_type": "stream",
     "text": [
      "Enter number of elements you want : 5\n",
      "Enter an element : sandip\n",
      "Enter an element : 123\n",
      "Enter an element : hello\n",
      "Enter an element : random\n",
      "Enter an element : 5463\n",
      "Final set :  {'hello', 'random', '123', '5463', 'sandip'}\n"
     ]
    }
   ],
   "source": [
    "no = int(input(\"Enter number of elements you want : \"))\n",
    "set1 = set()\n",
    "\n",
    "for i in range(no):\n",
    "    set1.add(input(\"Enter an element : \"))\n",
    "\n",
    "print(\"Final set : \",set1)\n",
    "    \n"
   ]
  },
  {
   "cell_type": "markdown",
   "id": "76c6cd87",
   "metadata": {},
   "source": [
    "Sol 41"
   ]
  },
  {
   "cell_type": "code",
   "execution_count": 3,
   "id": "0a36d6e6",
   "metadata": {},
   "outputs": [
    {
     "name": "stdout",
     "output_type": "stream",
     "text": [
      "Intersection is empty\n"
     ]
    }
   ],
   "source": [
    "set1 = {1,2,3,4}\n",
    "set2 = {5,6,7,8}\n",
    "\n",
    "set3 = set1.intersection(set2)\n",
    "\n",
    "if len(set3)==0:\n",
    "    print(\"Intersection is empty\")\n",
    "else:\n",
    "    print(\"Intersection is not empty\")"
   ]
  },
  {
   "cell_type": "markdown",
   "id": "6c45ab1c",
   "metadata": {},
   "source": [
    "Sol 42"
   ]
  },
  {
   "cell_type": "code",
   "execution_count": 7,
   "id": "746ec59e",
   "metadata": {},
   "outputs": [
    {
     "name": "stdout",
     "output_type": "stream",
     "text": [
      "Fibonacci series :  {0, 1, 2, 3, 5}\n"
     ]
    }
   ],
   "source": [
    "fib = [0,1]\n",
    "while len(fib)<6:\n",
    "    fib.append(fib[-1]+fib[-2])\n",
    "    \n",
    "print(\"Fibonacci series : \",set(fib))\n",
    "\n",
    "\n",
    "# duplicate 1's are not possible in sets"
   ]
  },
  {
   "cell_type": "markdown",
   "id": "d6c1240e",
   "metadata": {},
   "source": [
    "Sol 43"
   ]
  },
  {
   "cell_type": "code",
   "execution_count": 8,
   "id": "4c0ecc89",
   "metadata": {},
   "outputs": [
    {
     "name": "stdout",
     "output_type": "stream",
     "text": [
      "List : [1, 2, 3, 4, 5] and Set : {1, 2, 3, 4, 5}\n"
     ]
    }
   ],
   "source": [
    "list1 = [1,1,2,2,3,4,4,5]\n",
    "\n",
    "set1 = set(list1)\n",
    "new_list = list(set1)\n",
    "\n",
    "print(f\"List : {new_list} and Set : {set1}\")"
   ]
  },
  {
   "cell_type": "markdown",
   "id": "7bf20ad2",
   "metadata": {},
   "source": [
    "Sol 44"
   ]
  },
  {
   "cell_type": "code",
   "execution_count": 15,
   "id": "f292cb88",
   "metadata": {},
   "outputs": [
    {
     "name": "stdout",
     "output_type": "stream",
     "text": [
      "They do not have same elements\n"
     ]
    }
   ],
   "source": [
    "set1 = {1,2,3,4,4,5}\n",
    "set2 = {1,2,3,4}\n",
    "\n",
    "def check(a,b):\n",
    "    same = False\n",
    "    for item in a:\n",
    "        if item in b:\n",
    "            same = True\n",
    "        else:\n",
    "            same = False\n",
    "            break\n",
    "    return same\n",
    "\n",
    "if check(set1,set2) and check(set2,set1):\n",
    "    print(\"They have same elements\")\n",
    "else:\n",
    "    print(\"They do not have same elements\")"
   ]
  },
  {
   "cell_type": "markdown",
   "id": "1596df45",
   "metadata": {},
   "source": [
    "Sol 45"
   ]
  },
  {
   "cell_type": "code",
   "execution_count": 17,
   "id": "fb3ee4a8",
   "metadata": {},
   "outputs": [
    {
     "name": "stdout",
     "output_type": "stream",
     "text": [
      "Enter the limit number : 7\n",
      "First 7 powers of 2 :  {32, 64, 2, 128, 4, 8, 16}\n"
     ]
    }
   ],
   "source": [
    "n = int(input(\"Enter the limit number : \"))\n",
    "\n",
    "set1 = set()\n",
    "for i in range(1,n+1):\n",
    "    set1.add(2**i)\n",
    "    \n",
    "print(f\"First {n} powers of 2 : \",set1)"
   ]
  },
  {
   "cell_type": "markdown",
   "id": "23619ee8",
   "metadata": {},
   "source": [
    "Sol 46"
   ]
  },
  {
   "cell_type": "code",
   "execution_count": 18,
   "id": "013c1eae",
   "metadata": {},
   "outputs": [
    {
     "name": "stdout",
     "output_type": "stream",
     "text": [
      "Common Items are :  {1, 4}\n"
     ]
    }
   ],
   "source": [
    "list1 = [1,2,3,4]\n",
    "set1 = {1,4,10}\n",
    "\n",
    "common_items = set1.intersection(set(list1))\n",
    "print(\"Common Items are : \",common_items)"
   ]
  },
  {
   "cell_type": "markdown",
   "id": "3c00884b",
   "metadata": {},
   "source": [
    "Sol 47"
   ]
  },
  {
   "cell_type": "code",
   "execution_count": 19,
   "id": "59a29f64",
   "metadata": {},
   "outputs": [
    {
     "name": "stdout",
     "output_type": "stream",
     "text": [
      "Enter the value of n: 5\n",
      "The first 5 triangular numbers as a set: {1, 3, 6, 10, 15}\n"
     ]
    }
   ],
   "source": [
    "def triangular_number(n):\n",
    "    return n * (n + 1) // 2\n",
    "\n",
    "n = int(input(\"Enter the value of n: \"))\n",
    "triangular_set = {triangular_number(i) for i in range(1, n + 1)}\n",
    "\n",
    "print(f\"The first {n} triangular numbers as a set:\", triangular_set)\n"
   ]
  },
  {
   "cell_type": "markdown",
   "id": "14abfc76",
   "metadata": {},
   "source": [
    "Sol 48"
   ]
  },
  {
   "cell_type": "code",
   "execution_count": 20,
   "id": "0a36712b",
   "metadata": {},
   "outputs": [
    {
     "name": "stdout",
     "output_type": "stream",
     "text": [
      "Yes, set2 is subset of set1\n"
     ]
    }
   ],
   "source": [
    "set1 = {1, 2, 3, 4, 5}\n",
    "set2 = {2, 4}\n",
    "\n",
    "if set2.issubset(set1):\n",
    "    print(\"Yes, set2 is subset of set1\")\n",
    "else:\n",
    "    print(\"No, set2 is not a subset of set1\")"
   ]
  },
  {
   "cell_type": "markdown",
   "id": "fe95a971",
   "metadata": {},
   "source": [
    "Sol 49"
   ]
  },
  {
   "cell_type": "code",
   "execution_count": 21,
   "id": "a65a068c",
   "metadata": {},
   "outputs": [
    {
     "name": "stdout",
     "output_type": "stream",
     "text": [
      "Enter the value of n: 5\n",
      "Alternating set of 1s and 0s of length 5: {0, 1}\n"
     ]
    }
   ],
   "source": [
    "n = int(input(\"Enter the value of n: \"))\n",
    "alternating_set = {i % 2 for i in range(n)}\n",
    "\n",
    "print(f\"Alternating set of 1s and 0s of length {n}:\", alternating_set)\n",
    "\n",
    "# duplicates not allowed in set"
   ]
  },
  {
   "cell_type": "markdown",
   "id": "cb837b9f",
   "metadata": {},
   "source": [
    "Sol 50"
   ]
  },
  {
   "cell_type": "code",
   "execution_count": 22,
   "id": "081def3f",
   "metadata": {},
   "outputs": [
    {
     "name": "stdout",
     "output_type": "stream",
     "text": [
      "Merged set: {1, 2, 3, 4, 5, 6, 7}\n"
     ]
    }
   ],
   "source": [
    "set1 = {1, 2, 3}\n",
    "set2 = {3, 4, 5}\n",
    "set3 = {5, 6, 7}\n",
    "\n",
    "merged_set = set1.union(set2, set3)\n",
    "\n",
    "print(\"Merged set:\", merged_set)"
   ]
  },
  {
   "cell_type": "code",
   "execution_count": null,
   "id": "e98e2a51",
   "metadata": {},
   "outputs": [],
   "source": []
  }
 ],
 "metadata": {
  "kernelspec": {
   "display_name": "Python 3 (ipykernel)",
   "language": "python",
   "name": "python3"
  },
  "language_info": {
   "codemirror_mode": {
    "name": "ipython",
    "version": 3
   },
   "file_extension": ".py",
   "mimetype": "text/x-python",
   "name": "python",
   "nbconvert_exporter": "python",
   "pygments_lexer": "ipython3",
   "version": "3.9.7"
  }
 },
 "nbformat": 4,
 "nbformat_minor": 5
}

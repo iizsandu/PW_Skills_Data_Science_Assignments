{
 "cells": [
  {
   "cell_type": "markdown",
   "id": "7deea49e",
   "metadata": {},
   "source": [
    "## Arrays"
   ]
  },
  {
   "cell_type": "markdown",
   "id": "511d3bf2",
   "metadata": {},
   "source": [
    "Solution 1"
   ]
  },
  {
   "cell_type": "code",
   "execution_count": 5,
   "id": "32275068",
   "metadata": {},
   "outputs": [
    {
     "data": {
      "text/plain": [
       "False"
      ]
     },
     "execution_count": 5,
     "metadata": {},
     "output_type": "execute_result"
    }
   ],
   "source": [
    "def checkDuplicate(arr):\n",
    "    newarr = []\n",
    "    for i in arr:\n",
    "        if i not in newarr:\n",
    "            newarr.append(i)\n",
    "        \n",
    "    if arr == newarr:\n",
    "        return True\n",
    "    else:\n",
    "        return False\n",
    "\n",
    "arr = [1,2,4,2,5,9]\n",
    "checkDuplicate(arr)"
   ]
  },
  {
   "cell_type": "markdown",
   "id": "a87ecd99",
   "metadata": {},
   "source": [
    "Solution 2"
   ]
  },
  {
   "cell_type": "code",
   "execution_count": 9,
   "id": "54f79c78",
   "metadata": {},
   "outputs": [
    {
     "data": {
      "text/plain": [
       "[4, 5, 6, 7, 1, 2, 3]"
      ]
     },
     "execution_count": 9,
     "metadata": {},
     "output_type": "execute_result"
    }
   ],
   "source": [
    "def rotate(arr,k):\n",
    "    newarr = arr[k:]\n",
    "    for i in range(k):\n",
    "        newarr.append(arr[i])\n",
    "        \n",
    "    return newarr\n",
    "\n",
    "arr = [1,2,3,4,5,6,7]\n",
    "k = 3\n",
    "rotate(arr,k)"
   ]
  },
  {
   "cell_type": "markdown",
   "id": "6572bef7",
   "metadata": {},
   "source": [
    "Sol 3"
   ]
  },
  {
   "cell_type": "code",
   "execution_count": 21,
   "id": "83abc433",
   "metadata": {},
   "outputs": [
    {
     "data": {
      "text/plain": [
       "[12, 9, 7, 5, 4, 2]"
      ]
     },
     "execution_count": 21,
     "metadata": {},
     "output_type": "execute_result"
    }
   ],
   "source": [
    "def reverse(arr):\n",
    "    newarr = []\n",
    "    for i in range((len(arr)-1),-1,-1):\n",
    "        newarr.append(arr[i])\n",
    "        \n",
    "    return newarr\n",
    "\n",
    "arr = [2,4,5,7,9,12]\n",
    "reverse(arr)"
   ]
  },
  {
   "cell_type": "markdown",
   "id": "2909ff50",
   "metadata": {},
   "source": [
    "Sol 4"
   ]
  },
  {
   "cell_type": "code",
   "execution_count": 23,
   "id": "c0b804c2",
   "metadata": {},
   "outputs": [
    {
     "name": "stdout",
     "output_type": "stream",
     "text": [
      "20\n"
     ]
    }
   ],
   "source": [
    "arr = [10,5,20,8,15]\n",
    "print(max(arr))"
   ]
  },
  {
   "cell_type": "markdown",
   "id": "d300d194",
   "metadata": {},
   "source": [
    "Sol 5"
   ]
  },
  {
   "cell_type": "code",
   "execution_count": 25,
   "id": "4a925230",
   "metadata": {},
   "outputs": [
    {
     "name": "stdout",
     "output_type": "stream",
     "text": [
      "[1, 2, 3, 4, 5]\n"
     ]
    }
   ],
   "source": [
    "arr = [1, 1, 2, 2, 2, 3, 3, 4, 4, 4, 5, 5]\n",
    "arrset = set(arr)\n",
    "\n",
    "print(list(arrset))"
   ]
  },
  {
   "cell_type": "code",
   "execution_count": null,
   "id": "b0d2a66f",
   "metadata": {},
   "outputs": [],
   "source": []
  }
 ],
 "metadata": {
  "kernelspec": {
   "display_name": "Python 3 (ipykernel)",
   "language": "python",
   "name": "python3"
  },
  "language_info": {
   "codemirror_mode": {
    "name": "ipython",
    "version": 3
   },
   "file_extension": ".py",
   "mimetype": "text/x-python",
   "name": "python",
   "nbconvert_exporter": "python",
   "pygments_lexer": "ipython3",
   "version": "3.9.7"
  }
 },
 "nbformat": 4,
 "nbformat_minor": 5
}

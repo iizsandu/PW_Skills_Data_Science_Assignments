{
 "cells": [
  {
   "cell_type": "markdown",
   "id": "7b97de1e",
   "metadata": {},
   "source": [
    "Sol 1"
   ]
  },
  {
   "cell_type": "markdown",
   "id": "f014fd7e",
   "metadata": {},
   "source": [
    "A constructor is a special method which gets called automatically when an instance of class is created.\n",
    "\n",
    "Usage :-\n",
    "It initializes the attributes of the object or it performs any setup which is required before we use the object."
   ]
  },
  {
   "cell_type": "markdown",
   "id": "f7b4342d",
   "metadata": {},
   "source": [
    "Sol 2"
   ]
  },
  {
   "cell_type": "code",
   "execution_count": 1,
   "id": "eb4a1406",
   "metadata": {},
   "outputs": [],
   "source": [
    "# parameterized constructor\n",
    "\n",
    "class student:\n",
    "    \n",
    "    def __init__(self):  # no parameter\n",
    "        self.name = 'Sandip'\n",
    "        self.age = 23\n",
    "\n",
    "\n",
    "class student2:\n",
    "    \n",
    "    def __init__(self, name, age): # parameterized\n",
    "        self.name = name\n",
    "        self.age = age"
   ]
  },
  {
   "cell_type": "code",
   "execution_count": 2,
   "id": "c565bed0",
   "metadata": {},
   "outputs": [],
   "source": [
    "person1 = student()"
   ]
  },
  {
   "cell_type": "code",
   "execution_count": 3,
   "id": "006d257a",
   "metadata": {},
   "outputs": [],
   "source": [
    "person2 = student2('sandip', 23)"
   ]
  },
  {
   "cell_type": "markdown",
   "id": "b6736c93",
   "metadata": {},
   "source": [
    "Sol 3"
   ]
  },
  {
   "cell_type": "code",
   "execution_count": 5,
   "id": "409360a2",
   "metadata": {},
   "outputs": [],
   "source": [
    "# Defining a constructor in a pyhton class\n",
    "\n",
    "class student2:\n",
    "    \n",
    "    def __init__(self, name, age):\n",
    "        self.name = name\n",
    "        self.age = age"
   ]
  },
  {
   "cell_type": "markdown",
   "id": "27102b4c",
   "metadata": {},
   "source": [
    "Sol 4"
   ]
  },
  {
   "cell_type": "markdown",
   "id": "189a4470",
   "metadata": {},
   "source": [
    "The __init__ method is used to initialize a newly created object which is an instance of the class. It gets automatically called and necessary initialization takes place."
   ]
  },
  {
   "cell_type": "markdown",
   "id": "035405fe",
   "metadata": {},
   "source": [
    "Sol 5"
   ]
  },
  {
   "cell_type": "code",
   "execution_count": 6,
   "id": "593b5d5a",
   "metadata": {},
   "outputs": [],
   "source": [
    "class person:\n",
    "    \n",
    "    def __init__(self, name, age):\n",
    "        self.name = name\n",
    "        self.age = age"
   ]
  },
  {
   "cell_type": "code",
   "execution_count": 14,
   "id": "01dfe148",
   "metadata": {},
   "outputs": [],
   "source": [
    "meghna = person('Meghna', 23) # object creation"
   ]
  },
  {
   "cell_type": "code",
   "execution_count": 15,
   "id": "31ee8b22",
   "metadata": {},
   "outputs": [
    {
     "data": {
      "text/plain": [
       "('Meghna', 23)"
      ]
     },
     "execution_count": 15,
     "metadata": {},
     "output_type": "execute_result"
    }
   ],
   "source": [
    "meghna.name, meghna.age"
   ]
  },
  {
   "cell_type": "markdown",
   "id": "6f563de9",
   "metadata": {},
   "source": [
    "Sol 6"
   ]
  },
  {
   "cell_type": "code",
   "execution_count": 18,
   "id": "a1f4f84d",
   "metadata": {},
   "outputs": [
    {
     "name": "stdout",
     "output_type": "stream",
     "text": [
      "Constructor called with value: Hello\n",
      "Constructor called with value: World\n"
     ]
    }
   ],
   "source": [
    "class MyClass:\n",
    "    def __init__(self, value):\n",
    "        self.value = value\n",
    "        print(\"Constructor called with value:\", value)\n",
    "\n",
    "# Creating an instance of MyClass\n",
    "obj = MyClass(\"Hello\")\n",
    "\n",
    "# Explicitly calling the constructor again\n",
    "obj.__init__(\"World\")\n"
   ]
  },
  {
   "cell_type": "markdown",
   "id": "91eaedfd",
   "metadata": {},
   "source": [
    "Sol 7"
   ]
  },
  {
   "cell_type": "markdown",
   "id": "b59bb10d",
   "metadata": {},
   "source": [
    "In Python, the self parameter in constructors (and in methods in general) refers to the instance of the class itself. It's a convention used to reference the instance being operated on within the class. "
   ]
  },
  {
   "cell_type": "code",
   "execution_count": 19,
   "id": "0d5d029b",
   "metadata": {},
   "outputs": [
    {
     "name": "stdout",
     "output_type": "stream",
     "text": [
      "Car make: Toyota\n",
      "Car model: Corolla\n",
      "Car make: Tesla\n",
      "Car model: Model S\n"
     ]
    }
   ],
   "source": [
    "class Car:\n",
    "    def __init__(self, make, model):\n",
    "        self.make = make  # Initialize make attribute\n",
    "        self.model = model  # Initialize model attribute\n",
    "\n",
    "    def display_info(self):\n",
    "        print(\"Car make:\", self.make)\n",
    "        print(\"Car model:\", self.model)\n",
    "\n",
    "car1 = Car(\"Toyota\", \"Corolla\")\n",
    "car2 = Car(\"Tesla\", \"Model S\")\n",
    "\n",
    "car1.display_info()\n",
    "car2.display_info()\n"
   ]
  },
  {
   "cell_type": "markdown",
   "id": "19f23f4d",
   "metadata": {},
   "source": [
    "Sol 8"
   ]
  },
  {
   "cell_type": "markdown",
   "id": "478f808b",
   "metadata": {},
   "source": [
    "This default constructor takes no arguments other than self and doesn't perform any initialization. It's created automatically by Python when a class is defined without an explicit constructor."
   ]
  },
  {
   "cell_type": "markdown",
   "id": "f3d4dd6a",
   "metadata": {},
   "source": [
    "Sol 9"
   ]
  },
  {
   "cell_type": "code",
   "execution_count": 21,
   "id": "12f8a41b",
   "metadata": {},
   "outputs": [
    {
     "data": {
      "text/plain": [
       "150"
      ]
     },
     "execution_count": 21,
     "metadata": {},
     "output_type": "execute_result"
    }
   ],
   "source": [
    "class rectangle:\n",
    "    \n",
    "    def __init__(self, width, height):\n",
    "        self.width = width\n",
    "        self.height = height\n",
    "    \n",
    "    def area(self):\n",
    "        return self.width*self.height\n",
    "    \n",
    "obj = rectangle(10, 15)\n",
    "obj.area()"
   ]
  },
  {
   "cell_type": "markdown",
   "id": "c3b71aa0",
   "metadata": {},
   "source": [
    "Sol 10"
   ]
  },
  {
   "cell_type": "code",
   "execution_count": 6,
   "id": "da26d52f",
   "metadata": {},
   "outputs": [
    {
     "name": "stdout",
     "output_type": "stream",
     "text": [
      "Default Initialization\n"
     ]
    }
   ],
   "source": [
    "class myclass:\n",
    "    \n",
    "    def __init__(self, value = None):\n",
    "        if value == None:\n",
    "            self.default_init()\n",
    "        else:\n",
    "            self.custom_init(value)\n",
    "    \n",
    "    def default_init(self):\n",
    "        self.value = 0\n",
    "        print(\"Default Initialization\")\n",
    "    \n",
    "    def custom_init(self, value):\n",
    "        self.value = value\n",
    "        print(\"Custom Initialization\")\n",
    "        \n",
    "default = myclass()\n"
   ]
  },
  {
   "cell_type": "code",
   "execution_count": 7,
   "id": "5c67584e",
   "metadata": {},
   "outputs": [
    {
     "name": "stdout",
     "output_type": "stream",
     "text": [
      "Custom Initialization\n"
     ]
    }
   ],
   "source": [
    "custom = myclass(10)\n"
   ]
  },
  {
   "cell_type": "markdown",
   "id": "a95b3fbc",
   "metadata": {},
   "source": [
    "Sol 11"
   ]
  },
  {
   "cell_type": "markdown",
   "id": "48057e69",
   "metadata": {},
   "source": [
    "Method overloading is a concept in object-oriented programming where multiple methods can have the same name but differ in the number or types of parameters.\n",
    "Python does not directly supports it.\n",
    "\n",
    "We can simulate constructor overloading using default parameter values or alternative initialization methods"
   ]
  },
  {
   "cell_type": "markdown",
   "id": "74dbf7d4",
   "metadata": {},
   "source": [
    "Sol 12"
   ]
  },
  {
   "cell_type": "markdown",
   "id": "9b0cb229",
   "metadata": {},
   "source": [
    "In Python, the super() function is used to call methods and access attributes from the parent class"
   ]
  },
  {
   "cell_type": "code",
   "execution_count": 19,
   "id": "65ff84c3",
   "metadata": {},
   "outputs": [
    {
     "name": "stdout",
     "output_type": "stream",
     "text": [
      "Parent name :  Abhishek\n",
      "Child name - Abhishek. Age - 23\n"
     ]
    }
   ],
   "source": [
    "class parent:\n",
    "    def __init__(self, name):\n",
    "        self.name = name\n",
    "    \n",
    "    def display_info(self):\n",
    "        print(\"Parent name : \", self.name)\n",
    "        \n",
    "class child(parent):\n",
    "    def __init__(self, name, age):\n",
    "        super().__init__(name)  # Call the constructor of the parent class\n",
    "        self.age = age\n",
    "    \n",
    "    def display(self):\n",
    "        super().display_info()\n",
    "        print(f\"Child name - {self.name}. Age - {self.age}\")\n",
    "        \n",
    "\n",
    "parent1 = parent('Soham')\n",
    "child1 = child('Abhishek', 23)\n",
    "child1.display()"
   ]
  },
  {
   "cell_type": "markdown",
   "id": "90b5660e",
   "metadata": {},
   "source": [
    "Sol 13"
   ]
  },
  {
   "cell_type": "code",
   "execution_count": 20,
   "id": "75d0f3ae",
   "metadata": {},
   "outputs": [],
   "source": [
    "class book:\n",
    "    \n",
    "    def __init__(self, title, author, published_year):\n",
    "        self.title = title\n",
    "        self.author = author\n",
    "        self.published_year = published_year\n",
    "    \n",
    "    def display_info(self):\n",
    "        print(\"Book title : \",self.title)\n",
    "        print(\"Book author : \",self.author)\n",
    "        print(\"Book published_year : \",self.published_year)"
   ]
  },
  {
   "cell_type": "code",
   "execution_count": 21,
   "id": "aedabf34",
   "metadata": {},
   "outputs": [
    {
     "name": "stdout",
     "output_type": "stream",
     "text": [
      "Book title :  Harry Porter\n",
      "Book author :  sandip shaw\n",
      "Book published_year :  1970\n"
     ]
    }
   ],
   "source": [
    "book1 = book('Harry Porter', 'sandip shaw', 1970)\n",
    "book1.display_info()"
   ]
  },
  {
   "cell_type": "markdown",
   "id": "ad2a8810",
   "metadata": {},
   "source": [
    "Sol 14"
   ]
  },
  {
   "cell_type": "markdown",
   "id": "6386f956",
   "metadata": {},
   "source": [
    "Constructors : They are special methods which gets automatically called upon the creation of the object (instance of class).\n",
    "They are used to initialize the object with some default attributes or other values.\n",
    "\n",
    "Methods : They are basically functions defined within the class which is associated with it.These methods define the behavior of the objects created from the class, enabling you to organize and structure your code in an object-oriented manner."
   ]
  },
  {
   "cell_type": "markdown",
   "id": "0fd49e0a",
   "metadata": {},
   "source": [
    "Sol 15"
   ]
  },
  {
   "cell_type": "markdown",
   "id": "bf3629cd",
   "metadata": {},
   "source": [
    "The role of the self parameter is to bind the variables to the instance of the class which makes the variable accessible throughout the class."
   ]
  },
  {
   "cell_type": "markdown",
   "id": "b72e5707",
   "metadata": {},
   "source": [
    "Sol 16"
   ]
  },
  {
   "cell_type": "code",
   "execution_count": 4,
   "id": "429c632e",
   "metadata": {},
   "outputs": [
    {
     "name": "stdout",
     "output_type": "stream",
     "text": [
      "Hello\n",
      "Hello\n",
      "Hey\n"
     ]
    }
   ],
   "source": [
    "class Singleton:\n",
    "    _instance = None\n",
    "\n",
    "    def __new__(cls, *args, **kwargs):\n",
    "        if not cls._instance:\n",
    "            cls._instance = super().__new__(cls)\n",
    "        return cls._instance\n",
    "\n",
    "    def __init__(self, data):\n",
    "        if not hasattr(self, 'initialized'):\n",
    "            self.data = data\n",
    "            self.initialized = True\n",
    "\n",
    "\n",
    "singleton1 = Singleton(\"Hello\")\n",
    "singleton2 = Singleton(\"World\")\n",
    "\n",
    "print(singleton1.data)  # Output: Hello\n",
    "print(singleton2.data)  # Output: Hello\n",
    "\n",
    "singleton1.data = \"Hey\"\n",
    "print(singleton2.data)  # Output: Hey\n"
   ]
  },
  {
   "cell_type": "markdown",
   "id": "00840a51",
   "metadata": {},
   "source": [
    "Sol 17"
   ]
  },
  {
   "cell_type": "code",
   "execution_count": 2,
   "id": "40a5a627",
   "metadata": {},
   "outputs": [],
   "source": [
    "class student:\n",
    "    \n",
    "    def __init__(self,subjects):\n",
    "        self.subjects = subjects\n",
    "\n",
    "shivam = student(['a','b'])"
   ]
  },
  {
   "cell_type": "markdown",
   "id": "01908f8b",
   "metadata": {},
   "source": [
    "Sol 18"
   ]
  },
  {
   "cell_type": "markdown",
   "id": "e0003b67",
   "metadata": {},
   "source": [
    "The __del__ method in Python classes, also known as the destructor, is called when an object is about to be destroyed or \n",
    "deleted. Its primary purpose is to perform cleanup actions before the object is removed from memory.\n",
    "\n",
    "Contrary to constructors, which are invoked when an object is created, destructors are called when an object is being deallocated from memory."
   ]
  },
  {
   "cell_type": "markdown",
   "id": "fe5fabee",
   "metadata": {},
   "source": [
    "Sol 19"
   ]
  },
  {
   "cell_type": "code",
   "execution_count": 3,
   "id": "c3799e62",
   "metadata": {},
   "outputs": [
    {
     "name": "stdout",
     "output_type": "stream",
     "text": [
      "Name : John. Age : 23\n",
      "Employee ID : 1001\n"
     ]
    }
   ],
   "source": [
    "class person:\n",
    "    \n",
    "    def __init__(self, name, age):\n",
    "        self.name = name\n",
    "        self.age = age\n",
    "        \n",
    "    def display(self):\n",
    "        print(f\"Name : {self.name}. Age : {self.age}\")\n",
    "        \n",
    "class emp(person):\n",
    "    \n",
    "    def __init__(self, name, age, emp_id):\n",
    "        super().__init__(name, age)\n",
    "        self.emp_id = emp_id\n",
    "        \n",
    "    def display(self):\n",
    "        super().display()\n",
    "        print(f\"Employee ID : {self.emp_id}\")\n",
    "        \n",
    "emp =  emp('John', 23, 1001)\n",
    "\n",
    "emp.display()"
   ]
  },
  {
   "cell_type": "markdown",
   "id": "545e0ced",
   "metadata": {},
   "source": [
    "Sol 20"
   ]
  },
  {
   "cell_type": "code",
   "execution_count": 4,
   "id": "208a7301",
   "metadata": {},
   "outputs": [
    {
     "name": "stdout",
     "output_type": "stream",
     "text": [
      "Care maker : honda. Model : city\n"
     ]
    }
   ],
   "source": [
    "class car:\n",
    "    \n",
    "    def __init__(self, make, model):\n",
    "        self.make = make\n",
    "        self.model = model\n",
    "        \n",
    "    def display_info(self):\n",
    "        print(f\"Care maker : {self.make}. Model : {self.model}\")\n",
    "\n",
    "honda = car('honda', 'city')\n",
    "\n",
    "honda.display_info()"
   ]
  },
  {
   "cell_type": "markdown",
   "id": "9977c0b6",
   "metadata": {},
   "source": [
    "## Inheritance"
   ]
  },
  {
   "cell_type": "markdown",
   "id": "67b7baa5",
   "metadata": {},
   "source": [
    "Sol 1"
   ]
  },
  {
   "cell_type": "markdown",
   "id": "fd335963",
   "metadata": {},
   "source": [
    "Inheritance in Python allows a class (subclass) to inherit attributes and methods from another class (superclass). It enables code reuse, promotes modularity, and facilitates hierarchical relationships between classes."
   ]
  },
  {
   "cell_type": "markdown",
   "id": "fc796c06",
   "metadata": {},
   "source": [
    "Sol 2"
   ]
  },
  {
   "cell_type": "markdown",
   "id": "d78bba64",
   "metadata": {},
   "source": [
    "Single Iniheritance : In Single Inheritance, the subclass inherits properties from one parent class."
   ]
  },
  {
   "cell_type": "code",
   "execution_count": 5,
   "id": "3970b889",
   "metadata": {},
   "outputs": [],
   "source": [
    "# example\n",
    "\n",
    "class parent:\n",
    "    pass\n",
    "\n",
    "class child(parent):\n",
    "    pass"
   ]
  },
  {
   "cell_type": "markdown",
   "id": "8bea64f5",
   "metadata": {},
   "source": [
    "Multiple Inheritance : In multiple inheritance, the sub class inherits properties from multiple class"
   ]
  },
  {
   "cell_type": "code",
   "execution_count": 6,
   "id": "3187276a",
   "metadata": {},
   "outputs": [],
   "source": [
    "# example\n",
    "\n",
    "class parent1:\n",
    "    pass\n",
    "class parent2:\n",
    "    pass\n",
    "\n",
    "class child(parent1,parent2):\n",
    "    pass"
   ]
  },
  {
   "cell_type": "markdown",
   "id": "a764ef38",
   "metadata": {},
   "source": [
    "Sol 3"
   ]
  },
  {
   "cell_type": "code",
   "execution_count": 8,
   "id": "0ca78578",
   "metadata": {},
   "outputs": [
    {
     "name": "stdout",
     "output_type": "stream",
     "text": [
      "color : Red. Speed : 200 Km/hr. Brand : Toyota\n"
     ]
    }
   ],
   "source": [
    "class vehicle:\n",
    "    \n",
    "    def __init__(self, color, speed):\n",
    "        self.color = color\n",
    "        self.speed = speed\n",
    "        \n",
    "class car(vehicle):\n",
    "    \n",
    "    def __init__(self, color, speed, brand):\n",
    "        super().__init__(color, speed)\n",
    "        self.brand = brand\n",
    "    \n",
    "    def display(self):\n",
    "        print(f\"color : {self.color}. Speed : {self.speed}. Brand : {self.brand}\")\n",
    "        \n",
    "car1 = car('Red', '200 Km/hr', 'Toyota')\n",
    "car1.display()"
   ]
  },
  {
   "cell_type": "markdown",
   "id": "dd7b9935",
   "metadata": {},
   "source": [
    "Sol 4"
   ]
  },
  {
   "cell_type": "markdown",
   "id": "d5c3e65c",
   "metadata": {},
   "source": [
    "Method Overloading : In Inheritance, when a method in the subclass has same name as the method in the parent class, it is called method overloading."
   ]
  },
  {
   "cell_type": "code",
   "execution_count": 9,
   "id": "d41bd1a7",
   "metadata": {},
   "outputs": [
    {
     "name": "stdout",
     "output_type": "stream",
     "text": [
      "Dog Barks\n"
     ]
    }
   ],
   "source": [
    "class animal:\n",
    "    \n",
    "    def sound(self):\n",
    "        print(\"This will print animal's sound\")\n",
    "\n",
    "class dog(animal):\n",
    "    \n",
    "    def sound(self):\n",
    "        print(\"Dog Barks\")\n",
    "        \n",
    "animal1 = dog()\n",
    "animal1.sound()"
   ]
  },
  {
   "cell_type": "markdown",
   "id": "a9fc2068",
   "metadata": {},
   "source": [
    "Sol 5"
   ]
  },
  {
   "cell_type": "markdown",
   "id": "544732c9",
   "metadata": {},
   "source": [
    "To access the methods of the parent class, we use the super() command in the child class"
   ]
  },
  {
   "cell_type": "code",
   "execution_count": 10,
   "id": "43e7407a",
   "metadata": {},
   "outputs": [],
   "source": [
    "class parent:\n",
    "    \n",
    "    def __init__(self, name):\n",
    "        self.name = name\n",
    "\n",
    "class child(parent):\n",
    "    \n",
    "    def __init__(self, name, age):\n",
    "        super().__init__(name)\n",
    "        self.age = age\n",
    "    \n",
    "    def display(self):\n",
    "        print(f\"Name : {self.name}. Age : {self.age}\")"
   ]
  },
  {
   "cell_type": "code",
   "execution_count": 11,
   "id": "097faab6",
   "metadata": {},
   "outputs": [
    {
     "name": "stdout",
     "output_type": "stream",
     "text": [
      "Name : Saurav. Age : 16\n"
     ]
    }
   ],
   "source": [
    "yash = child('Saurav', 16)\n",
    "yash.display()"
   ]
  },
  {
   "cell_type": "markdown",
   "id": "25a614ed",
   "metadata": {},
   "source": [
    "Sol 6"
   ]
  },
  {
   "cell_type": "markdown",
   "id": "5d2b6cbf",
   "metadata": {},
   "source": [
    "Super() funtion is used to get access or call the methods in the parent class."
   ]
  },
  {
   "cell_type": "code",
   "execution_count": 12,
   "id": "f63144ab",
   "metadata": {},
   "outputs": [],
   "source": [
    "class parent:\n",
    "    \n",
    "    def __init__(self, name):\n",
    "        self.name = name\n",
    "\n",
    "class child(parent):\n",
    "    \n",
    "    def __init__(self, name, age):\n",
    "        super().__init__(name)\n",
    "        self.age = age\n",
    "    \n",
    "    def display(self):\n",
    "        print(f\"Name : {self.name}. Age : {self.age}\")"
   ]
  },
  {
   "cell_type": "markdown",
   "id": "00a76d02",
   "metadata": {},
   "source": [
    "Sol 7"
   ]
  },
  {
   "cell_type": "code",
   "execution_count": 13,
   "id": "4024b4ea",
   "metadata": {},
   "outputs": [],
   "source": [
    "class animal:\n",
    "    \n",
    "    def speak(self):\n",
    "        print(\"This is speak method from animal class\")\n",
    "    \n",
    "class cat(animal):\n",
    "    \n",
    "    def speak(self):\n",
    "        print(\"Meow\")\n",
    "        \n",
    "class dog(animal):\n",
    "    \n",
    "    def speak(self):\n",
    "        print(\"Woof\")"
   ]
  },
  {
   "cell_type": "code",
   "execution_count": 14,
   "id": "262b27bb",
   "metadata": {},
   "outputs": [],
   "source": [
    "cat1 = cat()\n",
    "dog1 = dog()"
   ]
  },
  {
   "cell_type": "code",
   "execution_count": 15,
   "id": "7547303d",
   "metadata": {},
   "outputs": [
    {
     "name": "stdout",
     "output_type": "stream",
     "text": [
      "Meow\n",
      "Woof\n"
     ]
    },
    {
     "data": {
      "text/plain": [
       "(None, None)"
      ]
     },
     "execution_count": 15,
     "metadata": {},
     "output_type": "execute_result"
    }
   ],
   "source": [
    "cat1.speak(), dog1.speak()"
   ]
  },
  {
   "cell_type": "markdown",
   "id": "2a89e55e",
   "metadata": {},
   "source": [
    "SOl 8"
   ]
  },
  {
   "cell_type": "markdown",
   "id": "db24709d",
   "metadata": {},
   "source": [
    "The isinstance() function is used to determine whether a class is inheriting from a different class."
   ]
  },
  {
   "cell_type": "code",
   "execution_count": 17,
   "id": "09dc327a",
   "metadata": {},
   "outputs": [
    {
     "name": "stdout",
     "output_type": "stream",
     "text": [
      "True\n"
     ]
    }
   ],
   "source": [
    "class a:\n",
    "    pass\n",
    "\n",
    "class b(a):\n",
    "    pass\n",
    "\n",
    "obj_b = b()\n",
    "print(isinstance(obj_b,a))"
   ]
  },
  {
   "cell_type": "markdown",
   "id": "a175b851",
   "metadata": {},
   "source": [
    "Sol 9"
   ]
  },
  {
   "cell_type": "markdown",
   "id": "92151429",
   "metadata": {},
   "source": [
    "The issubclass() function is used to check if a class is a subclass of a particular class"
   ]
  },
  {
   "cell_type": "code",
   "execution_count": 18,
   "id": "bbe62040",
   "metadata": {},
   "outputs": [
    {
     "name": "stdout",
     "output_type": "stream",
     "text": [
      "True\n"
     ]
    }
   ],
   "source": [
    "class a:\n",
    "    pass\n",
    "\n",
    "class b(a):\n",
    "    pass\n",
    "\n",
    "print(issubclass(b,a))"
   ]
  },
  {
   "cell_type": "markdown",
   "id": "4b8067a8",
   "metadata": {},
   "source": [
    "Sol 10"
   ]
  },
  {
   "cell_type": "markdown",
   "id": "dd9f3931",
   "metadata": {},
   "source": [
    "Constructor inheritance is the process by which a subclass inherits the constructor of the parent class."
   ]
  },
  {
   "cell_type": "code",
   "execution_count": 19,
   "id": "e1d2ed8b",
   "metadata": {},
   "outputs": [],
   "source": [
    "class parent:\n",
    "    \n",
    "    def __init__(self, name):\n",
    "        self.name = name\n",
    "\n",
    "class child(parent):\n",
    "    \n",
    "    def __init__(self, name, age):\n",
    "        super().__init__(name)\n",
    "        self.age = age\n",
    "    \n",
    "    def display(self):\n",
    "        print(f\"Name : {self.name}. Age : {self.age}\")"
   ]
  },
  {
   "cell_type": "code",
   "execution_count": 20,
   "id": "6eab43c1",
   "metadata": {},
   "outputs": [
    {
     "name": "stdout",
     "output_type": "stream",
     "text": [
      "Name : Aman. Age : 23\n"
     ]
    }
   ],
   "source": [
    "aman = child('Aman', 23)\n",
    "aman.display()"
   ]
  },
  {
   "cell_type": "markdown",
   "id": "6b0fb9b9",
   "metadata": {},
   "source": [
    "Sol 11"
   ]
  },
  {
   "cell_type": "code",
   "execution_count": 32,
   "id": "6efabd43",
   "metadata": {},
   "outputs": [
    {
     "data": {
      "text/plain": [
       "(50, 78.57142857142857)"
      ]
     },
     "execution_count": 32,
     "metadata": {},
     "output_type": "execute_result"
    }
   ],
   "source": [
    "class shape:\n",
    "    \n",
    "    def area(self):\n",
    "        raise NotImplementedError(\"Subclasses must implement the area() method\")\n",
    "\n",
    "class circle(shape):\n",
    "    \n",
    "    def __init__(self, radius):\n",
    "        self.radius = radius\n",
    "    \n",
    "    def area(self):\n",
    "        return (22/7)*(self.radius**2)\n",
    "    \n",
    "class rectangle(shape):\n",
    "    \n",
    "    def __init__(self, length, breadth):\n",
    "        self.length = length\n",
    "        self.breadth = breadth\n",
    "        \n",
    "    def area(self):\n",
    "        return self.length*self.breadth\n",
    "    \n",
    "rec = rectangle(10,5)\n",
    "cir = circle(5)\n",
    "\n",
    "rec.area(), cir.area()"
   ]
  },
  {
   "cell_type": "markdown",
   "id": "98c65d99",
   "metadata": {},
   "source": [
    "Sol 12"
   ]
  },
  {
   "cell_type": "markdown",
   "id": "968c559b",
   "metadata": {},
   "source": [
    "An abstract method is a method declared in a parent class which has no implementation in the class itself but it must be implemented by its subclasses."
   ]
  },
  {
   "cell_type": "code",
   "execution_count": 37,
   "id": "358ed8c9",
   "metadata": {},
   "outputs": [
    {
     "name": "stdout",
     "output_type": "stream",
     "text": [
      "Area of circle :  78.57142857142857\n",
      "Area of rectangle :  50\n"
     ]
    }
   ],
   "source": [
    "from abc import ABC, abstractmethod\n",
    "\n",
    "class shape(ABC):\n",
    "    \n",
    "    @abstractmethod\n",
    "    def area(self):\n",
    "        pass\n",
    "    \n",
    "class circle(shape):\n",
    "    \n",
    "    def __init__(self, radius):\n",
    "        self.radius = radius\n",
    "        \n",
    "    def area(self):\n",
    "        return (22/7) * (self.radius**2)\n",
    "    \n",
    "class rectangle(shape):\n",
    "    \n",
    "    def __init__(self, width, height):\n",
    "        self.width = width\n",
    "        self.height = height\n",
    "        \n",
    "    def area(self):\n",
    "        return self.width*self.height\n",
    "    \n",
    "cir = circle(5)\n",
    "rec = rectangle(10,5)\n",
    "\n",
    "print(\"Area of circle : \",cir.area())\n",
    "print(\"Area of rectangle : \",rec.area())"
   ]
  },
  {
   "cell_type": "markdown",
   "id": "30803f2f",
   "metadata": {},
   "source": [
    "Sol 13"
   ]
  },
  {
   "cell_type": "code",
   "execution_count": 42,
   "id": "f74689cb",
   "metadata": {},
   "outputs": [
    {
     "name": "stdout",
     "output_type": "stream",
     "text": [
      "42\n",
      "42\n"
     ]
    }
   ],
   "source": [
    "class Parent:\n",
    "    def __init__(self):\n",
    "        self._protected_attribute = 42  # Protected attribute\n",
    "        self.__private_attribute = \"secret\"  # Private attribute\n",
    "\n",
    "    def get_protected_attribute(self):\n",
    "        return self._protected_attribute\n",
    "\n",
    "    def final_method(self):\n",
    "        pass\n",
    "\n",
    "    def _internal_method(self):\n",
    "        pass\n",
    "\n",
    "    def public_method(self):\n",
    "        pass\n",
    "\n",
    "class Child(Parent):\n",
    "    def __init__(self):\n",
    "        super().__init__()\n",
    "\n",
    "    def public_method(self):\n",
    "        pass\n",
    "\n",
    "parent = Parent()\n",
    "child = Child()\n",
    "\n",
    "print(parent.get_protected_attribute())  # Output: 42\n",
    "print(child.get_protected_attribute())   # Output: 42\n",
    "\n",
    "parent.final_method()  \n",
    "child.public_method()\n",
    "\n"
   ]
  },
  {
   "cell_type": "markdown",
   "id": "7da3bcff",
   "metadata": {},
   "source": [
    "Sol 14"
   ]
  },
  {
   "cell_type": "code",
   "execution_count": 43,
   "id": "385370b2",
   "metadata": {},
   "outputs": [],
   "source": [
    "class employee:\n",
    "    \n",
    "    def __init__(self, name, salary):\n",
    "        self.name = name\n",
    "        self.salary = salary\n",
    "        \n",
    "class manager(employee):\n",
    "    \n",
    "    def __init__(self, name, salary, department):\n",
    "        super().__init__(name, salary)\n",
    "        self.dept = department\n",
    "    \n",
    "    def display(self):\n",
    "        print(f\"name : {self.name}. salary : {self.salary}. Department : {self.dept}\")"
   ]
  },
  {
   "cell_type": "code",
   "execution_count": 45,
   "id": "ac137787",
   "metadata": {},
   "outputs": [
    {
     "name": "stdout",
     "output_type": "stream",
     "text": [
      "name : Akash. salary : 1000. Department : Data Sc\n"
     ]
    }
   ],
   "source": [
    "akash = manager('Akash', 1000, 'Data Sc')\n",
    "akash.display()"
   ]
  },
  {
   "cell_type": "markdown",
   "id": "c0e2151d",
   "metadata": {},
   "source": [
    "Sol 15"
   ]
  },
  {
   "cell_type": "markdown",
   "id": "bd2034da",
   "metadata": {},
   "source": [
    "When a method in subclass implements something differently than what has already been done in the parent class with the same name."
   ]
  },
  {
   "cell_type": "code",
   "execution_count": 47,
   "id": "8ed0fde4",
   "metadata": {},
   "outputs": [
    {
     "name": "stdout",
     "output_type": "stream",
     "text": [
      "woof\n"
     ]
    }
   ],
   "source": [
    "# Method Overriding\n",
    "\n",
    "class animal:\n",
    "    \n",
    "    def speak(self):\n",
    "        print(\"This will print animal's sound\")\n",
    "        \n",
    "class dog(animal):\n",
    "    \n",
    "    def speak(self):\n",
    "        print(\"woof\")\n",
    "        \n",
    "\n",
    "dog1 = dog()\n",
    "dog1.speak()"
   ]
  },
  {
   "cell_type": "code",
   "execution_count": null,
   "id": "13090633",
   "metadata": {},
   "outputs": [],
   "source": [
    "When multiple methods with the same name but different funtionality are present in a class or a subclass."
   ]
  },
  {
   "cell_type": "code",
   "execution_count": 54,
   "id": "62b1715f",
   "metadata": {},
   "outputs": [],
   "source": [
    "# method overloading\n",
    "\n",
    "class calculator:\n",
    "    \n",
    "    def sum1(self, a,b,c):\n",
    "        return a+b+c\n",
    "    \n",
    "    def sum1(self,a,b):\n",
    "        return a+b"
   ]
  },
  {
   "cell_type": "code",
   "execution_count": 56,
   "id": "fd0c4230",
   "metadata": {},
   "outputs": [
    {
     "data": {
      "text/plain": [
       "12"
      ]
     },
     "execution_count": 56,
     "metadata": {},
     "output_type": "execute_result"
    }
   ],
   "source": [
    "obj = calculator()\n",
    "obj.sum1(10,2)"
   ]
  },
  {
   "cell_type": "markdown",
   "id": "7aa55a2f",
   "metadata": {},
   "source": [
    "Sol 16"
   ]
  },
  {
   "cell_type": "code",
   "execution_count": 57,
   "id": "b8714757",
   "metadata": {},
   "outputs": [
    {
     "name": "stdout",
     "output_type": "stream",
     "text": [
      "name : Akash. salary : 1000. Department : Data Sc\n"
     ]
    }
   ],
   "source": [
    "'''\n",
    "The __init__() method is nothing but a constructor which is used to initialize attributes within the class.\n",
    "Sub classes can also inherit this method.\n",
    "'''\n",
    "\n",
    "class employee:\n",
    "    \n",
    "    def __init__(self, name, salary):\n",
    "        self.name = name\n",
    "        self.salary = salary\n",
    "        \n",
    "class manager(employee):\n",
    "    \n",
    "    def __init__(self, name, salary, department):\n",
    "        super().__init__(name, salary)\n",
    "        self.dept = department\n",
    "    \n",
    "    def display(self):\n",
    "        print(f\"name : {self.name}. salary : {self.salary}. Department : {self.dept}\")\n",
    "\n",
    "akash = manager('Akash', 1000, 'Data Sc')\n",
    "akash.display()"
   ]
  },
  {
   "cell_type": "markdown",
   "id": "9164b916",
   "metadata": {},
   "source": [
    "Sol 17"
   ]
  },
  {
   "cell_type": "code",
   "execution_count": 63,
   "id": "6bb9844d",
   "metadata": {},
   "outputs": [
    {
     "name": "stdout",
     "output_type": "stream",
     "text": [
      "Bird class :  This is fly method in class bird\n",
      "Eagle class :  This is fly method in class eagle\n",
      "Sparrow class :  This is fly method in class sparrow\n"
     ]
    }
   ],
   "source": [
    "class bird:\n",
    "    \n",
    "    def fly(self):\n",
    "        return f\"This is fly method in class bird\"\n",
    "\n",
    "class eagle(bird):\n",
    "    \n",
    "    def fly(self):\n",
    "        return f\"This is fly method in class eagle\"\n",
    "    \n",
    "class sparrow(bird):\n",
    "    \n",
    "    def fly(self):\n",
    "        return f\"This is fly method in class sparrow\"\n",
    "    \n",
    "    \n",
    "bird1 = bird()\n",
    "eagle1 = eagle()\n",
    "sparrow1 = sparrow()\n",
    "\n",
    "print(\"Bird class : \",bird1.fly())\n",
    "print(\"Eagle class : \",eagle1.fly())\n",
    "print(\"Sparrow class : \",sparrow1.fly())"
   ]
  },
  {
   "cell_type": "markdown",
   "id": "7fd7b790",
   "metadata": {},
   "source": [
    "Sol 18"
   ]
  },
  {
   "cell_type": "code",
   "execution_count": 67,
   "id": "b063a794",
   "metadata": {},
   "outputs": [
    {
     "name": "stdout",
     "output_type": "stream",
     "text": [
      "Hello from B\n"
     ]
    }
   ],
   "source": [
    "class A:\n",
    "    \n",
    "    def hello(self):\n",
    "        print(\"Hello from A\")\n",
    "        \n",
    "class B(A):\n",
    "#     pass\n",
    "    \n",
    "    def hello(self): \n",
    "        print(\"Hello from B\")\n",
    "\n",
    "class C(A):\n",
    "    def hello(self):\n",
    "        print(\"Hello from C\")\n",
    "        \n",
    "class D(B,C):\n",
    "    pass\n",
    "\n",
    "obj = D()\n",
    "obj.hello()"
   ]
  },
  {
   "cell_type": "markdown",
   "id": "f4145862",
   "metadata": {},
   "source": [
    "What python does is it will give the priority to the first parent class which is 'B' in this case. (D is inheriting from both B and C)"
   ]
  },
  {
   "cell_type": "markdown",
   "id": "46b4676a",
   "metadata": {},
   "source": [
    "Sol 19"
   ]
  },
  {
   "cell_type": "code",
   "execution_count": 68,
   "id": "e1cbd5cf",
   "metadata": {},
   "outputs": [
    {
     "name": "stdout",
     "output_type": "stream",
     "text": [
      "Drawing a circle\n"
     ]
    }
   ],
   "source": [
    "# is-a relationship\n",
    "\n",
    "class shape:\n",
    "    \n",
    "    def draw(self):\n",
    "        pass\n",
    "    \n",
    "class circle:\n",
    "    \n",
    "    def draw(self):\n",
    "        print(\"Drawing a circle\")\n",
    "        \n",
    "cir = circle()\n",
    "cir.draw()\n"
   ]
  },
  {
   "cell_type": "code",
   "execution_count": 71,
   "id": "77035e93",
   "metadata": {},
   "outputs": [
    {
     "name": "stdout",
     "output_type": "stream",
     "text": [
      "This is shape method\n"
     ]
    }
   ],
   "source": [
    "# has-a relationship\n",
    "\n",
    "class shape:\n",
    "    \n",
    "    def disp(self):\n",
    "        print(\"This is shape method\")\n",
    "        \n",
    "class check:\n",
    "    def __init__(self):\n",
    "        self.shape = shape()\n",
    "        \n",
    "    def display(self):\n",
    "        self.shape.disp()\n",
    "        \n",
    "check1 = check()\n",
    "check1.display()"
   ]
  },
  {
   "cell_type": "markdown",
   "id": "8bb02710",
   "metadata": {},
   "source": [
    "Sol 20"
   ]
  },
  {
   "cell_type": "code",
   "execution_count": 86,
   "id": "c88243f9",
   "metadata": {},
   "outputs": [],
   "source": [
    "from abc import ABC, abstractmethod\n",
    "\n",
    "class person:\n",
    "    \n",
    "    @abstractmethod\n",
    "    def name(self):\n",
    "        pass\n",
    "    @abstractmethod\n",
    "    def age(self):\n",
    "        pass\n",
    "    @abstractmethod\n",
    "    def dept(self):\n",
    "        pass\n",
    "    \n",
    "class prof(person):\n",
    "    \n",
    "    def __init__(self, name, age, dept):\n",
    "        self.prof_name = name\n",
    "        self.prof_age = age\n",
    "        self.prof_dept = dept\n",
    "        \n",
    "    def name(self):\n",
    "        print (f\"Name is {self.prof_name}\")\n",
    "    def age(self):\n",
    "        print (f\"Age is {self.prof_age}\")\n",
    "    def dept(self):\n",
    "        print (f\"Department is {self.prof_dept}\")\n",
    "        \n",
    "        \n",
    "class student(person):\n",
    "    \n",
    "    def __init__(self, name, age, dept):\n",
    "        self.stu_name = name\n",
    "        self.stu_age = age\n",
    "        self.stu_dept = dept\n",
    "        \n",
    "    def name(self):\n",
    "        print (f\"Name is {self.stu_name}\")\n",
    "    def age(self):\n",
    "        print (f\"Age is {self.stu_age}\")\n",
    "    def dept(self):\n",
    "        print (f\"Department is {self.stu_dept}\")"
   ]
  },
  {
   "cell_type": "code",
   "execution_count": null,
   "id": "68c6ea6c",
   "metadata": {},
   "outputs": [],
   "source": []
  },
  {
   "cell_type": "code",
   "execution_count": 88,
   "id": "95a7adce",
   "metadata": {},
   "outputs": [
    {
     "name": "stdout",
     "output_type": "stream",
     "text": [
      "Name is John Doe\n",
      "Age is 40\n",
      "Department is Computer Science\n",
      "Name is Alice Smith\n",
      "Age is 20\n",
      "Department is Mathematics\n"
     ]
    }
   ],
   "source": [
    "prof1 = prof(\"John Doe\", 40, \"Computer Science\")\n",
    "prof1.name()\n",
    "prof1.age()\n",
    "prof1.dept()\n",
    "\n",
    "student1 = student(\"Alice Smith\", 20, \"Mathematics\")\n",
    "student1.name()\n",
    "student1.age()\n",
    "student1.dept()"
   ]
  },
  {
   "cell_type": "markdown",
   "id": "8ba5ad3f",
   "metadata": {},
   "source": [
    "## Encapsulation"
   ]
  },
  {
   "cell_type": "markdown",
   "id": "20de8112",
   "metadata": {},
   "source": [
    "Sol 1"
   ]
  },
  {
   "cell_type": "markdown",
   "id": "c2ac5b08",
   "metadata": {},
   "source": [
    "Encapsulation is one of the fundamental principles of object-oriented programming (OOP) and refers to the bundling of data (attributes) and methods (functions) that operate on the data into a single unit, called a class."
   ]
  },
  {
   "cell_type": "markdown",
   "id": "b73ea9a2",
   "metadata": {},
   "source": [
    "Sol 2"
   ]
  },
  {
   "cell_type": "markdown",
   "id": "ba1c94a8",
   "metadata": {},
   "source": [
    "Data Hiding: Restricting access to object data to prevent unintended modifications and ensure consistent state.\n",
    "\n",
    "Access Control: Managing how object data and methods are accessed, typically through public interfaces while keeping internal details hidden."
   ]
  },
  {
   "cell_type": "markdown",
   "id": "b455e613",
   "metadata": {},
   "source": [
    "Sol 3"
   ]
  },
  {
   "cell_type": "code",
   "execution_count": 90,
   "id": "7f393727",
   "metadata": {},
   "outputs": [
    {
     "name": "stdout",
     "output_type": "stream",
     "text": [
      "Make: Toyota\n",
      "Model: Camry\n",
      "Year: 2022\n",
      "\n",
      "Updated Make: Honda\n",
      "Updated Model: Accord\n",
      "Updated Year: 2023\n"
     ]
    }
   ],
   "source": [
    "class Car:\n",
    "    def __init__(self, make, model, year):\n",
    "        self.__make = make   \n",
    "        self.__model = model \n",
    "        self.__year = year  \n",
    "\n",
    "    def get_make(self):\n",
    "        return self.__make\n",
    "\n",
    "    def get_model(self):\n",
    "        return self.__model\n",
    "\n",
    "    def get_year(self):\n",
    "        return self.__year\n",
    "\n",
    "    def set_make(self, make):\n",
    "        self.__make = make\n",
    "\n",
    "    def set_model(self, model):\n",
    "        self.__model = model\n",
    "\n",
    "    def set_year(self, year):\n",
    "        self.__year = year\n",
    "\n",
    "my_car = Car(\"Toyota\", \"Camry\", 2022)\n",
    "\n",
    "# Accessing attributes using getter methods\n",
    "print(\"Make:\", my_car.get_make())\n",
    "print(\"Model:\", my_car.get_model())\n",
    "print(\"Year:\", my_car.get_year())\n",
    "\n",
    "my_car.set_make(\"Honda\")\n",
    "my_car.set_model(\"Accord\")\n",
    "my_car.set_year(2023)\n",
    "\n",
    "# Accessing attributes again to see the changes\n",
    "print(\"\\nUpdated Make:\", my_car.get_make())\n",
    "print(\"Updated Model:\", my_car.get_model())\n",
    "print(\"Updated Year:\", my_car.get_year())\n"
   ]
  },
  {
   "cell_type": "markdown",
   "id": "71cfe04e",
   "metadata": {},
   "source": [
    "Sol 4"
   ]
  },
  {
   "cell_type": "markdown",
   "id": "c5814994",
   "metadata": {},
   "source": [
    "Public: Attributes and methods that are accessible from anywhere, both within and outside the class. They don't have any leading underscores in their names. Example: public_var, public_method().\n",
    "\n",
    "Private: Attributes and methods that are only accessible from within the class itself. They have a double underscore prefix (__) in their names, but can still be accessed using name mangling (_ClassName__private_var). Example: __private_var, __private_method().\n",
    "\n",
    "Protected: Attributes and methods that are accessible from within the class itself and its subclasses. They have a single underscore prefix (_) in their names. However, access control is not enforced by the language, and they can still be accessed from outside the class. Example: _protected_var, _protected_method()."
   ]
  },
  {
   "cell_type": "markdown",
   "id": "8eb790b6",
   "metadata": {},
   "source": [
    "Sol 5"
   ]
  },
  {
   "cell_type": "code",
   "execution_count": 93,
   "id": "d366739c",
   "metadata": {},
   "outputs": [
    {
     "name": "stdout",
     "output_type": "stream",
     "text": [
      "Before :  sandip\n",
      "After :  Sandip Shaw\n"
     ]
    }
   ],
   "source": [
    "class person:\n",
    "    \n",
    "    def __init__(self, name):\n",
    "        self.__name = name\n",
    "        \n",
    "    def get_name(self):\n",
    "        return self.__name\n",
    "    \n",
    "    def set_name(self, name):\n",
    "        self.__name = name\n",
    "        \n",
    "sandip = person('sandip')\n",
    "print(\"Before : \",sandip.get_name())\n",
    "sandip.set_name('Sandip Shaw')\n",
    "print(\"After : \",sandip.get_name())"
   ]
  },
  {
   "cell_type": "markdown",
   "id": "177bdecf",
   "metadata": {},
   "source": [
    "Sol 6"
   ]
  },
  {
   "cell_type": "markdown",
   "id": "30d2b687",
   "metadata": {},
   "source": [
    "Getter and setter methods provide controlled access to the objects attribute, that is the instance of the class.\n",
    "It helps to modify the attributes in a controlled manner."
   ]
  },
  {
   "cell_type": "code",
   "execution_count": 95,
   "id": "67e9c679",
   "metadata": {},
   "outputs": [
    {
     "name": "stdout",
     "output_type": "stream",
     "text": [
      "Before :  sandip\n",
      "After :  Sandip Shaw\n"
     ]
    }
   ],
   "source": [
    "class person:\n",
    "    \n",
    "    def __init__(self, name):\n",
    "        self.__name = name\n",
    "        \n",
    "    def get_name(self):\n",
    "        return self.__name\n",
    "    \n",
    "    def set_name(self, name):\n",
    "        self.__name = name\n",
    "        \n",
    "sandip = person('sandip')\n",
    "print(\"Before : \",sandip.get_name())\n",
    "sandip.set_name('Sandip Shaw')\n",
    "print(\"After : \",sandip.get_name())"
   ]
  },
  {
   "cell_type": "markdown",
   "id": "3d6def90",
   "metadata": {},
   "source": [
    "Sol 7"
   ]
  },
  {
   "cell_type": "code",
   "execution_count": 97,
   "id": "4e317a82",
   "metadata": {},
   "outputs": [
    {
     "name": "stdout",
     "output_type": "stream",
     "text": [
      "{'_MyClass__private_var': 10}\n"
     ]
    }
   ],
   "source": [
    "'''Name mangling in python is a mechanism used to modify the attribute name within the class which \n",
    "   begins with two under scores \"__\" '''\n",
    "\n",
    "\n",
    "class MyClass:\n",
    "    def __init__(self):\n",
    "        self.__private_var = 10  # Private attribute\n",
    "\n",
    "    def __private_method(self):\n",
    "        print(\"This is a private method\")\n",
    "\n",
    "obj = MyClass()\n",
    "print(obj.__dict__)  # Output: {'_MyClass__private_var': 10}\n"
   ]
  },
  {
   "cell_type": "markdown",
   "id": "1e09c647",
   "metadata": {},
   "source": [
    "Sol 8"
   ]
  },
  {
   "cell_type": "code",
   "execution_count": 98,
   "id": "ab838c0e",
   "metadata": {},
   "outputs": [
    {
     "name": "stdout",
     "output_type": "stream",
     "text": [
      "New updated balance =  15000\n",
      "Money withdrawn successfully\n",
      "New updated balance =  4000\n"
     ]
    }
   ],
   "source": [
    "class bankaccount:\n",
    "    \n",
    "    def __init__(self, account_number, balance):\n",
    "        self.__account_number = account_number\n",
    "        self.__balance = balance\n",
    "\n",
    "    def deposit(self, money):\n",
    "        self.__balance += money\n",
    "        print(\"New updated balance = \", self.__balance)\n",
    "    \n",
    "    def withdraw(self, money):\n",
    "        if money>self.__balance:\n",
    "            print(\"Insufficient Balance\")\n",
    "        else:\n",
    "            self.__balance -= money\n",
    "            print(\"Money withdrawn successfully\")\n",
    "            print(\"New updated balance = \", self.__balance)\n",
    "            \n",
    "acc1 = bankaccount(1001, 10000)\n",
    "acc1.deposit(5000)\n",
    "acc1.withdraw(11000)"
   ]
  },
  {
   "cell_type": "markdown",
   "id": "66d3cf45",
   "metadata": {},
   "source": [
    "Sol 9"
   ]
  },
  {
   "cell_type": "markdown",
   "id": "f0f96287",
   "metadata": {},
   "source": [
    "Code Maintainability: Encapsulation promotes modularity, separation of concerns, and information hiding, making code easier to understand, maintain, and extend. It helps minimize dependencies, reduce code duplication, and improve overall code quality.\n",
    "\n",
    "Security: Encapsulation enhances security by controlling access to sensitive data and functionality. By encapsulating data and methods within classes and enforcing access control through access modifiers, encapsulation helps prevent unauthorized access and reduces the risk of security vulnerabilities."
   ]
  },
  {
   "cell_type": "markdown",
   "id": "9579adf7",
   "metadata": {},
   "source": [
    "Sol 10"
   ]
  },
  {
   "cell_type": "code",
   "execution_count": 103,
   "id": "ba0f2eef",
   "metadata": {},
   "outputs": [
    {
     "data": {
      "text/plain": [
       "10"
      ]
     },
     "execution_count": 103,
     "metadata": {},
     "output_type": "execute_result"
    }
   ],
   "source": [
    "class MyClass:\n",
    "    def __init__(self):\n",
    "        self.__private_var = 10  # Private attribute\n",
    "\n",
    "obj = MyClass()\n",
    "obj._MyClass__private_var"
   ]
  },
  {
   "cell_type": "markdown",
   "id": "9e06041c",
   "metadata": {},
   "source": [
    "Sol 11"
   ]
  },
  {
   "cell_type": "code",
   "execution_count": 22,
   "id": "8e5116c3",
   "metadata": {},
   "outputs": [],
   "source": [
    "class person:\n",
    "    \n",
    "    def __init__(self, name, age, gender):\n",
    "        self._name = name\n",
    "        self._age = age\n",
    "        self._gender = gender\n",
    "        \n",
    "    def get_name(self):\n",
    "        return self._name\n",
    "    \n",
    "    def get_age(self):\n",
    "        return self._age\n",
    "    \n",
    "    def get_gender(self):\n",
    "        return self._gender\n",
    "\n",
    "class student(person):\n",
    "    \n",
    "    def __init__(self, name, age, gender, student_ID):\n",
    "        super().__init__(name, age, gender)\n",
    "        self.__student_ID = student_ID\n",
    "        \n",
    "    def get_studentID(self):\n",
    "        return self.__student_ID\n",
    "    \n",
    "class teacher(person):\n",
    "    \n",
    "    def __init__(self, name, age, gender, employee_ID, subject):\n",
    "        super().__init__(name, age, gender)\n",
    "        self.__employeeID = employee_ID\n",
    "        self._subject = subject\n",
    "        \n",
    "    def get_empID(self):\n",
    "        return self.__employeeID\n",
    "    \n",
    "    def get_subject(self):\n",
    "        return self._subject\n",
    "    \n",
    "class course:\n",
    "    \n",
    "    def __init__(self, course_name, teacher, students=None):\n",
    "        self._course_name = course_name\n",
    "        self._teacher = teacher\n",
    "        self._students = students if students else []\n",
    "        \n",
    "    def get_course(self):\n",
    "        return self._course_name\n",
    "    \n",
    "    def get_teacher(self):\n",
    "        return self._teacher\n",
    "    \n",
    "    def get_students(self):\n",
    "        return self._students\n",
    "    \n",
    "    def add_student(self, student):\n",
    "        self._students.append(student)\n",
    "    \n",
    "    def remove_student(self, student):\n",
    "        self._students.remove(student)\n",
    "        \n",
    "teacher = teacher('Meghna', 23, 'Female', 1001,'Data Science')\n",
    "student1 = student('Sandip', 22, 'Male', 2001)\n",
    "student2 = student('Sandip2', 22, 'Male', 2002)\n",
    "\n",
    "students = [student1, student2]\n",
    "course = course(\"Math Course\", teacher, students)"
   ]
  },
  {
   "cell_type": "markdown",
   "id": "cdb1ef28",
   "metadata": {},
   "source": [
    "Sol 12"
   ]
  },
  {
   "cell_type": "markdown",
   "id": "214969b3",
   "metadata": {},
   "source": [
    "Property decorators help maintain encapsulation by providing controlled access to attributes, just like keys control access to the locked box."
   ]
  },
  {
   "cell_type": "markdown",
   "id": "c4eb9501",
   "metadata": {},
   "source": [
    "Sol 13"
   ]
  },
  {
   "cell_type": "markdown",
   "id": "e979badc",
   "metadata": {},
   "source": [
    "In encapsulation, data hiding is crucial because it ensures that the internal state of an object is protected from direct manipulation by external code."
   ]
  },
  {
   "cell_type": "code",
   "execution_count": 2,
   "id": "fbe2eac8",
   "metadata": {},
   "outputs": [],
   "source": [
    "class bankaccount:\n",
    "    \n",
    "    def __init__(self, account_number, balance):\n",
    "        self.__account_number = account_number\n",
    "        self.__balance = balance\n",
    "        \n",
    "    def withdraw(self, money):\n",
    "        if money>0 or money<self.__balance:\n",
    "            self.__balance -= money\n",
    "            print(\"Money withdrawn successfully. Updated Balance : \", self.__balance)\n",
    "        else:\n",
    "            print(\"Insufficient Balance or Invalid Input\")\n",
    "            \n",
    "    def deposit(self, money):\n",
    "        if money>0:\n",
    "            self.__balance += money\n",
    "            print(\"Money deposited successfully. Updated Balance : \", self.__balance)\n",
    "        else:\n",
    "            print(\"Invalid Input\")\n",
    "            \n",
    "    #getter methods\n",
    "    \n",
    "    def get_acc_no(self):\n",
    "        return self.__account_number\n",
    "    \n",
    "    def get_balance(self):\n",
    "        return self.__balance"
   ]
  },
  {
   "cell_type": "code",
   "execution_count": 6,
   "id": "8331aeb4",
   "metadata": {},
   "outputs": [
    {
     "name": "stdout",
     "output_type": "stream",
     "text": [
      "Money deposited successfully. Updated Balance :  47200\n",
      "Money withdrawn successfully. Updated Balance :  22200\n",
      "Balance :  22200\n"
     ]
    }
   ],
   "source": [
    "cus = bankaccount(1001, 45200)\n",
    "\n",
    "cus.deposit(2000)\n",
    "cus.withdraw(25000)\n",
    "print(\"Balance : \",cus.get_balance())"
   ]
  },
  {
   "cell_type": "markdown",
   "id": "c6c180d6",
   "metadata": {},
   "source": [
    "Sol 14"
   ]
  },
  {
   "cell_type": "code",
   "execution_count": 7,
   "id": "8e80fd95",
   "metadata": {},
   "outputs": [
    {
     "data": {
      "text/plain": [
       "10000.0"
      ]
     },
     "execution_count": 7,
     "metadata": {},
     "output_type": "execute_result"
    }
   ],
   "source": [
    "class Employee:\n",
    "    \n",
    "    def __init__(self, name, employeeID, age, salary):\n",
    "        self._name = name\n",
    "        self._age = age\n",
    "        self.__salary = salary\n",
    "        self.__employee_id = employeeID\n",
    "    \n",
    "    def yearly_bonus(self, bonus_percentage=10):\n",
    "        bonus_amount = self.__salary * (bonus_percentage / 100)\n",
    "        return bonus_amount\n",
    "    \n",
    "    def get_employee_id(self):\n",
    "        return self.__employee_id\n",
    "\n",
    "    def get_salary(self):\n",
    "        return self.__salary\n",
    "    \n",
    "rajan = Employee('Rajan', 1001, 45, 100000)\n",
    "rajan.yearly_bonus()"
   ]
  },
  {
   "cell_type": "markdown",
   "id": "50e2569f",
   "metadata": {},
   "source": [
    "Sol 15"
   ]
  },
  {
   "cell_type": "markdown",
   "id": "83e437b3",
   "metadata": {},
   "source": [
    "Accessors are methods that allow you to retrieve the value of an attribute from outside the class. They provide read-only access to the attributes, meaning you can see the value but not modify it directly. They are nothing but getters.\n",
    "\n",
    "Mutators are methods that allow you to modify the value of an attribute from outside the class. They provide a way to change the state of an object while enforcing any necessary validation or constraints. They are nothing but setters."
   ]
  },
  {
   "cell_type": "markdown",
   "id": "c2d7cfd8",
   "metadata": {},
   "source": [
    "Sol 16"
   ]
  },
  {
   "cell_type": "markdown",
   "id": "d05cd81b",
   "metadata": {},
   "source": [
    "Here are some drawbacks of using Encapsulation:-\n",
    "    \n",
    "Increased complexity due to the need for getter and setter methods.\n",
    "Performance overhead compared to direct attribute access.\n",
    "Difficulty in debugging, as encapsulation may obscure the source of errors."
   ]
  },
  {
   "cell_type": "markdown",
   "id": "c1ed67f6",
   "metadata": {},
   "source": [
    "Sol 17"
   ]
  },
  {
   "cell_type": "code",
   "execution_count": 12,
   "id": "d4ad7b67",
   "metadata": {},
   "outputs": [
    {
     "name": "stdout",
     "output_type": "stream",
     "text": [
      "Title: To Kill a Mockingbird, Author: Harper Lee, Available: True\n",
      "Title: 1984, Author: George Orwell, Available: False\n",
      "The book has been borrowed\n",
      "The book is not available\n",
      "The book is already present. There is some issue\n",
      "The book has been returned\n"
     ]
    }
   ],
   "source": [
    "class Book:\n",
    "    \n",
    "    def __init__(self, name, author, available=True):\n",
    "        self.__name = name\n",
    "        self.__author = author\n",
    "        self.__available = available\n",
    "    \n",
    "    def get_name(self):\n",
    "        return self.__name\n",
    "    \n",
    "    def get_author(self):\n",
    "        return self.__author\n",
    "    \n",
    "    def is_available(self):\n",
    "        return self.__available\n",
    "    \n",
    "    def borrow(self):\n",
    "        if self.__available:\n",
    "            self.__available = True\n",
    "            print(\"The book has been borrowed\")\n",
    "        else:\n",
    "            print(\"The book is not available\")\n",
    "    \n",
    "    def return_book(self):\n",
    "        if not self.__available:\n",
    "            self.__available = True\n",
    "            print(\"The book has been returned\")\n",
    "        else:\n",
    "            print(\"The book is already present. There is some issue\")\n",
    "            \n",
    "book1 = Book(\"To Kill a Mockingbird\", \"Harper Lee\")\n",
    "book2 = Book(\"1984\", \"George Orwell\", available=False)\n",
    "\n",
    "print(f\"Title: {book1.get_name()}, Author: {book1.get_author()}, Available: {book1.is_available()}\")\n",
    "print(f\"Title: {book2.get_name()}, Author: {book2.get_author()}, Available: {book2.is_available()}\")\n",
    "\n",
    "book1.borrow()\n",
    "book2.borrow()\n",
    "\n",
    "book1.return_book()\n",
    "book2.return_book()\n"
   ]
  },
  {
   "cell_type": "markdown",
   "id": "52e8b809",
   "metadata": {},
   "source": [
    "Sol 18"
   ]
  },
  {
   "cell_type": "markdown",
   "id": "6fe636d5",
   "metadata": {},
   "source": [
    "Encapsulation enhances code reusability and modularity in Python by promoting clear interfaces, reducing dependencies, enabling code reuse, and encapsulating data and behavior within well-defined objects. This modular design facilitates easier maintenance, extensibility, and reuse of code across different parts of the program.\n",
    "\n",
    "\n",
    "\n",
    "\n",
    "\n"
   ]
  },
  {
   "cell_type": "markdown",
   "id": "3f22674b",
   "metadata": {},
   "source": [
    "Sol 19"
   ]
  },
  {
   "cell_type": "markdown",
   "id": "634e2e68",
   "metadata": {},
   "source": [
    "Information hiding in encapsulation involves restricting access to certain details or implementation specifics of an object while exposing only necessary interfaces. It's essential in software development for modularity, abstraction, security, encapsulation, and reducing complexity, leading to cleaner, more maintainable, and secure code."
   ]
  },
  {
   "cell_type": "markdown",
   "id": "e9f7a3b7",
   "metadata": {},
   "source": [
    "Sol 20"
   ]
  },
  {
   "cell_type": "code",
   "execution_count": 16,
   "id": "698e9ec8",
   "metadata": {},
   "outputs": [
    {
     "name": "stdout",
     "output_type": "stream",
     "text": [
      "Customer name : Rajan. Customer address : Puranhat. Customer Phone number : 10002222\n",
      "Customer name : Rajan. Customer address : Nagerbazar. Customer Phone number : 20003000\n"
     ]
    }
   ],
   "source": [
    "class customer:\n",
    "    \n",
    "    def __init__(self, name, address, contact_number):\n",
    "        self.__name = name\n",
    "        self.__address = address\n",
    "        self.__contact_number = contact_number\n",
    "        \n",
    "    def get_name(self):\n",
    "        return self.__name\n",
    "    \n",
    "    def get_address(self):\n",
    "        return self.__address\n",
    "    \n",
    "    def get_contact_number(self):\n",
    "        return self.__contact_number\n",
    "    \n",
    "    def change_address(self, address):\n",
    "        self.__address = address\n",
    "        \n",
    "    def change_contact_number(self, number):\n",
    "        self.__contact_number = number\n",
    "        \n",
    "customer1 = customer('Rajan', 'Puranhat', 10002222)\n",
    "print(f\"Customer name : {customer1.get_name()}. Customer address : {customer1.get_address()}. Customer Phone number : {customer1.get_contact_number()}\")\n",
    "customer1.change_address('Nagerbazar')\n",
    "customer1.change_contact_number(20003000)\n",
    "print(f\"Customer name : {customer1.get_name()}. Customer address : {customer1.get_address()}. Customer Phone number : {customer1.get_contact_number()}\")"
   ]
  },
  {
   "cell_type": "markdown",
   "id": "a3ab743e",
   "metadata": {},
   "source": [
    "# Polymorphism"
   ]
  },
  {
   "cell_type": "markdown",
   "id": "b779d061",
   "metadata": {},
   "source": [
    "Sol 1"
   ]
  },
  {
   "cell_type": "markdown",
   "id": "49c525e5",
   "metadata": {},
   "source": [
    "Polymorphism in Python refers to the ability of different objects to respond to the same method or function call in different ways. It allows objects of different classes to be treated as objects of a common superclass, enabling more flexible and dynamic code.\n",
    "\n",
    "Polymorphism is related to object-oriented programming (OOP) because it relies on the concepts of inheritance, encapsulation, and abstraction, which are fundamental to OOP principles"
   ]
  },
  {
   "cell_type": "markdown",
   "id": "3018749f",
   "metadata": {},
   "source": [
    "Sol 2"
   ]
  },
  {
   "cell_type": "markdown",
   "id": "11a25e2a",
   "metadata": {},
   "source": [
    "Compile-time polymorphism, also known as method overloading or function overloading, occurs when multiple methods or functions with the same name but different parameter types or numbers are defined within the same scope. The appropriate method or function to call is determined by the compiler based on the static type of the arguments at compile time.\n",
    "\n",
    "Runtime polymorphism, also known as method overriding, occurs when a method in a subclass has the same name and signature (parameters) as a method in its superclass. The appropriate method to call is determined by the Python interpreter at runtime based on the dynamic type of the object on which the method is invoked."
   ]
  },
  {
   "cell_type": "markdown",
   "id": "1e8e199e",
   "metadata": {},
   "source": [
    "Sol 3"
   ]
  },
  {
   "cell_type": "code",
   "execution_count": 18,
   "id": "abed6a36",
   "metadata": {},
   "outputs": [
    {
     "name": "stdout",
     "output_type": "stream",
     "text": [
      "Triangle area :  40.0\n",
      "square area :  144\n",
      "circle area :  314.1592653589793\n"
     ]
    }
   ],
   "source": [
    "import math\n",
    "\n",
    "class shape:\n",
    "    def calculate_area(self):\n",
    "        pass\n",
    "    \n",
    "class circle(shape):\n",
    "    def __init__(self, radius):\n",
    "        self.radius = radius\n",
    "    \n",
    "    def calculate_area(self):\n",
    "        return math.pi*(self.radius**2)\n",
    "    \n",
    "class square(shape):\n",
    "    def __init__(self, side):\n",
    "        self.side = side\n",
    "        \n",
    "    def calculate_area(self):\n",
    "        return self.side*self.side\n",
    "    \n",
    "class triangle(shape):\n",
    "    def __init__(self, base, height):\n",
    "        self.base = base\n",
    "        self.height = height\n",
    "    \n",
    "    def calculate_area(self):\n",
    "        return 0.5 * self.base * self.height\n",
    "    \n",
    "triangle = triangle(10, 8)\n",
    "square = square(12)\n",
    "circle = circle(10)\n",
    "\n",
    "print(\"Triangle area : \", triangle.calculate_area())\n",
    "print(\"square area : \", square.calculate_area())\n",
    "print(\"circle area : \", circle.calculate_area())"
   ]
  },
  {
   "cell_type": "markdown",
   "id": "23bc15d8",
   "metadata": {},
   "source": [
    "Sol 4"
   ]
  },
  {
   "cell_type": "markdown",
   "id": "06af16e5",
   "metadata": {},
   "source": [
    "Method overriding is a concept in OOP when a subclass provides a specific implementation of a method which is already defined in the super class."
   ]
  },
  {
   "cell_type": "code",
   "execution_count": 19,
   "id": "8a6ef7ee",
   "metadata": {},
   "outputs": [
    {
     "name": "stdout",
     "output_type": "stream",
     "text": [
      "animal's sound\n",
      "Woof\n",
      "Meow\n"
     ]
    }
   ],
   "source": [
    "class animal:\n",
    "    def sound(self):\n",
    "        print(\"animal's sound\")\n",
    "        \n",
    "class dog(animal):\n",
    "    def sound(self):\n",
    "        print(\"Woof\")\n",
    "    \n",
    "class cat(animal):\n",
    "    def sound(self):\n",
    "        print(\"Meow\")\n",
    "        \n",
    "animal = animal()\n",
    "dog = dog()\n",
    "cat = cat()\n",
    "\n",
    "animal.sound()\n",
    "dog.sound()\n",
    "cat.sound()"
   ]
  },
  {
   "cell_type": "markdown",
   "id": "9dadd2e5",
   "metadata": {},
   "source": [
    "Sol 5"
   ]
  },
  {
   "cell_type": "markdown",
   "id": "d2172f06",
   "metadata": {},
   "source": [
    "Polymorphism: Allows objects of different classes to be treated as objects of a common superclass, enabling flexible and dynamic code. Achieved through method overriding.\n",
    "\n",
    "Method Overloading: Involves defining multiple methods with the same name but different parameter types or numbers within the same scope. Not directly supported in Python, but similar behavior can be achieved using default parameter values or variable-length argument lists."
   ]
  },
  {
   "cell_type": "code",
   "execution_count": 21,
   "id": "5f294c75",
   "metadata": {},
   "outputs": [
    {
     "name": "stdout",
     "output_type": "stream",
     "text": [
      "Woof\n",
      "Meow\n"
     ]
    }
   ],
   "source": [
    "# polymorphism\n",
    "\n",
    "class Animal:\n",
    "    def sound(self):\n",
    "        pass\n",
    "\n",
    "class dog(Animal):\n",
    "    def sound(self):\n",
    "        print(\"Woof\")\n",
    "    \n",
    "class cat(Animal):\n",
    "    def sound(self):\n",
    "        print(\"Meow\")\n",
    "        \n",
    "def makes_sound(animal):\n",
    "    return animal.sound()\n",
    "\n",
    "dog = dog()\n",
    "cat = cat()\n",
    "\n",
    "makes_sound(dog)\n",
    "makes_sound(cat)"
   ]
  },
  {
   "cell_type": "code",
   "execution_count": 22,
   "id": "0611aeaf",
   "metadata": {},
   "outputs": [
    {
     "name": "stdout",
     "output_type": "stream",
     "text": [
      "5\n",
      "7\n"
     ]
    }
   ],
   "source": [
    "# Method Overloading\n",
    "\n",
    "class Calculator:\n",
    "    def add(self, a, b=0):\n",
    "        return a + b\n",
    "\n",
    "calc = Calculator()\n",
    "print(calc.add(5))    \n",
    "print(calc.add(3, 4)) "
   ]
  },
  {
   "cell_type": "markdown",
   "id": "267551e6",
   "metadata": {},
   "source": [
    "Sol 6"
   ]
  },
  {
   "cell_type": "code",
   "execution_count": 24,
   "id": "9d98f463",
   "metadata": {},
   "outputs": [
    {
     "name": "stdout",
     "output_type": "stream",
     "text": [
      "Woof\n",
      "Meow\n"
     ]
    }
   ],
   "source": [
    "class Animal:\n",
    "    def speak(self):\n",
    "        pass\n",
    "\n",
    "class dog(Animal):\n",
    "    def speak(self):\n",
    "        print(\"Woof\")\n",
    "    \n",
    "class cat(Animal):\n",
    "    def speak(self):\n",
    "        print(\"Meow\")\n",
    "        \n",
    "def makes_sound(animal):\n",
    "    return animal.speak()\n",
    "\n",
    "dog = dog()\n",
    "cat = cat()\n",
    "\n",
    "makes_sound(dog)\n",
    "makes_sound(cat)"
   ]
  },
  {
   "cell_type": "markdown",
   "id": "aa0b3a83",
   "metadata": {},
   "source": [
    "Sol 7"
   ]
  },
  {
   "cell_type": "markdown",
   "id": "8dc20730",
   "metadata": {},
   "source": [
    "Abstract methods and classes play a crucial role in achieving polymorphism in Python by defining a common interface that must be implemented by subclasses."
   ]
  },
  {
   "cell_type": "code",
   "execution_count": 25,
   "id": "9fd25b96",
   "metadata": {},
   "outputs": [
    {
     "name": "stdout",
     "output_type": "stream",
     "text": [
      "Area: 78.5\n",
      "Area: 16\n"
     ]
    }
   ],
   "source": [
    "from abc import ABC, abstractmethod\n",
    "\n",
    "class Shape(ABC):\n",
    "    @abstractmethod\n",
    "    def calculate_area(self):\n",
    "        pass\n",
    "\n",
    "class Circle(Shape):\n",
    "    def __init__(self, radius):\n",
    "        self.radius = radius\n",
    "\n",
    "    def calculate_area(self):\n",
    "        return 3.14 * self.radius ** 2\n",
    "\n",
    "class Square(Shape):\n",
    "    def __init__(self, side_length):\n",
    "        self.side_length = side_length\n",
    "\n",
    "    def calculate_area(self):\n",
    "        return self.side_length ** 2\n",
    "\n",
    "circle = Circle(5)\n",
    "square = Square(4)\n",
    "\n",
    "shapes = [circle, square]\n",
    "\n",
    "for shape in shapes:\n",
    "    print(f\"Area: {shape.calculate_area()}\")\n"
   ]
  },
  {
   "cell_type": "markdown",
   "id": "2ba38dae",
   "metadata": {},
   "source": [
    "Sol 8"
   ]
  },
  {
   "cell_type": "code",
   "execution_count": 27,
   "id": "ea52ddd1",
   "metadata": {},
   "outputs": [
    {
     "name": "stdout",
     "output_type": "stream",
     "text": [
      "Car Started\n",
      "Cycle Started\n",
      "Boat started\n"
     ]
    }
   ],
   "source": [
    "class vehicle:\n",
    "    \n",
    "    def start(self):\n",
    "        pass\n",
    "\n",
    "class car(vehicle):\n",
    "    \n",
    "    def start(self):\n",
    "        print(\"Car Started\")\n",
    "        \n",
    "class bicycle(vehicle):\n",
    "    \n",
    "    def start(self):\n",
    "        print(\"Cycle Started\")\n",
    "        \n",
    "class boat(vehicle):\n",
    "    \n",
    "    def start(self):\n",
    "        print(\"Boat started\")\n",
    "        \n",
    "def start_vehicle(vehicle):\n",
    "    return vehicle.start()\n",
    "\n",
    "car = car()\n",
    "bicycle = bicycle()\n",
    "boat = boat()\n",
    "\n",
    "vehicles = [car, bicycle, boat]\n",
    "\n",
    "for vehicle in vehicles:\n",
    "    start_vehicle(vehicle)"
   ]
  },
  {
   "cell_type": "markdown",
   "id": "f9a30010",
   "metadata": {},
   "source": [
    "Sol 9"
   ]
  },
  {
   "cell_type": "markdown",
   "id": "aa92e80a",
   "metadata": {},
   "source": [
    "The isinstance function is used to check if an object belongs to a particular class or any of its subclass.\n",
    "\n",
    "The issubclass function is used to check if a class is a subclass of a particular class"
   ]
  },
  {
   "cell_type": "markdown",
   "id": "ae9dc26c",
   "metadata": {},
   "source": [
    "Sol 10"
   ]
  },
  {
   "cell_type": "markdown",
   "id": "c86963e8",
   "metadata": {},
   "source": [
    "The @abstractmethod decorator, provided by the abc (Abstract Base Classes) module in Python, is used to define abstract methods within abstract classes. Abstract methods are methods that are declared but not implemented in the abstract class. Subclasses of the abstract class must override these abstract methods and provide their own implementations."
   ]
  },
  {
   "cell_type": "code",
   "execution_count": 29,
   "id": "3bfe9b37",
   "metadata": {},
   "outputs": [
    {
     "name": "stdout",
     "output_type": "stream",
     "text": [
      "Car Started\n",
      "Cycle Started\n",
      "Boat started\n"
     ]
    }
   ],
   "source": [
    "from abc import ABC, abstractmethod\n",
    "\n",
    "class vehicle:\n",
    "    @abstractmethod\n",
    "    def start(self):\n",
    "        pass\n",
    "\n",
    "class car(vehicle):\n",
    "    \n",
    "    def start(self):\n",
    "        print(\"Car Started\")\n",
    "        \n",
    "class bicycle(vehicle):\n",
    "    \n",
    "    def start(self):\n",
    "        print(\"Cycle Started\")\n",
    "        \n",
    "class boat(vehicle):\n",
    "    \n",
    "    def start(self):\n",
    "        print(\"Boat started\")\n",
    "        \n",
    "def start_vehicle(vehicle):\n",
    "    return vehicle.start()\n",
    "\n",
    "car = car()\n",
    "bicycle = bicycle()\n",
    "boat = boat()\n",
    "\n",
    "vehicles = [car, bicycle, boat]\n",
    "\n",
    "for vehicle in vehicles:\n",
    "    start_vehicle(vehicle)"
   ]
  },
  {
   "cell_type": "markdown",
   "id": "ca31e6b9",
   "metadata": {},
   "source": [
    "Sol 11"
   ]
  },
  {
   "cell_type": "code",
   "execution_count": 34,
   "id": "1841c905",
   "metadata": {},
   "outputs": [
    {
     "data": {
      "text/plain": [
       "(314.1592653589793, 180, 25.0)"
      ]
     },
     "execution_count": 34,
     "metadata": {},
     "output_type": "execute_result"
    }
   ],
   "source": [
    "import math\n",
    "\n",
    "class shape:\n",
    "    \n",
    "    def area(self):\n",
    "        pass\n",
    "\n",
    "class circle(shape):\n",
    "    \n",
    "    def __init__(self, radius):\n",
    "        self.radius = radius\n",
    "        \n",
    "    def area(self):\n",
    "        return math.pi*(self.radius**2)\n",
    "    \n",
    "class rectangle(shape):\n",
    "    \n",
    "    def __init__(self, width, length):\n",
    "        self.width = width\n",
    "        self.length = length\n",
    "    \n",
    "    def area(self):\n",
    "        return self.width * self.length\n",
    "    \n",
    "class triangle(shape):\n",
    "    \n",
    "    def __init__(self, base, height):\n",
    "        self.base = base\n",
    "        self.height = height\n",
    "        \n",
    "    def area(self):\n",
    "        return 0.5 * self.base * self.height\n",
    "\n",
    "circle = circle(10)\n",
    "rectangle = rectangle(15,12)\n",
    "triangle = triangle(10,5)\n",
    "\n",
    "circle.area(),rectangle.area(),triangle.area()"
   ]
  },
  {
   "cell_type": "markdown",
   "id": "7ee7cd2d",
   "metadata": {},
   "source": [
    "Sol 12"
   ]
  },
  {
   "cell_type": "markdown",
   "id": "bb1ad595",
   "metadata": {},
   "source": [
    "polymorphism in Python enhances code reusability and flexibility by allowing objects of different classes to be treated uniformly based on their common interface. It promotes modular design, simplifies maintenance, improves readability, and reduces dependencies, making the codebase more adaptable and maintainable.\n",
    "\n",
    "\n",
    "\n",
    "\n",
    "\n"
   ]
  },
  {
   "cell_type": "markdown",
   "id": "3b76a28e",
   "metadata": {},
   "source": [
    "Sol 13"
   ]
  },
  {
   "cell_type": "markdown",
   "id": "cf2d67c3",
   "metadata": {},
   "source": [
    "The super() function is used to call the methods from the superclass to the child class."
   ]
  },
  {
   "cell_type": "code",
   "execution_count": 38,
   "id": "7b07283d",
   "metadata": {},
   "outputs": [
    {
     "name": "stdout",
     "output_type": "stream",
     "text": [
      "this is parent class\n"
     ]
    }
   ],
   "source": [
    "class parent:\n",
    "    \n",
    "    def check(self):\n",
    "        print(\"this is parent class\")\n",
    "        \n",
    "class child(parent):\n",
    "    \n",
    "    def check(self):\n",
    "        super().check()\n",
    "        \n",
    "child1 = child()\n",
    "child1.check()"
   ]
  },
  {
   "cell_type": "markdown",
   "id": "a3a64f21",
   "metadata": {},
   "source": [
    "Sol 14"
   ]
  },
  {
   "cell_type": "code",
   "execution_count": 39,
   "id": "47078e02",
   "metadata": {},
   "outputs": [
    {
     "name": "stdout",
     "output_type": "stream",
     "text": [
      "Withdrew 500 from savings account\n",
      "Withdrew 500 from checking account\n",
      "Withdrew 500 from credit card account\n"
     ]
    }
   ],
   "source": [
    "class Account:\n",
    "    def __init__(self, balance):\n",
    "        self.balance = balance\n",
    "\n",
    "    def withdraw(self, amount):\n",
    "        pass\n",
    "\n",
    "class SavingsAccount(Account):\n",
    "    def withdraw(self, amount):\n",
    "        if amount > self.balance:\n",
    "            print(\"Insufficient funds in savings account\")\n",
    "        else:\n",
    "            self.balance -= amount\n",
    "            print(f\"Withdrew {amount} from savings account\")\n",
    "\n",
    "class CheckingAccount(Account):\n",
    "    def withdraw(self, amount):\n",
    "        if amount > self.balance:\n",
    "            print(\"Insufficient funds in checking account\")\n",
    "        else:\n",
    "            self.balance -= amount\n",
    "            print(f\"Withdrew {amount} from checking account\")\n",
    "\n",
    "class CreditCardAccount(Account):\n",
    "    def withdraw(self, amount):\n",
    "        print(f\"Withdrew {amount} from credit card account\")\n",
    "\n",
    "savings_account = SavingsAccount(1000)\n",
    "checking_account = CheckingAccount(2000)\n",
    "credit_card_account = CreditCardAccount(500)\n",
    "\n",
    "accounts = [savings_account, checking_account, credit_card_account]\n",
    "\n",
    "for account in accounts:\n",
    "    account.withdraw(500)\n"
   ]
  },
  {
   "cell_type": "markdown",
   "id": "d856ae43",
   "metadata": {},
   "source": [
    "Sol 15"
   ]
  },
  {
   "cell_type": "code",
   "execution_count": 41,
   "id": "7b213dc6",
   "metadata": {},
   "outputs": [
    {
     "name": "stdout",
     "output_type": "stream",
     "text": [
      "(4, 6)\n"
     ]
    }
   ],
   "source": [
    "class operator:\n",
    "    \n",
    "    def __init__(self, a, b):\n",
    "        self.a = a\n",
    "        self.b = b\n",
    "        \n",
    "    def __add__(self, other):\n",
    "        return self.a + other.a, self.b + other.b\n",
    "    \n",
    "ob1 = operator(1,2)\n",
    "ob2 = operator(3,4)\n",
    "ob3 = ob1 + ob2\n",
    "print(ob3)\n"
   ]
  },
  {
   "cell_type": "code",
   "execution_count": 42,
   "id": "4cbdf7cc",
   "metadata": {},
   "outputs": [
    {
     "name": "stdout",
     "output_type": "stream",
     "text": [
      "2 4\n"
     ]
    }
   ],
   "source": [
    "class Vector:\n",
    "    def __init__(self, x, y):\n",
    "        self.x = x\n",
    "        self.y = y\n",
    "\n",
    "    def __mul__(self, scalar):\n",
    "        return Vector(self.x * scalar, self.y * scalar)\n",
    "\n",
    "v = Vector(1, 2)\n",
    "result_mul = v * 2\n",
    "print(result_mul.x, result_mul.y)"
   ]
  },
  {
   "cell_type": "markdown",
   "id": "4357aec8",
   "metadata": {},
   "source": [
    "Sol 16"
   ]
  },
  {
   "cell_type": "markdown",
   "id": "230e6465",
   "metadata": {},
   "source": [
    "Dynamic polymorphism in Python is the ability of objects of different classes to respond to the same method call in different ways. This is achieved through method overriding and method resolution order (MRO). When a method is called on an object, Python dynamically determines the appropriate implementation to execute based on the object's type, allowing for flexible and extensible behavior in code.\n",
    "\n",
    "\n",
    "\n",
    "\n",
    "\n"
   ]
  },
  {
   "cell_type": "markdown",
   "id": "f81586db",
   "metadata": {},
   "source": [
    "Sol 17"
   ]
  },
  {
   "cell_type": "code",
   "execution_count": 49,
   "id": "e69a60df",
   "metadata": {},
   "outputs": [
    {
     "name": "stdout",
     "output_type": "stream",
     "text": [
      "Manager's salary : 50000'\n",
      "developer's salary : 40000'\n",
      "designer's salary : 30000'\n"
     ]
    }
   ],
   "source": [
    "class Employee:\n",
    "    \n",
    "    def __init__(self, role):\n",
    "        self.role = role\n",
    "    \n",
    "    def calculate_salary(self):\n",
    "        raise NotImplementedError(\"Subclass must implement this abstract class\")\n",
    "\n",
    "class manager(Employee):\n",
    "    \n",
    "    def __init__(self, salary):\n",
    "        super().__init__(\"Manager\")\n",
    "        self.salary = salary\n",
    "    \n",
    "    def calculate_salary(self):\n",
    "        return self.salary\n",
    "\n",
    "class developer(Employee):\n",
    "    \n",
    "    def __init__(self, salary):\n",
    "        super().__init__(\"developer\")\n",
    "        self.salary = salary\n",
    "    \n",
    "    def calculate_salary(self):\n",
    "        return self.salary\n",
    "\n",
    "class designer(Employee):\n",
    "    \n",
    "    def __init__(self, salary):\n",
    "        super().__init__(\"designer\")\n",
    "        self.salary = salary\n",
    "    \n",
    "    def calculate_salary(self):\n",
    "        return self.salary\n",
    "    \n",
    "manager = manager(50000)\n",
    "developer = developer(40000)\n",
    "designer = designer(30000)\n",
    "\n",
    "employees = [manager, developer, designer]\n",
    "\n",
    "for emp in employees:\n",
    "    print(f\"{emp.role}'s salary : {emp.calculate_salary()}'\")"
   ]
  },
  {
   "cell_type": "markdown",
   "id": "3d185871",
   "metadata": {},
   "source": [
    "Sol 18"
   ]
  },
  {
   "cell_type": "markdown",
   "id": "6f3758aa",
   "metadata": {},
   "source": [
    "Function pointers in Python are not explicitly used like in some other languages, but the concept of achieving similar functionality exists through first-class functions. Polymorphism can be achieved in Python by passing functions as arguments to other functions or methods, allowing different implementations to be executed dynamically based on the function passed. This enables flexible and extensible behavior in Python programs without the need for explicit function pointers."
   ]
  },
  {
   "cell_type": "markdown",
   "id": "f8c70655",
   "metadata": {},
   "source": [
    "Sol 19"
   ]
  },
  {
   "cell_type": "markdown",
   "id": "4b2b3fa9",
   "metadata": {},
   "source": [
    "Interfaces:\n",
    "Define a contract for classes, specifying method signatures that implementing classes must provide.\n",
    "Promote loose coupling between classes by allowing them to interact based on shared behaviors.\n",
    "Support multiple inheritance of behavior but not of state.\n",
    "Enable classes to adopt multiple behaviors through interface implementation.\n",
    "\n",
    "Abstract Classes:\n",
    "Cannot be instantiated and may contain abstract methods without implementation.\n",
    "Provide a mix of abstract and concrete methods, allowing subclasses to provide specific implementations.\n",
    "Define a common interface for related classes, ensuring consistent behavior among them.\n",
    "Support single inheritance but can contain instance variables and constructors."
   ]
  },
  {
   "cell_type": "markdown",
   "id": "98fc7b1d",
   "metadata": {},
   "source": [
    "Sol 20"
   ]
  },
  {
   "cell_type": "code",
   "execution_count": 53,
   "id": "4a5b2994",
   "metadata": {},
   "outputs": [
    {
     "name": "stdout",
     "output_type": "stream",
     "text": [
      "tiger's behaviour is swimming\n",
      "crow's behaviour is flying\n",
      "snake's behaviour is sleeping\n"
     ]
    }
   ],
   "source": [
    "class zoo:\n",
    "    \n",
    "    def __init__(self, name, hobby):\n",
    "        self.name = name\n",
    "        self.hobby = hobby\n",
    "        \n",
    "    def behaviour(self):\n",
    "        raise NotImplementedError(\"Subclasses must implement this method\")\n",
    "        \n",
    "class mammal(zoo):\n",
    "    \n",
    "    def __init__(self, name, hobby):\n",
    "        super().__init__(name, hobby)\n",
    "        \n",
    "    def behaviour(self):\n",
    "        return self.hobby\n",
    "    \n",
    "class bird(zoo):\n",
    "    \n",
    "    def __init__(self, name, hobby):\n",
    "        super().__init__(name, hobby)\n",
    "        \n",
    "    def behaviour(self):\n",
    "        return self.hobby\n",
    "\n",
    "class reptile(zoo):\n",
    "    \n",
    "    def __init__(self, name, hobby):\n",
    "        super().__init__(name, hobby)\n",
    "        \n",
    "    def behaviour(self):\n",
    "        return self.hobby\n",
    "\n",
    "tiger = mammal('tiger','swimming')\n",
    "crow = bird('crow','flying')\n",
    "snake = reptile('snake','sleeping')\n",
    "\n",
    "animals = [tiger,crow,snake]\n",
    "\n",
    "for animal in animals:\n",
    "    print(f\"{animal.name}'s behaviour is {animal.behaviour()}\")"
   ]
  },
  {
   "cell_type": "markdown",
   "id": "0ac83d0b",
   "metadata": {},
   "source": [
    "## Abstraction"
   ]
  },
  {
   "cell_type": "markdown",
   "id": "8c8e21ff",
   "metadata": {},
   "source": [
    "Sol 1"
   ]
  },
  {
   "cell_type": "markdown",
   "id": "60aea7ef",
   "metadata": {},
   "source": [
    "Abstraction in Python, within the context of object-oriented programming, involves hiding implementation details and exposing only essential features to users"
   ]
  },
  {
   "cell_type": "markdown",
   "id": "17b25333",
   "metadata": {},
   "source": [
    "Sol 2"
   ]
  },
  {
   "cell_type": "markdown",
   "id": "5b028464",
   "metadata": {},
   "source": [
    "Abstraction in programming, particularly in object-oriented design, offers benefits such as modularity, encapsulation, code reusability, flexibility, and reduced cognitive load. It organizes code by breaking systems into manageable components, reduces complexity by hiding implementation details, facilitates code reuse and extensibility, and makes it easier for developers to understand and maintain codebases."
   ]
  },
  {
   "cell_type": "markdown",
   "id": "87fa6fcb",
   "metadata": {},
   "source": [
    "Sol 3"
   ]
  },
  {
   "cell_type": "code",
   "execution_count": 55,
   "id": "4c9176c1",
   "metadata": {},
   "outputs": [
    {
     "name": "stdout",
     "output_type": "stream",
     "text": [
      "Area: 78.5\n",
      "Area: 28\n"
     ]
    }
   ],
   "source": [
    "from abc import ABC, abstractmethod\n",
    "\n",
    "class Shape(ABC):\n",
    "    @abstractmethod\n",
    "    def calculate_area(self):\n",
    "        pass\n",
    "\n",
    "class Circle(Shape):\n",
    "    def __init__(self, radius):\n",
    "        self.radius = radius\n",
    "\n",
    "    def calculate_area(self):\n",
    "        return 3.14 * self.radius ** 2\n",
    "\n",
    "class rectangle(Shape):\n",
    "    def __init__(self, width, length):\n",
    "        self.width = width\n",
    "        self.length = length\n",
    "\n",
    "    def calculate_area(self):\n",
    "        return self.length * self.width\n",
    "\n",
    "circle = Circle(5)\n",
    "rectangle = rectangle(4,7)\n",
    "\n",
    "shapes = [circle, rectangle]\n",
    "\n",
    "for shape in shapes:\n",
    "    print(f\"Area: {shape.calculate_area()}\")\n"
   ]
  },
  {
   "cell_type": "markdown",
   "id": "501d1328",
   "metadata": {},
   "source": [
    "Sol 4"
   ]
  },
  {
   "cell_type": "markdown",
   "id": "b5b547a9",
   "metadata": {},
   "source": [
    "In Python, abstract classes are defined using the abc module, which stands for Abstract Base Classes. The abc module provides the ABC class as a base class for creating abstract classes, and the abstractmethod decorator to define abstract methods."
   ]
  },
  {
   "cell_type": "code",
   "execution_count": 56,
   "id": "9dab0362",
   "metadata": {},
   "outputs": [
    {
     "name": "stdout",
     "output_type": "stream",
     "text": [
      "Buddy says: Woof!\n",
      "Whiskers says: Meow!\n"
     ]
    }
   ],
   "source": [
    "from abc import ABC, abstractmethod\n",
    "\n",
    "class Animal(ABC):\n",
    "    def __init__(self, name):\n",
    "        self.name = name\n",
    "\n",
    "    @abstractmethod\n",
    "    def sound(self):\n",
    "        pass\n",
    "\n",
    "class Dog(Animal):\n",
    "    def sound(self):\n",
    "        return \"Woof!\"\n",
    "\n",
    "class Cat(Animal):\n",
    "    def sound(self):\n",
    "        return \"Meow!\"\n",
    "\n",
    "dog = Dog(\"Buddy\")\n",
    "cat = Cat(\"Whiskers\")\n",
    "\n",
    "print(dog.name, \"says:\", dog.sound())\n",
    "print(cat.name, \"says:\", cat.sound())\n"
   ]
  },
  {
   "cell_type": "markdown",
   "id": "b37d4391",
   "metadata": {},
   "source": [
    "Sol 5"
   ]
  },
  {
   "cell_type": "markdown",
   "id": "e82294d1",
   "metadata": {},
   "source": [
    "Regular classes in Python can be instantiated directly to create objects with specific attributes and behaviors, while abstract classes cannot be instantiated directly and serve as templates for other classes. Abstract classes define a common interface for a group of related classes, ensuring consistent behavior among them."
   ]
  },
  {
   "cell_type": "markdown",
   "id": "efbf1ec0",
   "metadata": {},
   "source": [
    "Sol 6"
   ]
  },
  {
   "cell_type": "code",
   "execution_count": 57,
   "id": "21bb7ea3",
   "metadata": {},
   "outputs": [
    {
     "name": "stdout",
     "output_type": "stream",
     "text": [
      "Account Number: 12345\n",
      "Initial Balance: 1000\n",
      "Deposited $500. New balance: $1500\n",
      "Withdrew $200. New balance: $1300\n",
      "Insufficient funds or invalid withdrawal amount.\n"
     ]
    }
   ],
   "source": [
    "class BankAccount:\n",
    "    def __init__(self, account_number, initial_balance=0):\n",
    "        self._account_number = account_number\n",
    "        self._balance = initial_balance\n",
    "\n",
    "    def deposit(self, amount):\n",
    "        if amount > 0:\n",
    "            self._balance += amount\n",
    "            print(f\"Deposited ${amount}. New balance: ${self._balance}\")\n",
    "        else:\n",
    "            print(\"Invalid deposit amount. Amount must be greater than 0.\")\n",
    "\n",
    "    def withdraw(self, amount):\n",
    "        if 0 < amount <= self._balance:\n",
    "            self._balance -= amount\n",
    "            print(f\"Withdrew ${amount}. New balance: ${self._balance}\")\n",
    "        else:\n",
    "            print(\"Insufficient funds or invalid withdrawal amount.\")\n",
    "\n",
    "    def get_balance(self):\n",
    "        return self._balance\n",
    "\n",
    "    def get_account_number(self):\n",
    "        return self._account_number\n",
    "\n",
    "account = BankAccount(\"12345\", 1000)\n",
    "print(\"Account Number:\", account.get_account_number())\n",
    "print(\"Initial Balance:\", account.get_balance())\n",
    "\n",
    "account.deposit(500)\n",
    "account.withdraw(200)\n",
    "account.withdraw(1500) "
   ]
  },
  {
   "cell_type": "markdown",
   "id": "7f0c0d92",
   "metadata": {},
   "source": [
    "Sol 7"
   ]
  },
  {
   "cell_type": "markdown",
   "id": "d40333ce",
   "metadata": {},
   "source": [
    "In Python, interface classes are not explicitly defined like in some other programming languages such as Java. However, the concept of interface-like behavior can be achieved through abstract base classes (ABCs) provided by the abc module.\n",
    "\n",
    "An interface class, in essence, defines a contract for classes that implement it, specifying the methods that implementing classes must provide. It serves as a blueprint or template for ensuring consistent behavior among related classes, promoting loose coupling and modular design."
   ]
  },
  {
   "cell_type": "markdown",
   "id": "0d6ef662",
   "metadata": {},
   "source": [
    "Sol 8"
   ]
  },
  {
   "cell_type": "code",
   "execution_count": 58,
   "id": "5b570b88",
   "metadata": {},
   "outputs": [
    {
     "name": "stdout",
     "output_type": "stream",
     "text": [
      "Buddy is eating dog food.\n",
      "Buddy is sleeping in its dog bed.\n",
      "Whiskers is eating cat food.\n",
      "Whiskers is sleeping in its cat bed.\n",
      "Tweety is eating bird food.\n",
      "Tweety is sleeping in its bird nest.\n"
     ]
    }
   ],
   "source": [
    "from abc import ABC, abstractmethod\n",
    "\n",
    "class Animal(ABC):\n",
    "    def __init__(self, name):\n",
    "        self.name = name\n",
    "\n",
    "    @abstractmethod\n",
    "    def eat(self):\n",
    "        pass\n",
    "\n",
    "    @abstractmethod\n",
    "    def sleep(self):\n",
    "        pass\n",
    "\n",
    "class Dog(Animal):\n",
    "    def eat(self):\n",
    "        return f\"{self.name} is eating dog food.\"\n",
    "\n",
    "    def sleep(self):\n",
    "        return f\"{self.name} is sleeping in its dog bed.\"\n",
    "\n",
    "class Cat(Animal):\n",
    "    def eat(self):\n",
    "        return f\"{self.name} is eating cat food.\"\n",
    "\n",
    "    def sleep(self):\n",
    "        return f\"{self.name} is sleeping in its cat bed.\"\n",
    "\n",
    "class Bird(Animal):\n",
    "    def eat(self):\n",
    "        return f\"{self.name} is eating bird food.\"\n",
    "\n",
    "    def sleep(self):\n",
    "        return f\"{self.name} is sleeping in its bird nest.\"\n",
    "\n",
    "dog = Dog(\"Buddy\")\n",
    "cat = Cat(\"Whiskers\")\n",
    "bird = Bird(\"Tweety\")\n",
    "\n",
    "print(dog.eat())\n",
    "print(dog.sleep())\n",
    "print(cat.eat())\n",
    "print(cat.sleep())\n",
    "print(bird.eat())\n",
    "print(bird.sleep())\n"
   ]
  },
  {
   "cell_type": "markdown",
   "id": "26241263",
   "metadata": {},
   "source": [
    "Sol 9"
   ]
  },
  {
   "cell_type": "markdown",
   "id": "299437fe",
   "metadata": {},
   "source": [
    "Encapsulation in programming allows us to bundle data and methods together, hiding the internal workings of an object. This helps achieve abstraction by exposing only essential features through a well-defined interface."
   ]
  },
  {
   "cell_type": "markdown",
   "id": "b5d7021b",
   "metadata": {},
   "source": [
    "Sol 10"
   ]
  },
  {
   "cell_type": "code",
   "execution_count": 1,
   "id": "47ba6cde",
   "metadata": {},
   "outputs": [
    {
     "name": "stdout",
     "output_type": "stream",
     "text": [
      "Area of the circle: 78.5\n"
     ]
    }
   ],
   "source": [
    "class Circle:\n",
    "    def __init__(self, radius):\n",
    "        self._radius = radius\n",
    "\n",
    "    def area(self):\n",
    "        return 3.14 * self._radius ** 2\n",
    "\n",
    "circle1 = Circle(5)\n",
    "\n",
    "print(\"Area of the circle:\", circle1.area())\n"
   ]
  },
  {
   "cell_type": "markdown",
   "id": "e5e5148f",
   "metadata": {},
   "source": [
    "Sol 11"
   ]
  },
  {
   "cell_type": "code",
   "execution_count": 3,
   "id": "c3cf6e08",
   "metadata": {},
   "outputs": [
    {
     "name": "stdout",
     "output_type": "stream",
     "text": [
      "The car has started\n",
      "The car has stopped\n",
      "The bike has started\n",
      "The bike has stopped\n"
     ]
    }
   ],
   "source": [
    "from abc import ABC, abstractmethod\n",
    "\n",
    "class vehicle:\n",
    "    \n",
    "    @abstractmethod\n",
    "    def start(self):\n",
    "        raise NotImplementedError(\"Subclasses must implement this method\")\n",
    "    \n",
    "    @abstractmethod\n",
    "    def stop(self):\n",
    "        raise NotImplementedError(\"Subclasses must implement this method\")\n",
    "        \n",
    "class Car(vehicle):\n",
    "    \n",
    "    def start(self):\n",
    "        print(\"The car has started\")\n",
    "        \n",
    "    def stop(self):\n",
    "        print(\"The car has stopped\")\n",
    "        \n",
    "class Bike(vehicle):\n",
    "    \n",
    "    def start(self):\n",
    "        print(\"The bike has started\")\n",
    "        \n",
    "    def stop(self):\n",
    "        print(\"The bike has stopped\")\n",
    "        \n",
    "car = Car()\n",
    "bike = Bike()\n",
    "\n",
    "car.start()\n",
    "car.stop()\n",
    "bike.start()\n",
    "bike.stop()"
   ]
  },
  {
   "cell_type": "markdown",
   "id": "a05ff09a",
   "metadata": {},
   "source": [
    "Sol 12"
   ]
  },
  {
   "cell_type": "markdown",
   "id": "176db57a",
   "metadata": {},
   "source": [
    "Abstract properties in Python are used to define properties in abstract classes without providing an implementation. They serve as placeholders for properties that must be implemented by subclasses. Abstract properties are created using the @property decorator along with the abstractmethod decorator from the abc module (Abstract Base Classes)."
   ]
  },
  {
   "cell_type": "markdown",
   "id": "c43a02e1",
   "metadata": {},
   "source": [
    "Sol 13"
   ]
  },
  {
   "cell_type": "code",
   "execution_count": 4,
   "id": "d9e76043",
   "metadata": {},
   "outputs": [
    {
     "name": "stdout",
     "output_type": "stream",
     "text": [
      "Manager's salary : 50000'\n",
      "developer's salary : 40000'\n",
      "designer's salary : 30000'\n"
     ]
    }
   ],
   "source": [
    "class Employee:\n",
    "    \n",
    "    def __init__(self, role):\n",
    "        self.role = role\n",
    "    \n",
    "    def calculate_salary(self):\n",
    "        raise NotImplementedError(\"Subclass must implement this abstract class\")\n",
    "\n",
    "class manager(Employee):\n",
    "    \n",
    "    def __init__(self, salary):\n",
    "        super().__init__(\"Manager\")\n",
    "        self.salary = salary\n",
    "    \n",
    "    def calculate_salary(self):\n",
    "        return self.salary\n",
    "\n",
    "class developer(Employee):\n",
    "    \n",
    "    def __init__(self, salary):\n",
    "        super().__init__(\"developer\")\n",
    "        self.salary = salary\n",
    "    \n",
    "    def calculate_salary(self):\n",
    "        return self.salary\n",
    "\n",
    "class designer(Employee):\n",
    "    \n",
    "    def __init__(self, salary):\n",
    "        super().__init__(\"designer\")\n",
    "        self.salary = salary\n",
    "    \n",
    "    def calculate_salary(self):\n",
    "        return self.salary\n",
    "    \n",
    "manager = manager(50000)\n",
    "developer = developer(40000)\n",
    "designer = designer(30000)\n",
    "\n",
    "employees = [manager, developer, designer]\n",
    "\n",
    "for emp in employees:\n",
    "    print(f\"{emp.role}'s salary : {emp.calculate_salary()}'\")"
   ]
  },
  {
   "cell_type": "markdown",
   "id": "bd7ef6cb",
   "metadata": {},
   "source": [
    "Sol 14"
   ]
  },
  {
   "cell_type": "markdown",
   "id": "d8e94b14",
   "metadata": {},
   "source": [
    "Abstract Classes:\n",
    "Abstract classes are classes that cannot be instantiated on their own.\n",
    "They are meant to be subclasses and serve as a blueprint for other classes.\n",
    "Abstract classes can contain abstract methods, which are methods without implementation. Subclasses must implement these methods.\n",
    "Abstract classes are typically defined using the abc module in Python, and the abstractmethod decorator is used to mark methods as abstract.\n",
    "Instantiation of an abstract class directly will result in an error.\n",
    "\n",
    "Concrete Classes:\n",
    "Concrete classes are classes that can be instantiated directly.\n",
    "They provide concrete implementations for all their methods, including any abstract methods inherited from abstract classes.\n",
    "Concrete classes can also have additional methods and attributes that are specific to them.\n",
    "Concrete classes can inherit from abstract classes and provide implementations for all abstract methods, making them concrete subclasses.\n",
    "Instantiation of a concrete class is done by calling its constructor (the __init__ method) with appropriate arguments."
   ]
  },
  {
   "cell_type": "markdown",
   "id": "843faa79",
   "metadata": {},
   "source": [
    "Sol 15"
   ]
  },
  {
   "cell_type": "markdown",
   "id": "b5cd69c6",
   "metadata": {},
   "source": [
    "Abstract Data Types (ADTs) refer to a mathematical model for data types where the behavior of a data type is defined by a set of values and a set of operations that can be performed on those values. ADTs focus on what operations can be performed on the data and what behavior is expected, rather than the implementation details."
   ]
  },
  {
   "cell_type": "markdown",
   "id": "a07a0bb1",
   "metadata": {},
   "source": [
    "Sol 16"
   ]
  },
  {
   "cell_type": "code",
   "execution_count": 5,
   "id": "662dcfb9",
   "metadata": {},
   "outputs": [
    {
     "name": "stdout",
     "output_type": "stream",
     "text": [
      "Desktop: Powering on...\n",
      "Desktop: Shutting down...\n",
      "Laptop: Powering on...\n",
      "Laptop: Shutting down...\n"
     ]
    }
   ],
   "source": [
    "from abc import ABC, abstractmethod\n",
    "\n",
    "class ComputerSystem(ABC):\n",
    "    @abstractmethod\n",
    "    def power_on(self):\n",
    "        pass\n",
    "\n",
    "    @abstractmethod\n",
    "    def shutdown(self):\n",
    "        pass\n",
    "\n",
    "class Desktop(ComputerSystem):\n",
    "    def power_on(self):\n",
    "        print(\"Desktop: Powering on...\")\n",
    "\n",
    "    def shutdown(self):\n",
    "        print(\"Desktop: Shutting down...\")\n",
    "\n",
    "class Laptop(ComputerSystem):\n",
    "    def power_on(self):\n",
    "        print(\"Laptop: Powering on...\")\n",
    "\n",
    "    def shutdown(self):\n",
    "        print(\"Laptop: Shutting down...\")\n",
    "\n",
    "desktop = Desktop()\n",
    "laptop = Laptop()\n",
    "\n",
    "desktop.power_on()\n",
    "desktop.shutdown()\n",
    "\n",
    "laptop.power_on()\n",
    "laptop.shutdown()\n"
   ]
  },
  {
   "cell_type": "markdown",
   "id": "0f8da313",
   "metadata": {},
   "source": [
    "Sol 17"
   ]
  },
  {
   "cell_type": "markdown",
   "id": "f2b4ae3c",
   "metadata": {},
   "source": [
    "Abstraction in large-scale software projects provides modularization, encapsulation, and code reusability. It simplifies maintenance, supports scalability, and enhances team collaboration. This approach streamlines development, improves code quality, and ensures adaptability to changing requirements and technologies."
   ]
  },
  {
   "cell_type": "markdown",
   "id": "b79be285",
   "metadata": {},
   "source": [
    "Sol 18"
   ]
  },
  {
   "cell_type": "markdown",
   "id": "abc981f4",
   "metadata": {},
   "source": [
    "Abstraction in Python enhances code reusability and modularity by allowing developers to create reusable components with well-defined interfaces. By abstracting away implementation details, modules become independent and can be easily reused in different parts of the program or in other projects."
   ]
  },
  {
   "cell_type": "markdown",
   "id": "c44a4e21",
   "metadata": {},
   "source": [
    "Sol 19"
   ]
  },
  {
   "cell_type": "code",
   "execution_count": 9,
   "id": "beb2d3d8",
   "metadata": {},
   "outputs": [
    {
     "name": "stdout",
     "output_type": "stream",
     "text": [
      "Book 'The Great Gatsby' by F. Scott Fitzgerald added to the library.\n",
      "Book 'To Kill a Mockingbird' by Harper Lee added to the library.\n",
      "Book 'The Great Gatsby' borrowed from the library.\n",
      "Book '1984' is not available in the library.\n",
      "Book 'The Great Gatsby' returned to the library.\n",
      "Book '1984' returned to the library.\n"
     ]
    }
   ],
   "source": [
    "from abc import ABC, abstractmethod\n",
    "\n",
    "class LibrarySystem(ABC):\n",
    "    def __init__(self):\n",
    "        self.books = {}\n",
    "\n",
    "    @abstractmethod\n",
    "    def add_book(self, book_title, author):\n",
    "        pass\n",
    "\n",
    "    @abstractmethod\n",
    "    def borrow_book(self, book_title):\n",
    "        pass\n",
    "\n",
    "    @abstractmethod\n",
    "    def return_book(self, book_title):\n",
    "        pass\n",
    "\n",
    "class MyLibrary(LibrarySystem):\n",
    "    def add_book(self, book_title, author):\n",
    "        if book_title not in self.books:\n",
    "            self.books[book_title] = author\n",
    "            print(f\"Book '{book_title}' by {author} added to the library.\")\n",
    "        else:\n",
    "            print(f\"Book '{book_title}' already exists in the library.\")\n",
    "\n",
    "    def borrow_book(self, book_title):\n",
    "        if book_title in self.books:\n",
    "            del self.books[book_title]\n",
    "            print(f\"Book '{book_title}' borrowed from the library.\")\n",
    "        else:\n",
    "            print(f\"Book '{book_title}' is not available in the library.\")\n",
    "\n",
    "    def return_book(self, book_title, author):\n",
    "        if book_title not in self.books:\n",
    "            self.books[book_title] = author\n",
    "            print(f\"Book '{book_title}' returned to the library.\")\n",
    "        else:\n",
    "            print(f\"Book '{book_title}' is not borrowed.\")\n",
    "\n",
    "library = MyLibrary()\n",
    "library.add_book(\"The Great Gatsby\", \"F. Scott Fitzgerald\")\n",
    "library.add_book(\"To Kill a Mockingbird\", \"Harper Lee\")\n",
    "\n",
    "library.borrow_book(\"The Great Gatsby\")\n",
    "library.borrow_book(\"1984\")  # Book not in library\n",
    "\n",
    "library.return_book(\"The Great Gatsby\", \"F. Scott Fitzgerald\")\n",
    "library.return_book(\"1984\", \"Unknown\")  # Book not borrowed\n"
   ]
  },
  {
   "cell_type": "markdown",
   "id": "5c0e22e1",
   "metadata": {},
   "source": [
    "Sol 20"
   ]
  },
  {
   "cell_type": "markdown",
   "id": "903878c6",
   "metadata": {},
   "source": [
    "Method abstraction in Python refers to the process of defining methods in a way that their implementation details are hidden from the users of the class. Instead of exposing the internal implementation, method abstraction focuses on providing a clear and concise interface for interacting with objects. This allows users to work with objects at a higher level of abstraction, without needing to know the specifics of how methods are implemented."
   ]
  },
  {
   "cell_type": "markdown",
   "id": "3c33c5ad",
   "metadata": {},
   "source": [
    "## Composition"
   ]
  },
  {
   "cell_type": "markdown",
   "id": "6137d49e",
   "metadata": {},
   "source": [
    "Sol 1"
   ]
  },
  {
   "cell_type": "markdown",
   "id": "b08d10e4",
   "metadata": {},
   "source": [
    "Composition in Python is a design principle where complex objects are built by combining simpler objects. Instead of relying on inheritance, where objects inherit behavior and attributes from a parent class, composition involves creating objects that contain instances of other classes as attributes."
   ]
  },
  {
   "cell_type": "markdown",
   "id": "2ec5c947",
   "metadata": {},
   "source": [
    "Sol 2"
   ]
  },
  {
   "cell_type": "markdown",
   "id": "8183fe1b",
   "metadata": {},
   "source": [
    "Composition: Combines simpler objects to create a complex object. It has a \"has-a\" relationship, promoting flexibility and code reuse.\n",
    "\n",
    "Inheritance: Allows a subclass to inherit attributes and methods from a superclass. It has an \"is-a\" relationship, promoting code reuse and polymorphism."
   ]
  },
  {
   "cell_type": "markdown",
   "id": "8803be7d",
   "metadata": {},
   "source": [
    "Sol 3"
   ]
  },
  {
   "cell_type": "code",
   "execution_count": 13,
   "id": "881eeaf2",
   "metadata": {},
   "outputs": [
    {
     "name": "stdout",
     "output_type": "stream",
     "text": [
      "Author's name :  Meghna Chakraborty\n"
     ]
    }
   ],
   "source": [
    "class Author:\n",
    "    \n",
    "    def __init__(self, name, birthday):\n",
    "        self.name = name\n",
    "        self.birthday = birthday\n",
    "        \n",
    "class Book:\n",
    "    \n",
    "    def __init__(self, name, author):\n",
    "        self.name = name\n",
    "        self.author = author\n",
    "    \n",
    "author = Author('Meghna Chakraborty', '26 September,2000')\n",
    "book = Book('Data Science', author)\n",
    "\n",
    "print(\"Author's name : \", book.author.name)"
   ]
  },
  {
   "cell_type": "markdown",
   "id": "0c970998",
   "metadata": {},
   "source": [
    "Sol 4"
   ]
  },
  {
   "cell_type": "markdown",
   "id": "cdbbc364",
   "metadata": {},
   "source": [
    "Flexibility: Composition allows for more flexible relationships between classes, enabling easier modification and combination of components.\n",
    "\n",
    "Code Reusability: Composition promotes code reusability by encouraging the creation of smaller, reusable components that can be used in different contexts."
   ]
  },
  {
   "cell_type": "markdown",
   "id": "017af95a",
   "metadata": {},
   "source": [
    "Sol 5"
   ]
  },
  {
   "cell_type": "markdown",
   "id": "0d7e22fa",
   "metadata": {},
   "source": [
    "In Python, composition can be implemented by creating classes that contain instances of other classes as attributes. These attributes represent the parts or components of the complex object, and by combining them, we can create more sophisticated and flexible structures."
   ]
  },
  {
   "cell_type": "code",
   "execution_count": 14,
   "id": "d92900fd",
   "metadata": {},
   "outputs": [
    {
     "name": "stdout",
     "output_type": "stream",
     "text": [
      "Engine started.\n",
      "Wheel rotating.\n",
      "Wheel rotating.\n",
      "Wheel rotating.\n",
      "Wheel rotating.\n"
     ]
    }
   ],
   "source": [
    "class Engine:\n",
    "    def start(self):\n",
    "        print(\"Engine started.\")\n",
    "\n",
    "class Wheel:\n",
    "    def rotate(self):\n",
    "        print(\"Wheel rotating.\")\n",
    "\n",
    "class Car:\n",
    "    def __init__(self):\n",
    "        self.engine = Engine()\n",
    "        self.front_left_wheel = Wheel()\n",
    "        self.front_right_wheel = Wheel()\n",
    "        self.rear_left_wheel = Wheel()\n",
    "        self.rear_right_wheel = Wheel()\n",
    "\n",
    "    def start(self):\n",
    "        self.engine.start()\n",
    "        self.front_left_wheel.rotate()\n",
    "        self.front_right_wheel.rotate()\n",
    "        self.rear_left_wheel.rotate()\n",
    "        self.rear_right_wheel.rotate()\n",
    "\n",
    "my_car = Car()\n",
    "my_car.start()\n"
   ]
  },
  {
   "cell_type": "markdown",
   "id": "a85a7655",
   "metadata": {},
   "source": [
    "Sol 6"
   ]
  },
  {
   "cell_type": "code",
   "execution_count": 1,
   "id": "070bd9ab",
   "metadata": {},
   "outputs": [
    {
     "name": "stdout",
     "output_type": "stream",
     "text": [
      "Playing My Playlist:\n",
      "Playlist: My Playlist\n",
      "Song One by Artist A (210s)\n",
      "Song Two by Artist B (180s)\n"
     ]
    }
   ],
   "source": [
    "class Song:\n",
    "    def __init__(self, title, artist, duration):\n",
    "        self.title = title\n",
    "        self.artist = artist\n",
    "        self.duration = duration  # duration in seconds\n",
    "\n",
    "    def __str__(self):\n",
    "        return f\"{self.title} by {self.artist} ({self.duration}s)\"\n",
    "\n",
    "class Playlist:\n",
    "    def __init__(self, name):\n",
    "        self.name = name\n",
    "        self.songs = []\n",
    "\n",
    "    def add_song(self, song):\n",
    "        self.songs.append(song)\n",
    "\n",
    "    def __str__(self):\n",
    "        song_list = \"\\n\".join(str(song) for song in self.songs)\n",
    "        return f\"Playlist: {self.name}\\n{song_list}\"\n",
    "\n",
    "class MusicPlayer:\n",
    "    def __init__(self):\n",
    "        self.playlists = []\n",
    "\n",
    "    def add_playlist(self, playlist):\n",
    "        self.playlists.append(playlist)\n",
    "\n",
    "    def play(self, playlist_name):\n",
    "        for playlist in self.playlists:\n",
    "            if playlist.name == playlist_name:\n",
    "                print(f\"Playing {playlist.name}:\\n{playlist}\")\n",
    "                return\n",
    "        print(\"Playlist not found.\")\n",
    "\n",
    "if __name__ == \"__main__\":\n",
    "    song1 = Song(\"Song One\", \"Artist A\", 210)\n",
    "    song2 = Song(\"Song Two\", \"Artist B\", 180)\n",
    "\n",
    "    playlist = Playlist(\"My Playlist\")\n",
    "    playlist.add_song(song1)\n",
    "    playlist.add_song(song2)\n",
    "\n",
    "    player = MusicPlayer()\n",
    "    player.add_playlist(playlist)\n",
    "\n",
    "    player.play(\"My Playlist\")\n"
   ]
  },
  {
   "cell_type": "markdown",
   "id": "522bb185",
   "metadata": {},
   "source": [
    "Sol 7"
   ]
  },
  {
   "cell_type": "markdown",
   "id": "01458dd9",
   "metadata": {},
   "source": [
    "A \"has-a\" relationship, known as composition in object-oriented programming, refers to the design principle where a class contains instances of other classes, establishing a part-whole relationship. This allows for complex systems to be constructed from simpler, reusable components. For example, a MusicPlayer class can contain multiple Playlist objects, each of which contains Song objects. This approach promotes modularity, flexibility, and encapsulation, making systems easier to manage, extend, and maintain compared to the inheritance-based \"is-a\" relationship. Composition emphasizes the roles and responsibilities of different parts of a system, leading to more robust and adaptable software designs."
   ]
  },
  {
   "cell_type": "markdown",
   "id": "a0d56579",
   "metadata": {},
   "source": [
    "Sol 8"
   ]
  },
  {
   "cell_type": "code",
   "execution_count": 3,
   "id": "8ca97a59",
   "metadata": {},
   "outputs": [
    {
     "name": "stdout",
     "output_type": "stream",
     "text": [
      "Computer System:\n",
      "CPU: AMD Ryzen 5, 6 cores @ 3.7GHz\n",
      "RAM: 16GB @ 3200MHz\n",
      "SSD Storage: 512GB\n"
     ]
    }
   ],
   "source": [
    "class CPU:\n",
    "    def __init__(self, model, cores, clock_speed):\n",
    "        self.model = model\n",
    "        self.cores = cores\n",
    "        self.clock_speed = clock_speed  # in GHz\n",
    "\n",
    "    def __str__(self):\n",
    "        return f\"CPU: {self.model}, {self.cores} cores @ {self.clock_speed}GHz\"\n",
    "\n",
    "class RAM:\n",
    "    def __init__(self, size, speed):\n",
    "        self.size = size  # in GB\n",
    "        self.speed = speed  # in MHz\n",
    "\n",
    "    def __str__(self):\n",
    "        return f\"RAM: {self.size}GB @ {self.speed}MHz\"\n",
    "\n",
    "class Storage:\n",
    "    def __init__(self, type, capacity):\n",
    "        self.type = type  # SSD or HDD\n",
    "        self.capacity = capacity  # in GB\n",
    "\n",
    "    def __str__(self):\n",
    "        return f\"{self.type} Storage: {self.capacity}GB\"\n",
    "\n",
    "class ComputerSystem:\n",
    "    def __init__(self, cpu, ram, storage):\n",
    "        self.cpu = cpu\n",
    "        self.ram = ram\n",
    "        self.storage = storage\n",
    "\n",
    "    def __str__(self):\n",
    "        return f\"Computer System:\\n{self.cpu}\\n{self.ram}\\n{self.storage}\"\n",
    "\n",
    "if __name__ == \"__main__\":\n",
    "    cpu = CPU(\"AMD Ryzen 5\", 6, 3.7)\n",
    "    ram = RAM(16, 3200)\n",
    "    storage = Storage(\"SSD\", 512)\n",
    "\n",
    "    computer = ComputerSystem(cpu, ram, storage)\n",
    "\n",
    "    print(computer)\n"
   ]
  },
  {
   "cell_type": "markdown",
   "id": "0427d668",
   "metadata": {},
   "source": [
    "Sol 9"
   ]
  },
  {
   "cell_type": "markdown",
   "id": "cab1201c",
   "metadata": {},
   "source": [
    "Delegation in composition refers to the practice where an object handles a request by delegating the responsibility to one of its component objects, rather than handling the request itself. This approach allows a class to use the behavior of another class, promoting code reuse and separation of concerns. By delegating tasks to specialized components, complex systems become simpler to design and maintain, as each component focuses on its specific responsibility, making the overall system more modular, flexible, and easier to understand and extend."
   ]
  },
  {
   "cell_type": "markdown",
   "id": "2c634edf",
   "metadata": {},
   "source": [
    "Sol 10"
   ]
  },
  {
   "cell_type": "code",
   "execution_count": 4,
   "id": "bebc53ae",
   "metadata": {},
   "outputs": [
    {
     "name": "stdout",
     "output_type": "stream",
     "text": [
      "Car Details:\n",
      "Engine: 300 HP, V6\n",
      "Transmission: Automatic\n",
      "Wheels:\n",
      "Wheel: 18 inches\n",
      "Wheel: 18 inches\n",
      "Wheel: 18 inches\n",
      "Wheel: 18 inches\n"
     ]
    }
   ],
   "source": [
    "class Engine:\n",
    "    def __init__(self, horsepower, type):\n",
    "        self.horsepower = horsepower\n",
    "        self.type = type  # e.g., \"V6\", \"Electric\"\n",
    "\n",
    "    def __str__(self):\n",
    "        return f\"Engine: {self.horsepower} HP, {self.type}\"\n",
    "\n",
    "class Wheel:\n",
    "    def __init__(self, size):\n",
    "        self.size = size  # size in inches\n",
    "\n",
    "    def __str__(self):\n",
    "        return f\"Wheel: {self.size} inches\"\n",
    "\n",
    "class Transmission:\n",
    "    def __init__(self, type):\n",
    "        self.type = type  # e.g., \"Automatic\", \"Manual\"\n",
    "\n",
    "    def __str__(self):\n",
    "        return f\"Transmission: {self.type}\"\n",
    "\n",
    "class Car:\n",
    "    def __init__(self, engine, wheels, transmission):\n",
    "        self.engine = engine\n",
    "        self.wheels = wheels  # list of Wheel objects\n",
    "        self.transmission = transmission\n",
    "\n",
    "    def __str__(self):\n",
    "        wheels_info = \"\\n\".join(str(wheel) for wheel in self.wheels)\n",
    "        return f\"Car Details:\\n{self.engine}\\n{self.transmission}\\nWheels:\\n{wheels_info}\"\n",
    "\n",
    "if __name__ == \"__main__\":\n",
    "    engine = Engine(300, \"V6\")\n",
    "    wheels = [Wheel(18) for _ in range(4)]\n",
    "    transmission = Transmission(\"Automatic\")\n",
    "\n",
    "    car = Car(engine, wheels, transmission)\n",
    "\n",
    "    print(car)\n"
   ]
  },
  {
   "cell_type": "markdown",
   "id": "78090be4",
   "metadata": {},
   "source": [
    "Sol 11"
   ]
  },
  {
   "cell_type": "markdown",
   "id": "d781e798",
   "metadata": {},
   "source": [
    "In Python, encapsulation and abstraction can be maintained by controlling access to the internal components of composed objects through methods and properties. By providing only essential interfaces for interacting with the composed objects, the implementation details are hidden from external users. This ensures that changes to the internal structure of composed objects do not affect the external code that relies on them, promoting modularity and reducing dependencies. Additionally, using access control mechanisms like private variables and methods ensures that the internal state of composed objects remains consistent and cannot be directly modified from outside the class, further enhancing encapsulation and abstraction."
   ]
  },
  {
   "cell_type": "markdown",
   "id": "a47fad3d",
   "metadata": {},
   "source": [
    "Sol 12"
   ]
  },
  {
   "cell_type": "code",
   "execution_count": 6,
   "id": "0b1e5370",
   "metadata": {},
   "outputs": [
    {
     "name": "stdout",
     "output_type": "stream",
     "text": [
      "Course: CS101 - Introduction to Programming\n",
      "Instructor: Instructor: Dr. Smith, ID: 1234\n",
      "Students:\n",
      "Student: Alice, ID: S123\n",
      "Student: Bob, ID: S456\n",
      "Course Materials:\n",
      "Course Material: Lecture Slides\n",
      "Course Material: Assignments\n"
     ]
    }
   ],
   "source": [
    "class Student:\n",
    "    def __init__(self, name, student_id):\n",
    "        self.name = name\n",
    "        self.student_id = student_id\n",
    "\n",
    "    def __str__(self):\n",
    "        return f\"Student: {self.name}, ID: {self.student_id}\"\n",
    "\n",
    "class Instructor:\n",
    "    def __init__(self, name, instructor_id):\n",
    "        self.name = name\n",
    "        self.instructor_id = instructor_id\n",
    "\n",
    "    def __str__(self):\n",
    "        return f\"Instructor: {self.name}, ID: {self.instructor_id}\"\n",
    "\n",
    "class CourseMaterial:\n",
    "    def __init__(self, title, content):\n",
    "        self.title = title\n",
    "        self.content = content\n",
    "\n",
    "    def __str__(self):\n",
    "        return f\"Course Material: {self.title}\"\n",
    "\n",
    "class UniversityCourse:\n",
    "    def __init__(self, course_code, course_name, instructor, students, course_materials):\n",
    "        self.course_code = course_code\n",
    "        self.course_name = course_name\n",
    "        self.instructor = instructor\n",
    "        self.students = students  # list of Student objects\n",
    "        self.course_materials = course_materials  # list of CourseMaterial objects\n",
    "\n",
    "    def __str__(self):\n",
    "        students_info = \"\\n\".join(str(student) for student in self.students)\n",
    "        materials_info = \"\\n\".join(str(material) for material in self.course_materials)\n",
    "        return f\"Course: {self.course_code} - {self.course_name}\\nInstructor: {self.instructor}\\nStudents:\\n{students_info}\\nCourse Materials:\\n{materials_info}\"\n",
    "\n",
    "if __name__ == \"__main__\":\n",
    "    instructor = Instructor(\"Dr. Smith\", \"1234\")\n",
    "    students = [Student(\"Alice\", \"S123\"), Student(\"Bob\", \"S456\")]\n",
    "    materials = [CourseMaterial(\"Lecture Slides\", \"Introduction to Python\"), CourseMaterial(\"Assignments\", \"Problem sets\")]\n",
    "\n",
    "    course = UniversityCourse(\"CS101\", \"Introduction to Programming\", instructor, students, materials)\n",
    "\n",
    "    print(course)\n"
   ]
  },
  {
   "cell_type": "markdown",
   "id": "c34a0d28",
   "metadata": {},
   "source": [
    "Sol 13"
   ]
  },
  {
   "cell_type": "markdown",
   "id": "10c828bc",
   "metadata": {},
   "source": [
    "While composition offers numerous benefits, such as modularity and flexibility, it also poses challenges and drawbacks. One significant challenge is the potential for increased complexity, especially in systems with deeply nested compositions. Managing the interactions and dependencies between multiple components can become cumbersome, leading to code that is harder to understand and maintain. Additionally, there's a risk of tight coupling between objects, where changes in one component may require modifications in many others, making the system less adaptable to change. Careful design and abstraction are necessary to mitigate these challenges and ensure that the benefits of composition are maximized while minimizing its drawbacks."
   ]
  },
  {
   "cell_type": "markdown",
   "id": "be184267",
   "metadata": {},
   "source": [
    "Sol 14"
   ]
  },
  {
   "cell_type": "code",
   "execution_count": 8,
   "id": "225237c7",
   "metadata": {},
   "outputs": [
    {
     "name": "stdout",
     "output_type": "stream",
     "text": [
      "Restaurant: Fine Dining Restaurant\n",
      "\n",
      "Menu: Italian Cuisine\n",
      "\n",
      "Dish: Margherita Pizza\n",
      "Ingredients:\n",
      "Tomato: 200g/ml\n",
      "Cheese: 100g/ml\n",
      "\n",
      "Menu: Indian Cuisine\n",
      "\n",
      "Dish: Chicken Curry\n",
      "Ingredients:\n",
      "Chicken: 300g/ml\n",
      "Spices: 50g/ml\n"
     ]
    }
   ],
   "source": [
    "class Ingredient:\n",
    "    def __init__(self, name, quantity):\n",
    "        self.name = name\n",
    "        self.quantity = quantity  # in grams or milliliters\n",
    "\n",
    "    def __str__(self):\n",
    "        return f\"{self.name}: {self.quantity}g/ml\"\n",
    "\n",
    "class Dish:\n",
    "    def __init__(self, name, ingredients):\n",
    "        self.name = name\n",
    "        self.ingredients = ingredients  # list of Ingredient objects\n",
    "\n",
    "    def __str__(self):\n",
    "        ingredients_info = \"\\n\".join(str(ingredient) for ingredient in self.ingredients)\n",
    "        return f\"Dish: {self.name}\\nIngredients:\\n{ingredients_info}\"\n",
    "\n",
    "class Menu:\n",
    "    def __init__(self, name, dishes):\n",
    "        self.name = name\n",
    "        self.dishes = dishes  # list of Dish objects\n",
    "\n",
    "    def __str__(self):\n",
    "        dishes_info = \"\\n\\n\".join(str(dish) for dish in self.dishes)\n",
    "        return f\"Menu: {self.name}\\n\\n{dishes_info}\"\n",
    "\n",
    "class Restaurant:\n",
    "    def __init__(self, name, menus):\n",
    "        self.name = name\n",
    "        self.menus = menus  \n",
    "\n",
    "    def __str__(self):\n",
    "        menus_info = \"\\n\\n\".join(str(menu) for menu in self.menus)\n",
    "        return f\"Restaurant: {self.name}\\n\\n{menus_info}\"\n",
    "\n",
    "\n",
    "if __name__ == \"__main__\":\n",
    "    ingredient1 = Ingredient(\"Tomato\", 200)\n",
    "    ingredient2 = Ingredient(\"Cheese\", 100)\n",
    "    dish1 = Dish(\"Margherita Pizza\", [ingredient1, ingredient2])\n",
    "\n",
    "    ingredient3 = Ingredient(\"Chicken\", 300)\n",
    "    ingredient4 = Ingredient(\"Spices\", 50)\n",
    "    dish2 = Dish(\"Chicken Curry\", [ingredient3, ingredient4])\n",
    "\n",
    "    menu1 = Menu(\"Italian Cuisine\", [dish1])\n",
    "    menu2 = Menu(\"Indian Cuisine\", [dish2])\n",
    "\n",
    "    restaurant = Restaurant(\"Fine Dining Restaurant\", [menu1, menu2])\n",
    "\n",
    "    print(restaurant)\n"
   ]
  },
  {
   "cell_type": "markdown",
   "id": "0a9688e2",
   "metadata": {},
   "source": [
    "Sol 15"
   ]
  },
  {
   "cell_type": "markdown",
   "id": "45281ebe",
   "metadata": {},
   "source": [
    "Composition enhances code maintainability and modularity in Python programs by promoting a modular design where complex systems are built from smaller, reusable components. By encapsulating functionality within separate classes and composing them together, each component can be developed, tested, and maintained independently, reducing dependencies and allowing for easier debugging and updates. This modular approach also improves code readability and reusability, as components can be easily swapped or extended without impacting the entire system, leading to more flexible and maintainable codebases.\n",
    "\n",
    "\n",
    "\n",
    "\n",
    "\n",
    "\n",
    "\n"
   ]
  },
  {
   "cell_type": "markdown",
   "id": "7eca844f",
   "metadata": {},
   "source": [
    "Sol 16"
   ]
  },
  {
   "cell_type": "code",
   "execution_count": 9,
   "id": "87ad3255",
   "metadata": {},
   "outputs": [
    {
     "name": "stdout",
     "output_type": "stream",
     "text": [
      "Character: Hero\n",
      "Level: 5\n",
      "Weapon: Weapon: Sword, Damage: 20\n",
      "Armor: Armor: Plate Mail, Defense: 30\n",
      "Inventory:\n",
      "Item: Health Potion, Quantity: 3\n",
      "Item: Mana Potion, Quantity: 5\n"
     ]
    }
   ],
   "source": [
    "class Weapon:\n",
    "    def __init__(self, name, damage):\n",
    "        self.name = name\n",
    "        self.damage = damage\n",
    "\n",
    "    def __str__(self):\n",
    "        return f\"Weapon: {self.name}, Damage: {self.damage}\"\n",
    "\n",
    "class Armor:\n",
    "    def __init__(self, name, defense):\n",
    "        self.name = name\n",
    "        self.defense = defense\n",
    "\n",
    "    def __str__(self):\n",
    "        return f\"Armor: {self.name}, Defense: {self.defense}\"\n",
    "\n",
    "class Item:\n",
    "    def __init__(self, name, quantity):\n",
    "        self.name = name\n",
    "        self.quantity = quantity\n",
    "\n",
    "    def __str__(self):\n",
    "        return f\"Item: {self.name}, Quantity: {self.quantity}\"\n",
    "\n",
    "class Character:\n",
    "    def __init__(self, name, level, weapon=None, armor=None, inventory=None):\n",
    "        self.name = name\n",
    "        self.level = level\n",
    "        self.weapon = weapon\n",
    "        self.armor = armor\n",
    "        self.inventory = inventory if inventory else []\n",
    "\n",
    "    def equip_weapon(self, weapon):\n",
    "        self.weapon = weapon\n",
    "\n",
    "    def equip_armor(self, armor):\n",
    "        self.armor = armor\n",
    "\n",
    "    def add_item_to_inventory(self, item):\n",
    "        self.inventory.append(item)\n",
    "\n",
    "    def __str__(self):\n",
    "        weapon_info = f\"Weapon: {self.weapon}\" if self.weapon else \"No Weapon Equipped\"\n",
    "        armor_info = f\"Armor: {self.armor}\" if self.armor else \"No Armor Equipped\"\n",
    "        inventory_info = \"\\n\".join(str(item) for item in self.inventory)\n",
    "        return f\"Character: {self.name}\\nLevel: {self.level}\\n{weapon_info}\\n{armor_info}\\nInventory:\\n{inventory_info}\"\n",
    "\n",
    "if __name__ == \"__main__\":\n",
    "    weapon = Weapon(\"Sword\", 20)\n",
    "    armor = Armor(\"Plate Mail\", 30)\n",
    "    item1 = Item(\"Health Potion\", 3)\n",
    "    item2 = Item(\"Mana Potion\", 5)\n",
    "\n",
    "    character = Character(\"Hero\", 5, weapon, armor, [item1, item2])\n",
    "\n",
    "    print(character)\n"
   ]
  },
  {
   "cell_type": "markdown",
   "id": "01715990",
   "metadata": {},
   "source": [
    "Sol 17"
   ]
  },
  {
   "cell_type": "markdown",
   "id": "219fb798",
   "metadata": {},
   "source": [
    "In composition, \"aggregation\" refers to a specific form of composing objects where one object (the whole) is composed of other objects (the parts), but the parts can exist independently of the whole. Unlike simple composition, where the lifetime of the composed objects is tied to the lifetime of the containing object, in aggregation, the composed objects can exist outside the scope of the containing object. Essentially, aggregation implies a \"has-a\" relationship, where the containing object is made up of other objects, but those objects can also exist on their own. This distinction is important because it allows for more flexibility and reusability in designing object-oriented systems, as the composed objects can be shared and reused in multiple contexts beyond just being part of the containing object."
   ]
  },
  {
   "cell_type": "markdown",
   "id": "6becd097",
   "metadata": {},
   "source": [
    "SOl 18"
   ]
  },
  {
   "cell_type": "code",
   "execution_count": 10,
   "id": "241b5d54",
   "metadata": {},
   "outputs": [
    {
     "name": "stdout",
     "output_type": "stream",
     "text": [
      "House:\n",
      "Room: Living Room\n",
      "Furniture:\n",
      "Furniture: Sofa\n",
      "Furniture: Coffee Table\n",
      "Appliances:\n",
      "Appliance: Television\n",
      "Appliance: Speaker\n",
      "\n",
      "Room: Kitchen\n",
      "Furniture:\n",
      "Furniture: Dining Table\n",
      "Furniture: Chairs\n",
      "Appliances:\n",
      "Appliance: Refrigerator\n",
      "Appliance: Oven\n",
      "\n",
      "Room: Bedroom\n",
      "Furniture:\n",
      "Furniture: Bed\n",
      "Furniture: Wardrobe\n",
      "Appliances:\n",
      "Appliance: Lamp\n",
      "Appliance: Alarm Clock\n"
     ]
    }
   ],
   "source": [
    "class Furniture:\n",
    "    def __init__(self, name):\n",
    "        self.name = name\n",
    "\n",
    "    def __str__(self):\n",
    "        return f\"Furniture: {self.name}\"\n",
    "\n",
    "class Appliance:\n",
    "    def __init__(self, name):\n",
    "        self.name = name\n",
    "\n",
    "    def __str__(self):\n",
    "        return f\"Appliance: {self.name}\"\n",
    "\n",
    "class Room:\n",
    "    def __init__(self, name, furniture=None, appliances=None):\n",
    "        self.name = name\n",
    "        self.furniture = furniture if furniture else []\n",
    "        self.appliances = appliances if appliances else []\n",
    "\n",
    "    def add_furniture(self, furniture):\n",
    "        self.furniture.append(furniture)\n",
    "\n",
    "    def add_appliance(self, appliance):\n",
    "        self.appliances.append(appliance)\n",
    "\n",
    "    def __str__(self):\n",
    "        furniture_info = \"\\n\".join(str(item) for item in self.furniture)\n",
    "        appliance_info = \"\\n\".join(str(item) for item in self.appliances)\n",
    "        return f\"Room: {self.name}\\nFurniture:\\n{furniture_info}\\nAppliances:\\n{appliance_info}\"\n",
    "\n",
    "class House:\n",
    "    def __init__(self, rooms):\n",
    "        self.rooms = rooms\n",
    "\n",
    "    def __str__(self):\n",
    "        rooms_info = \"\\n\\n\".join(str(room) for room in self.rooms)\n",
    "        return f\"House:\\n{rooms_info}\"\n",
    "\n",
    "if __name__ == \"__main__\":\n",
    "    living_room = Room(\"Living Room\", [Furniture(\"Sofa\"), Furniture(\"Coffee Table\")], [Appliance(\"Television\"), Appliance(\"Speaker\")])\n",
    "    kitchen = Room(\"Kitchen\", [Furniture(\"Dining Table\"), Furniture(\"Chairs\")], [Appliance(\"Refrigerator\"), Appliance(\"Oven\")])\n",
    "    bedroom = Room(\"Bedroom\", [Furniture(\"Bed\"), Furniture(\"Wardrobe\")], [Appliance(\"Lamp\"), Appliance(\"Alarm Clock\")])\n",
    "\n",
    "    house = House([living_room, kitchen, bedroom])\n",
    "\n",
    "    print(house)\n"
   ]
  },
  {
   "cell_type": "markdown",
   "id": "4df267a2",
   "metadata": {},
   "source": [
    "Sol 19"
   ]
  },
  {
   "cell_type": "markdown",
   "id": "c3abdb23",
   "metadata": {},
   "source": [
    "Flexibility in composed objects can be achieved by designing them to accept and interact with their components through abstract interfaces or protocols, rather than concrete implementations. This allows for dynamic replacement or modification of components at runtime without requiring changes to the containing object's code. By adhering to interfaces, different implementations of components can be seamlessly swapped or modified, providing flexibility and enabling the composed objects to adapt to changing requirements or user preferences without necessitating extensive code modifications or recompilation. This approach fosters modularity, extensibility, and maintainability in object-oriented systems."
   ]
  },
  {
   "cell_type": "markdown",
   "id": "c2a6f8c8",
   "metadata": {},
   "source": [
    "Sol 20"
   ]
  },
  {
   "cell_type": "code",
   "execution_count": 11,
   "id": "55590037",
   "metadata": {},
   "outputs": [
    {
     "name": "stdout",
     "output_type": "stream",
     "text": [
      "Social Media App\n",
      "Users:\n",
      "User: Alice\n",
      "Posts:\n",
      "Post by Alice:\n",
      "Hello, world!\n",
      "Comments:\n",
      "Charlie: Great post!\n",
      "\n",
      "User: Bob\n",
      "Posts:\n",
      "Post by Bob:\n",
      "Nice weather today!\n",
      "Comments:\n",
      "David: I agree.\n"
     ]
    }
   ],
   "source": [
    "class Comment:\n",
    "    def __init__(self, user, content):\n",
    "        self.user = user\n",
    "        self.content = content\n",
    "\n",
    "    def __str__(self):\n",
    "        return f\"{self.user}: {self.content}\"\n",
    "\n",
    "class Post:\n",
    "    def __init__(self, user, content):\n",
    "        self.user = user\n",
    "        self.content = content\n",
    "        self.comments = []\n",
    "\n",
    "    def add_comment(self, comment):\n",
    "        self.comments.append(comment)\n",
    "\n",
    "    def __str__(self):\n",
    "        comments_info = \"\\n\".join(str(comment) for comment in self.comments)\n",
    "        return f\"Post by {self.user}:\\n{self.content}\\nComments:\\n{comments_info}\"\n",
    "\n",
    "class User:\n",
    "    def __init__(self, username):\n",
    "        self.username = username\n",
    "        self.posts = []\n",
    "\n",
    "    def create_post(self, content):\n",
    "        post = Post(self.username, content)\n",
    "        self.posts.append(post)\n",
    "        return post\n",
    "\n",
    "    def __str__(self):\n",
    "        posts_info = \"\\n\\n\".join(str(post) for post in self.posts)\n",
    "        return f\"User: {self.username}\\nPosts:\\n{posts_info}\"\n",
    "\n",
    "class SocialMediaApp:\n",
    "    def __init__(self):\n",
    "        self.users = []\n",
    "\n",
    "    def create_user(self, username):\n",
    "        user = User(username)\n",
    "        self.users.append(user)\n",
    "        return user\n",
    "\n",
    "    def __str__(self):\n",
    "        users_info = \"\\n\\n\".join(str(user) for user in self.users)\n",
    "        return f\"Social Media App\\nUsers:\\n{users_info}\"\n",
    "\n",
    "# Example usage\n",
    "if __name__ == \"__main__\":\n",
    "    app = SocialMediaApp()\n",
    "\n",
    "    user1 = app.create_user(\"Alice\")\n",
    "    user2 = app.create_user(\"Bob\")\n",
    "\n",
    "    post1 = user1.create_post(\"Hello, world!\")\n",
    "    post2 = user2.create_post(\"Nice weather today!\")\n",
    "\n",
    "    post1.add_comment(Comment(\"Charlie\", \"Great post!\"))\n",
    "    post2.add_comment(Comment(\"David\", \"I agree.\"))\n",
    "\n",
    "    print(app)\n"
   ]
  },
  {
   "cell_type": "code",
   "execution_count": null,
   "id": "287c2a8f",
   "metadata": {},
   "outputs": [],
   "source": []
  }
 ],
 "metadata": {
  "kernelspec": {
   "display_name": "Python 3 (ipykernel)",
   "language": "python",
   "name": "python3"
  },
  "language_info": {
   "codemirror_mode": {
    "name": "ipython",
    "version": 3
   },
   "file_extension": ".py",
   "mimetype": "text/x-python",
   "name": "python",
   "nbconvert_exporter": "python",
   "pygments_lexer": "ipython3",
   "version": "3.9.7"
  }
 },
 "nbformat": 4,
 "nbformat_minor": 5
}

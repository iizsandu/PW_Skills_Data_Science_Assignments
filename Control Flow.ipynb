{
 "cells": [
  {
   "cell_type": "markdown",
   "id": "a361d660",
   "metadata": {},
   "source": [
    "## Basic If-Else Statements"
   ]
  },
  {
   "cell_type": "markdown",
   "id": "fe45297a",
   "metadata": {},
   "source": [
    "Sol 1"
   ]
  },
  {
   "cell_type": "code",
   "execution_count": 4,
   "id": "490b4997",
   "metadata": {},
   "outputs": [
    {
     "name": "stdout",
     "output_type": "stream",
     "text": [
      "Enter a number-41\n",
      "The given number is negative\n"
     ]
    }
   ],
   "source": [
    "n = int(input(\"Enter a number\"))\n",
    "if n>=0:\n",
    "    print(\"The given number is positive\")\n",
    "else:\n",
    "    print(\"The given number is negative\")"
   ]
  },
  {
   "cell_type": "markdown",
   "id": "7671ecd6",
   "metadata": {},
   "source": [
    "Sol 2"
   ]
  },
  {
   "cell_type": "code",
   "execution_count": 6,
   "id": "5a8eed33",
   "metadata": {},
   "outputs": [
    {
     "name": "stdout",
     "output_type": "stream",
     "text": [
      "Enter your age : 23\n",
      "You are eligible to vote \n"
     ]
    }
   ],
   "source": [
    "age = int(input(\"Enter your age : \"))\n",
    "if age>=18:\n",
    "    print(\"You are eligible to vote \")\n",
    "else:\n",
    "    print(\"You are not eligible to vote \")"
   ]
  },
  {
   "cell_type": "markdown",
   "id": "413c397f",
   "metadata": {},
   "source": [
    "Sol 3"
   ]
  },
  {
   "cell_type": "code",
   "execution_count": 8,
   "id": "98dfe8ae",
   "metadata": {},
   "outputs": [
    {
     "name": "stdout",
     "output_type": "stream",
     "text": [
      "Enter a number : 100\n",
      "Enter a number : 10\n",
      "100 is greater than 10\n"
     ]
    }
   ],
   "source": [
    "a = int(input(\"Enter a number : \"))\n",
    "b = int(input(\"Enter a number : \"))\n",
    "if a>b:\n",
    "    print(f\"{a} is greater than {b}\")\n",
    "else:\n",
    "    print(f\"{b} is greater than {a}\")"
   ]
  },
  {
   "cell_type": "markdown",
   "id": "3d858c6a",
   "metadata": {},
   "source": [
    "Sol 4"
   ]
  },
  {
   "cell_type": "code",
   "execution_count": 11,
   "id": "1a5b1a1e",
   "metadata": {},
   "outputs": [
    {
     "name": "stdout",
     "output_type": "stream",
     "text": [
      "Enter Year : 2024\n",
      "The year is leap year\n"
     ]
    }
   ],
   "source": [
    "def leap(year):\n",
    "    if year%4 == 0:\n",
    "        return True\n",
    "    else:\n",
    "        return False\n",
    "\n",
    "year = int(input(\"Enter Year : \"))\n",
    "if leap(year):\n",
    "    print(\"The year is leap year\")\n",
    "else:\n",
    "    print(\"The year is not leap year\")"
   ]
  },
  {
   "cell_type": "markdown",
   "id": "c69d4fab",
   "metadata": {},
   "source": [
    "Sol 5"
   ]
  },
  {
   "cell_type": "code",
   "execution_count": 1,
   "id": "f6a0ab0b",
   "metadata": {},
   "outputs": [
    {
     "name": "stdout",
     "output_type": "stream",
     "text": [
      "A is a vowel.\n"
     ]
    }
   ],
   "source": [
    "def check_vowel_consonant(char):\n",
    "    if char.lower() in ['a', 'e', 'i', 'o', 'u']:\n",
    "        return f\"{char} is a vowel.\"\n",
    "    else:\n",
    "        return f\"{char} is a consonant.\"\n",
    "\n",
    "result = check_vowel_consonant('A')\n",
    "print(result)"
   ]
  },
  {
   "cell_type": "markdown",
   "id": "96181bfd",
   "metadata": {},
   "source": [
    "Sol 6"
   ]
  },
  {
   "cell_type": "code",
   "execution_count": 2,
   "id": "dd532cba",
   "metadata": {},
   "outputs": [
    {
     "name": "stdout",
     "output_type": "stream",
     "text": [
      "7 is odd.\n"
     ]
    }
   ],
   "source": [
    "def check_even_odd(number):\n",
    "    if number % 2 == 0:\n",
    "        return f\"{number} is even.\"\n",
    "    else:\n",
    "        return f\"{number} is odd.\"\n",
    "result = check_even_odd(7)\n",
    "print(result)"
   ]
  },
  {
   "cell_type": "markdown",
   "id": "3991ada4",
   "metadata": {},
   "source": [
    "Sol 7"
   ]
  },
  {
   "cell_type": "code",
   "execution_count": 3,
   "id": "5a61dd08",
   "metadata": {},
   "outputs": [
    {
     "name": "stdout",
     "output_type": "stream",
     "text": [
      "The absolute value of -8 is 8.\n"
     ]
    }
   ],
   "source": [
    "def calculate_absolute_value(number):\n",
    "    if number < 0:\n",
    "        return f\"The absolute value of {number} is {-number}.\"\n",
    "    else:\n",
    "        return f\"The absolute value of {number} is {number}.\"\n",
    "\n",
    "result = calculate_absolute_value(-8)\n",
    "print(result)"
   ]
  },
  {
   "cell_type": "markdown",
   "id": "68b37715",
   "metadata": {},
   "source": [
    "Sol 8"
   ]
  },
  {
   "cell_type": "code",
   "execution_count": 4,
   "id": "ad5c4c83",
   "metadata": {},
   "outputs": [
    {
     "name": "stdout",
     "output_type": "stream",
     "text": [
      "22 is the largest.\n"
     ]
    }
   ],
   "source": [
    "def find_largest_of_three(num1, num2, num3):\n",
    "    if num1 >= num2 and num1 >= num3:\n",
    "        return f\"{num1} is the largest.\"\n",
    "    elif num2 >= num1 and num2 >= num3:\n",
    "        return f\"{num2} is the largest.\"\n",
    "    else:\n",
    "        return f\"{num3} is the largest.\"\n",
    "\n",
    "result = find_largest_of_three(14, 9, 22)\n",
    "print(result)"
   ]
  },
  {
   "cell_type": "markdown",
   "id": "ca72b77c",
   "metadata": {},
   "source": [
    "Sol 9"
   ]
  },
  {
   "cell_type": "code",
   "execution_count": 5,
   "id": "7ae30d33",
   "metadata": {},
   "outputs": [
    {
     "name": "stdout",
     "output_type": "stream",
     "text": [
      "level is a palindrome.\n"
     ]
    }
   ],
   "source": [
    "def is_palindrome(s):\n",
    "    s = s.lower()\n",
    "    reversed_s = s[::-1]\n",
    "    \n",
    "    if s == reversed_s:\n",
    "        return f\"{s} is a palindrome.\"\n",
    "    else:\n",
    "        return f\"{s} is not a palindrome.\"\n",
    "\n",
    "result = is_palindrome(\"level\")\n",
    "print(result)"
   ]
  },
  {
   "cell_type": "markdown",
   "id": "8deb7fa4",
   "metadata": {},
   "source": [
    "Sol 10"
   ]
  },
  {
   "cell_type": "code",
   "execution_count": 6,
   "id": "556337a4",
   "metadata": {},
   "outputs": [
    {
     "name": "stdout",
     "output_type": "stream",
     "text": [
      "The grade for a score of 85 is B.\n"
     ]
    }
   ],
   "source": [
    "def calculate_grade(score):\n",
    "    if 90 <= score <= 100:\n",
    "        return \"A\"\n",
    "    elif 80 <= score < 90:\n",
    "        return \"B\"\n",
    "    elif 70 <= score < 80:\n",
    "        return \"C\"\n",
    "    elif 60 <= score < 70:\n",
    "        return \"D\"\n",
    "    else:\n",
    "        return \"F\"\n",
    "\n",
    "student_score = 85\n",
    "grade = calculate_grade(student_score)\n",
    "print(f\"The grade for a score of {student_score} is {grade}.\")"
   ]
  },
  {
   "cell_type": "markdown",
   "id": "56044ff1",
   "metadata": {},
   "source": [
    "## Nested If-Else Statements:"
   ]
  },
  {
   "cell_type": "markdown",
   "id": "eb181121",
   "metadata": {},
   "source": [
    "Sol 11"
   ]
  },
  {
   "cell_type": "code",
   "execution_count": 7,
   "id": "2ff47d84",
   "metadata": {},
   "outputs": [
    {
     "name": "stdout",
     "output_type": "stream",
     "text": [
      "22 is the largest.\n"
     ]
    }
   ],
   "source": [
    "def find_largest_of_three(num1, num2, num3):\n",
    "    if num1 >= num2:\n",
    "        if num1 >= num3:\n",
    "            return f\"{num1} is the largest.\"\n",
    "        else:\n",
    "            return f\"{num3} is the largest.\"\n",
    "    else:\n",
    "        if num2 >= num3:\n",
    "            return f\"{num2} is the largest.\"\n",
    "        else:\n",
    "            return f\"{num3} is the largest.\"\n",
    "\n",
    "result = find_largest_of_three(14, 9, 22)\n",
    "print(result)"
   ]
  },
  {
   "cell_type": "markdown",
   "id": "5adde28b",
   "metadata": {},
   "source": [
    "Sol 12"
   ]
  },
  {
   "cell_type": "code",
   "execution_count": 8,
   "id": "8689305f",
   "metadata": {},
   "outputs": [
    {
     "name": "stdout",
     "output_type": "stream",
     "text": [
      "Scalene triangle\n"
     ]
    }
   ],
   "source": [
    "def classify_triangle(a, b, c):\n",
    "    if a == b == c:\n",
    "        return \"Equilateral triangle\"\n",
    "    elif a == b or b == c or a == c:\n",
    "        return \"Isosceles triangle\"\n",
    "    else:\n",
    "        return \"Scalene triangle\"\n",
    "\n",
    "triangle_type = classify_triangle(3, 4, 5)\n",
    "print(triangle_type)"
   ]
  },
  {
   "cell_type": "markdown",
   "id": "7cf68bf0",
   "metadata": {},
   "source": [
    "Sol 13"
   ]
  },
  {
   "cell_type": "code",
   "execution_count": 9,
   "id": "ce793f11",
   "metadata": {},
   "outputs": [
    {
     "name": "stdout",
     "output_type": "stream",
     "text": [
      "2000 is a leap year and a century year.\n"
     ]
    }
   ],
   "source": [
    "def check_leap_century_year(year):\n",
    "    if year % 4 == 0:\n",
    "        if year % 100 == 0:\n",
    "            if year % 400 == 0:\n",
    "                return f\"{year} is a leap year and a century year.\"\n",
    "            else:\n",
    "                return f\"{year} is not a leap year and a century year.\"\n",
    "        else:\n",
    "            return f\"{year} is a leap year and not a century year.\"\n",
    "    else:\n",
    "        return f\"{year} is not a leap year and not a century year.\"\n",
    "\n",
    "result = check_leap_century_year(2000)\n",
    "print(result)"
   ]
  },
  {
   "cell_type": "markdown",
   "id": "bd5f4825",
   "metadata": {},
   "source": [
    "Sol 14"
   ]
  },
  {
   "cell_type": "code",
   "execution_count": 10,
   "id": "d19b7972",
   "metadata": {},
   "outputs": [
    {
     "name": "stdout",
     "output_type": "stream",
     "text": [
      "-5 is negative.\n"
     ]
    }
   ],
   "source": [
    "def check_positive_negative_zero(number):\n",
    "    if number > 0:\n",
    "        return f\"{number} is positive.\"\n",
    "    elif number < 0:\n",
    "        return f\"{number} is negative.\"\n",
    "    else:\n",
    "        return \"Zero.\"\n",
    "\n",
    "result = check_positive_negative_zero(-5)\n",
    "print(result)"
   ]
  },
  {
   "cell_type": "markdown",
   "id": "e4e05fb9",
   "metadata": {},
   "source": [
    "Sol 15"
   ]
  },
  {
   "cell_type": "code",
   "execution_count": 11,
   "id": "5796d740",
   "metadata": {},
   "outputs": [
    {
     "name": "stdout",
     "output_type": "stream",
     "text": [
      "A person of age 16 is a teenager.\n"
     ]
    }
   ],
   "source": [
    "def check_teenager(age):\n",
    "    if 13 <= age <= 19:\n",
    "        return f\"A person of age {age} is a teenager.\"\n",
    "    else:\n",
    "        return f\"A person of age {age} is not a teenager.\"\n",
    "\n",
    "result = check_teenager(16)\n",
    "print(result)"
   ]
  },
  {
   "cell_type": "markdown",
   "id": "519eec8b",
   "metadata": {},
   "source": [
    "Sol 16"
   ]
  },
  {
   "cell_type": "code",
   "execution_count": 12,
   "id": "ff1914e3",
   "metadata": {},
   "outputs": [
    {
     "name": "stdout",
     "output_type": "stream",
     "text": [
      "Obtuse angle.\n"
     ]
    }
   ],
   "source": [
    "def classify_angle(angle):\n",
    "    if angle < 90:\n",
    "        return \"Acute angle.\"\n",
    "    elif angle == 90:\n",
    "        return \"Right angle.\"\n",
    "    else:\n",
    "        return \"Obtuse angle.\"\n",
    "\n",
    "result = classify_angle(120)\n",
    "print(result)"
   ]
  },
  {
   "cell_type": "markdown",
   "id": "2cc4a3b4",
   "metadata": {},
   "source": [
    "Sol 17"
   ]
  },
  {
   "cell_type": "code",
   "execution_count": 13,
   "id": "9d8a24a8",
   "metadata": {},
   "outputs": [
    {
     "name": "stdout",
     "output_type": "stream",
     "text": [
      "Roots are real and different: 2.0, 1.0\n"
     ]
    }
   ],
   "source": [
    "import math\n",
    "\n",
    "def quadratic_roots(a, b, c):\n",
    "    discriminant = b**2 - 4*a*c\n",
    "\n",
    "    if discriminant > 0:\n",
    "        root1 = (-b + math.sqrt(discriminant)) / (2*a)\n",
    "        root2 = (-b - math.sqrt(discriminant)) / (2*a)\n",
    "        return f\"Roots are real and different: {root1}, {root2}\"\n",
    "    elif discriminant == 0:\n",
    "        root = -b / (2*a)\n",
    "        return f\"Roots are real and the same: {root}\"\n",
    "    else:\n",
    "        real_part = -b / (2*a)\n",
    "        imaginary_part = math.sqrt(abs(discriminant)) / (2*a)\n",
    "        return f\"Roots are complex: {real_part} + {imaginary_part}i, {real_part} - {imaginary_part}i\"\n",
    "\n",
    "result = quadratic_roots(1, -3, 2)\n",
    "print(result)\n"
   ]
  },
  {
   "cell_type": "markdown",
   "id": "0109b517",
   "metadata": {},
   "source": [
    "Sol 18"
   ]
  },
  {
   "cell_type": "code",
   "execution_count": 14,
   "id": "4d5010af",
   "metadata": {},
   "outputs": [
    {
     "name": "stdout",
     "output_type": "stream",
     "text": [
      "The day is Wednesday.\n"
     ]
    }
   ],
   "source": [
    "def determine_day_of_week(day_number):\n",
    "    days = [\"Monday\", \"Tuesday\", \"Wednesday\", \"Thursday\", \"Friday\", \"Saturday\", \"Sunday\"]\n",
    "    \n",
    "    if 1 <= day_number <= 7:\n",
    "        return f\"The day is {days[day_number - 1]}.\"\n",
    "    else:\n",
    "        return \"Invalid day number.\"\n",
    "\n",
    "result = determine_day_of_week(3)\n",
    "print(result)"
   ]
  },
  {
   "cell_type": "markdown",
   "id": "297a857a",
   "metadata": {},
   "source": [
    "Sol 19"
   ]
  },
  {
   "cell_type": "code",
   "execution_count": 15,
   "id": "4d9584ff",
   "metadata": {},
   "outputs": [
    {
     "name": "stdout",
     "output_type": "stream",
     "text": [
      "2000 is a leap year and evenly divisible by 400.\n"
     ]
    }
   ],
   "source": [
    "def check_leap_divisible_by_400(year):\n",
    "    if year % 4 == 0:\n",
    "        if year % 100 == 0:\n",
    "            if year % 400 == 0:\n",
    "                return f\"{year} is a leap year and evenly divisible by 400.\"\n",
    "            else:\n",
    "                return f\"{year} is not a leap year but evenly divisible by 400.\"\n",
    "        else:\n",
    "            return f\"{year} is a leap year and not evenly divisible by 400.\"\n",
    "    else:\n",
    "        return f\"{year} is not a leap year.\"\n",
    "\n",
    "result = check_leap_divisible_by_400(2000)\n",
    "print(result)"
   ]
  },
  {
   "cell_type": "markdown",
   "id": "cc90b81a",
   "metadata": {},
   "source": [
    "Sol 20"
   ]
  },
  {
   "cell_type": "code",
   "execution_count": 16,
   "id": "b8c2cbdd",
   "metadata": {},
   "outputs": [
    {
     "name": "stdout",
     "output_type": "stream",
     "text": [
      "13 is a prime number.\n"
     ]
    }
   ],
   "source": [
    "def is_prime(number):\n",
    "    if number > 1:\n",
    "        for i in range(2, int(math.sqrt(number)) + 1):\n",
    "            if (number % i) == 0:\n",
    "                return f\"{number} is not a prime number.\"\n",
    "        else:\n",
    "            return f\"{number} is a prime number.\"\n",
    "    else:\n",
    "        return f\"{number} is not a prime number.\"\n",
    "\n",
    "result = is_prime(13)\n",
    "print(result)\n"
   ]
  },
  {
   "cell_type": "markdown",
   "id": "591d71f9",
   "metadata": {},
   "source": [
    "## Elif Statements:"
   ]
  },
  {
   "cell_type": "markdown",
   "id": "db9dd62b",
   "metadata": {},
   "source": [
    "Sol 21"
   ]
  },
  {
   "cell_type": "code",
   "execution_count": 18,
   "id": "4a92faf5",
   "metadata": {},
   "outputs": [
    {
     "name": "stdout",
     "output_type": "stream",
     "text": [
      "The grade for a score of 85 is B.\n"
     ]
    }
   ],
   "source": [
    "def calculate_grade(score):\n",
    "    if 90 <= score <= 100:\n",
    "        return \"A\"\n",
    "    elif 80 <= score < 90:\n",
    "        return \"B\"\n",
    "    elif 70 <= score < 80:\n",
    "        return \"C\"\n",
    "    elif 60 <= score < 70:\n",
    "        return \"D\"\n",
    "    else:\n",
    "        return \"F\"\n",
    "\n",
    "student_score = 85\n",
    "grade = calculate_grade(student_score)\n",
    "print(f\"The grade for a score of {student_score} is {grade}.\")"
   ]
  },
  {
   "cell_type": "markdown",
   "id": "7aef0b3d",
   "metadata": {},
   "source": [
    "Sol 22"
   ]
  },
  {
   "cell_type": "code",
   "execution_count": 19,
   "id": "98f33db5",
   "metadata": {},
   "outputs": [
    {
     "name": "stdout",
     "output_type": "stream",
     "text": [
      "Acute-angled triangle\n"
     ]
    }
   ],
   "source": [
    "def classify_triangle_by_angles(angle1, angle2, angle3):\n",
    "    if angle1 + angle2 + angle3 == 180:\n",
    "        if angle1 == 90 or angle2 == 90 or angle3 == 90:\n",
    "            return \"Right-angled triangle\"\n",
    "        elif angle1 < 90 and angle2 < 90 and angle3 < 90:\n",
    "            return \"Acute-angled triangle\"\n",
    "        else:\n",
    "            return \"Obtuse-angled triangle\"\n",
    "    else:\n",
    "        return \"Invalid triangle angles\"\n",
    "\n",
    "triangle_type = classify_triangle_by_angles(60, 60, 60)\n",
    "print(triangle_type)\n"
   ]
  },
  {
   "cell_type": "markdown",
   "id": "8c6599d4",
   "metadata": {},
   "source": [
    "Sol 23"
   ]
  },
  {
   "cell_type": "code",
   "execution_count": 22,
   "id": "0050a903",
   "metadata": {},
   "outputs": [
    {
     "name": "stdout",
     "output_type": "stream",
     "text": [
      "Enter your weight : 75\n",
      "Enter your height in meters : 1.5\n",
      "You are  Obese\n"
     ]
    }
   ],
   "source": [
    "def bmi_calc(weight,height):\n",
    "    bmi = weight/(height**2)\n",
    "    \n",
    "    if bmi < 18.5:\n",
    "        return \"Underweight\"\n",
    "    elif 18.5 <= bmi < 24.9 :\n",
    "        return \"Normal weight\"\n",
    "    elif 25 <= bmi < 29.9:\n",
    "        return \"Overweight\"\n",
    "    else:\n",
    "        return \"Obese\"\n",
    "    \n",
    "weight = float(input(\"Enter your weight : \"))\n",
    "height = float(input(\"Enter your height in meters : \"))\n",
    "\n",
    "result = bmi_calc(weight,height)\n",
    "\n",
    "print(\"You are \", result)"
   ]
  },
  {
   "cell_type": "markdown",
   "id": "135056a8",
   "metadata": {},
   "source": [
    "Sol 24"
   ]
  },
  {
   "cell_type": "code",
   "execution_count": 23,
   "id": "66cb24de",
   "metadata": {},
   "outputs": [
    {
     "name": "stdout",
     "output_type": "stream",
     "text": [
      "-5 is negative.\n"
     ]
    }
   ],
   "source": [
    "def check_positive_negative_zero(number):\n",
    "    if number > 0:\n",
    "        return f\"{number} is positive.\"\n",
    "    elif number < 0:\n",
    "        return f\"{number} is negative.\"\n",
    "    else:\n",
    "        return \"Zero.\"\n",
    "\n",
    "result = check_positive_negative_zero(-5)\n",
    "print(result)"
   ]
  },
  {
   "cell_type": "markdown",
   "id": "a5c6e382",
   "metadata": {},
   "source": [
    "Sol 25"
   ]
  },
  {
   "cell_type": "code",
   "execution_count": 28,
   "id": "66403789",
   "metadata": {},
   "outputs": [
    {
     "name": "stdout",
     "output_type": "stream",
     "text": [
      "Enter a character : #\n",
      "It is a special character\n"
     ]
    }
   ],
   "source": [
    "char = input(\"Enter a character : \")\n",
    "if char.islower():\n",
    "    print(\"It is lowercase alphabet\")\n",
    "elif char.isupper():\n",
    "    print(\"It an uppercase alphabet\")\n",
    "else:\n",
    "    print(\"It is a special character\")"
   ]
  },
  {
   "cell_type": "markdown",
   "id": "81b98018",
   "metadata": {},
   "source": [
    "Sol 26"
   ]
  },
  {
   "cell_type": "code",
   "execution_count": 31,
   "id": "74527e82",
   "metadata": {},
   "outputs": [
    {
     "name": "stdout",
     "output_type": "stream",
     "text": [
      "Enter purchase amount : 550\n",
      "The discounted price for a purchase of Rs 550 is: Rs 385.0\n"
     ]
    }
   ],
   "source": [
    "def calculate_discounted_price(original_price):\n",
    "    if original_price < 50:\n",
    "        discount_percentage = 0\n",
    "    elif 50 <= original_price < 100:\n",
    "        discount_percentage = 10\n",
    "    elif 100 <= original_price < 200:\n",
    "        discount_percentage = 20\n",
    "    else:\n",
    "        discount_percentage = 30\n",
    "\n",
    "    discounted_price = original_price - (original_price * discount_percentage / 100)\n",
    "    return discounted_price\n",
    "\n",
    "purchase_amount = int(input(\"Enter purchase amount : \"))\n",
    "\n",
    "discounted_price = calculate_discounted_price(purchase_amount)\n",
    "print(f\"The discounted price for a purchase of Rs {purchase_amount} is: Rs {discounted_price}\")\n"
   ]
  },
  {
   "cell_type": "markdown",
   "id": "730aafbe",
   "metadata": {},
   "source": [
    "Sol 27"
   ]
  },
  {
   "cell_type": "code",
   "execution_count": 33,
   "id": "250cfee6",
   "metadata": {},
   "outputs": [
    {
     "name": "stdout",
     "output_type": "stream",
     "text": [
      "Enter units : 347\n",
      "Electic bill amount :  3015\n"
     ]
    }
   ],
   "source": [
    "# 0-99 = 5 100-199 = 8 pu 200-299 = 10 pu 300-499 = 15 pu 500+ 20 pu  \n",
    "\n",
    "def ebill(units):\n",
    "    price = 0\n",
    "    if 0<units<=99:\n",
    "        price = units * 5\n",
    "    elif 100<= units <=199:\n",
    "        price = (99*5) + ((units-99)*8)\n",
    "    elif 200<= units <=299:\n",
    "        price = (99*5) + (100*8) + ((units-199)*10)\n",
    "    elif 300<= units <=499:\n",
    "        price = (99*5) + (100*8) + (100*10) + ((units-299)*15)\n",
    "    elif units>=500:\n",
    "        price = (99*5) + (100*8) + (100*10) + (200*15) + ((units-499)*20)\n",
    "    \n",
    "    return price\n",
    "\n",
    "units = int(input(\"Enter units : \"))\n",
    "amount = ebill(units)\n",
    "\n",
    "print(\"Electic bill amount : \",amount)"
   ]
  },
  {
   "cell_type": "markdown",
   "id": "9e9e2069",
   "metadata": {},
   "source": [
    "Sol 28"
   ]
  },
  {
   "cell_type": "code",
   "execution_count": 34,
   "id": "c0eeca12",
   "metadata": {},
   "outputs": [
    {
     "name": "stdout",
     "output_type": "stream",
     "text": [
      "The quadrilateral is a: Square\n"
     ]
    }
   ],
   "source": [
    "def classify_quadrilateral(sides, angles):\n",
    "    if sum(angles) != 360:\n",
    "        return \"Invalid quadrilateral - Sum of angles should be 360 degrees\"\n",
    "    \n",
    "    if sides[0] == sides[1] == sides[2] == sides[3]:\n",
    "        if angles[0] == angles[1] == angles[2] == angles[3] == 90:\n",
    "            return \"Square\"\n",
    "        else:\n",
    "            return \"Rhombus\"\n",
    "    elif sides[0] == sides[2] and sides[1] == sides[3]:\n",
    "        if angles[0] == angles[2] == 90:\n",
    "            return \"Rectangle\"\n",
    "        else:\n",
    "            return \"Parallelogram\"\n",
    "    else:\n",
    "        return \"Quadrilateral with unknown properties\"\n",
    "\n",
    "side_lengths = [5, 5, 5, 5]  \n",
    "angle_measures = [90, 90, 90, 90]  \n",
    "\n",
    "quadrilateral_type = classify_quadrilateral(side_lengths, angle_measures)\n",
    "print(f\"The quadrilateral is a: {quadrilateral_type}\")\n"
   ]
  },
  {
   "cell_type": "markdown",
   "id": "46441435",
   "metadata": {},
   "source": [
    "Sol 29"
   ]
  },
  {
   "cell_type": "code",
   "execution_count": 35,
   "id": "4b9f07d1",
   "metadata": {},
   "outputs": [
    {
     "name": "stdout",
     "output_type": "stream",
     "text": [
      "Enter the month (1-12): 9\n",
      "The season for month 9 is: Autumn\n"
     ]
    }
   ],
   "source": [
    "def determine_season(month):\n",
    "    if month in [12, 1, 2]:\n",
    "        season = \"Winter\"\n",
    "    elif month in [3, 4, 5]:\n",
    "        season = \"Spring\"\n",
    "    elif month in [6, 7, 8]:\n",
    "        season = \"Summer\"\n",
    "    elif month in [9, 10, 11]:\n",
    "        season = \"Autumn\"\n",
    "    else:\n",
    "        season = \"Invalid month\"\n",
    "\n",
    "    return season\n",
    "\n",
    "user_month = int(input(\"Enter the month (1-12): \"))\n",
    "\n",
    "result = determine_season(user_month)\n",
    "print(f\"The season for month {user_month} is: {result}\")\n"
   ]
  },
  {
   "cell_type": "markdown",
   "id": "943ca2b6",
   "metadata": {},
   "source": [
    "Sol 30"
   ]
  },
  {
   "cell_type": "code",
   "execution_count": 39,
   "id": "53d463bd",
   "metadata": {},
   "outputs": [
    {
     "name": "stdout",
     "output_type": "stream",
     "text": [
      "Enter year : 2024\n",
      "Enter month(1-12) : 2\n",
      "Year Type = Leap Year and month days count = 29\n"
     ]
    }
   ],
   "source": [
    "def check_year_month(year,month):\n",
    "    year_type = ''\n",
    "    month_count = 0\n",
    "    \n",
    "    if year % 4 == 0:\n",
    "        year_type = \"Leap Year\"\n",
    "    else:\n",
    "        year_type = \"Common Year\"\n",
    "    \n",
    "    if month in [1,3,5,7,8,10,12]:\n",
    "        month_count = 31\n",
    "    elif month == 2:\n",
    "        month_count = 29\n",
    "    else:\n",
    "        month_count = 30\n",
    "        \n",
    "    return year_type,month_count\n",
    "\n",
    "year = int(input(\"Enter year : \"))\n",
    "month = int(input(\"Enter month(1-12) : \"))\n",
    "tup = check_year_month(year,month)\n",
    "\n",
    "print(f\"Year Type = {tup[0]} and month days count = {tup[1]}\")"
   ]
  },
  {
   "cell_type": "markdown",
   "id": "b95fadfd",
   "metadata": {},
   "source": [
    "## Basic Level"
   ]
  },
  {
   "cell_type": "markdown",
   "id": "62e1a6a4",
   "metadata": {},
   "source": [
    "Sol 1"
   ]
  },
  {
   "cell_type": "code",
   "execution_count": 2,
   "id": "36a24ad6",
   "metadata": {},
   "outputs": [
    {
     "name": "stdout",
     "output_type": "stream",
     "text": [
      "Enter a number: 10\n",
      "Positive\n"
     ]
    }
   ],
   "source": [
    "number = float(input(\"Enter a number: \"))\n",
    "if number > 0:\n",
    "    print(\"Positive\")\n",
    "elif number < 0:\n",
    "    print(\"Negative\")\n",
    "else:\n",
    "    print(\"Zero\")"
   ]
  },
  {
   "cell_type": "markdown",
   "id": "7149b5e6",
   "metadata": {},
   "source": [
    "Sol 2"
   ]
  },
  {
   "cell_type": "code",
   "execution_count": 3,
   "id": "c2c200b6",
   "metadata": {},
   "outputs": [
    {
     "name": "stdout",
     "output_type": "stream",
     "text": [
      "Enter your age: 23\n",
      "You are eligible to vote!\n"
     ]
    }
   ],
   "source": [
    "age = int(input(\"Enter your age: \"))\n",
    "if age >= 18:\n",
    "    print(\"You are eligible to vote!\")\n",
    "else:\n",
    "    print(\"Sorry, you are not eligible to vote.\")"
   ]
  },
  {
   "cell_type": "markdown",
   "id": "83346d23",
   "metadata": {},
   "source": [
    "Sol 3"
   ]
  },
  {
   "cell_type": "code",
   "execution_count": 4,
   "id": "14410c5d",
   "metadata": {},
   "outputs": [
    {
     "name": "stdout",
     "output_type": "stream",
     "text": [
      "Enter the first number: 12\n",
      "Enter the second number: 13\n",
      "13.0 is the maximum.\n"
     ]
    }
   ],
   "source": [
    "num1 = float(input(\"Enter the first number: \"))\n",
    "num2 = float(input(\"Enter the second number: \"))\n",
    "if num1 > num2:\n",
    "    print(f\"{num1} is the maximum.\")\n",
    "else:\n",
    "    print(f\"{num2} is the maximum.\")"
   ]
  },
  {
   "cell_type": "markdown",
   "id": "979bb3f2",
   "metadata": {},
   "source": [
    "Sol 4"
   ]
  },
  {
   "cell_type": "code",
   "execution_count": 5,
   "id": "218cb1e5",
   "metadata": {},
   "outputs": [
    {
     "name": "stdout",
     "output_type": "stream",
     "text": [
      "Enter the exam score: 95\n",
      "Grade A\n"
     ]
    }
   ],
   "source": [
    "score = float(input(\"Enter the exam score: \"))\n",
    "if 90 <= score <= 100:\n",
    "    print(\"Grade A\")\n",
    "elif 80 <= score < 90:\n",
    "    print(\"Grade B\")\n",
    "elif 70 <= score < 80:\n",
    "    print(\"Grade C\")\n",
    "else:\n",
    "    print(\"Grade F\")"
   ]
  },
  {
   "cell_type": "markdown",
   "id": "02f09659",
   "metadata": {},
   "source": [
    "Sol 5"
   ]
  },
  {
   "cell_type": "code",
   "execution_count": 6,
   "id": "349d6b07",
   "metadata": {},
   "outputs": [
    {
     "name": "stdout",
     "output_type": "stream",
     "text": [
      "Enter a year: 2024\n",
      "Leap Year\n"
     ]
    }
   ],
   "source": [
    "year = int(input(\"Enter a year: \"))\n",
    "if (year % 4 == 0 and year % 100 != 0) or (year % 400 == 0):\n",
    "    print(\"Leap Year\")\n",
    "else:\n",
    "    print(\"Not a Leap Year\")"
   ]
  },
  {
   "cell_type": "markdown",
   "id": "e59eae51",
   "metadata": {},
   "source": [
    "Sol 6"
   ]
  },
  {
   "cell_type": "code",
   "execution_count": 7,
   "id": "d075a9fc",
   "metadata": {},
   "outputs": [
    {
     "name": "stdout",
     "output_type": "stream",
     "text": [
      "Enter the length of side 1: 5\n",
      "Enter the length of side 2: 6\n",
      "Enter the length of side 3: 7\n",
      "Scalene Triangle\n"
     ]
    }
   ],
   "source": [
    "side1 = float(input(\"Enter the length of side 1: \"))\n",
    "side2 = float(input(\"Enter the length of side 2: \"))\n",
    "side3 = float(input(\"Enter the length of side 3: \"))\n",
    "\n",
    "if side1 == side2 == side3:\n",
    "    print(\"Equilateral Triangle\")\n",
    "elif side1 == side2 or side2 == side3 or side1 == side3:\n",
    "    print(\"Isosceles Triangle\")\n",
    "else:\n",
    "    print(\"Scalene Triangle\")"
   ]
  },
  {
   "cell_type": "markdown",
   "id": "56a8ac49",
   "metadata": {},
   "source": [
    "Sol 7"
   ]
  },
  {
   "cell_type": "code",
   "execution_count": 8,
   "id": "0603142a",
   "metadata": {},
   "outputs": [
    {
     "name": "stdout",
     "output_type": "stream",
     "text": [
      "Enter the first number: 10\n",
      "Enter the second number: 12\n",
      "Enter the third number: 4\n",
      "The largest number is: 12.0\n"
     ]
    }
   ],
   "source": [
    "num1 = float(input(\"Enter the first number: \"))\n",
    "num2 = float(input(\"Enter the second number: \"))\n",
    "num3 = float(input(\"Enter the third number: \"))\n",
    "\n",
    "max_num = max(num1, num2, num3)\n",
    "print(f\"The largest number is: {max_num}\")"
   ]
  },
  {
   "cell_type": "markdown",
   "id": "f2ab3dd8",
   "metadata": {},
   "source": [
    "Sol 8"
   ]
  },
  {
   "cell_type": "code",
   "execution_count": 9,
   "id": "7a1260fb",
   "metadata": {},
   "outputs": [
    {
     "name": "stdout",
     "output_type": "stream",
     "text": [
      "Enter a character: f\n",
      "Consonant\n"
     ]
    }
   ],
   "source": [
    "char = input(\"Enter a character: \").lower()\n",
    "\n",
    "if char.isalpha():\n",
    "    if char in 'aeiou':\n",
    "        print(\"Vowel\")\n",
    "    else:\n",
    "        print(\"Consonant\")\n",
    "else:\n",
    "    print(\"Not a valid alphabet character.\")"
   ]
  },
  {
   "cell_type": "markdown",
   "id": "9d7bcd77",
   "metadata": {},
   "source": [
    "Sol 9"
   ]
  },
  {
   "cell_type": "code",
   "execution_count": 10,
   "id": "779030cd",
   "metadata": {},
   "outputs": [
    {
     "name": "stdout",
     "output_type": "stream",
     "text": [
      "Enter the total cost of items in the shopping cart: 900\n",
      "Total cost after discount: 900.0\n"
     ]
    }
   ],
   "source": [
    "total_cost = float(input(\"Enter the total cost of items in the shopping cart: \"))\n",
    "\n",
    "if total_cost >= 1000:\n",
    "    discount = 0.1 * total_cost\n",
    "    total_cost -= discount\n",
    "\n",
    "print(f\"Total cost after discount: {total_cost}\")"
   ]
  },
  {
   "cell_type": "markdown",
   "id": "63fb69f7",
   "metadata": {},
   "source": [
    "Sol 10"
   ]
  },
  {
   "cell_type": "code",
   "execution_count": 12,
   "id": "286fe6af",
   "metadata": {},
   "outputs": [
    {
     "name": "stdout",
     "output_type": "stream",
     "text": [
      "Enter a number: 6\n",
      "Even\n"
     ]
    }
   ],
   "source": [
    "num = int(input(\"Enter a number: \"))\n",
    "\n",
    "if num % 2 == 0:\n",
    "    print(\"Even\")\n",
    "else:\n",
    "    print(\"Odd\")\n"
   ]
  },
  {
   "cell_type": "markdown",
   "id": "20fc2653",
   "metadata": {},
   "source": [
    "## Intermediate"
   ]
  },
  {
   "cell_type": "markdown",
   "id": "b20fbd44",
   "metadata": {},
   "source": [
    "Sol 11"
   ]
  },
  {
   "cell_type": "code",
   "execution_count": 13,
   "id": "39d0ede0",
   "metadata": {},
   "outputs": [
    {
     "name": "stdout",
     "output_type": "stream",
     "text": [
      "Enter the coefficient 'a': 6\n",
      "Enter the coefficient 'b': 4\n",
      "Enter the coefficient 'c': 2\n",
      "The roots of the quadratic equation are: (-0.3333333333333333-0.47140452079103173j) and (-0.3333333333333333+0.47140452079103173j)\n"
     ]
    }
   ],
   "source": [
    "import cmath\n",
    "\n",
    "a = float(input(\"Enter the coefficient 'a': \"))\n",
    "b = float(input(\"Enter the coefficient 'b': \"))\n",
    "c = float(input(\"Enter the coefficient 'c': \"))\n",
    "\n",
    "discriminant = (b**2) - (4*a*c)\n",
    "\n",
    "root1 = (-b - cmath.sqrt(discriminant)) / (2*a)\n",
    "root2 = (-b + cmath.sqrt(discriminant)) / (2*a)\n",
    "\n",
    "print(f\"The roots of the quadratic equation are: {root1} and {root2}\")\n"
   ]
  },
  {
   "cell_type": "markdown",
   "id": "c15c43f2",
   "metadata": {},
   "source": [
    "Sol 12"
   ]
  },
  {
   "cell_type": "code",
   "execution_count": 14,
   "id": "51b5d3b9",
   "metadata": {},
   "outputs": [
    {
     "name": "stdout",
     "output_type": "stream",
     "text": [
      "Enter the day number (1-7): 6\n",
      "The day of the week is Saturday.\n"
     ]
    }
   ],
   "source": [
    "day_number = int(input(\"Enter the day number (1-7): \"))\n",
    "\n",
    "if 1 <= day_number <= 7:\n",
    "    days = ['Monday', 'Tuesday', 'Wednesday', 'Thursday', 'Friday', 'Saturday', 'Sunday']\n",
    "    day_of_week = days[day_number - 1]\n",
    "    print(f\"The day of the week is {day_of_week}.\")\n",
    "else:\n",
    "    print(\"Invalid day number. Please enter a number between 1 and 7.\")"
   ]
  },
  {
   "cell_type": "markdown",
   "id": "09ee830c",
   "metadata": {},
   "source": [
    "Sol 13"
   ]
  },
  {
   "cell_type": "code",
   "execution_count": 15,
   "id": "0dbe6f8f",
   "metadata": {},
   "outputs": [
    {
     "name": "stdout",
     "output_type": "stream",
     "text": [
      "Enter a number : 5\n",
      "Factorial of 5 = 120\n"
     ]
    }
   ],
   "source": [
    "def fac(no):\n",
    "    if no==0:\n",
    "        return 1\n",
    "    else:\n",
    "        return no*(fac(no-1))\n",
    "no = int(input(\"Enter a number : \"))\n",
    "factorial = fac(no)\n",
    "\n",
    "print(f\"Factorial of {no} = {factorial}\")"
   ]
  },
  {
   "cell_type": "markdown",
   "id": "afa815d4",
   "metadata": {},
   "source": [
    "Sol 14"
   ]
  },
  {
   "cell_type": "code",
   "execution_count": 16,
   "id": "58a5070b",
   "metadata": {},
   "outputs": [
    {
     "name": "stdout",
     "output_type": "stream",
     "text": [
      "Enter the first number: 1\n",
      "Enter the second number: 2\n",
      "Enter the third number: 3\n",
      "The largest number is: 3.0\n"
     ]
    }
   ],
   "source": [
    "num1 = float(input(\"Enter the first number: \"))\n",
    "num2 = float(input(\"Enter the second number: \"))\n",
    "num3 = float(input(\"Enter the third number: \"))\n",
    "\n",
    "largest = num1\n",
    "\n",
    "if num2 > largest:\n",
    "    largest = num2\n",
    "\n",
    "if num3 > largest:\n",
    "    largest = num3\n",
    "\n",
    "print(f\"The largest number is: {largest}\")"
   ]
  },
  {
   "cell_type": "markdown",
   "id": "90f7b977",
   "metadata": {},
   "source": [
    "Sol 15"
   ]
  },
  {
   "cell_type": "code",
   "execution_count": 18,
   "id": "03fc5912",
   "metadata": {},
   "outputs": [
    {
     "name": "stdout",
     "output_type": "stream",
     "text": [
      "ATM Transaction menu\n",
      "1. Check Balance\n",
      "2. Deposit Money\n",
      "3. Withdraw Money\n",
      "4. Exit\n",
      "Enter your choice : 3\n",
      "Enter the amount you want to withdraw : 4000\n",
      "Money has been successfully withdrawn. Update balance :  1000\n"
     ]
    }
   ],
   "source": [
    "balance = 5000\n",
    "\n",
    "print(\"ATM Transaction menu\")\n",
    "print(\"1. Check Balance\")\n",
    "print(\"2. Deposit Money\")\n",
    "print(\"3. Withdraw Money\")\n",
    "print(\"4. Exit\")\n",
    "\n",
    "choice = int(input(\"Enter your choice : \"))\n",
    "\n",
    "if choice == 1:\n",
    "    print(\"Your Balance : \",balance)\n",
    "elif choice == 2:\n",
    "    deposit = int(input(\"Enter the amount you want to deposit : \"))\n",
    "    balance += deposit\n",
    "    print(\"Money has been successfully deposited. Update balance : \",balance)\n",
    "elif choice == 3:\n",
    "    withdraw = int(input(\"Enter the amount you want to withdraw : \"))\n",
    "    if withdraw > balance:\n",
    "        print(\"Insufficient Balance!\")\n",
    "    else:\n",
    "        balance -= withdraw\n",
    "        print(\"Money has been successfully withdrawn. Update balance : \",balance)\n",
    "elif choice == 4:\n",
    "    print(\"Thank You\")\n",
    "else:\n",
    "    print(\"Invalid Choice\")\n"
   ]
  },
  {
   "cell_type": "markdown",
   "id": "3acbdbf2",
   "metadata": {},
   "source": [
    "Sol 16"
   ]
  },
  {
   "cell_type": "code",
   "execution_count": 1,
   "id": "6ac5e611",
   "metadata": {},
   "outputs": [
    {
     "name": "stdout",
     "output_type": "stream",
     "text": [
      "Enter a string: hello\n",
      "It's not a palindrome.\n"
     ]
    }
   ],
   "source": [
    "def is_palindrome(string):\n",
    "    cleaned_string = ''.join(char.lower() for char in string if char.isalnum())\n",
    "    return cleaned_string == cleaned_string[::-1]\n",
    "\n",
    "user_input = input(\"Enter a string: \")\n",
    "if is_palindrome(user_input):\n",
    "    print(\"It's a palindrome!\")\n",
    "else:\n",
    "    print(\"It's not a palindrome.\")"
   ]
  },
  {
   "cell_type": "markdown",
   "id": "bc7534f4",
   "metadata": {},
   "source": [
    "Sol 17"
   ]
  },
  {
   "cell_type": "code",
   "execution_count": 3,
   "id": "b90634f0",
   "metadata": {},
   "outputs": [
    {
     "name": "stdout",
     "output_type": "stream",
     "text": [
      "Enter a list of numbers separated by spaces: 1 2 3 4 5 6\n",
      "The average (excluding smallest and largest) is: 3.5\n"
     ]
    }
   ],
   "source": [
    "numbers = [float(x) for x in input(\"Enter a list of numbers separated by spaces: \").split()]\n",
    "if len(numbers) < 3:\n",
    "    print(\"Insufficient numbers for calculation.\")\n",
    "else:\n",
    "    numbers.sort()\n",
    "    average = sum(numbers[1:-1]) / (len(numbers) - 2)\n",
    "    print(f\"The average (excluding smallest and largest) is: {average}\")"
   ]
  },
  {
   "cell_type": "markdown",
   "id": "4ae15ac2",
   "metadata": {},
   "source": [
    "Sol 18"
   ]
  },
  {
   "cell_type": "code",
   "execution_count": 4,
   "id": "5c160ed9",
   "metadata": {},
   "outputs": [
    {
     "name": "stdout",
     "output_type": "stream",
     "text": [
      "Enter temperature in Celsius: 48\n",
      "48.0 Celsius is equal to 118.4 Fahrenheit.\n"
     ]
    }
   ],
   "source": [
    "celsius = float(input(\"Enter temperature in Celsius: \"))\n",
    "fahrenheit = (celsius * 9/5) + 32\n",
    "print(f\"{celsius} Celsius is equal to {fahrenheit} Fahrenheit.\")"
   ]
  },
  {
   "cell_type": "markdown",
   "id": "a939d4c2",
   "metadata": {},
   "source": [
    "Sol 19"
   ]
  },
  {
   "cell_type": "code",
   "execution_count": 5,
   "id": "d4f60559",
   "metadata": {},
   "outputs": [
    {
     "name": "stdout",
     "output_type": "stream",
     "text": [
      "Select operation:\n",
      "1. Addition\n",
      "2. Subtraction\n",
      "3. Multiplication\n",
      "4. Division\n",
      "Enter choice (1-4): 3\n",
      "Enter first number: 12\n",
      "Enter second number: 13\n",
      "12.0 * 13.0 = 156.0\n"
     ]
    }
   ],
   "source": [
    "def add(x, y):\n",
    "    return x + y\n",
    "\n",
    "def subtract(x, y):\n",
    "    return x - y\n",
    "\n",
    "def multiply(x, y):\n",
    "    return x * y\n",
    "\n",
    "def divide(x, y):\n",
    "    if y != 0:\n",
    "        return x / y\n",
    "    else:\n",
    "        return \"Cannot divide by zero.\"\n",
    "\n",
    "print(\"Select operation:\")\n",
    "print(\"1. Addition\")\n",
    "print(\"2. Subtraction\")\n",
    "print(\"3. Multiplication\")\n",
    "print(\"4. Division\")\n",
    "\n",
    "choice = input(\"Enter choice (1-4): \")\n",
    "\n",
    "num1 = float(input(\"Enter first number: \"))\n",
    "num2 = float(input(\"Enter second number: \"))\n",
    "\n",
    "if choice == '1':\n",
    "    print(f\"{num1} + {num2} = {add(num1, num2)}\")\n",
    "\n",
    "elif choice == '2':\n",
    "    print(f\"{num1} - {num2} = {subtract(num1, num2)}\")\n",
    "\n",
    "elif choice == '3':\n",
    "    print(f\"{num1} * {num2} = {multiply(num1, num2)}\")\n",
    "\n",
    "elif choice == '4':\n",
    "    print(f\"{num1} / {num2} = {divide(num1, num2)}\")\n",
    "\n",
    "else:\n",
    "    print(\"Invalid input. Please enter a number between 1 and 4.\")"
   ]
  },
  {
   "cell_type": "markdown",
   "id": "0b07c692",
   "metadata": {},
   "source": [
    "Sol 20"
   ]
  },
  {
   "cell_type": "code",
   "execution_count": 6,
   "id": "f454a2b6",
   "metadata": {},
   "outputs": [
    {
     "name": "stdout",
     "output_type": "stream",
     "text": [
      "Enter coefficient 'a': 5\n",
      "Enter coefficient 'b': 4\n",
      "Enter coefficient 'c': 2\n",
      "Enter coefficient 'd': 7\n",
      "The roots of the cubic equation are: ((-0.23023032328708695+0j), (-0.11511516164354348-0.031554798987728984j), (-0.11511516164354348+0.031554798987728984j))\n"
     ]
    }
   ],
   "source": [
    "import cmath\n",
    "\n",
    "def cubic_roots(a, b, c, d):\n",
    "    delta0 = b**2 - 3*a*c\n",
    "    delta1 = 2*b**3 - 9*a*b*c + 27*a**2*d\n",
    "    C = (delta1 + cmath.sqrt(delta1**2 - 4*delta0**3)) / 2\n",
    "    u = C**(1/3)\n",
    "\n",
    "    if delta1 - 2*delta0*u != 0:\n",
    "        v = -1 * (delta1 - 2*delta0*u)**(1/3)\n",
    "    else:\n",
    "        v = 0\n",
    "\n",
    "    root1 = (-1 * b - (u + v)) / (3*a)\n",
    "    root2 = (-1 * b + (u + v) * (-1 + 1j * cmath.sqrt(3))) / (6*a)\n",
    "    root3 = (-1 * b + (u + v) * (-1 - 1j * cmath.sqrt(3))) / (6*a)\n",
    "\n",
    "    return root1, root2, root3\n",
    "\n",
    "coeff_a = float(input(\"Enter coefficient 'a': \"))\n",
    "coeff_b = float(input(\"Enter coefficient 'b': \"))\n",
    "coeff_c = float(input(\"Enter coefficient 'c': \"))\n",
    "coeff_d = float(input(\"Enter coefficient 'd': \"))\n",
    "\n",
    "roots = cubic_roots(coeff_a, coeff_b, coeff_c, coeff_d)\n",
    "print(f\"The roots of the cubic equation are: {roots}\")"
   ]
  },
  {
   "cell_type": "markdown",
   "id": "8c07ae26",
   "metadata": {},
   "source": [
    "## Advanced Level"
   ]
  },
  {
   "cell_type": "markdown",
   "id": "af199f3c",
   "metadata": {},
   "source": [
    "Sol 21"
   ]
  },
  {
   "cell_type": "code",
   "execution_count": 9,
   "id": "6e7ed978",
   "metadata": {},
   "outputs": [
    {
     "name": "stdout",
     "output_type": "stream",
     "text": [
      "Enter your income for this financial year : 3500000\n",
      "10% Bracket\n",
      "Tax amount :  235000.0\n"
     ]
    }
   ],
   "source": [
    "income = int(input(\"Enter your income for this financial year : \"))\n",
    "\n",
    "if income<=500000:\n",
    "    print(\"No Tax!\")\n",
    "\n",
    "elif 500000<income<=1000000:\n",
    "    tax = (5/100)*(income-500000)\n",
    "    print(\"5% Bracket\")\n",
    "    print(\"Tax amount : \",tax)\n",
    "    \n",
    "elif 1000000<income<=3000000:\n",
    "    tax = ((5/100)*500000) + ((8/100) * (income-1000000))\n",
    "    print(\"8% Bracket\")\n",
    "    print(\"Tax amount : \",tax)\n",
    "    \n",
    "elif 3000000<income<=10000000:\n",
    "    tax = ((5/100)*500000) + ((8/100) * 2000000) + ((10/100)*(income-3000000))\n",
    "    print(\"10% Bracket\")\n",
    "    print(\"Tax amount : \",tax)\n",
    "\n",
    "elif income>10000000:\n",
    "    tax = ((5/100)*500000) + ((8/100) * 2000000) + ((10/100)*7000000) + ((15/100)*(income-10000000))\n",
    "    print(\"15% Bracket\")\n",
    "    print(\"Tax amount : \",tax)    "
   ]
  },
  {
   "cell_type": "markdown",
   "id": "e848a2e2",
   "metadata": {},
   "source": [
    "Sol 22"
   ]
  },
  {
   "cell_type": "code",
   "execution_count": 40,
   "id": "c29531cd",
   "metadata": {},
   "outputs": [
    {
     "name": "stdout",
     "output_type": "stream",
     "text": [
      "Rock Paper Scissor - (1,2,3)\n",
      "Enter your choice : 1\n",
      "Your choice : Rock. Computer's choice : Scissors\n",
      "You Won\n"
     ]
    }
   ],
   "source": [
    "import random\n",
    "\n",
    "ref = ['Rock','Paper','Scissors']\n",
    "comp = random.randint(1,3)\n",
    "print(\"Rock Paper Scissor - (1,2,3)\")\n",
    "user = int(input(\"Enter your choice : \"))\n",
    "\n",
    "if comp == user:\n",
    "    print(f\"Your choice : {ref[user-1]}. Computer's choice : {ref[comp-1]}\")\n",
    "    print(\"Draw\")\n",
    "\n",
    "elif comp == 1 and user == 2:\n",
    "    print(f\"Your choice : {ref[user-1]}. Computer's choice : {ref[comp-1]}\")\n",
    "    print(\"You Won!\")\n",
    "\n",
    "elif comp == 1 and user == 3:\n",
    "    print(f\"Your choice : {ref[user-1]}. Computer's choice : {ref[comp-1]}\")\n",
    "    print(\"You Loose\")\n",
    "\n",
    "elif comp == 2 and user == 1:\n",
    "    print(f\"Your choice : {ref[user-1]}. Computer's choice : {ref[comp-1]}\")\n",
    "    print(\"You Loose\")\n",
    "    \n",
    "elif comp == 2 and user == 3:\n",
    "    print(f\"Your choice : {ref[user-1]}. Computer's choice : {ref[comp-1]}\")\n",
    "    print(\"You Won\")\n",
    "    \n",
    "elif comp == 3 and user == 1:\n",
    "    print(f\"Your choice : {ref[user-1]}. Computer's choice : {ref[comp-1]}\")\n",
    "    print(\"You Won\")\n",
    "    \n",
    "elif comp == 3 and user == 2:\n",
    "    print(f\"Your choice : {ref[user-1]}. Computer's choice : {ref[comp-1]}\")\n",
    "    print(\"You Loose\")"
   ]
  },
  {
   "cell_type": "markdown",
   "id": "6bca0879",
   "metadata": {},
   "source": [
    "Sol 23"
   ]
  },
  {
   "cell_type": "code",
   "execution_count": 22,
   "id": "59ee87e6",
   "metadata": {},
   "outputs": [
    {
     "name": "stdout",
     "output_type": "stream",
     "text": [
      "Enter the length of the password10\n",
      "Please select Y/N for the following preferences\n",
      "Do you want Uppercase letters : y\n",
      "Do you want lowecase letters : y\n",
      "Do you want digits : y\n",
      "Do you want special_characters : y\n",
      "Password :  0S@K7%ys~F\n"
     ]
    }
   ],
   "source": [
    "import random\n",
    "import string\n",
    "\n",
    "length = int(input(\"Enter the length of the password\"))\n",
    "\n",
    "def password(uppercase, lowercase, digits, special_characters):\n",
    "    pw = ''\n",
    "    \n",
    "    if uppercase:\n",
    "        pw += string.ascii_uppercase\n",
    "    if lowercase:\n",
    "        pw += string.ascii_lowercase\n",
    "    if digits:\n",
    "        pw += string.digits\n",
    "    if special_characters:\n",
    "        pw += string.punctuation\n",
    "        \n",
    "    return pw\n",
    "    \n",
    "print(\"Please select Y/N for the following preferences\")\n",
    "\n",
    "uppercase = input(\"Do you want Uppercase letters : \")\n",
    "lowecase = input(\"Do you want lowecase letters : \")\n",
    "digits = input(\"Do you want digits : \")\n",
    "special_characters = input(\"Do you want special_characters : \")\n",
    "\n",
    "result = password(uppercase, lowecase, digits, special_characters)\n",
    "\n",
    "final_pw = random.sample(result,length)\n",
    "generated_pw = ''.join(final_pw)\n",
    "print(\"Password : \",generated_pw)\n"
   ]
  },
  {
   "cell_type": "markdown",
   "id": "46062441",
   "metadata": {},
   "source": [
    "Sol 24"
   ]
  },
  {
   "cell_type": "code",
   "execution_count": 23,
   "id": "004b401b",
   "metadata": {},
   "outputs": [
    {
     "name": "stdout",
     "output_type": "stream",
     "text": [
      "Welcome to the Adventure Game!\n",
      "You find yourself in a dark forest. You have three paths ahead.\n",
      "\n",
      "Choose your path:\n",
      "1. Left path\n",
      "2. Middle path\n",
      "3. Right path\n",
      "4. Quit\n",
      "Enter your choice (1-4): 1\n",
      "You find a cave with a treasure. Congratulations, you win!\n"
     ]
    }
   ],
   "source": [
    "def start_game():\n",
    "    print(\"Welcome to the Adventure Game!\")\n",
    "    print(\"You find yourself in a dark forest. You have three paths ahead.\")\n",
    "\n",
    "    while True:\n",
    "        print(\"\\nChoose your path:\")\n",
    "        print(\"1. Left path\")\n",
    "        print(\"2. Middle path\")\n",
    "        print(\"3. Right path\")\n",
    "        print(\"4. Quit\")\n",
    "\n",
    "        choice = input(\"Enter your choice (1-4): \")\n",
    "\n",
    "        if choice == '1':\n",
    "            print(\"You find a cave with a treasure. Congratulations, you win!\")\n",
    "            break\n",
    "        elif choice == '2':\n",
    "            print(\"You come across a river. The bridge is unstable, and it collapses. Game over!\")\n",
    "            break\n",
    "        elif choice == '3':\n",
    "            print(\"You encounter friendly animals who guide you to a magical meadow. You find a portal to another dimension. You win!\")\n",
    "            break\n",
    "        elif choice == '4':\n",
    "            print(\"Thanks for playing! Goodbye.\")\n",
    "            break\n",
    "        else:\n",
    "            print(\"Invalid choice. Please enter a number between 1 and 4.\")\n",
    "\n",
    "# Start the game\n",
    "start_game()\n"
   ]
  },
  {
   "cell_type": "markdown",
   "id": "3b9b5ea1",
   "metadata": {},
   "source": [
    " Sol 25"
   ]
  },
  {
   "cell_type": "code",
   "execution_count": 24,
   "id": "106a0ff1",
   "metadata": {},
   "outputs": [
    {
     "name": "stdout",
     "output_type": "stream",
     "text": [
      "Enter the coefficient of x : 10\n",
      "Enter the constant : 34\n",
      "Solution for x =  -3.4\n"
     ]
    }
   ],
   "source": [
    "# ax+b = 0 -> x = -b/a\n",
    "\n",
    "a = int(input(\"Enter the coefficient of x : \"))\n",
    "b = int(input(\"Enter the constant : \"))\n",
    "\n",
    "if a == 0:\n",
    "    print(\"Infinite solutions\")\n",
    "if b == 0:\n",
    "    print(\"x = 0\")\n",
    "    \n",
    "x = -(b/a)\n",
    "print(\"Solution for x = \",x)"
   ]
  },
  {
   "cell_type": "markdown",
   "id": "217c2bf2",
   "metadata": {},
   "source": [
    "Sol 26"
   ]
  },
  {
   "cell_type": "code",
   "execution_count": 33,
   "id": "6ce5a9eb",
   "metadata": {},
   "outputs": [
    {
     "name": "stdout",
     "output_type": "stream",
     "text": [
      "Welcome to the Ultimate Quiz Competition!\n",
      "\n",
      "A. What is the national bird of India \n",
      "\n",
      "        1.Crow\n",
      "        2.Chicken\n",
      "        3.Sparrow\n",
      "        4.Peacock\n",
      "        \n",
      "Enter your choice : 4\n",
      "Correct! You get 1 point\n",
      "A. What is the national animal of India \n",
      "\n",
      "        1.Tiger\n",
      "        2.Lion\n",
      "        3.Cow\n",
      "        4.Zebra\n",
      "        \n",
      "Enter your choice : 1\n",
      "Correct! You get 1 point\n",
      "A. What is the national flower of India \n",
      "\n",
      "        1.Rose\n",
      "        2.Lotus\n",
      "        3.Lily\n",
      "        4.Sunflower\n",
      "        \n",
      "Enter your choice : 2\n",
      "Correct! You get 1 point\n",
      "Final score :  3\n"
     ]
    }
   ],
   "source": [
    "score = 0\n",
    "\n",
    "print(\"Welcome to the Ultimate Quiz Competition!\\n\")\n",
    "print('''A. What is the national bird of India \\n\n",
    "        1.Crow\n",
    "        2.Chicken\n",
    "        3.Sparrow\n",
    "        4.Peacock\n",
    "        ''')\n",
    "a = int(input(\"Enter your choice : \"))\n",
    "if a == 4:\n",
    "    score += 1\n",
    "    print(\"Correct! You get 1 point\")\n",
    "else:\n",
    "    print(\"Wrong!\")\n",
    "\n",
    "print('''A. What is the national animal of India \\n\n",
    "        1.Tiger\n",
    "        2.Lion\n",
    "        3.Cow\n",
    "        4.Zebra\n",
    "        ''')   \n",
    "b = int(input(\"Enter your choice : \"))\n",
    "if b == 1:\n",
    "    score += 1\n",
    "    print(\"Correct! You get 1 point\")\n",
    "else:\n",
    "    print(\"Wrong!\")\n",
    "    \n",
    "print('''A. What is the national flower of India \\n\n",
    "        1.Rose\n",
    "        2.Lotus\n",
    "        3.Lily\n",
    "        4.Sunflower\n",
    "        ''')   \n",
    "c = int(input(\"Enter your choice : \"))\n",
    "if c == 2:\n",
    "    score += 1\n",
    "    print(\"Correct! You get 1 point\")\n",
    "else:\n",
    "    print(\"Wrong!\")\n",
    "\n",
    "print(\"Final score : \",score)\n",
    "    "
   ]
  },
  {
   "cell_type": "markdown",
   "id": "9853d8c2",
   "metadata": {},
   "source": [
    "Sol 27"
   ]
  },
  {
   "cell_type": "code",
   "execution_count": 34,
   "id": "cabfc238",
   "metadata": {},
   "outputs": [
    {
     "name": "stdout",
     "output_type": "stream",
     "text": [
      "Enter a year: 2024\n",
      "2024 is not a prime number.\n"
     ]
    }
   ],
   "source": [
    "def is_prime(year):\n",
    "    if year <= 1:\n",
    "        return False\n",
    "    for i in range(2, int(year**0.5) + 1):\n",
    "        if year % i == 0:\n",
    "            return False\n",
    "    return True\n",
    "\n",
    "def main():\n",
    "    try:\n",
    "        year = int(input(\"Enter a year: \"))\n",
    "        if is_prime(year):\n",
    "            print(f\"{year} is a prime number.\")\n",
    "        else:\n",
    "            print(f\"{year} is not a prime number.\")\n",
    "    except ValueError:\n",
    "        print(\"Invalid input. Please enter a valid year.\")\n",
    "\n",
    "if __name__ == \"__main__\":\n",
    "    main()"
   ]
  },
  {
   "cell_type": "markdown",
   "id": "e6f3c268",
   "metadata": {},
   "source": [
    "Sol 28"
   ]
  },
  {
   "cell_type": "code",
   "execution_count": 35,
   "id": "6c4a0074",
   "metadata": {},
   "outputs": [
    {
     "name": "stdout",
     "output_type": "stream",
     "text": [
      "Enter coefficient 1: 1\n",
      "Enter coefficient 2: 2\n",
      "Enter coefficient 3: 3\n",
      "Enter coefficient 4: 4\n",
      "Enter coefficient 5: 5\n",
      "Enter an initial guess for a root: 3\n",
      "A root of the quartic equation is approximately: 0.2979525477637027\n"
     ]
    }
   ],
   "source": [
    "def quartic_equation(x, coefficients):\n",
    "    return sum(coeff * x**i for i, coeff in enumerate(coefficients))\n",
    "\n",
    "def derivative_quartic_equation(x, coefficients):\n",
    "    return sum(i * coeff * x**(i-1) for i, coeff in enumerate(coefficients[1:], start=1))\n",
    "\n",
    "def newton_raphson_quartic(coefficients, initial_guess, tolerance=1e-6, max_iterations=100):\n",
    "    x = initial_guess\n",
    "\n",
    "    for _ in range(max_iterations):\n",
    "        f_x = quartic_equation(x, coefficients)\n",
    "        f_prime_x = derivative_quartic_equation(x, coefficients)\n",
    "\n",
    "        if abs(f_prime_x) < tolerance:\n",
    "            break\n",
    "\n",
    "        x -= f_x / f_prime_x\n",
    "\n",
    "    return x\n",
    "\n",
    "def main():\n",
    "    try:\n",
    "        coefficients = [float(input(f\"Enter coefficient {i+1}: \")) for i in range(5)]\n",
    "        initial_guess = float(input(\"Enter an initial guess for a root: \"))\n",
    "\n",
    "        root = newton_raphson_quartic(coefficients, initial_guess)\n",
    "\n",
    "        print(f\"A root of the quartic equation is approximately: {root}\")\n",
    "    except ValueError:\n",
    "        print(\"Invalid input. Please enter valid coefficients and an initial guess.\")\n",
    "\n",
    "if __name__ == \"__main__\":\n",
    "    main()"
   ]
  },
  {
   "cell_type": "markdown",
   "id": "f5808269",
   "metadata": {},
   "source": [
    "Sol 30"
   ]
  },
  {
   "cell_type": "code",
   "execution_count": 40,
   "id": "d7a5a862",
   "metadata": {},
   "outputs": [
    {
     "name": "stdout",
     "output_type": "stream",
     "text": [
      "Enter your weight : 75\n",
      "Enter your height in meters : 1.7\n",
      "Your BMI is 25.95155709342561\n",
      "Your category is Overweight\n",
      "Expert advice Consider consulting with a healthcare professional for advice on weight loss.\n"
     ]
    }
   ],
   "source": [
    "def calculate_bmi(weight,height):\n",
    "    return weight/(height**2)\n",
    "\n",
    "def bmi_category(bmi):\n",
    "    if bmi<18.5:\n",
    "        return \"Underweight\"\n",
    "    elif 18.5<= bmi <25:\n",
    "        return \"Normal weight\"\n",
    "    elif 25<= bmi <30:\n",
    "        return \"Overweight\"\n",
    "    else:\n",
    "        return \"Obese\"\n",
    "    \n",
    "def health_recommendations(bmi_category):\n",
    "    if bmi_category == \"Underweight\":\n",
    "        return \"Consider consulting with a healthcare professional for advice on weight gain.\"\n",
    "    elif bmi_category == \"Normal Weight\":\n",
    "        return \"Maintain a healthy lifestyle with regular exercise and balanced nutrition.\"\n",
    "    elif bmi_category == \"Overweight\":\n",
    "        return \"Consider consulting with a healthcare professional for advice on weight loss.\"\n",
    "    else:\n",
    "        return \"Consult with a healthcare professional for advice on managing obesity.\"\n",
    "\n",
    "def main():\n",
    "    \n",
    "    try:\n",
    "        weight = int(input(\"Enter your weight : \"))\n",
    "        height = float(input(\"Enter your height in meters : \"))\n",
    "\n",
    "        bmi = calculate_bmi(weight,height)\n",
    "        category = bmi_category(bmi)\n",
    "        recomendation = health_recommendations(category)\n",
    "\n",
    "        print(f\"Your BMI is {bmi}\")\n",
    "        print(f\"Your category is {category}\")\n",
    "        print(f\"Expert advice {recomendation}\")\n",
    "    \n",
    "    except Exception as e:\n",
    "        print(\"There is an error : \",e)\n",
    "        \n",
    "if __name__ == \"__main__\":\n",
    "    main()"
   ]
  },
  {
   "cell_type": "markdown",
   "id": "fd135655",
   "metadata": {},
   "source": [
    "## Challenge level"
   ]
  },
  {
   "cell_type": "markdown",
   "id": "0357b652",
   "metadata": {},
   "source": [
    "Sol 31"
   ]
  },
  {
   "cell_type": "code",
   "execution_count": 57,
   "id": "3889bbe7",
   "metadata": {},
   "outputs": [
    {
     "name": "stdout",
     "output_type": "stream",
     "text": [
      "Enter your password : Security321@\n",
      "Yes, it is a valid password\n"
     ]
    }
   ],
   "source": [
    "import string\n",
    "\n",
    "def password_check(pw):\n",
    "    \n",
    "    lowercase = 0\n",
    "    uppercase = 0\n",
    "    digits = 0\n",
    "    spcl_char = 0\n",
    "    length = 0\n",
    "    \n",
    "    if len(pw)>=6:\n",
    "        length += 1\n",
    "    for char in pw:\n",
    "        if char in string.ascii_lowercase:\n",
    "            lowercase += 1\n",
    "        if char in string.ascii_uppercase:\n",
    "            uppercase += 1\n",
    "        if char in string.digits:\n",
    "            digits += 1\n",
    "        if char in string.punctuation:\n",
    "            spcl_char += 1\n",
    "            \n",
    "    if len == 0 or lowercase == 0 or uppercase == 0 or digits == 0 or spcl_char ==0:\n",
    "        return False\n",
    "    else:\n",
    "        return True\n",
    "    \n",
    "def main():\n",
    "    password = input(\"Enter your password : \")\n",
    "    \n",
    "    if password_check(password):\n",
    "        print(\"Yes, it is a valid password\")\n",
    "    else:\n",
    "        print(\"No, it is not a valid password, please try again\")\n",
    "\n",
    "if __name__ == \"__main__\":\n",
    "    main()"
   ]
  },
  {
   "cell_type": "markdown",
   "id": "046d11c7",
   "metadata": {},
   "source": [
    "Sol 32"
   ]
  },
  {
   "cell_type": "code",
   "execution_count": 58,
   "id": "ec9eb1b1",
   "metadata": {},
   "outputs": [
    {
     "name": "stdout",
     "output_type": "stream",
     "text": [
      "Enter the number of rows: 2\n",
      "Enter the number of columns: 2\n",
      "Enter the elements of the first matrix:\n",
      "Enter element [1][1]: 3\n",
      "Enter element [1][2]: 4\n",
      "Enter element [2][1]: 3\n",
      "Enter element [2][2]: 4\n",
      "Enter the elements of the second matrix:\n",
      "Enter element [1][1]: 5\n",
      "Enter element [1][2]: 4\n",
      "Enter element [2][1]: 3\n",
      "Enter element [2][2]: 6\n",
      "\n",
      "Matrix Addition:\n",
      "Result:\n",
      "[8.0, 8.0]\n",
      "[6.0, 10.0]\n",
      "\n",
      "Matrix Subtraction:\n",
      "Result:\n",
      "[-2.0, 0.0]\n",
      "[0.0, -2.0]\n"
     ]
    }
   ],
   "source": [
    "def matrix_addition(matrix1, matrix2):\n",
    "    result = [[matrix1[i][j] + matrix2[i][j] for j in range(len(matrix1[0]))] for i in range(len(matrix1))]\n",
    "    return result\n",
    "\n",
    "def matrix_subtraction(matrix1, matrix2):\n",
    "    result = [[matrix1[i][j] - matrix2[i][j] for j in range(len(matrix1[0]))] for i in range(len(matrix1))]\n",
    "    return result\n",
    "\n",
    "def print_matrix(matrix, label):\n",
    "    print(f\"{label}:\")\n",
    "    for row in matrix:\n",
    "        print(row)\n",
    "\n",
    "def main():\n",
    "    try:\n",
    "        rows = int(input(\"Enter the number of rows: \"))\n",
    "        cols = int(input(\"Enter the number of columns: \"))\n",
    "\n",
    "        print(\"Enter the elements of the first matrix:\")\n",
    "        matrix1 = [[float(input(f\"Enter element [{i+1}][{j+1}]: \")) for j in range(cols)] for i in range(rows)]\n",
    "\n",
    "        print(\"Enter the elements of the second matrix:\")\n",
    "        matrix2 = [[float(input(f\"Enter element [{i+1}][{j+1}]: \")) for j in range(cols)] for i in range(rows)]\n",
    "\n",
    "        result_addition = matrix_addition(matrix1, matrix2)\n",
    "        result_subtraction = matrix_subtraction(matrix1, matrix2)\n",
    "\n",
    "        print(\"\\nMatrix Addition:\")\n",
    "        print_matrix(result_addition, \"Result\")\n",
    "\n",
    "        print(\"\\nMatrix Subtraction:\")\n",
    "        print_matrix(result_subtraction, \"Result\")\n",
    "\n",
    "    except ValueError:\n",
    "        print(\"Invalid input. Please enter valid numerical values for matrix elements.\")\n",
    "\n",
    "if __name__ == \"__main__\":\n",
    "    main()"
   ]
  },
  {
   "cell_type": "markdown",
   "id": "cd6c6796",
   "metadata": {},
   "source": [
    "Sol 33"
   ]
  },
  {
   "cell_type": "code",
   "execution_count": 60,
   "id": "6901f7ed",
   "metadata": {},
   "outputs": [
    {
     "name": "stdout",
     "output_type": "stream",
     "text": [
      "Enter the first number: 100\n",
      "Enter the second number: 50\n",
      "The GCD of 100 and 50 is: 50\n"
     ]
    }
   ],
   "source": [
    "def gcd_euclidean_algorithm(a, b):\n",
    "    while b:\n",
    "        a, b = b, a % b\n",
    "    return abs(a)\n",
    "\n",
    "def main():\n",
    "    try:\n",
    "        num1 = int(input(\"Enter the first number: \"))\n",
    "        num2 = int(input(\"Enter the second number: \"))\n",
    "\n",
    "        gcd_result = gcd_euclidean_algorithm(num1, num2)\n",
    "\n",
    "        print(f\"The GCD of {num1} and {num2} is: {gcd_result}\")\n",
    "\n",
    "    except ValueError:\n",
    "        print(\"Invalid input. Please enter valid numerical values.\")\n",
    "\n",
    "if __name__ == \"__main__\":\n",
    "    main()"
   ]
  },
  {
   "cell_type": "markdown",
   "id": "99102992",
   "metadata": {},
   "source": [
    "Sol 34"
   ]
  },
  {
   "cell_type": "code",
   "execution_count": 61,
   "id": "6a845a1f",
   "metadata": {},
   "outputs": [
    {
     "name": "stdout",
     "output_type": "stream",
     "text": [
      "Enter the number of rows for the first matrix: 2\n",
      "Enter the number of columns for the first matrix: 2\n",
      "Enter the number of rows for the second matrix: 2\n",
      "Enter the number of columns for the second matrix: 2\n",
      "Enter the elements of the first matrix:\n",
      "Enter element [1][1] for the first matrix: 1\n",
      "Enter element [1][2] for the first matrix: 2\n",
      "Enter element [2][1] for the first matrix: 3\n",
      "Enter element [2][2] for the first matrix: 4\n",
      "Enter the elements of the second matrix:\n",
      "Enter element [1][1] for the second matrix: 5\n",
      "Enter element [1][2] for the second matrix: 6\n",
      "Enter element [2][1] for the second matrix: 7\n",
      "Enter element [2][2] for the second matrix: 8\n",
      "\n",
      "Matrix Multiplication:\n",
      "Result:\n",
      "[19.0, 22.0]\n",
      "[43.0, 50.0]\n"
     ]
    }
   ],
   "source": [
    "def matrix_multiplication(matrix1, matrix2):\n",
    "    rows1, cols1 = len(matrix1), len(matrix1[0])\n",
    "    rows2, cols2 = len(matrix2), len(matrix2[0])\n",
    "\n",
    "    if cols1 != rows2:\n",
    "        print(\"Matrices cannot be multiplied. Number of columns in the first matrix must be equal to the number of rows in the second matrix.\")\n",
    "        return None\n",
    "\n",
    "    result = [[0 for _ in range(cols2)] for _ in range(rows1)]\n",
    "\n",
    "    for i in range(rows1):\n",
    "        for j in range(cols2):\n",
    "            for k in range(cols1):\n",
    "                result[i][j] += matrix1[i][k] * matrix2[k][j]\n",
    "\n",
    "    return result\n",
    "\n",
    "def print_matrix(matrix, label):\n",
    "    print(f\"{label}:\")\n",
    "    for row in matrix:\n",
    "        print(row)\n",
    "\n",
    "def main():\n",
    "    try:\n",
    "        rows1 = int(input(\"Enter the number of rows for the first matrix: \"))\n",
    "        cols1 = int(input(\"Enter the number of columns for the first matrix: \"))\n",
    "\n",
    "        rows2 = int(input(\"Enter the number of rows for the second matrix: \"))\n",
    "        cols2 = int(input(\"Enter the number of columns for the second matrix: \"))\n",
    "\n",
    "        print(\"Enter the elements of the first matrix:\")\n",
    "        matrix1 = [[float(input(f\"Enter element [{i+1}][{j+1}] for the first matrix: \")) for j in range(cols1)] for i in range(rows1)]\n",
    "\n",
    "        print(\"Enter the elements of the second matrix:\")\n",
    "        matrix2 = [[float(input(f\"Enter element [{i+1}][{j+1}] for the second matrix: \")) for j in range(cols2)] for i in range(rows2)]\n",
    "\n",
    "        result = matrix_multiplication(matrix1, matrix2)\n",
    "\n",
    "        if result is not None:\n",
    "            print(\"\\nMatrix Multiplication:\")\n",
    "            print_matrix(result, \"Result\")\n",
    "\n",
    "    except ValueError:\n",
    "        print(\"Invalid input. Please enter valid numerical values for matrix elements.\")\n",
    "\n",
    "if __name__ == \"__main__\":\n",
    "    main()"
   ]
  },
  {
   "cell_type": "markdown",
   "id": "b3a528d4",
   "metadata": {},
   "source": [
    "Sol 35"
   ]
  },
  {
   "cell_type": "code",
   "execution_count": 54,
   "id": "1362bdfd",
   "metadata": {},
   "outputs": [
    {
     "name": "stdout",
     "output_type": "stream",
     "text": [
      "Lets Play Tic Tac Toe\n",
      "You = X and Computer = 0 \n",
      "\n",
      "Initial state :-\n",
      "[(0, 0), (0, 1), (0, 2)]\n",
      "[(1, 0), (1, 1), (1, 2)]\n",
      "[(2, 0), (2, 1), (2, 2)]\n",
      "Enter row and column number separated by space : 0 0\n",
      "['X', (0, 1), (0, 2)]\n",
      "[(1, 0), (1, 1), '0']\n",
      "[(2, 0), (2, 1), (2, 2)]\n",
      "Enter row and column number separated by space : 0 1\n",
      "['X', 'X', '0']\n",
      "[(1, 0), (1, 1), '0']\n",
      "[(2, 0), (2, 1), (2, 2)]\n",
      "Enter row and column number separated by space : 1 0\n",
      "['X', 'X', '0']\n",
      "['X', (1, 1), '0']\n",
      "[(2, 0), (2, 1), '0']\n"
     ]
    },
    {
     "ename": "KeyboardInterrupt",
     "evalue": "Interrupted by user",
     "output_type": "error",
     "traceback": [
      "\u001b[1;31m---------------------------------------------------------------------------\u001b[0m",
      "\u001b[1;31mKeyboardInterrupt\u001b[0m                         Traceback (most recent call last)",
      "\u001b[1;32m~\\AppData\\Local\\Temp/ipykernel_13556/1567557964.py\u001b[0m in \u001b[0;36m<module>\u001b[1;34m\u001b[0m\n\u001b[0;32m     41\u001b[0m \u001b[1;33m\u001b[0m\u001b[0m\n\u001b[0;32m     42\u001b[0m \u001b[1;32mif\u001b[0m \u001b[0m__name__\u001b[0m \u001b[1;33m==\u001b[0m \u001b[1;34m\"__main__\"\u001b[0m\u001b[1;33m:\u001b[0m\u001b[1;33m\u001b[0m\u001b[1;33m\u001b[0m\u001b[0m\n\u001b[1;32m---> 43\u001b[1;33m     \u001b[0mmain\u001b[0m\u001b[1;33m(\u001b[0m\u001b[1;33m)\u001b[0m\u001b[1;33m\u001b[0m\u001b[1;33m\u001b[0m\u001b[0m\n\u001b[0m",
      "\u001b[1;32m~\\AppData\\Local\\Temp/ipykernel_13556/1567557964.py\u001b[0m in \u001b[0;36mmain\u001b[1;34m()\u001b[0m\n\u001b[0;32m     32\u001b[0m     \u001b[1;32mfor\u001b[0m \u001b[0mi\u001b[0m \u001b[1;32min\u001b[0m \u001b[0mrange\u001b[0m\u001b[1;33m(\u001b[0m\u001b[1;36m1\u001b[0m\u001b[1;33m,\u001b[0m\u001b[1;36m10\u001b[0m\u001b[1;33m)\u001b[0m\u001b[1;33m:\u001b[0m\u001b[1;33m\u001b[0m\u001b[1;33m\u001b[0m\u001b[0m\n\u001b[0;32m     33\u001b[0m         \u001b[1;32mif\u001b[0m \u001b[0mi\u001b[0m\u001b[1;33m%\u001b[0m\u001b[1;36m2\u001b[0m \u001b[1;33m!=\u001b[0m \u001b[1;36m0\u001b[0m\u001b[1;33m:\u001b[0m\u001b[1;33m\u001b[0m\u001b[1;33m\u001b[0m\u001b[0m\n\u001b[1;32m---> 34\u001b[1;33m             \u001b[0muser\u001b[0m \u001b[1;33m=\u001b[0m \u001b[0mget_input_data\u001b[0m\u001b[1;33m(\u001b[0m\u001b[1;33m)\u001b[0m\u001b[1;33m\u001b[0m\u001b[1;33m\u001b[0m\u001b[0m\n\u001b[0m\u001b[0;32m     35\u001b[0m             \u001b[0mttt\u001b[0m\u001b[1;33m[\u001b[0m\u001b[0muser\u001b[0m\u001b[1;33m[\u001b[0m\u001b[1;36m0\u001b[0m\u001b[1;33m]\u001b[0m\u001b[1;33m]\u001b[0m\u001b[1;33m[\u001b[0m\u001b[0muser\u001b[0m\u001b[1;33m[\u001b[0m\u001b[1;36m1\u001b[0m\u001b[1;33m]\u001b[0m\u001b[1;33m]\u001b[0m \u001b[1;33m=\u001b[0m \u001b[1;34m'X'\u001b[0m\u001b[1;33m\u001b[0m\u001b[1;33m\u001b[0m\u001b[0m\n\u001b[0;32m     36\u001b[0m         \u001b[1;32melse\u001b[0m\u001b[1;33m:\u001b[0m\u001b[1;33m\u001b[0m\u001b[1;33m\u001b[0m\u001b[0m\n",
      "\u001b[1;32m~\\AppData\\Local\\Temp/ipykernel_13556/1567557964.py\u001b[0m in \u001b[0;36mget_input_data\u001b[1;34m()\u001b[0m\n\u001b[0;32m      5\u001b[0m \u001b[1;32mdef\u001b[0m \u001b[0mget_input_data\u001b[0m\u001b[1;33m(\u001b[0m\u001b[1;33m)\u001b[0m\u001b[1;33m:\u001b[0m\u001b[1;33m\u001b[0m\u001b[1;33m\u001b[0m\u001b[0m\n\u001b[0;32m      6\u001b[0m     \u001b[1;32mtry\u001b[0m\u001b[1;33m:\u001b[0m\u001b[1;33m\u001b[0m\u001b[1;33m\u001b[0m\u001b[0m\n\u001b[1;32m----> 7\u001b[1;33m         \u001b[0mposi\u001b[0m \u001b[1;33m=\u001b[0m \u001b[0minput\u001b[0m\u001b[1;33m(\u001b[0m\u001b[1;34m\"Enter row and column number separated by space : \"\u001b[0m\u001b[1;33m)\u001b[0m\u001b[1;33m\u001b[0m\u001b[1;33m\u001b[0m\u001b[0m\n\u001b[0m\u001b[0;32m      8\u001b[0m         \u001b[0mrow\u001b[0m\u001b[1;33m,\u001b[0m\u001b[0mcolumn\u001b[0m \u001b[1;33m=\u001b[0m \u001b[0mmap\u001b[0m\u001b[1;33m(\u001b[0m\u001b[0mint\u001b[0m\u001b[1;33m,\u001b[0m\u001b[0mposi\u001b[0m\u001b[1;33m.\u001b[0m\u001b[0msplit\u001b[0m\u001b[1;33m(\u001b[0m\u001b[1;33m)\u001b[0m\u001b[1;33m)\u001b[0m\u001b[1;33m\u001b[0m\u001b[1;33m\u001b[0m\u001b[0m\n\u001b[0;32m      9\u001b[0m \u001b[1;33m\u001b[0m\u001b[0m\n",
      "\u001b[1;32m~\\anaconda3\\lib\\site-packages\\ipykernel\\kernelbase.py\u001b[0m in \u001b[0;36mraw_input\u001b[1;34m(self, prompt)\u001b[0m\n\u001b[0;32m   1004\u001b[0m                 \u001b[1;34m\"raw_input was called, but this frontend does not support input requests.\"\u001b[0m\u001b[1;33m\u001b[0m\u001b[1;33m\u001b[0m\u001b[0m\n\u001b[0;32m   1005\u001b[0m             )\n\u001b[1;32m-> 1006\u001b[1;33m         return self._input_request(\n\u001b[0m\u001b[0;32m   1007\u001b[0m             \u001b[0mstr\u001b[0m\u001b[1;33m(\u001b[0m\u001b[0mprompt\u001b[0m\u001b[1;33m)\u001b[0m\u001b[1;33m,\u001b[0m\u001b[1;33m\u001b[0m\u001b[1;33m\u001b[0m\u001b[0m\n\u001b[0;32m   1008\u001b[0m             \u001b[0mself\u001b[0m\u001b[1;33m.\u001b[0m\u001b[0m_parent_ident\u001b[0m\u001b[1;33m[\u001b[0m\u001b[1;34m\"shell\"\u001b[0m\u001b[1;33m]\u001b[0m\u001b[1;33m,\u001b[0m\u001b[1;33m\u001b[0m\u001b[1;33m\u001b[0m\u001b[0m\n",
      "\u001b[1;32m~\\anaconda3\\lib\\site-packages\\ipykernel\\kernelbase.py\u001b[0m in \u001b[0;36m_input_request\u001b[1;34m(self, prompt, ident, parent, password)\u001b[0m\n\u001b[0;32m   1049\u001b[0m             \u001b[1;32mexcept\u001b[0m \u001b[0mKeyboardInterrupt\u001b[0m\u001b[1;33m:\u001b[0m\u001b[1;33m\u001b[0m\u001b[1;33m\u001b[0m\u001b[0m\n\u001b[0;32m   1050\u001b[0m                 \u001b[1;31m# re-raise KeyboardInterrupt, to truncate traceback\u001b[0m\u001b[1;33m\u001b[0m\u001b[1;33m\u001b[0m\u001b[0m\n\u001b[1;32m-> 1051\u001b[1;33m                 \u001b[1;32mraise\u001b[0m \u001b[0mKeyboardInterrupt\u001b[0m\u001b[1;33m(\u001b[0m\u001b[1;34m\"Interrupted by user\"\u001b[0m\u001b[1;33m)\u001b[0m \u001b[1;32mfrom\u001b[0m \u001b[1;32mNone\u001b[0m\u001b[1;33m\u001b[0m\u001b[1;33m\u001b[0m\u001b[0m\n\u001b[0m\u001b[0;32m   1052\u001b[0m             \u001b[1;32mexcept\u001b[0m \u001b[0mException\u001b[0m\u001b[1;33m:\u001b[0m\u001b[1;33m\u001b[0m\u001b[1;33m\u001b[0m\u001b[0m\n\u001b[0;32m   1053\u001b[0m                 \u001b[0mself\u001b[0m\u001b[1;33m.\u001b[0m\u001b[0mlog\u001b[0m\u001b[1;33m.\u001b[0m\u001b[0mwarning\u001b[0m\u001b[1;33m(\u001b[0m\u001b[1;34m\"Invalid Message:\"\u001b[0m\u001b[1;33m,\u001b[0m \u001b[0mexc_info\u001b[0m\u001b[1;33m=\u001b[0m\u001b[1;32mTrue\u001b[0m\u001b[1;33m)\u001b[0m\u001b[1;33m\u001b[0m\u001b[1;33m\u001b[0m\u001b[0m\n",
      "\u001b[1;31mKeyboardInterrupt\u001b[0m: Interrupted by user"
     ]
    }
   ],
   "source": [
    "import random\n",
    "\n",
    "tic_tac_toe_positions = [(0, 0), (0, 1), (0, 2),(1, 0), (1, 1), (1, 2),(2, 0), (2, 1), (2, 2)]\n",
    "\n",
    "def get_input_data():\n",
    "    try:\n",
    "        posi = input(\"Enter row and column number separated by space : \")\n",
    "        row,column = map(int,posi.split())\n",
    "\n",
    "        tic_tac_toe_positions.remove((row,column))\n",
    "\n",
    "        return row,column\n",
    "    except Exception as e:\n",
    "        print(\"There is an error, please enter index values between 0-2 OR you are trying to overwrite positions\")\n",
    "\n",
    "def get_comp_data():\n",
    "    comp =  random.choice(tic_tac_toe_positions)\n",
    "    tic_tac_toe_positions.remove(comp)\n",
    "\n",
    "    return comp\n",
    "\n",
    "def main():\n",
    "    \n",
    "    print(\"Lets Play Tic Tac Toe\")\n",
    "    print(\"You = X and Computer = 0 \\n\")\n",
    "    print(\"Initial state :-\")\n",
    "    \n",
    "    ttt = [[(0, 0), (0, 1), (0, 2)],[(1, 0), (1, 1), (1, 2)],[(2, 0), (2, 1), (2, 2)]]\n",
    "    for row in ttt:\n",
    "        print(row)\n",
    "        \n",
    "    for i in range(1,10):\n",
    "        if i%2 != 0:\n",
    "            user = get_input_data()\n",
    "            ttt[user[0]][user[1]] = 'X'\n",
    "        else:\n",
    "            computer = get_comp_data()\n",
    "            ttt[computer[0]][computer[1]] = '0'\n",
    "            for row in ttt:\n",
    "                print(row)\n",
    "                \n",
    "if __name__ == \"__main__\":\n",
    "    main()"
   ]
  },
  {
   "cell_type": "code",
   "execution_count": 1,
   "id": "a6eb6abd",
   "metadata": {},
   "outputs": [
    {
     "name": "stdout",
     "output_type": "stream",
     "text": [
      "Let's Play Tic Tac Toe\n",
      "You = X and Computer = O\n",
      "\n",
      "Initial state :-\n",
      "['-', '-', '-']\n",
      "['-', '-', '-']\n",
      "['-', '-', '-']\n",
      "Enter row and column number separated by space: 0 0\n",
      "['X', '-', '-']\n",
      "['-', '-', '-']\n",
      "['-', '-', '-']\n",
      "['X', '-', '-']\n",
      "['-', '-', '-']\n",
      "['-', 'O', '-']\n",
      "Enter row and column number separated by space: 1 1\n",
      "['X', '-', '-']\n",
      "['-', 'X', '-']\n",
      "['-', 'O', '-']\n",
      "['X', '-', '-']\n",
      "['O', 'X', '-']\n",
      "['-', 'O', '-']\n",
      "Enter row and column number separated by space: 2 2\n",
      "Congratulations! You win!\n"
     ]
    }
   ],
   "source": [
    "import random\n",
    "\n",
    "tic_tac_toe_positions = [(0, 0), (0, 1), (0, 2), (1, 0), (1, 1), (1, 2), (2, 0), (2, 1), (2, 2)]\n",
    "\n",
    "def get_input_data():\n",
    "    try:\n",
    "        posi = input(\"Enter row and column number separated by space: \")\n",
    "        row, column = map(int, posi.split())\n",
    "\n",
    "        tic_tac_toe_positions.remove((row, column))\n",
    "\n",
    "        return row, column\n",
    "    except Exception as e:\n",
    "        print(\"There is an error. Please enter index values between 0-2, or you are trying to overwrite positions.\")\n",
    "\n",
    "def check_winner(board, player):\n",
    "    for i in range(3):\n",
    "        if all(board[i][j] == player for j in range(3)) or all(board[j][i] == player for j in range(3)):\n",
    "            return True\n",
    "    if all(board[i][i] == player for i in range(3)) or all(board[i][2 - i] == player for i in range(3)):\n",
    "        return True\n",
    "    return False\n",
    "\n",
    "\n",
    "\n",
    "def print_board(board):\n",
    "    for row in board:\n",
    "        print(row)\n",
    "\n",
    "def main():\n",
    "    print(\"Let's Play Tic Tac Toe\")\n",
    "    print(\"You = X and Computer = O\\n\")\n",
    "    print(\"Initial state :-\")\n",
    "\n",
    "    ttt = [['-', '-', '-'], ['-', '-', '-'], ['-', '-', '-']]\n",
    "    print_board(ttt)\n",
    "\n",
    "    for i in range(1, 10):\n",
    "        if i % 2 != 0:\n",
    "            user = get_input_data()\n",
    "            ttt[user[0]][user[1]] = 'X'\n",
    "            if check_winner(ttt, 'X'):\n",
    "                print(\"Congratulations! You win!\")\n",
    "                break\n",
    "        else:\n",
    "            computer = random.choice(tic_tac_toe_positions)\n",
    "            ttt[computer[0]][computer[1]] = 'O'\n",
    "            if check_winner(ttt, 'O'):\n",
    "                print(\"Computer wins! Better luck next time.\")\n",
    "                break\n",
    "\n",
    "        print_board(ttt)\n",
    "\n",
    "if __name__ == \"__main__\":\n",
    "    main()\n",
    "\n"
   ]
  },
  {
   "cell_type": "markdown",
   "id": "cbacef91",
   "metadata": {},
   "source": [
    "Sol 36\n"
   ]
  },
  {
   "cell_type": "code",
   "execution_count": 4,
   "id": "af1b9d4d",
   "metadata": {},
   "outputs": [
    {
     "name": "stdout",
     "output_type": "stream",
     "text": [
      "Enter the number of fibonacci terms you want : 10\n",
      "Fibonacci series upto 10 : [0, 1, 1, 2, 3, 5, 8, 13, 21, 34]\n"
     ]
    }
   ],
   "source": [
    "def generate_fibonacci(n):\n",
    "    fib = [0,1]\n",
    "    \n",
    "    for i in range(2,n):\n",
    "        next_term = fib[i-2] + fib[i-1]\n",
    "        fib.append(next_term)\n",
    "        \n",
    "    return fib\n",
    "        \n",
    "def main():\n",
    "    try:\n",
    "        n = int(input(\"Enter the number of fibonacci terms you want : \"))\n",
    "        if n<=0:\n",
    "            n = int(input(\"Enter a positive integer : \"))\n",
    "            \n",
    "        fibonacci_series = generate_fibonacci(n)\n",
    "        print(f\"Fibonacci series upto {n} : {fibonacci_series}\")\n",
    "    except Exception as e:\n",
    "        print(\"You have an error : \",e)\n",
    "        \n",
    "if __name__ == \"__main__\":\n",
    "    main()"
   ]
  },
  {
   "cell_type": "markdown",
   "id": "d2047d68",
   "metadata": {},
   "source": [
    "Sol 37"
   ]
  },
  {
   "cell_type": "code",
   "execution_count": 6,
   "id": "a61d6f19",
   "metadata": {},
   "outputs": [
    {
     "name": "stdout",
     "output_type": "stream",
     "text": [
      "Enter the value of 'n' for the nth term of the Fibonacci sequence: 10\n",
      "The 10th term of the Fibonacci sequence is: 34\n"
     ]
    }
   ],
   "source": [
    "def fibonacci_memo(n, memo={}):\n",
    "    if n <= 1:\n",
    "        return n\n",
    "\n",
    "    if n not in memo:\n",
    "        memo[n] = fibonacci_memo(n - 1, memo) + fibonacci_memo(n - 2, memo)\n",
    "\n",
    "    return memo[n]\n",
    "\n",
    "def main():\n",
    "    try:\n",
    "        n = int(input(\"Enter the value of 'n' for the nth term of the Fibonacci sequence: \"))\n",
    "        if n < 0:\n",
    "            print(\"Please enter a non-negative integer.\")\n",
    "            return\n",
    "\n",
    "        fibonacci_result = fibonacci_memo(n-1)\n",
    "        print(f\"The {n}th term of the Fibonacci sequence is: {fibonacci_result}\")\n",
    "\n",
    "    except ValueError:\n",
    "        print(\"Invalid input. Please enter a valid integer.\")\n",
    "\n",
    "if __name__ == \"__main__\":\n",
    "    main()\n"
   ]
  },
  {
   "cell_type": "markdown",
   "id": "7ab61edc",
   "metadata": {},
   "source": [
    "Sol 38"
   ]
  },
  {
   "cell_type": "code",
   "execution_count": 9,
   "id": "aa2050d0",
   "metadata": {},
   "outputs": [
    {
     "name": "stdout",
     "output_type": "stream",
     "text": [
      "Enter the year: 2022\n",
      "Enter the month (1-12): 3\n",
      "Calendar for March 2022:\n",
      "Mo Tu We Th Fr Sa Su\n",
      "    1  2  3  4  5  6 \n",
      " 7  8  9 10 11 12 13 \n",
      "14 15 16 17 18 19 20 \n",
      "21 22 23 24 25 26 27 \n",
      "28 29 30 31          \n"
     ]
    }
   ],
   "source": [
    "import calendar\n",
    "\n",
    "def generate_calendar(year, month):\n",
    "    cal = calendar.monthcalendar(year, month)\n",
    "    \n",
    "    print(f\"Calendar for {calendar.month_name[month]} {year}:\")\n",
    "    print(\"Mo Tu We Th Fr Sa Su\")\n",
    "\n",
    "    for week in cal:\n",
    "        for day in week:\n",
    "            if day == 0:\n",
    "                print(\"   \", end=\"\")\n",
    "            else:\n",
    "                print(f\"{day:2} \", end=\"\")\n",
    "        print()\n",
    "\n",
    "def main():\n",
    "    try:\n",
    "        year = int(input(\"Enter the year: \"))\n",
    "        month = int(input(\"Enter the month (1-12): \"))\n",
    "\n",
    "        if 1 <= month <= 12:\n",
    "            generate_calendar(year, month)\n",
    "        else:\n",
    "            print(\"Invalid month. Please enter a month between 1 and 12.\")\n",
    "\n",
    "    except ValueError:\n",
    "        print(\"Invalid input. Please enter valid integers.\")\n",
    "\n",
    "if __name__ == \"__main__\":\n",
    "    main()\n"
   ]
  },
  {
   "cell_type": "markdown",
   "id": "7db969bd",
   "metadata": {},
   "source": [
    "Sol 39"
   ]
  },
  {
   "cell_type": "code",
   "execution_count": 10,
   "id": "5b09877c",
   "metadata": {},
   "outputs": [
    {
     "name": "stdout",
     "output_type": "stream",
     "text": [
      "Welcome to Blackjack!\n",
      "Your cards: [7, 5], current score: 12\n",
      "Computer's first card: 2\n",
      "Type 'y' to get another card, 'n' to pass: y\n",
      "Your cards: [7, 5, 10], current score: 22\n",
      "Computer's first card: 2\n",
      "Your final hand: [7, 5, 10], final score: 22\n",
      "Computer's final hand: [2, 4, 10, 5], final score: 21\n",
      "You went over. You lose!\n"
     ]
    }
   ],
   "source": [
    "import random\n",
    "\n",
    "def deal_card():\n",
    "    \"\"\"Returns a random card from the deck.\"\"\"\n",
    "    cards = [11, 2, 3, 4, 5, 6, 7, 8, 9, 10, 10, 10, 10]\n",
    "    return random.choice(cards)\n",
    "\n",
    "def calculate_score(cards):\n",
    "    \"\"\"Calculates the total score of a hand of cards.\"\"\"\n",
    "    if sum(cards) == 21 and len(cards) == 2:\n",
    "        return 0  # Blackjack\n",
    "    if 11 in cards and sum(cards) > 21:\n",
    "        cards.remove(11)\n",
    "        cards.append(1)\n",
    "    return sum(cards)\n",
    "\n",
    "def compare(user_score, computer_score):\n",
    "    \"\"\"Compares the final scores and determines the winner.\"\"\"\n",
    "    if user_score == computer_score:\n",
    "        return \"It's a draw!\"\n",
    "    elif computer_score == 0:\n",
    "        return \"Computer has Blackjack. You lose!\"\n",
    "    elif user_score == 0:\n",
    "        return \"Blackjack! You win!\"\n",
    "    elif user_score > 21:\n",
    "        return \"You went over. You lose!\"\n",
    "    elif computer_score > 21:\n",
    "        return \"Computer went over. You win!\"\n",
    "    elif user_score > computer_score:\n",
    "        return \"You win!\"\n",
    "    else:\n",
    "        return \"You lose!\"\n",
    "\n",
    "def play_game():\n",
    "    print(\"Welcome to Blackjack!\")\n",
    "\n",
    "    user_cards = []\n",
    "    computer_cards = []\n",
    "    game_over = False\n",
    "\n",
    "    for _ in range(2):\n",
    "        user_cards.append(deal_card())\n",
    "        computer_cards.append(deal_card())\n",
    "\n",
    "    while not game_over:\n",
    "        user_score = calculate_score(user_cards)\n",
    "        computer_score = calculate_score(computer_cards)\n",
    "\n",
    "        print(f\"Your cards: {user_cards}, current score: {user_score}\")\n",
    "        print(f\"Computer's first card: {computer_cards[0]}\")\n",
    "\n",
    "        if user_score == 0 or computer_score == 0 or user_score > 21:\n",
    "            game_over = True\n",
    "        else:\n",
    "            should_continue = input(\"Type 'y' to get another card, 'n' to pass: \").lower()\n",
    "            if should_continue == 'y':\n",
    "                user_cards.append(deal_card())\n",
    "            else:\n",
    "                game_over = True\n",
    "\n",
    "    while computer_score != 0 and computer_score < 17:\n",
    "        computer_cards.append(deal_card())\n",
    "        computer_score = calculate_score(computer_cards)\n",
    "\n",
    "    print(f\"Your final hand: {user_cards}, final score: {user_score}\")\n",
    "    print(f\"Computer's final hand: {computer_cards}, final score: {computer_score}\")\n",
    "    print(compare(user_score, computer_score))\n",
    "\n",
    "if __name__ == \"__main__\":\n",
    "    play_game()"
   ]
  },
  {
   "cell_type": "markdown",
   "id": "4877e7cb",
   "metadata": {},
   "source": [
    "Sol 40"
   ]
  },
  {
   "cell_type": "code",
   "execution_count": 11,
   "id": "8fa227d9",
   "metadata": {},
   "outputs": [
    {
     "name": "stdout",
     "output_type": "stream",
     "text": [
      "Enter a number to find its prime factors: 40\n",
      "Prime factors of 40: [2, 2, 2, 5]\n"
     ]
    }
   ],
   "source": [
    "def generate_prime_factors(n):\n",
    "    prime_factors = []\n",
    "    divisor = 2\n",
    "\n",
    "    while n > 1:\n",
    "        while n % divisor == 0:\n",
    "            prime_factors.append(divisor)\n",
    "            n //= divisor\n",
    "        divisor += 1\n",
    "\n",
    "    return prime_factors\n",
    "\n",
    "def main():\n",
    "    try:\n",
    "        number = int(input(\"Enter a number to find its prime factors: \"))\n",
    "        if number <= 0:\n",
    "            print(\"Please enter a positive integer.\")\n",
    "            return\n",
    "\n",
    "        factors = generate_prime_factors(number)\n",
    "\n",
    "        if len(factors) == 1:\n",
    "            print(f\"{number} is a prime number.\")\n",
    "        else:\n",
    "            print(f\"Prime factors of {number}: {factors}\")\n",
    "\n",
    "    except ValueError:\n",
    "        print(\"Invalid input. Please enter a valid integer.\")\n",
    "\n",
    "if __name__ == \"__main__\":\n",
    "    main()"
   ]
  },
  {
   "cell_type": "code",
   "execution_count": null,
   "id": "36d27d1a",
   "metadata": {},
   "outputs": [],
   "source": []
  }
 ],
 "metadata": {
  "kernelspec": {
   "display_name": "Python 3 (ipykernel)",
   "language": "python",
   "name": "python3"
  },
  "language_info": {
   "codemirror_mode": {
    "name": "ipython",
    "version": 3
   },
   "file_extension": ".py",
   "mimetype": "text/x-python",
   "name": "python",
   "nbconvert_exporter": "python",
   "pygments_lexer": "ipython3",
   "version": "3.9.7"
  }
 },
 "nbformat": 4,
 "nbformat_minor": 5
}

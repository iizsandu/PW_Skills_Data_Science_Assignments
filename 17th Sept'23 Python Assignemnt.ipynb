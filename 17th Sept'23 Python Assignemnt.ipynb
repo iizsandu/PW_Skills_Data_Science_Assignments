{
 "cells": [
  {
   "cell_type": "markdown",
   "id": "b8348c9e",
   "metadata": {},
   "source": [
    "# For loop"
   ]
  },
  {
   "cell_type": "markdown",
   "id": "e337fff2",
   "metadata": {},
   "source": [
    "Sol 1"
   ]
  },
  {
   "cell_type": "code",
   "execution_count": 2,
   "id": "e628de01",
   "metadata": {},
   "outputs": [
    {
     "name": "stdout",
     "output_type": "stream",
     "text": [
      "1 2 3 4 5 6 7 8 9 10 "
     ]
    }
   ],
   "source": [
    "for i in range(1,11):\n",
    "    print(i,end=' ')"
   ]
  },
  {
   "cell_type": "markdown",
   "id": "05488b31",
   "metadata": {},
   "source": [
    "Sol 2"
   ]
  },
  {
   "cell_type": "code",
   "execution_count": 3,
   "id": "119a9d96",
   "metadata": {},
   "outputs": [
    {
     "name": "stdout",
     "output_type": "stream",
     "text": [
      "apple\n",
      "banana\n",
      "cherry\n"
     ]
    }
   ],
   "source": [
    "# for loop\n",
    "\n",
    "fruits = [\"apple\", \"banana\", \"cherry\"]\n",
    "for fruit in fruits:\n",
    "    print(fruit)"
   ]
  },
  {
   "cell_type": "code",
   "execution_count": 5,
   "id": "c4f6c746",
   "metadata": {},
   "outputs": [
    {
     "name": "stdout",
     "output_type": "stream",
     "text": [
      "0 1 2 3 4 "
     ]
    }
   ],
   "source": [
    "# while loop\n",
    "\n",
    "count = 0\n",
    "while count < 5:\n",
    "    print(count,end=' ')\n",
    "    count += 1"
   ]
  },
  {
   "cell_type": "markdown",
   "id": "805f5833",
   "metadata": {},
   "source": [
    "Sol 3"
   ]
  },
  {
   "cell_type": "code",
   "execution_count": 7,
   "id": "8c701c38",
   "metadata": {},
   "outputs": [
    {
     "name": "stdout",
     "output_type": "stream",
     "text": [
      "Sum of the numbers from 1-100 :  5050\n"
     ]
    }
   ],
   "source": [
    "sumation = 0\n",
    "for i in range(1,101):\n",
    "    sumation += i \n",
    "    \n",
    "print(\"Sum of the numbers from 1-100 : \",sumation)"
   ]
  },
  {
   "cell_type": "markdown",
   "id": "be3d2627",
   "metadata": {},
   "source": [
    "Sol 4"
   ]
  },
  {
   "cell_type": "code",
   "execution_count": 8,
   "id": "c1d3f980",
   "metadata": {},
   "outputs": [
    {
     "name": "stdout",
     "output_type": "stream",
     "text": [
      "1 2 3 4 5 "
     ]
    }
   ],
   "source": [
    "lst = [1,2,3,4,5]\n",
    "\n",
    "for item in lst:\n",
    "    print(item,end=' ')"
   ]
  },
  {
   "cell_type": "markdown",
   "id": "cde0dc03",
   "metadata": {},
   "source": [
    "Sol 5"
   ]
  },
  {
   "cell_type": "code",
   "execution_count": 10,
   "id": "fbd25da9",
   "metadata": {},
   "outputs": [
    {
     "name": "stdout",
     "output_type": "stream",
     "text": [
      "product :  120\n"
     ]
    }
   ],
   "source": [
    "lst = [1,2,3,4,5]\n",
    "product = 1\n",
    "for item in lst:\n",
    "    product *= item\n",
    "print(\"product : \",product)"
   ]
  },
  {
   "cell_type": "markdown",
   "id": "70228a56",
   "metadata": {},
   "source": [
    "Sol 6"
   ]
  },
  {
   "cell_type": "code",
   "execution_count": 11,
   "id": "aa59d271",
   "metadata": {},
   "outputs": [
    {
     "name": "stdout",
     "output_type": "stream",
     "text": [
      "2 4 6 8 10 12 14 16 18 20 "
     ]
    }
   ],
   "source": [
    "def check_even(n):\n",
    "    if n%2 == 0:\n",
    "        return True\n",
    "    else:\n",
    "        return False\n",
    "    \n",
    "for i in range(1,21):\n",
    "    if check_even(i):\n",
    "        print(i,end=' ')"
   ]
  },
  {
   "cell_type": "markdown",
   "id": "4bbe5ec5",
   "metadata": {},
   "source": [
    "Sol 7"
   ]
  },
  {
   "cell_type": "code",
   "execution_count": 12,
   "id": "8c6543d4",
   "metadata": {},
   "outputs": [
    {
     "name": "stdout",
     "output_type": "stream",
     "text": [
      "Enter a number you want to calculate factorial : 5\n",
      "Factorial of 5 = 120\n"
     ]
    }
   ],
   "source": [
    "def fac(n):\n",
    "    fac_n = 1\n",
    "    for i in range(1,n+1):\n",
    "        fac_n *= i\n",
    "        \n",
    "    return fac_n\n",
    "\n",
    "n = int(input(\"Enter a number you want to calculate factorial : \"))\n",
    "fact = fac(n)\n",
    "\n",
    "print(f\"Factorial of {n} = {fact}\")"
   ]
  },
  {
   "cell_type": "markdown",
   "id": "64e0ccfd",
   "metadata": {},
   "source": [
    "Sol 8"
   ]
  },
  {
   "cell_type": "code",
   "execution_count": 13,
   "id": "cfb49d22",
   "metadata": {},
   "outputs": [
    {
     "name": "stdout",
     "output_type": "stream",
     "text": [
      "s a n d i p "
     ]
    }
   ],
   "source": [
    "string = 'sandip'\n",
    "\n",
    "for char in string:\n",
    "    print(char,end=' ')"
   ]
  },
  {
   "cell_type": "markdown",
   "id": "f7cbd405",
   "metadata": {},
   "source": [
    "Sol 9"
   ]
  },
  {
   "cell_type": "code",
   "execution_count": 15,
   "id": "2e7faf96",
   "metadata": {},
   "outputs": [
    {
     "name": "stdout",
     "output_type": "stream",
     "text": [
      "Maximum number in the list :  5\n"
     ]
    }
   ],
   "source": [
    "lst = [1,2,3,4,5]\n",
    "max_no = lst[0]\n",
    "\n",
    "for item in lst:\n",
    "    if item > max_no:\n",
    "        max_no = item\n",
    "        \n",
    "print(\"Maximum number in the list : \",max_no)"
   ]
  },
  {
   "cell_type": "markdown",
   "id": "5dd83916",
   "metadata": {},
   "source": [
    "Sol 10"
   ]
  },
  {
   "cell_type": "code",
   "execution_count": 17,
   "id": "a0fef191",
   "metadata": {},
   "outputs": [
    {
     "name": "stdout",
     "output_type": "stream",
     "text": [
      "Enter the limit number : 10\n",
      "Fibonacci series :  [0, 1, 1, 2, 3, 5, 8, 13, 21, 34]\n"
     ]
    }
   ],
   "source": [
    "def fib(n):\n",
    "    fibonacci = [0,1]\n",
    "    for i in range(2,n):\n",
    "        next_item = fibonacci[i-2]+fibonacci[i-1]\n",
    "        fibonacci.append(next_item)\n",
    "    return fibonacci\n",
    "\n",
    "n = int(input(\"Enter the limit number : \"))\n",
    "fibonacci_series = fib(n)\n",
    "\n",
    "print(\"Fibonacci series : \",fibonacci_series)"
   ]
  },
  {
   "cell_type": "markdown",
   "id": "7bbeb077",
   "metadata": {},
   "source": [
    "Sol 11"
   ]
  },
  {
   "cell_type": "code",
   "execution_count": 20,
   "id": "ceb18cd7",
   "metadata": {},
   "outputs": [
    {
     "name": "stdout",
     "output_type": "stream",
     "text": [
      "Enter a string : Sandip Shaw\n",
      "Number of vowels in the string :  3\n"
     ]
    }
   ],
   "source": [
    "def count_vowel(string):\n",
    "    vowel = 'aeiou'\n",
    "    count = 0\n",
    "    for char in string:\n",
    "        if char.lower() in vowel:\n",
    "            count += 1\n",
    "    return count\n",
    "\n",
    "string = input(\"Enter a string : \")\n",
    "count = count_vowel(string)\n",
    "\n",
    "print(\"Number of vowels in the string : \",count)"
   ]
  },
  {
   "cell_type": "markdown",
   "id": "3bd29c45",
   "metadata": {},
   "source": [
    "Sol 12"
   ]
  },
  {
   "cell_type": "code",
   "execution_count": 21,
   "id": "fe973f68",
   "metadata": {},
   "outputs": [
    {
     "name": "stdout",
     "output_type": "stream",
     "text": [
      "Enter a number you want to see the table : 7\n",
      "7 * 1 = 7\n",
      "7 * 2 = 14\n",
      "7 * 3 = 21\n",
      "7 * 4 = 28\n",
      "7 * 5 = 35\n",
      "7 * 6 = 42\n",
      "7 * 7 = 49\n",
      "7 * 8 = 56\n",
      "7 * 9 = 63\n",
      "7 * 10 = 70\n"
     ]
    }
   ],
   "source": [
    "def generate_table(n):\n",
    "    for i in range(1,11):\n",
    "        print(f\"{n} * {i} = {n*i}\")\n",
    "\n",
    "n = int(input(\"Enter a number you want to see the table : \"))\n",
    "generate_table(n)"
   ]
  },
  {
   "cell_type": "markdown",
   "id": "e1e93e27",
   "metadata": {},
   "source": [
    "Sol 13"
   ]
  },
  {
   "cell_type": "code",
   "execution_count": 29,
   "id": "0b46d871",
   "metadata": {},
   "outputs": [
    {
     "name": "stdout",
     "output_type": "stream",
     "text": [
      "Reverse list :  [4, 3, 2, 1]\n"
     ]
    }
   ],
   "source": [
    "lst = [1,2,3,4]\n",
    "new_lst = []\n",
    "for i in range(len(lst)-1,-1,-1):\n",
    "    new_lst.append(lst[i])\n",
    "    \n",
    "print(\"Reverse list : \",new_lst)"
   ]
  },
  {
   "cell_type": "markdown",
   "id": "40a9ef84",
   "metadata": {},
   "source": [
    "Sol 14"
   ]
  },
  {
   "cell_type": "code",
   "execution_count": 31,
   "id": "b031c91b",
   "metadata": {},
   "outputs": [
    {
     "name": "stdout",
     "output_type": "stream",
     "text": [
      "Common elements between the 2 list :  [3, 4]\n"
     ]
    }
   ],
   "source": [
    "lst = [1,2,3,4]\n",
    "lst2 = [3,4,5,6]\n",
    "common_list = []\n",
    "\n",
    "for item in lst:\n",
    "    for item2 in lst2:\n",
    "        if item == item2:\n",
    "            common_list.append(item)\n",
    "print(\"Common elements between the 2 list : \",common_list)"
   ]
  },
  {
   "cell_type": "markdown",
   "id": "1324008a",
   "metadata": {},
   "source": [
    "Sol 15"
   ]
  },
  {
   "cell_type": "code",
   "execution_count": 48,
   "id": "cb1f07ef",
   "metadata": {},
   "outputs": [
    {
     "name": "stdout",
     "output_type": "stream",
     "text": [
      "Key : a, Value : 1\n",
      "Key : b, Value : 2\n",
      "Key : c, Value : 3\n"
     ]
    }
   ],
   "source": [
    "dic1 = {'a' : 1, 'b' : 2, 'c' : 3}\n",
    "\n",
    "for key,value in dic1.items():\n",
    "    print(f\"Key : {key}, Value : {value}\")"
   ]
  },
  {
   "cell_type": "markdown",
   "id": "b13f8bd5",
   "metadata": {},
   "source": [
    "Sol 16"
   ]
  },
  {
   "cell_type": "code",
   "execution_count": 54,
   "id": "c730a0e5",
   "metadata": {},
   "outputs": [
    {
     "name": "stdout",
     "output_type": "stream",
     "text": [
      "Enter 2 numbers with space in between : 100 35\n",
      "GCD of both the numbers :  5\n"
     ]
    }
   ],
   "source": [
    "a,b = map(int, (input(\"Enter 2 numbers with space in between : \")).split())\n",
    "\n",
    "def factors(n):\n",
    "    lst = set()\n",
    "    for i in range(1,n+1):\n",
    "        if n%i == 0:\n",
    "            lst.add(i)\n",
    "    return lst\n",
    "\n",
    "common_elements = factors(a).intersection(factors(b))\n",
    "print(\"GCD of both the numbers : \",max(common_elements))"
   ]
  },
  {
   "cell_type": "markdown",
   "id": "09c14436",
   "metadata": {},
   "source": [
    "Sol 17"
   ]
  },
  {
   "cell_type": "code",
   "execution_count": 57,
   "id": "3db479d7",
   "metadata": {},
   "outputs": [
    {
     "name": "stdout",
     "output_type": "stream",
     "text": [
      "Enter a string : mom\n",
      "Yes, it is a palindrome string\n"
     ]
    }
   ],
   "source": [
    "def palin(string):\n",
    "    new_str = ''\n",
    "    for i in range(len(string)-1,-1,-1):\n",
    "        new_str += string[i]\n",
    "        \n",
    "    if string == new_str:\n",
    "        return True\n",
    "    else:\n",
    "        return False\n",
    "    \n",
    "string = input(\"Enter a string : \")\n",
    "if palin(string):\n",
    "    print(\"Yes, it is a palindrome string\")\n",
    "else:\n",
    "    pirnt(\"No, this is not a palindrome string\")"
   ]
  },
  {
   "cell_type": "markdown",
   "id": "440da73a",
   "metadata": {},
   "source": [
    "Sol 18"
   ]
  },
  {
   "cell_type": "code",
   "execution_count": 58,
   "id": "bd843b68",
   "metadata": {},
   "outputs": [
    {
     "name": "stdout",
     "output_type": "stream",
     "text": [
      "list with unique elements :  [1, 2, 3, 4, 5, 6]\n"
     ]
    }
   ],
   "source": [
    "list1 = [1,2,3,4,4,5,6]\n",
    "new_list = []\n",
    "\n",
    "for item in list1:\n",
    "    if item not in new_list:\n",
    "        new_list.append(item)\n",
    "        \n",
    "print(\"list with unique elements : \",new_list)"
   ]
  },
  {
   "cell_type": "markdown",
   "id": "e7c0a346",
   "metadata": {},
   "source": [
    "Sol 19"
   ]
  },
  {
   "cell_type": "code",
   "execution_count": 59,
   "id": "8d3b8b9f",
   "metadata": {},
   "outputs": [
    {
     "name": "stdout",
     "output_type": "stream",
     "text": [
      "Enter a sentence : my name is sandip shaw\n",
      "Number of words in the sentence :  5\n"
     ]
    }
   ],
   "source": [
    "def extract_words(sentence):\n",
    "    sentence += \" \"\n",
    "    word = ''\n",
    "    word_list = []\n",
    "    for char in sentence:\n",
    "        if char != \" \":\n",
    "            word += char\n",
    "        else:\n",
    "            word_list.append(word)\n",
    "            word = ''\n",
    "    return word_list\n",
    "\n",
    "sentence = input(\"Enter a sentence : \")\n",
    "words_count = len(extract_words(sentence))\n",
    "\n",
    "print(\"Number of words in the sentence : \",words_count)\n"
   ]
  },
  {
   "cell_type": "markdown",
   "id": "6b3d38b1",
   "metadata": {},
   "source": [
    "Sol 20"
   ]
  },
  {
   "cell_type": "code",
   "execution_count": 60,
   "id": "db022e54",
   "metadata": {},
   "outputs": [
    {
     "name": "stdout",
     "output_type": "stream",
     "text": [
      "Sum of odd numbers upto 50 :  625\n"
     ]
    }
   ],
   "source": [
    "odd_sum = 0\n",
    "for i in range(1,51):\n",
    "    if i%2 != 0:\n",
    "        odd_sum += i\n",
    "        \n",
    "print(\"Sum of odd numbers upto 50 : \",odd_sum)"
   ]
  },
  {
   "cell_type": "markdown",
   "id": "c74452d1",
   "metadata": {},
   "source": [
    "Sol 21"
   ]
  },
  {
   "cell_type": "code",
   "execution_count": 62,
   "id": "997fa570",
   "metadata": {},
   "outputs": [
    {
     "name": "stdout",
     "output_type": "stream",
     "text": [
      "Enter year : 2024\n",
      "Yes, the year is leap year\n"
     ]
    }
   ],
   "source": [
    "year = int(input(\"Enter year : \"))\n",
    "check = False\n",
    "for i in range(4,year+1,4):\n",
    "    if i == year:\n",
    "        check = True\n",
    "        \n",
    "if check == True:\n",
    "    print(\"Yes, the year is leap year\")\n",
    "else:\n",
    "    print(\"No, this is not a leap year\")"
   ]
  },
  {
   "cell_type": "markdown",
   "id": "90e3a601",
   "metadata": {},
   "source": [
    "Sol 22"
   ]
  },
  {
   "cell_type": "code",
   "execution_count": 65,
   "id": "f438f8c5",
   "metadata": {},
   "outputs": [
    {
     "name": "stdout",
     "output_type": "stream",
     "text": [
      "Enter a number to calculate its square root: 3\n",
      "The square root of 3.0 is approximately: 1.7320508075688772\n"
     ]
    }
   ],
   "source": [
    "def calculate_square_root(number, precision=1e-10, max_iterations=100):\n",
    "    guess = number / 2.0  \n",
    "    for _ in range(max_iterations):\n",
    "        guess = 0.5 * (guess + number / guess)  # Babylonian method formula\n",
    "        if abs(guess * guess - number) < precision: \n",
    "            break\n",
    "    return guess\n",
    "\n",
    "def main():\n",
    "    try:\n",
    "        num = float(input(\"Enter a number to calculate its square root: \"))\n",
    "        if num >= 0:\n",
    "            square_root = calculate_square_root(num)\n",
    "            print(f\"The square root of {num} is approximately: {square_root}\")\n",
    "        else:\n",
    "            print(\"Please enter a non-negative number.\")\n",
    "    except ValueError:\n",
    "        print(\"Invalid input. Please enter a valid number.\")\n",
    "\n",
    "if __name__ == \"__main__\":\n",
    "    main()"
   ]
  },
  {
   "cell_type": "markdown",
   "id": "9ac42790",
   "metadata": {},
   "source": [
    "Sol 23"
   ]
  },
  {
   "cell_type": "code",
   "execution_count": 67,
   "id": "6b180c05",
   "metadata": {},
   "outputs": [
    {
     "name": "stdout",
     "output_type": "stream",
     "text": [
      "Enter 2 numbers with space in between : 10 5\n",
      "LCM of the 2 numbers :  10\n"
     ]
    }
   ],
   "source": [
    "a,b = map(int, (input(\"Enter 2 numbers with space in between : \")).split())\n",
    "\n",
    "def factors(n):\n",
    "    lst = set()\n",
    "    for i in range(1,n+1):\n",
    "        if n%i == 0:\n",
    "            lst.add(i)\n",
    "    return lst\n",
    "\n",
    "common_elements = factors(a).intersection(factors(b))\n",
    "gcd = max(common_elements)\n",
    "lcm = (a * b) // gcd\n",
    "\n",
    "print(\"LCM of the 2 numbers : \",lcm)"
   ]
  },
  {
   "cell_type": "markdown",
   "id": "de87daa9",
   "metadata": {},
   "source": [
    "# IF else"
   ]
  },
  {
   "cell_type": "markdown",
   "id": "6ed2c483",
   "metadata": {},
   "source": [
    "Sol 1"
   ]
  },
  {
   "cell_type": "code",
   "execution_count": 69,
   "id": "d7fb6043",
   "metadata": {},
   "outputs": [
    {
     "name": "stdout",
     "output_type": "stream",
     "text": [
      "Enter a number : 2\n",
      "Positive\n"
     ]
    }
   ],
   "source": [
    "\n",
    "def check(n):\n",
    "    if n>0:\n",
    "        print(\"Positive\")\n",
    "    elif n==0:\n",
    "        print(\"zero\")\n",
    "    else:\n",
    "        print(\"Negative\")\n",
    "        \n",
    "\n",
    "n = int(input(\"Enter a number : \"))\n",
    "check(n)"
   ]
  },
  {
   "cell_type": "markdown",
   "id": "328daf6c",
   "metadata": {},
   "source": [
    "Sol 2"
   ]
  },
  {
   "cell_type": "code",
   "execution_count": 70,
   "id": "c8d1036c",
   "metadata": {},
   "outputs": [
    {
     "name": "stdout",
     "output_type": "stream",
     "text": [
      "Enter a number : 45\n",
      "Odd\n"
     ]
    }
   ],
   "source": [
    "n = int(input(\"Enter a number : \"))\n",
    "\n",
    "if n%2==0:\n",
    "    print(\"Even\")\n",
    "else:\n",
    "    print(\"Odd\")"
   ]
  },
  {
   "cell_type": "markdown",
   "id": "7b93d269",
   "metadata": {},
   "source": [
    "Sol 3"
   ]
  },
  {
   "cell_type": "code",
   "execution_count": 71,
   "id": "288047d3",
   "metadata": {},
   "outputs": [
    {
     "name": "stdout",
     "output_type": "stream",
     "text": [
      "Enter a number : 54\n",
      "Positive\n"
     ]
    }
   ],
   "source": [
    "# nested if\n",
    "\n",
    "def check(n):\n",
    "    if n>0:\n",
    "        print(\"Positive\")\n",
    "    elif n==0:\n",
    "        print(\"zero\")\n",
    "    else:\n",
    "        print(\"Negative\")\n",
    "        \n",
    "\n",
    "n = int(input(\"Enter a number : \"))\n",
    "check(n)"
   ]
  },
  {
   "cell_type": "markdown",
   "id": "5b0c9f8d",
   "metadata": {},
   "source": [
    "Sol 4"
   ]
  },
  {
   "cell_type": "code",
   "execution_count": 73,
   "id": "2e2bd6bd",
   "metadata": {},
   "outputs": [
    {
     "name": "stdout",
     "output_type": "stream",
     "text": [
      "Enter 3 numbers with space in between : 41 58 12\n",
      "Largest number :  58\n"
     ]
    }
   ],
   "source": [
    "a,b,c = map(int,input(\"Enter 3 numbers with space in between : \").split())\n",
    "\n",
    "if a>b:\n",
    "    if a>c:\n",
    "        print(\"Largest number : \",a)\n",
    "    else:\n",
    "        print(\"Largest number : \",c)\n",
    "else:\n",
    "    if b>c:\n",
    "        print(\"Largest number : \",b)\n",
    "    else:\n",
    "        print(\"Largest number : \",c)"
   ]
  },
  {
   "cell_type": "markdown",
   "id": "26f47776",
   "metadata": {},
   "source": [
    "Sol 5"
   ]
  },
  {
   "cell_type": "code",
   "execution_count": 74,
   "id": "44e942a4",
   "metadata": {},
   "outputs": [
    {
     "name": "stdout",
     "output_type": "stream",
     "text": [
      "Enter a number : -25\n",
      "Absolute value :  25\n"
     ]
    }
   ],
   "source": [
    "a = int(input(\"Enter a number : \"))\n",
    "\n",
    "if a<0:\n",
    "    print(\"Absolute value : \",abs(a))\n",
    "else:\n",
    "    print(\"Absolute value : \",a)"
   ]
  },
  {
   "cell_type": "markdown",
   "id": "59905aee",
   "metadata": {},
   "source": [
    "Sol 6"
   ]
  },
  {
   "cell_type": "code",
   "execution_count": 75,
   "id": "d9ec7c9b",
   "metadata": {},
   "outputs": [
    {
     "name": "stdout",
     "output_type": "stream",
     "text": [
      "Enter a character : j\n",
      "it is a consonant\n"
     ]
    }
   ],
   "source": [
    "char = input(\"Enter a character : \")\n",
    "\n",
    "if char in 'aeiou':\n",
    "    print(\"It is a vowel\")\n",
    "else:\n",
    "    print(\"it is a consonant\")"
   ]
  },
  {
   "cell_type": "markdown",
   "id": "eced8fea",
   "metadata": {},
   "source": [
    "Sol 7"
   ]
  },
  {
   "cell_type": "code",
   "execution_count": 76,
   "id": "79589bbb",
   "metadata": {},
   "outputs": [
    {
     "name": "stdout",
     "output_type": "stream",
     "text": [
      "Enter your age : 18\n",
      "Yes, you are eligible to vote\n"
     ]
    }
   ],
   "source": [
    "age = int(input(\"Enter your age : \"))\n",
    "\n",
    "if age>=18:\n",
    "    print(\"Yes, you are eligible to vote\")\n",
    "else:\n",
    "    print(\"No, you are note eligible to vote\")\n"
   ]
  },
  {
   "cell_type": "markdown",
   "id": "0e7982a8",
   "metadata": {},
   "source": [
    "Sol 8"
   ]
  },
  {
   "cell_type": "code",
   "execution_count": 78,
   "id": "60e5bcc6",
   "metadata": {},
   "outputs": [
    {
     "name": "stdout",
     "output_type": "stream",
     "text": [
      "Enter the purchase amount: 750\n",
      "Discount Amount: 37.50\n"
     ]
    }
   ],
   "source": [
    "def calculate_discount(purchase_amount):\n",
    "    if purchase_amount >= 1000:\n",
    "        discount_percentage = 10\n",
    "    elif purchase_amount >= 500:\n",
    "        discount_percentage = 5\n",
    "    else:\n",
    "        discount_percentage = 0\n",
    "\n",
    "    discount_amount = (discount_percentage / 100) * purchase_amount\n",
    "    return discount_amount\n",
    "\n",
    "def main():\n",
    "    try:\n",
    "        purchase_amount = float(input(\"Enter the purchase amount: \"))\n",
    "        if purchase_amount >= 0:\n",
    "            discount = calculate_discount(purchase_amount)\n",
    "            print(f\"Discount Amount: {discount:.2f}\")\n",
    "        else:\n",
    "            print(\"Please enter a non-negative purchase amount.\")\n",
    "    except ValueError:\n",
    "        print(\"Invalid input. Please enter a valid number.\")\n",
    "\n",
    "if __name__ == \"__main__\":\n",
    "    main()"
   ]
  },
  {
   "cell_type": "markdown",
   "id": "818c8306",
   "metadata": {},
   "source": [
    "Sol 9"
   ]
  },
  {
   "cell_type": "code",
   "execution_count": 84,
   "id": "00d1bff1",
   "metadata": {},
   "outputs": [
    {
     "name": "stdout",
     "output_type": "stream",
     "text": [
      "Enter a number45\n",
      "Yes, it is present between 0 and 100\n"
     ]
    }
   ],
   "source": [
    "number = int(input(\"Enter a number\"))          \n",
    "range_check = [0,100]     \n",
    "check = False\n",
    "\n",
    "for i in range(range_check[0],range_check[1]):\n",
    "    if i == number:\n",
    "        check = True\n",
    "\n",
    "if check:\n",
    "    print(\"Yes, it is present between 0 and 100\")\n",
    "else:\n",
    "    print(\"Noit is not present between 0 and 100\")  "
   ]
  },
  {
   "cell_type": "markdown",
   "id": "ff28eff4",
   "metadata": {},
   "source": [
    "Sol 10"
   ]
  },
  {
   "cell_type": "code",
   "execution_count": 85,
   "id": "2999130e",
   "metadata": {},
   "outputs": [
    {
     "name": "stdout",
     "output_type": "stream",
     "text": [
      "Enter the student's score: 85\n",
      "The student's grade is: B\n"
     ]
    }
   ],
   "source": [
    "def calculate_grade(score):\n",
    "    if score >= 90:\n",
    "        grade = 'A'\n",
    "    elif score >= 80:\n",
    "        grade = 'B'\n",
    "    elif score >= 70:\n",
    "        grade = 'C'\n",
    "    elif score >= 60:\n",
    "        grade = 'D'\n",
    "    else:\n",
    "        grade = 'F'\n",
    "    return grade\n",
    "\n",
    "def main():\n",
    "    try:\n",
    "        score = float(input(\"Enter the student's score: \"))\n",
    "        if 0 <= score <= 100:\n",
    "            grade_result = calculate_grade(score)\n",
    "            print(f\"The student's grade is: {grade_result}\")\n",
    "        else:\n",
    "            print(\"Please enter a valid score between 0 and 100.\")\n",
    "    except ValueError:\n",
    "        print(\"Invalid input. Please enter a valid number.\")\n",
    "\n",
    "if __name__ == \"__main__\":\n",
    "    main()"
   ]
  },
  {
   "cell_type": "markdown",
   "id": "d444ebd1",
   "metadata": {},
   "source": [
    "Sol 11"
   ]
  },
  {
   "cell_type": "code",
   "execution_count": 86,
   "id": "70718aa2",
   "metadata": {},
   "outputs": [
    {
     "name": "stdout",
     "output_type": "stream",
     "text": [
      "Enter anything   \n",
      "Yes, the string is empty\n"
     ]
    }
   ],
   "source": [
    "string = input(\"Enter anything\")\n",
    "none_check = True\n",
    "\n",
    "for char in string:\n",
    "    if char != ' ':\n",
    "        none_check = False\n",
    "\n",
    "if none_check:\n",
    "    print(\"Yes, the string is empty\")\n",
    "else:\n",
    "    print(\"No, the string is not empty\")"
   ]
  },
  {
   "cell_type": "markdown",
   "id": "acc95016",
   "metadata": {},
   "source": [
    "Sol 12"
   ]
  },
  {
   "cell_type": "code",
   "execution_count": 87,
   "id": "69031dfc",
   "metadata": {},
   "outputs": [
    {
     "name": "stdout",
     "output_type": "stream",
     "text": [
      "Enter the length of side 1: 10\n",
      "Enter the length of side 2: 10\n",
      "Enter the length of side 3: 25\n",
      "The triangle is: Isosceles\n"
     ]
    }
   ],
   "source": [
    "def identify_triangle_type(side1, side2, side3):\n",
    "    if side1 == side2 == side3:\n",
    "        return \"Equilateral\"\n",
    "    elif side1 == side2 or side1 == side3 or side2 == side3:\n",
    "        return \"Isosceles\"\n",
    "    else:\n",
    "        return \"Scalene\"\n",
    "\n",
    "def main():\n",
    "    try:\n",
    "        side1 = float(input(\"Enter the length of side 1: \"))\n",
    "        side2 = float(input(\"Enter the length of side 2: \"))\n",
    "        side3 = float(input(\"Enter the length of side 3: \"))\n",
    "        \n",
    "        if side1 > 0 and side2 > 0 and side3 > 0:\n",
    "            triangle_type = identify_triangle_type(side1, side2, side3)\n",
    "            print(f\"The triangle is: {triangle_type}\")\n",
    "        else:\n",
    "            print(\"Please enter valid positive side lengths.\")\n",
    "    except ValueError:\n",
    "        print(\"Invalid input. Please enter valid numbers.\")\n",
    "\n",
    "if __name__ == \"__main__\":\n",
    "    main()"
   ]
  },
  {
   "cell_type": "markdown",
   "id": "2e779dd1",
   "metadata": {},
   "source": [
    "Sol 13"
   ]
  },
  {
   "cell_type": "code",
   "execution_count": 89,
   "id": "1b1955bb",
   "metadata": {},
   "outputs": [
    {
     "name": "stdout",
     "output_type": "stream",
     "text": [
      "Enter a number 1 for Monday, 7 for Sunday : 1\n",
      "Day of the week :  Monday\n"
     ]
    }
   ],
   "source": [
    "days_of_week = [\"Monday\", \"Tuesday\", \"Wednesday\", \"Thursday\", \"Friday\", \"Saturday\", \"Sunday\"]\n",
    "\n",
    "try:\n",
    "    day = int(input(\"Enter a number 1 for Monday, 7 for Sunday : \"))\n",
    "    if 1<=day<=7:\n",
    "        print(\"Day of the week : \",days_of_week[day-1])\n",
    "    \n",
    "except ValueError:\n",
    "    print(\"Invalid input. Please enter valid numbers.\")"
   ]
  },
  {
   "cell_type": "markdown",
   "id": "3e27a8f7",
   "metadata": {},
   "source": [
    "Sol 14"
   ]
  },
  {
   "cell_type": "code",
   "execution_count": 91,
   "id": "0e152bd9",
   "metadata": {},
   "outputs": [
    {
     "name": "stdout",
     "output_type": "stream",
     "text": [
      "Enter year : 2024\n",
      "It is a leap year\n"
     ]
    }
   ],
   "source": [
    "def leapyear(year):\n",
    "    if year%4==0:\n",
    "        return True\n",
    "    else:\n",
    "        return False\n",
    "\n",
    "year = int(input(\"Enter year : \"))\n",
    "\n",
    "if leapyear(year):\n",
    "    print(\"It is a leap year\")\n",
    "else:\n",
    "    print(\"It is not a leap year\")"
   ]
  },
  {
   "cell_type": "markdown",
   "id": "61da545e",
   "metadata": {},
   "source": [
    "Sol 15"
   ]
  },
  {
   "cell_type": "code",
   "execution_count": 93,
   "id": "af7a635b",
   "metadata": {},
   "outputs": [
    {
     "name": "stdout",
     "output_type": "stream",
     "text": [
      "Enter 2 numbers with space in between : 10 5\n",
      "Division result :  2.0\n"
     ]
    }
   ],
   "source": [
    "def divide_number(a,b):\n",
    "    \n",
    "    assert b!=0\n",
    "    result = a/b\n",
    "    return result\n",
    "\n",
    "a,b = map(int,input(\"Enter 2 numbers with space in between : \").split())\n",
    "\n",
    "try:\n",
    "    result = divide_number(a,b)\n",
    "    print(\"Division result : \",result)\n",
    "except AssertionError as e:\n",
    "    print(\"AssertionError : \",e)\n",
    "    "
   ]
  },
  {
   "cell_type": "markdown",
   "id": "f8806156",
   "metadata": {},
   "source": [
    "Sol 16"
   ]
  },
  {
   "cell_type": "code",
   "execution_count": 94,
   "id": "8adae6d9",
   "metadata": {},
   "outputs": [
    {
     "name": "stdout",
     "output_type": "stream",
     "text": [
      "Enter your age: 75\n",
      "Congratulations! You are eligible for a senior citizen discount.\n"
     ]
    }
   ],
   "source": [
    "def check_senior_citizen_discount(age):\n",
    "    if age >= 60:\n",
    "        return True\n",
    "    else:\n",
    "        return False\n",
    "\n",
    "def main():\n",
    "    try:\n",
    "        age = int(input(\"Enter your age: \"))\n",
    "        if age >= 0:\n",
    "            eligible_for_discount = check_senior_citizen_discount(age)\n",
    "            if eligible_for_discount:\n",
    "                print(\"Congratulations! You are eligible for a senior citizen discount.\")\n",
    "            else:\n",
    "                print(\"Sorry, you are not eligible for a senior citizen discount.\")\n",
    "        else:\n",
    "            print(\"Please enter a valid non-negative age.\")\n",
    "    except ValueError:\n",
    "        print(\"Invalid input. Please enter a valid integer for age.\")\n",
    "\n",
    "if __name__ == \"__main__\":\n",
    "    main()"
   ]
  },
  {
   "cell_type": "markdown",
   "id": "7e609715",
   "metadata": {},
   "source": [
    "Sol 17"
   ]
  },
  {
   "cell_type": "code",
   "execution_count": 95,
   "id": "c6c4dccf",
   "metadata": {},
   "outputs": [
    {
     "name": "stdout",
     "output_type": "stream",
     "text": [
      "Enter a character : A\n",
      "It is an uppercase character\n"
     ]
    }
   ],
   "source": [
    "import string\n",
    "\n",
    "char = input(\"Enter a character : \")\n",
    "\n",
    "if char in string.ascii_uppercase:\n",
    "    print(\"It is an uppercase character\")\n",
    "elif char in string.ascii_lowercase:\n",
    "    print(\"It is a lowercase character\")\n",
    "else:\n",
    "    print(\"It is neither uppercase or lowercase character\")"
   ]
  },
  {
   "cell_type": "markdown",
   "id": "396a3a75",
   "metadata": {},
   "source": [
    "Sol 18"
   ]
  },
  {
   "cell_type": "code",
   "execution_count": 96,
   "id": "866c9267",
   "metadata": {},
   "outputs": [
    {
     "name": "stdout",
     "output_type": "stream",
     "text": [
      "Enter the coefficient of x^2 (a): 5\n",
      "Enter the coefficient of x (b): 2\n",
      "Enter the constant term (c): 3\n",
      "('Complex roots:', (-0.2+0.7483314773547882j), (-0.2-0.7483314773547882j))\n"
     ]
    }
   ],
   "source": [
    "import math\n",
    "\n",
    "def quadratic_roots(a, b, c):\n",
    "    discriminant = b**2 - 4*a*c\n",
    "\n",
    "    if discriminant > 0:\n",
    "        root1 = (-b + math.sqrt(discriminant)) / (2*a)\n",
    "        root2 = (-b - math.sqrt(discriminant)) / (2*a)\n",
    "        return \"Two distinct real roots:\", root1, root2\n",
    "    elif discriminant == 0:\n",
    "        root = -b / (2*a)\n",
    "        return \"One real root (double root):\", root\n",
    "    else:\n",
    "        real_part = -b / (2*a)\n",
    "        imaginary_part = math.sqrt(abs(discriminant)) / (2*a)\n",
    "        root1 = complex(real_part, imaginary_part)\n",
    "        root2 = complex(real_part, -imaginary_part)\n",
    "        return \"Complex roots:\", root1, root2\n",
    "\n",
    "def main():\n",
    "    try:\n",
    "        a = float(input(\"Enter the coefficient of x^2 (a): \"))\n",
    "        b = float(input(\"Enter the coefficient of x (b): \"))\n",
    "        c = float(input(\"Enter the constant term (c): \"))\n",
    "        \n",
    "        result = quadratic_roots(a, b, c)\n",
    "        print(result)\n",
    "    except ValueError:\n",
    "        print(\"Invalid input. Please enter valid numerical coefficients.\")\n",
    "\n",
    "if __name__ == \"__main__\":\n",
    "    main()"
   ]
  },
  {
   "cell_type": "markdown",
   "id": "dcc58208",
   "metadata": {},
   "source": [
    "Sol 19"
   ]
  },
  {
   "cell_type": "code",
   "execution_count": 97,
   "id": "e29a5c76",
   "metadata": {},
   "outputs": [
    {
     "name": "stdout",
     "output_type": "stream",
     "text": [
      "Enter year : 2023\n",
      "No, this is not the current year\n"
     ]
    }
   ],
   "source": [
    "current_year = 2024\n",
    "\n",
    "year = int(input(\"Enter year : \"))\n",
    "if year == current_year:\n",
    "    print(\"Yes, this is current year\")\n",
    "else:\n",
    "    print(\"No, this is not the current year\")"
   ]
  },
  {
   "cell_type": "markdown",
   "id": "217a14d2",
   "metadata": {},
   "source": [
    "Sol 20"
   ]
  },
  {
   "cell_type": "code",
   "execution_count": 100,
   "id": "b94a9e26",
   "metadata": {},
   "outputs": [
    {
     "name": "stdout",
     "output_type": "stream",
     "text": [
      "Enter a number : 81\n",
      "Yes, it is a perfect square\n"
     ]
    }
   ],
   "source": [
    "def per_square(n):\n",
    "    if ((int(n**0.5))**2) == n:\n",
    "        return True\n",
    "    else:\n",
    "        return False\n",
    "\n",
    "n = int(input(\"Enter a number : \"))\n",
    "if per_square(n):\n",
    "    print(\"Yes, it is a perfect square\")\n",
    "else:\n",
    "    print(\"No, it is not a perfect square\")"
   ]
  },
  {
   "cell_type": "markdown",
   "id": "0dda4cb7",
   "metadata": {},
   "source": [
    "Sol 21"
   ]
  },
  {
   "cell_type": "code",
   "execution_count": 101,
   "id": "d0076b5e",
   "metadata": {},
   "outputs": [
    {
     "name": "stdout",
     "output_type": "stream",
     "text": [
      "1\n",
      "3\n",
      "4\n",
      "5\n"
     ]
    }
   ],
   "source": [
    "for i in range(1,6):\n",
    "    if i==2:\n",
    "        continue\n",
    "    else:\n",
    "        print(i)"
   ]
  },
  {
   "cell_type": "code",
   "execution_count": 103,
   "id": "ac111baa",
   "metadata": {},
   "outputs": [
    {
     "name": "stdout",
     "output_type": "stream",
     "text": [
      "1\n",
      "2\n",
      "3\n",
      "4\n"
     ]
    }
   ],
   "source": [
    "for i in range(1,6):\n",
    "    if i==5:\n",
    "        break\n",
    "    else:\n",
    "        print(i)\n",
    "    "
   ]
  },
  {
   "cell_type": "markdown",
   "id": "94cfb252",
   "metadata": {},
   "source": [
    "Sol 22"
   ]
  },
  {
   "cell_type": "code",
   "execution_count": 104,
   "id": "0da4d00b",
   "metadata": {},
   "outputs": [
    {
     "name": "stdout",
     "output_type": "stream",
     "text": [
      "Enter your weight in kilograms: 75\n",
      "Enter your height in meters: 1.7\n",
      "Your BMI is: 25.95\n",
      "BMI Category: Overweight\n"
     ]
    }
   ],
   "source": [
    "def calculate_bmi(weight, height):\n",
    "    if weight <= 0 or height <= 0:\n",
    "        return \"Invalid weight or height. Please enter positive values.\"\n",
    "\n",
    "    bmi = weight / (height**2)\n",
    "\n",
    "    if bmi < 18.5:\n",
    "        category = \"Underweight\"\n",
    "    elif 18.5 <= bmi < 25:\n",
    "        category = \"Normal weight\"\n",
    "    elif 25 <= bmi < 30:\n",
    "        category = \"Overweight\"\n",
    "    else:\n",
    "        category = \"Obese\"\n",
    "\n",
    "    return f\"Your BMI is: {bmi:.2f}\\nBMI Category: {category}\"\n",
    "\n",
    "def main():\n",
    "    try:\n",
    "        weight = float(input(\"Enter your weight in kilograms: \"))\n",
    "        height = float(input(\"Enter your height in meters: \"))\n",
    "        \n",
    "        result = calculate_bmi(weight, height)\n",
    "        print(result)\n",
    "    except ValueError:\n",
    "        print(\"Invalid input. Please enter valid numerical values.\")\n",
    "\n",
    "if __name__ == \"__main__\":\n",
    "    main()"
   ]
  },
  {
   "cell_type": "markdown",
   "id": "e3f77403",
   "metadata": {},
   "source": [
    "Sol 23"
   ]
  },
  {
   "cell_type": "code",
   "execution_count": 107,
   "id": "f13a0588",
   "metadata": {},
   "outputs": [
    {
     "name": "stdout",
     "output_type": "stream",
     "text": [
      "Even filtered numbers :  [2, 4, 6, 8, 10]\n"
     ]
    }
   ],
   "source": [
    "def even_filter(n):\n",
    "    if n%2==0:\n",
    "        return True\n",
    "    else:\n",
    "        return False\n",
    "    \n",
    "numbers = [1, 2, 3, 4, 5, 6, 7, 8, 9, 10]\n",
    "\n",
    "filtered_no = filter(even_filter,numbers)\n",
    "print(\"Even filtered numbers : \",list(filtered_no))"
   ]
  },
  {
   "cell_type": "markdown",
   "id": "d9341535",
   "metadata": {},
   "source": [
    "Sol 24"
   ]
  },
  {
   "cell_type": "code",
   "execution_count": 108,
   "id": "b9e25dd3",
   "metadata": {},
   "outputs": [
    {
     "name": "stdout",
     "output_type": "stream",
     "text": [
      "Enter a number: 5\n",
      "5 is a prime number.\n"
     ]
    }
   ],
   "source": [
    "def is_prime(number):\n",
    "    if number < 2:\n",
    "        return False\n",
    "\n",
    "    for i in range(2, int(number**0.5) + 1):\n",
    "        if number % i == 0:\n",
    "            return False\n",
    "    return True\n",
    "\n",
    "def main():\n",
    "    try:\n",
    "        num = int(input(\"Enter a number: \"))\n",
    "        if num >= 0:\n",
    "            if is_prime(num):\n",
    "                print(f\"{num} is a prime number.\")\n",
    "            else:\n",
    "                print(f\"{num} is not a prime number.\")\n",
    "        else:\n",
    "            print(\"Please enter a non-negative integer.\")\n",
    "    except ValueError:\n",
    "        print(\"Invalid input. Please enter a valid integer.\")\n",
    "\n",
    "if __name__ == \"__main__\":\n",
    "    main()"
   ]
  },
  {
   "cell_type": "markdown",
   "id": "3cd3c443",
   "metadata": {},
   "source": [
    "# Map"
   ]
  },
  {
   "cell_type": "markdown",
   "id": "63a16c52",
   "metadata": {},
   "source": [
    "Sol 1"
   ]
  },
  {
   "cell_type": "code",
   "execution_count": 111,
   "id": "9d117d67",
   "metadata": {},
   "outputs": [
    {
     "data": {
      "text/plain": [
       "[1, 2]"
      ]
     },
     "execution_count": 111,
     "metadata": {},
     "output_type": "execute_result"
    }
   ],
   "source": [
    "# map function applies a specified function to all items in an iterable\n",
    "\n",
    "a = ['1','2']\n",
    "\n",
    "b = map(int,a)\n",
    "list(b)"
   ]
  },
  {
   "cell_type": "markdown",
   "id": "9247ae4d",
   "metadata": {},
   "source": [
    "Sol 2"
   ]
  },
  {
   "cell_type": "code",
   "execution_count": 112,
   "id": "23375b2f",
   "metadata": {},
   "outputs": [
    {
     "name": "stdout",
     "output_type": "stream",
     "text": [
      "Updated list :  [1, 4, 9, 16, 25]\n"
     ]
    }
   ],
   "source": [
    "def square(n):\n",
    "    return n*n\n",
    "\n",
    "list_no = [1,2,3,4,5]\n",
    "new_list = list(map(square,list_no)) \n",
    "\n",
    "print(\"Updated list : \",new_list)"
   ]
  },
  {
   "cell_type": "markdown",
   "id": "184bf235",
   "metadata": {},
   "source": [
    "Sol 3"
   ]
  },
  {
   "cell_type": "markdown",
   "id": "04de2a03",
   "metadata": {},
   "source": [
    "map() may be preferable when you want to apply a specific function to each element of an iterable without the need for additional conditions or complex expressions.\n",
    "\n",
    "List comprehensions may be more readable and convenient when you need to create a new list with a simple expression and optionally filter elements based on conditions."
   ]
  },
  {
   "cell_type": "markdown",
   "id": "c7171d02",
   "metadata": {},
   "source": [
    "Sol 4"
   ]
  },
  {
   "cell_type": "code",
   "execution_count": 114,
   "id": "8cd1c873",
   "metadata": {},
   "outputs": [
    {
     "name": "stdout",
     "output_type": "stream",
     "text": [
      "Uppercase names :  ['ALICE', 'BOB', 'CHARLIE', 'DAVID', 'EMMA', 'FRANK', 'GRACE', 'HENRY', 'IVY', 'JACK']\n"
     ]
    }
   ],
   "source": [
    "def uppercase(string):\n",
    "    return string.upper()\n",
    "\n",
    "names = [\"Alice\", \"Bob\", \"Charlie\", \"David\", \"Emma\", \"Frank\", \"Grace\", \"Henry\", \"Ivy\", \"Jack\"]\n",
    "uppercase_names = list(map(uppercase,names))\n",
    "\n",
    "print(\"Uppercase names : \",uppercase_names)"
   ]
  },
  {
   "cell_type": "markdown",
   "id": "3e9d4ea1",
   "metadata": {},
   "source": [
    "Sol 5"
   ]
  },
  {
   "cell_type": "code",
   "execution_count": 117,
   "id": "ac69b532",
   "metadata": {},
   "outputs": [
    {
     "name": "stdout",
     "output_type": "stream",
     "text": [
      "Length of the strings :  [5, 3, 7, 5, 4, 5, 5, 5, 3, 4]\n"
     ]
    }
   ],
   "source": [
    "def cal_len(string):\n",
    "    return len(string)\n",
    "\n",
    "names = [\"Alice\", \"Bob\", \"Charlie\", \"David\", \"Emma\", \"Frank\", \"Grace\", \"Henry\", \"Ivy\", \"Jack\"]\n",
    "length_names = list(map(cal_len,names))\n",
    "\n",
    "print(\"Length of the strings : \",length_names)"
   ]
  },
  {
   "cell_type": "markdown",
   "id": "0e6a30a7",
   "metadata": {},
   "source": [
    "SOl 6"
   ]
  },
  {
   "cell_type": "code",
   "execution_count": 118,
   "id": "edc55156",
   "metadata": {},
   "outputs": [
    {
     "name": "stdout",
     "output_type": "stream",
     "text": [
      "Original lists:\n",
      "List 1: [1, 2, 3, 4]\n",
      "List 2: [5, 6, 7, 8]\n",
      "Result after adding corresponding elements: [6, 8, 10, 12]\n"
     ]
    }
   ],
   "source": [
    "def add_elements(x, y):\n",
    "    return x + y\n",
    "\n",
    "list1 = [1, 2, 3, 4]\n",
    "list2 = [5, 6, 7, 8]\n",
    "\n",
    "result = list(map(add_elements, list1, list2))\n",
    "\n",
    "print(\"Original lists:\")\n",
    "print(\"List 1:\", list1)\n",
    "print(\"List 2:\", list2)\n",
    "print(\"Result after adding corresponding elements:\", result)"
   ]
  },
  {
   "cell_type": "markdown",
   "id": "6d058312",
   "metadata": {},
   "source": [
    "Sol 7"
   ]
  },
  {
   "cell_type": "code",
   "execution_count": 119,
   "id": "342fb952",
   "metadata": {},
   "outputs": [
    {
     "name": "stdout",
     "output_type": "stream",
     "text": [
      "Temperatures in Celsius: [0, 10, 20, 30, 40]\n",
      "Temperatures in Fahrenheit: [32.0, 50.0, 68.0, 86.0, 104.0]\n"
     ]
    }
   ],
   "source": [
    "def celsius_to_fahrenheit(celsius):\n",
    "    return (celsius * 9/5) + 32\n",
    "\n",
    "temperatures_celsius = [0, 10, 20, 30, 40]\n",
    "\n",
    "temperatures_fahrenheit = list(map(celsius_to_fahrenheit, temperatures_celsius))\n",
    "\n",
    "print(\"Temperatures in Celsius:\", temperatures_celsius)\n",
    "print(\"Temperatures in Fahrenheit:\", temperatures_fahrenheit)"
   ]
  },
  {
   "cell_type": "markdown",
   "id": "092399d1",
   "metadata": {},
   "source": [
    "Sol 8"
   ]
  },
  {
   "cell_type": "code",
   "execution_count": 121,
   "id": "e4744757",
   "metadata": {},
   "outputs": [
    {
     "name": "stdout",
     "output_type": "stream",
     "text": [
      "Floating numbers :  [1.5, 2.7, 3.14, 4.0, 5.8, 6.2, 7.3, 8.9, 9.1, 10.5]\n",
      "integer numbers :  [2, 3, 3, 4, 6, 6, 7, 9, 9, 10]\n"
     ]
    }
   ],
   "source": [
    "def rounding(n):\n",
    "    return round(n)\n",
    "\n",
    "floating_numbers = [1.5, 2.7, 3.14, 4.0, 5.8, 6.2, 7.3, 8.9, 9.1, 10.5]\n",
    "int_numbers = list(map(rounding,floating_numbers))\n",
    "\n",
    "print(\"Floating numbers : \",floating_numbers)\n",
    "print(\"integer numbers : \",int_numbers)"
   ]
  },
  {
   "cell_type": "markdown",
   "id": "153b0d41",
   "metadata": {},
   "source": [
    "# Reduce"
   ]
  },
  {
   "cell_type": "markdown",
   "id": "b3610e0e",
   "metadata": {},
   "source": [
    "Sol 1 "
   ]
  },
  {
   "cell_type": "markdown",
   "id": "d1856889",
   "metadata": {},
   "source": [
    "The reduce() function in Python is part of the functools module. It is used to apply a specified function cumulatively to the items of an iterable, from left to right, so as to reduce the iterable to a single accumulated result."
   ]
  },
  {
   "cell_type": "code",
   "execution_count": 123,
   "id": "acb7a135",
   "metadata": {},
   "outputs": [
    {
     "name": "stdout",
     "output_type": "stream",
     "text": [
      "sum of the numbers in the list :  15\n"
     ]
    }
   ],
   "source": [
    "from functools import reduce\n",
    "\n",
    "def add_no(x,y):\n",
    "    return x+y\n",
    "\n",
    "numbers = [1, 2, 3, 4, 5]\n",
    "result = reduce(add_no,numbers)\n",
    "\n",
    "print(\"sum of the numbers in the list : \",result)"
   ]
  },
  {
   "cell_type": "markdown",
   "id": "f10e4134",
   "metadata": {},
   "source": [
    "Sol 2"
   ]
  },
  {
   "cell_type": "code",
   "execution_count": 125,
   "id": "eb5bf624",
   "metadata": {},
   "outputs": [
    {
     "name": "stdout",
     "output_type": "stream",
     "text": [
      "Product of the numbers in the list :  120\n"
     ]
    }
   ],
   "source": [
    "from functools import reduce\n",
    "\n",
    "def mul_no(x,y):\n",
    "    return x*y\n",
    "\n",
    "numbers = [1, 2, 3, 4, 5]\n",
    "result = reduce(mul_no,numbers)\n",
    "\n",
    "print(\"Product of the numbers in the list : \",result)"
   ]
  },
  {
   "cell_type": "markdown",
   "id": "92cbd8e8",
   "metadata": {},
   "source": [
    "Sol 3"
   ]
  },
  {
   "cell_type": "code",
   "execution_count": 126,
   "id": "fad820c4",
   "metadata": {},
   "outputs": [
    {
     "name": "stdout",
     "output_type": "stream",
     "text": [
      "Max number in the list :  5\n"
     ]
    }
   ],
   "source": [
    "def max_no(x,y):\n",
    "    return max(x,y)\n",
    "\n",
    "numbers = [1, 2, 3, 4, 5]\n",
    "result = reduce(max_no,numbers)\n",
    "\n",
    "print(\"Max number in the list : \",result)"
   ]
  },
  {
   "cell_type": "markdown",
   "id": "dee13c57",
   "metadata": {},
   "source": [
    "Sol 4"
   ]
  },
  {
   "cell_type": "code",
   "execution_count": 130,
   "id": "daa99da8",
   "metadata": {},
   "outputs": [
    {
     "name": "stdout",
     "output_type": "stream",
     "text": [
      "Final sentence :  The quick brown fox jumps over the lazy dog.\n"
     ]
    }
   ],
   "source": [
    "def concat_string(x,y):\n",
    "    return ' '.join([x,y])\n",
    "\n",
    "strings = [\"The\", \"quick\", \"brown\", \"fox\", \"jumps\", \"over\", \"the\", \"lazy\", \"dog.\"]\n",
    "sentence = reduce(concat_string,strings)\n",
    "\n",
    "print(\"Final sentence : \",sentence)"
   ]
  },
  {
   "cell_type": "markdown",
   "id": "96cf087f",
   "metadata": {},
   "source": [
    "Sol 5"
   ]
  },
  {
   "cell_type": "code",
   "execution_count": 134,
   "id": "61b325d0",
   "metadata": {},
   "outputs": [
    {
     "name": "stdout",
     "output_type": "stream",
     "text": [
      "Enter a number you want to find factorial5\n",
      "Factorial of the number :  120\n"
     ]
    }
   ],
   "source": [
    "def mul(x,y):\n",
    "    return x*y\n",
    "\n",
    "number = int(input(\"Enter a number you want to find factorial\"))\n",
    "fac = reduce(mul,[i for i in range(1,number+1)])\n",
    "\n",
    "print(\"Factorial of the number : \",fac) "
   ]
  },
  {
   "cell_type": "markdown",
   "id": "d7ac7556",
   "metadata": {},
   "source": [
    "Sol 6"
   ]
  },
  {
   "cell_type": "code",
   "execution_count": 136,
   "id": "2809defb",
   "metadata": {},
   "outputs": [
    {
     "name": "stdout",
     "output_type": "stream",
     "text": [
      "GCD of the list of numbers :  12\n"
     ]
    }
   ],
   "source": [
    "from math import gcd\n",
    "\n",
    "def greatest(x,y):\n",
    "    return gcd(x,y)\n",
    "\n",
    "numbers = [24, 36, 48, 60, 72]\n",
    "g_c_d = reduce(greatest,numbers)\n",
    "\n",
    "print(\"GCD of the list of numbers : \",g_c_d)"
   ]
  },
  {
   "cell_type": "markdown",
   "id": "dfdad3be",
   "metadata": {},
   "source": [
    "Sol 7"
   ]
  },
  {
   "cell_type": "code",
   "execution_count": 137,
   "id": "a9f34a15",
   "metadata": {},
   "outputs": [
    {
     "name": "stdout",
     "output_type": "stream",
     "text": [
      "Enter a number you want to find sum of digits : 1234\n",
      "Sum of digits :  10\n"
     ]
    }
   ],
   "source": [
    "number = int(input(\"Enter a number you want to find sum of digits : \"))\n",
    "\n",
    "def sum_no(x,y):\n",
    "    return x+y\n",
    "\n",
    "no_list = [int(no) for no in str(number)]\n",
    "sum_of_digit = reduce(sum_no,no_list)\n",
    "\n",
    "print(\"Sum of digits : \",sum_of_digit)"
   ]
  },
  {
   "cell_type": "markdown",
   "id": "43b39ba2",
   "metadata": {},
   "source": [
    "# Filter"
   ]
  },
  {
   "cell_type": "markdown",
   "id": "2099278a",
   "metadata": {},
   "source": [
    "Sol 1"
   ]
  },
  {
   "cell_type": "markdown",
   "id": "dd5d59a8",
   "metadata": {},
   "source": [
    "The filter() function in Python is a built-in function that is used to construct an iterator from elements of an iterable for which a function returns true. It filters elements based on a specified condition, creating a new iterable that contains only the elements that satisfy the given condition."
   ]
  },
  {
   "cell_type": "code",
   "execution_count": 138,
   "id": "6519e63a",
   "metadata": {},
   "outputs": [
    {
     "name": "stdout",
     "output_type": "stream",
     "text": [
      "Even filtered numbers :  [2, 4, 6, 8, 10]\n"
     ]
    }
   ],
   "source": [
    "def even_filter(n):\n",
    "    if n%2==0:\n",
    "        return True\n",
    "    else:\n",
    "        return False\n",
    "    \n",
    "numbers = [1, 2, 3, 4, 5, 6, 7, 8, 9, 10]\n",
    "\n",
    "filtered_no = filter(even_filter,numbers)\n",
    "print(\"Even filtered numbers : \",list(filtered_no))"
   ]
  },
  {
   "cell_type": "markdown",
   "id": "c60fcb33",
   "metadata": {},
   "source": [
    "Sol 2"
   ]
  },
  {
   "cell_type": "code",
   "execution_count": 140,
   "id": "03102e24",
   "metadata": {},
   "outputs": [
    {
     "name": "stdout",
     "output_type": "stream",
     "text": [
      "Even filtered numbers :  [2, 4, 6, 8, 10]\n"
     ]
    }
   ],
   "source": [
    "def even_filter(n):\n",
    "    if n%2==0:\n",
    "        return True\n",
    "    else:\n",
    "        return False\n",
    "    \n",
    "numbers = [1, 2, 3, 4, 5, 6, 7, 8, 9, 10]\n",
    "\n",
    "filtered_no = filter(even_filter,numbers)\n",
    "print(\"Even filtered numbers : \",list(filtered_no))"
   ]
  },
  {
   "cell_type": "markdown",
   "id": "554fd4fe",
   "metadata": {},
   "source": [
    "Sol 3"
   ]
  },
  {
   "cell_type": "code",
   "execution_count": 8,
   "id": "31d70838",
   "metadata": {},
   "outputs": [
    {
     "name": "stdout",
     "output_type": "stream",
     "text": [
      "Enter the start letter : a\n",
      "Filtered names :  ['Alice']\n"
     ]
    }
   ],
   "source": [
    "start_letter = input(\"Enter the start letter : \")\n",
    "\n",
    "def check_string(string):\n",
    "    if string[0].lower() == start_letter.lower():\n",
    "        return True\n",
    "    else:\n",
    "        return False\n",
    "\n",
    "names = [\"Alice\", \"Bob\", \"Charlie\", \"David\", \"Emma\", \"Frank\", \"Grace\", \"Henry\", \"Ivy\", \"Jack\"]\n",
    "\n",
    "filtered_names = list(filter(check_string,names))\n",
    "print(\"Filtered names : \",filtered_names)"
   ]
  },
  {
   "cell_type": "markdown",
   "id": "2da1d9b0",
   "metadata": {},
   "source": [
    "Sol 4"
   ]
  },
  {
   "cell_type": "code",
   "execution_count": 9,
   "id": "317fe826",
   "metadata": {},
   "outputs": [
    {
     "name": "stdout",
     "output_type": "stream",
     "text": [
      "Prime list :  [2, 7, 13, 19, 23, 31, 37]\n"
     ]
    }
   ],
   "source": [
    "def check_prime(n):\n",
    "    count = 0\n",
    "    for i in range(1,n+1):\n",
    "        if n%i==0:\n",
    "            count+=1\n",
    "    if count == 2:\n",
    "        return True\n",
    "    else:\n",
    "        return False\n",
    "\n",
    "integer_list = [2, 4, 7, 10, 13, 16, 19, 22, 23, 28, 31, 34, 37, 40]\n",
    "prime_list = list(filter(check_prime,integer_list))\n",
    "\n",
    "print(\"Prime list : \",prime_list)"
   ]
  },
  {
   "cell_type": "markdown",
   "id": "4c8690c2",
   "metadata": {},
   "source": [
    "Sol 5"
   ]
  },
  {
   "cell_type": "code",
   "execution_count": 10,
   "id": "e4c3fdad",
   "metadata": {},
   "outputs": [
    {
     "name": "stdout",
     "output_type": "stream",
     "text": [
      "New list :  [1, 'apple', 5, 8.5, 'banana', 'cherry']\n"
     ]
    }
   ],
   "source": [
    "def check_none(n):\n",
    "    if n!=None:\n",
    "        return True\n",
    "    else:\n",
    "        return False\n",
    "\n",
    "mixed_list = [1, None, \"apple\", 5, None, 8.5, \"banana\", None, \"cherry\"]\n",
    "updated_list = list(filter(check_none,mixed_list))\n",
    "\n",
    "print(\"New list : \",updated_list)"
   ]
  },
  {
   "cell_type": "markdown",
   "id": "0387f1e2",
   "metadata": {},
   "source": [
    "Sol 6"
   ]
  },
  {
   "cell_type": "code",
   "execution_count": 12,
   "id": "28a8df04",
   "metadata": {},
   "outputs": [
    {
     "name": "stdout",
     "output_type": "stream",
     "text": [
      "Enter the desired min length : 5\n",
      "Strings with greater or equal to length 5 : ['Alice', 'Charlie', 'David', 'Frank', 'Grace', 'Henry']\n"
     ]
    }
   ],
   "source": [
    "length = int(input(\"Enter the desired min length : \"))\n",
    "\n",
    "def check_len(string):\n",
    "    if len(string) >= length:\n",
    "        return True\n",
    "    else:\n",
    "        return False\n",
    "\n",
    "strings = [\"Alice\", \"Bob\", \"Charlie\", \"David\", \"Emma\", \"Frank\", \"Grace\", \"Henry\", \"Ivy\", \"Jack\"]\n",
    "filtered_strings = list(filter(check_len,strings))\n",
    "\n",
    "print(f\"Strings with greater or equal to length {length} : {filtered_strings}\")"
   ]
  },
  {
   "cell_type": "markdown",
   "id": "12abc8ec",
   "metadata": {},
   "source": [
    "Sol 7"
   ]
  },
  {
   "cell_type": "code",
   "execution_count": 15,
   "id": "9c1ba412",
   "metadata": {},
   "outputs": [
    {
     "name": "stdout",
     "output_type": "stream",
     "text": [
      "Enter the threshold value : 20\n",
      "list of numbers greater than the threshold value :  [22, 23, 28, 31, 34, 37, 40]\n"
     ]
    }
   ],
   "source": [
    "threshold = int(input(\"Enter the threshold value : \"))\n",
    "\n",
    "def check(n):\n",
    "    if n>threshold:\n",
    "        return True\n",
    "    else:\n",
    "        return False\n",
    "\n",
    "integer_list = [2, 4, 7, 10, 13, 16, 19, 22, 23, 28, 31, 34, 37, 40]\n",
    "filtered_value = list(filter(check,integer_list))\n",
    "\n",
    "print(\"list of numbers greater than the threshold value : \",filtered_value)"
   ]
  },
  {
   "cell_type": "markdown",
   "id": "009350e7",
   "metadata": {},
   "source": [
    "Sol 8"
   ]
  },
  {
   "cell_type": "markdown",
   "id": "50a23405",
   "metadata": {},
   "source": [
    "# Recursion"
   ]
  },
  {
   "cell_type": "markdown",
   "id": "22c13756",
   "metadata": {},
   "source": [
    "Sol 1"
   ]
  },
  {
   "cell_type": "markdown",
   "id": "db1a9cb2",
   "metadata": {},
   "source": [
    "Recursion is a programming concept where a function calls itself during its execution.\n",
    "\n",
    "In recursion, the control flows through a chain of function calls, and each call involves a separate instance of the function. In iteration, control flows through a loop structure.\n"
   ]
  },
  {
   "cell_type": "markdown",
   "id": "98977ccb",
   "metadata": {},
   "source": [
    "Sol 2"
   ]
  },
  {
   "cell_type": "code",
   "execution_count": 19,
   "id": "a434a199",
   "metadata": {},
   "outputs": [
    {
     "name": "stdout",
     "output_type": "stream",
     "text": [
      "Enter a number you want to find factorial : 6\n",
      "Factorial of the number :  720\n"
     ]
    }
   ],
   "source": [
    "def fac(n):\n",
    "    if n==0:\n",
    "        return 1\n",
    "    else:\n",
    "        return n*fac(n-1)\n",
    "    \n",
    "number = int(input(\"Enter a number you want to find factorial : \"))\n",
    "print(\"Factorial of the number : \",fac(number))"
   ]
  },
  {
   "cell_type": "markdown",
   "id": "05a493a7",
   "metadata": {},
   "source": [
    "Sol 3"
   ]
  },
  {
   "cell_type": "code",
   "execution_count": 22,
   "id": "26713f99",
   "metadata": {},
   "outputs": [
    {
     "name": "stdout",
     "output_type": "stream",
     "text": [
      "Which fibonacci number do you want to see ? 8\n",
      "8'th Fibonacci number : 13\n"
     ]
    }
   ],
   "source": [
    "def fib(n):\n",
    "    if n <= 0:\n",
    "        print(\"Invalid input\")\n",
    "    else:\n",
    "        if n == 1:\n",
    "            return 0\n",
    "        elif n == 2:\n",
    "            return 1\n",
    "        else:\n",
    "            return fib(n-2)+fib(n-1)\n",
    "        \n",
    "n = int(input(\"Which fibonacci number do you want to see ? \"))\n",
    "print(f\"{n}'th Fibonacci number : {fib(n)}\")"
   ]
  },
  {
   "cell_type": "markdown",
   "id": "d0460cf8",
   "metadata": {},
   "source": [
    "Sol 4"
   ]
  },
  {
   "cell_type": "code",
   "execution_count": 32,
   "id": "12d4324f",
   "metadata": {},
   "outputs": [
    {
     "name": "stdout",
     "output_type": "stream",
     "text": [
      "Sum of the elements in the list :  286\n"
     ]
    }
   ],
   "source": [
    "def addition(element_list):\n",
    "    if len(element_list) == 0:\n",
    "        return 0\n",
    "    else:\n",
    "        return element_list[0] + addition(element_list[1:]) \n",
    "\n",
    "integer_list = [2, 4, 7, 10, 13, 16, 19, 22, 23, 28, 31, 34, 37, 40]\n",
    "print(\"Sum of the elements in the list : \", addition(integer_list))"
   ]
  },
  {
   "cell_type": "markdown",
   "id": "09762ae5",
   "metadata": {},
   "source": [
    "Sol 5"
   ]
  },
  {
   "cell_type": "code",
   "execution_count": 33,
   "id": "0a74d33c",
   "metadata": {},
   "outputs": [
    {
     "name": "stdout",
     "output_type": "stream",
     "text": [
      "Sum of the elements in the list :  286\n"
     ]
    }
   ],
   "source": [
    "def addition(element_list):\n",
    "    if len(element_list) == 0:  # this part is used to prevent the infinite loop. \n",
    "        return 0\n",
    "    else:\n",
    "        return element_list[0] + addition(element_list[1:]) \n",
    "\n",
    "integer_list = [2, 4, 7, 10, 13, 16, 19, 22, 23, 28, 31, 34, 37, 40]\n",
    "print(\"Sum of the elements in the list : \", addition(integer_list))"
   ]
  },
  {
   "cell_type": "markdown",
   "id": "a2f13ee4",
   "metadata": {},
   "source": [
    "Sol 6"
   ]
  },
  {
   "cell_type": "code",
   "execution_count": 35,
   "id": "c61ef66e",
   "metadata": {},
   "outputs": [
    {
     "name": "stdout",
     "output_type": "stream",
     "text": [
      "Enter a number : 50\n",
      "Enter a number : 25\n",
      "The GCD of 50 and 25 is 25\n"
     ]
    }
   ],
   "source": [
    "def gcd_recursive(a, b):\n",
    "    if b == 0:\n",
    "        return a\n",
    "    else:\n",
    "        return gcd_recursive(b, a % b)\n",
    "\n",
    "num1 = int(input(\"Enter a number : \"))\n",
    "num2 = int(input(\"Enter a number : \"))\n",
    "\n",
    "result = gcd_recursive(num1, num2)\n",
    "\n",
    "print(f\"The GCD of {num1} and {num2} is {result}\")"
   ]
  },
  {
   "cell_type": "markdown",
   "id": "b224653d",
   "metadata": {},
   "source": [
    "Sol 7"
   ]
  },
  {
   "cell_type": "code",
   "execution_count": 57,
   "id": "65df9f83",
   "metadata": {},
   "outputs": [
    {
     "name": "stdout",
     "output_type": "stream",
     "text": [
      "Enter a string : sandip\n",
      "Reverse of the string :  pidnas\n"
     ]
    }
   ],
   "source": [
    "def reverse_str(string):\n",
    "    if len(string)==1:\n",
    "        return string\n",
    "    else:\n",
    "        return string[len(string)-1] + reverse_str(string[:-1])\n",
    "string = input(\"Enter a string : \")\n",
    "print(\"Reverse of the string : \",reverse_str(string))"
   ]
  },
  {
   "cell_type": "markdown",
   "id": "48b28ed1",
   "metadata": {},
   "source": [
    "Sol 8"
   ]
  },
  {
   "cell_type": "code",
   "execution_count": 62,
   "id": "de9383df",
   "metadata": {},
   "outputs": [
    {
     "name": "stdout",
     "output_type": "stream",
     "text": [
      "Enter a number : 2\n",
      "Enter the power value : 5\n",
      "Power of the given number :  32\n"
     ]
    }
   ],
   "source": [
    "# 2^3  = 2*2*2\n",
    "\n",
    "def pow(number,power):\n",
    "    if power == 0:\n",
    "        return 1\n",
    "    else:\n",
    "        return number * pow(number,power-1)\n",
    "number = int(input(\"Enter a number : \"))    \n",
    "power = int(input(\"Enter the power value : \"))\n",
    "print(\"Power of the given number : \",pow(number,power))"
   ]
  },
  {
   "cell_type": "markdown",
   "id": "36a3cab6",
   "metadata": {},
   "source": [
    "Sol 9"
   ]
  },
  {
   "cell_type": "code",
   "execution_count": 65,
   "id": "4da08e94",
   "metadata": {},
   "outputs": [
    {
     "name": "stdout",
     "output_type": "stream",
     "text": [
      "Enter a string : abcd\n",
      "['abcd', 'abdc', 'acbd', 'acdb', 'adbc', 'adcb', 'bacd', 'badc', 'bcad', 'bcda', 'bdac', 'bdca', 'cabd', 'cadb', 'cbad', 'cbda', 'cdab', 'cdba', 'dabc', 'dacb', 'dbac', 'dbca', 'dcab', 'dcba']\n"
     ]
    }
   ],
   "source": [
    "def get_permutations(string):\n",
    "    if len(string) == 1:\n",
    "        return [string]\n",
    "\n",
    "    all_permutations = []\n",
    "    for i in range(len(string)):\n",
    "        current_char = string[i]\n",
    "        remaining_chars = string[:i] + string[i + 1:]\n",
    "        partial_permutations = get_permutations(remaining_chars)\n",
    "\n",
    "        for perm in partial_permutations:\n",
    "            all_permutations.append(current_char + perm)\n",
    "\n",
    "    return all_permutations\n",
    "\n",
    "input_string = input(\"Enter a string : \")\n",
    "result = get_permutations(input_string)\n",
    "print(result)\n"
   ]
  },
  {
   "cell_type": "markdown",
   "id": "60b3c5f2",
   "metadata": {},
   "source": [
    "Sol 10"
   ]
  },
  {
   "cell_type": "code",
   "execution_count": 67,
   "id": "acc4ce60",
   "metadata": {},
   "outputs": [
    {
     "name": "stdout",
     "output_type": "stream",
     "text": [
      "Enter a string : mom\n",
      "It is a palindrome string\n"
     ]
    }
   ],
   "source": [
    "def reverse_str(string):\n",
    "    if len(string)==1:\n",
    "        return string\n",
    "    else:\n",
    "        return string[len(string)-1] + reverse_str(string[:-1])\n",
    "string = input(\"Enter a string : \")\n",
    "if string == reverse_str(string):\n",
    "    print(\"It is a palindrome string\")\n",
    "else:\n",
    "    print(\"It is not a palindrome string\")"
   ]
  },
  {
   "cell_type": "markdown",
   "id": "b64c845f",
   "metadata": {},
   "source": [
    "Sol 11"
   ]
  },
  {
   "cell_type": "code",
   "execution_count": 68,
   "id": "74b06997",
   "metadata": {},
   "outputs": [
    {
     "name": "stdout",
     "output_type": "stream",
     "text": [
      "Enter the size of combinations (k): 3\n",
      "[[], [5], [4], [4, 5], [3], [3, 5], [3, 4], [3, 4, 5], [2], [2, 5], [2, 4], [2, 4, 5], [2, 3], [2, 3, 5], [2, 3, 4], [1], [1, 5], [1, 4], [1, 4, 5], [1, 3], [1, 3, 5], [1, 3, 4], [1, 2], [1, 2, 5], [1, 2, 4], [1, 2, 3]]\n"
     ]
    }
   ],
   "source": [
    "def get_combinations(elements, k):\n",
    "    if k == 0 or not elements:\n",
    "        return [[]]\n",
    "    \n",
    "    combinations_without_first = get_combinations(elements[1:], k)\n",
    "    \n",
    "    combinations_with_first = get_combinations(elements[1:], k - 1)\n",
    "    combinations_with_first = [[elements[0]] + combo for combo in combinations_with_first]\n",
    "    \n",
    "    return combinations_without_first + combinations_with_first\n",
    "\n",
    "input_list = [1, 2, 3, 4, 5]\n",
    "k = int(input(\"Enter the size of combinations (k): \"))\n",
    "result = get_combinations(input_list, k)\n",
    "print(result)\n"
   ]
  },
  {
   "cell_type": "markdown",
   "id": "6aece0fd",
   "metadata": {},
   "source": [
    "# Basics of Function"
   ]
  },
  {
   "cell_type": "markdown",
   "id": "731efd1d",
   "metadata": {},
   "source": [
    "Sol 1"
   ]
  },
  {
   "cell_type": "code",
   "execution_count": 69,
   "id": "c3302a61",
   "metadata": {},
   "outputs": [
    {
     "name": "stdout",
     "output_type": "stream",
     "text": [
      "Sum: 5\n"
     ]
    }
   ],
   "source": [
    "def add_numbers(x, y): # x and y are formal parameters\n",
    "    result = x + y\n",
    "    return result\n",
    "\n",
    "sum_result = add_numbers(2, 3) # 2 and 3 are actual parameters\n",
    "print(\"Sum:\", sum_result)"
   ]
  },
  {
   "cell_type": "markdown",
   "id": "22ea50d0",
   "metadata": {},
   "source": [
    "Sol 2"
   ]
  },
  {
   "cell_type": "code",
   "execution_count": 71,
   "id": "ff59d9ea",
   "metadata": {},
   "outputs": [
    {
     "name": "stdout",
     "output_type": "stream",
     "text": [
      "Sum :  15\n"
     ]
    }
   ],
   "source": [
    "def add5(a,b=5): \n",
    "    return a+b\n",
    "result = add5(10)\n",
    "print(\"Sum : \",result)"
   ]
  },
  {
   "cell_type": "markdown",
   "id": "4a0f011f",
   "metadata": {},
   "source": [
    "Sol 3"
   ]
  },
  {
   "cell_type": "code",
   "execution_count": 74,
   "id": "7593b555",
   "metadata": {},
   "outputs": [
    {
     "name": "stdout",
     "output_type": "stream",
     "text": [
      "Result :  140.0\n"
     ]
    }
   ],
   "source": [
    "def cal_bill(total,tax = 0.1,discount=0):\n",
    "    final_amnt = total + (total*tax) - discount\n",
    "    return final_amnt\n",
    "\n",
    "total_amount = 100\n",
    "result = cal_bill(total = total_amount,tax=0.5,discount=10) # Keyword arguement\n",
    "\n",
    "print(\"Result : \",result)"
   ]
  },
  {
   "cell_type": "markdown",
   "id": "da716398",
   "metadata": {},
   "source": [
    "Sol 4"
   ]
  },
  {
   "cell_type": "code",
   "execution_count": 78,
   "id": "bf01bb6b",
   "metadata": {},
   "outputs": [
    {
     "name": "stdout",
     "output_type": "stream",
     "text": [
      "Sum of the elements :  15\n"
     ]
    }
   ],
   "source": [
    "def calculate_sum(*args):\n",
    "    return sum(args)\n",
    "\n",
    "result = calculate_sum(1,2,3,4,5)\n",
    "\n",
    "print(\"Sum of the elements : \",result)"
   ]
  },
  {
   "cell_type": "markdown",
   "id": "f8080309",
   "metadata": {},
   "source": [
    "Sol 5"
   ]
  },
  {
   "cell_type": "code",
   "execution_count": 79,
   "id": "ac605219",
   "metadata": {},
   "outputs": [
    {
     "name": "stdout",
     "output_type": "stream",
     "text": [
      "1\n",
      "a\n",
      "name: Alice\n",
      "age: 30\n",
      "city: Wonderland\n"
     ]
    }
   ],
   "source": [
    "def print_combined_args_and_kwargs(*args, **kwargs):\n",
    "    for arg in args:\n",
    "        print(arg)\n",
    "    for key, value in kwargs.items():\n",
    "        print(f\"{key}: {value}\")\n",
    "\n",
    "print_combined_args_and_kwargs(1, 'a', name='Alice', age=30, city='Wonderland')\n"
   ]
  },
  {
   "cell_type": "markdown",
   "id": "4e8a6452",
   "metadata": {},
   "source": [
    "# Return Values and Scoping"
   ]
  },
  {
   "cell_type": "markdown",
   "id": "992811ea",
   "metadata": {},
   "source": [
    "Sol 1"
   ]
  },
  {
   "cell_type": "markdown",
   "id": "c473b019",
   "metadata": {},
   "source": [
    "The return statement in Python functions is used to end the execution of the function and return a value to the caller. "
   ]
  },
  {
   "cell_type": "code",
   "execution_count": 80,
   "id": "6cabcb8d",
   "metadata": {},
   "outputs": [
    {
     "name": "stdout",
     "output_type": "stream",
     "text": [
      "Sum: 8\n"
     ]
    }
   ],
   "source": [
    "def add_numbers(a, b):\n",
    "    result = a + b\n",
    "    return result\n",
    "sum_result = add_numbers(3, 5)\n",
    "print(\"Sum:\", sum_result)\n"
   ]
  },
  {
   "cell_type": "markdown",
   "id": "debca428",
   "metadata": {},
   "source": [
    "Sol 2"
   ]
  },
  {
   "cell_type": "markdown",
   "id": "64b3db59",
   "metadata": {},
   "source": [
    "Variable scope in Python refers to the region of the code where a particular variable can be accessed or modified"
   ]
  },
  {
   "cell_type": "code",
   "execution_count": 81,
   "id": "1fa9f713",
   "metadata": {},
   "outputs": [
    {
     "name": "stdout",
     "output_type": "stream",
     "text": [
      "5\n",
      "10\n"
     ]
    }
   ],
   "source": [
    "x = 10  # global variable\n",
    "\n",
    "def my_function():\n",
    "    x = 5  # local variable, shadows the global variable within this function\n",
    "    print(x)\n",
    "\n",
    "my_function()\n",
    "print(x)  # This prints the global variable\n"
   ]
  },
  {
   "cell_type": "markdown",
   "id": "bd079f4a",
   "metadata": {},
   "source": [
    "Sol 3"
   ]
  },
  {
   "cell_type": "code",
   "execution_count": 83,
   "id": "7655b1c6",
   "metadata": {},
   "outputs": [
    {
     "name": "stdout",
     "output_type": "stream",
     "text": [
      "Sum with global variable :  20\n"
     ]
    }
   ],
   "source": [
    "x = 10 # global variable\n",
    "\n",
    "def sum_no(a):\n",
    "    global x\n",
    "    sumation = x+a\n",
    "    return sumation\n",
    "result = sum_no(10)\n",
    "print(\"Sum with global variable : \",result)\n",
    "    "
   ]
  },
  {
   "cell_type": "markdown",
   "id": "70fb37d1",
   "metadata": {},
   "source": [
    "Sol 4"
   ]
  },
  {
   "cell_type": "code",
   "execution_count": 84,
   "id": "9dfddbda",
   "metadata": {},
   "outputs": [
    {
     "name": "stdout",
     "output_type": "stream",
     "text": [
      "Enter a number you want to find factorial : 6\n",
      "Factorial of the given number :  720\n"
     ]
    }
   ],
   "source": [
    "def factorial(n):\n",
    "    fac=1\n",
    "    for i in range(1,n+1):\n",
    "        fac *= i\n",
    "        \n",
    "    return fac\n",
    "\n",
    "n = int(input(\"Enter a number you want to find factorial : \"))\n",
    "print(\"Factorial of the given number : \",fac(n))"
   ]
  },
  {
   "cell_type": "markdown",
   "id": "1240798d",
   "metadata": {},
   "source": [
    "Sol 5"
   ]
  },
  {
   "cell_type": "code",
   "execution_count": 85,
   "id": "4a185ff9",
   "metadata": {},
   "outputs": [
    {
     "name": "stdout",
     "output_type": "stream",
     "text": [
      "Modified global variable: 52\n",
      "Outside the function - Global Variable: 52\n"
     ]
    }
   ],
   "source": [
    "global_variable = 42\n",
    "\n",
    "def modify_global_variable():\n",
    "    global global_variable # we can access global variable by using the global keyword\n",
    "    global_variable += 10\n",
    "    print(\"Modified global variable:\", global_variable)\n",
    "\n",
    "modify_global_variable()\n",
    "print(\"Outside the function - Global Variable:\", global_variable)\n"
   ]
  },
  {
   "cell_type": "markdown",
   "id": "9460b242",
   "metadata": {},
   "source": [
    "# Lambda Functions and Higher-Order Functions"
   ]
  },
  {
   "cell_type": "markdown",
   "id": "83ed1164",
   "metadata": {},
   "source": [
    "Sol 1"
   ]
  },
  {
   "cell_type": "markdown",
   "id": "24793910",
   "metadata": {},
   "source": [
    "Lambda are small, anonymous, one-line functions defined using the lambda keyword. They are often used for short-term operations where a full function definition with a def statement seems unnecessary."
   ]
  },
  {
   "cell_type": "markdown",
   "id": "0dab812c",
   "metadata": {},
   "source": [
    "Sol 2"
   ]
  },
  {
   "cell_type": "code",
   "execution_count": 90,
   "id": "87c96845",
   "metadata": {},
   "outputs": [
    {
     "data": {
      "text/plain": [
       "[(4, 1), (2, 3), (1, 5)]"
      ]
     },
     "execution_count": 90,
     "metadata": {},
     "output_type": "execute_result"
    }
   ],
   "source": [
    "pairs = [(1, 5), (2, 3), (4, 1)]\n",
    "\n",
    "sort = sorted(pairs,key = lambda x:x[1])\n",
    "print(\"\")"
   ]
  },
  {
   "cell_type": "markdown",
   "id": "11ffaa02",
   "metadata": {},
   "source": [
    "Sol 3"
   ]
  },
  {
   "cell_type": "code",
   "execution_count": 91,
   "id": "fab84b61",
   "metadata": {},
   "outputs": [
    {
     "name": "stdout",
     "output_type": "stream",
     "text": [
      "Higher Order fucntion\n",
      "Addtion :  18\n",
      "Subtraction :  2\n"
     ]
    }
   ],
   "source": [
    "def apply_opr(func, a, b):\n",
    "    return func(a,b)\n",
    "\n",
    "def add(x,y):\n",
    "    return x+y\n",
    "def sub(x,y):\n",
    "    return x-y\n",
    "\n",
    "addition = apply_opr(add,10,8)\n",
    "subtraction = apply_opr(sub,10,8)\n",
    "\n",
    "print(\"Higher Order fucntion\")\n",
    "print(\"Addtion : \",addition)\n",
    "print(\"Subtraction : \",subtraction)"
   ]
  },
  {
   "cell_type": "markdown",
   "id": "ac577aa0",
   "metadata": {},
   "source": [
    "Sol 4"
   ]
  },
  {
   "cell_type": "code",
   "execution_count": 92,
   "id": "9fe1653f",
   "metadata": {},
   "outputs": [
    {
     "name": "stdout",
     "output_type": "stream",
     "text": [
      "5 added to each number :  [6, 7, 8, 9, 10, 11]\n"
     ]
    }
   ],
   "source": [
    "def apply_func(func, number_list):\n",
    "    return list(map(func,number_list))\n",
    "\n",
    "def add5(n):\n",
    "    return n+5\n",
    "\n",
    "number_list = [1,2,3,4,5,6]\n",
    "addition = apply_func(add5,number_list)\n",
    "\n",
    "print(\"5 added to each number : \",addition)"
   ]
  },
  {
   "cell_type": "markdown",
   "id": "d72a2047",
   "metadata": {},
   "source": [
    "# Built in Fucntion"
   ]
  },
  {
   "cell_type": "markdown",
   "id": "f696c3e7",
   "metadata": {},
   "source": [
    "Sol 1"
   ]
  },
  {
   "cell_type": "markdown",
   "id": "856a28c8",
   "metadata": {},
   "source": [
    "len():\n",
    "Returns the length (number of items) of an object, such as a list, tuple, string, or dictionary.\n",
    "\n",
    "max():\n",
    "Returns the maximum value from a sequence or a set of arguments.\n",
    "\n",
    "min():\n",
    "Returns the minimum value from a sequence or a set of arguments.\n"
   ]
  },
  {
   "cell_type": "markdown",
   "id": "efceeb29",
   "metadata": {},
   "source": [
    "Sol 2"
   ]
  },
  {
   "cell_type": "code",
   "execution_count": 93,
   "id": "e264c0d1",
   "metadata": {},
   "outputs": [
    {
     "name": "stdout",
     "output_type": "stream",
     "text": [
      "5 added to each number :  [6, 7, 8, 9, 10, 11]\n"
     ]
    }
   ],
   "source": [
    "def apply_func(func, number_list):\n",
    "    return list(map(func,number_list))\n",
    "\n",
    "def add5(n):\n",
    "    return n+5\n",
    "\n",
    "number_list = [1,2,3,4,5,6]\n",
    "addition = apply_func(add5,number_list)\n",
    "\n",
    "print(\"5 added to each number : \",addition)"
   ]
  },
  {
   "cell_type": "markdown",
   "id": "0c83f233",
   "metadata": {},
   "source": [
    "Sol 3"
   ]
  },
  {
   "cell_type": "markdown",
   "id": "9a328ecc",
   "metadata": {},
   "source": [
    "The filter() function in Python is used to filter elements from an iterable (such as a list) based on a specified function"
   ]
  },
  {
   "cell_type": "code",
   "execution_count": 94,
   "id": "7ceb01fb",
   "metadata": {},
   "outputs": [
    {
     "name": "stdout",
     "output_type": "stream",
     "text": [
      "Even filtered numbers :  [2, 4, 6, 8, 10]\n"
     ]
    }
   ],
   "source": [
    "def even_filter(n):\n",
    "    if n%2==0:\n",
    "        return True\n",
    "    else:\n",
    "        return False\n",
    "    \n",
    "numbers = [1, 2, 3, 4, 5, 6, 7, 8, 9, 10]\n",
    "\n",
    "filtered_no = filter(even_filter,numbers)\n",
    "print(\"Even filtered numbers : \",list(filtered_no))"
   ]
  },
  {
   "cell_type": "markdown",
   "id": "86f1b292",
   "metadata": {},
   "source": [
    "Sol 4"
   ]
  },
  {
   "cell_type": "code",
   "execution_count": 96,
   "id": "616c1426",
   "metadata": {},
   "outputs": [
    {
     "name": "stdout",
     "output_type": "stream",
     "text": [
      "Product of all the numbers in the list :  3628800\n"
     ]
    }
   ],
   "source": [
    "from functools import reduce\n",
    "\n",
    "def product(x,y):\n",
    "    return x*y\n",
    "\n",
    "numbers = [1, 2, 3, 4, 5, 6, 7, 8, 9, 10]\n",
    "product_numbers = reduce(product,numbers)\n",
    "print(\"Product of all the numbers in the list : \", product_numbers)"
   ]
  },
  {
   "cell_type": "markdown",
   "id": "d07aa8e9",
   "metadata": {},
   "source": [
    "# Function Documentation and Best Practices"
   ]
  },
  {
   "cell_type": "markdown",
   "id": "4fd2a092",
   "metadata": {},
   "source": [
    "Sol 1"
   ]
  },
  {
   "cell_type": "markdown",
   "id": "67a8eaae",
   "metadata": {},
   "source": [
    "Purpose of Docstrings:\n",
    "\n",
    "Documentation: Describe what a function does, its parameters, return values, and any other relevant information.\n",
    "\n",
    "Readability: Improve code readability and make it more maintainable by providing clear explanations.\n",
    "\n",
    "Help Tooltips: IDEs and tools can use docstrings to provide helpful tooltips and hints to developers."
   ]
  },
  {
   "cell_type": "code",
   "execution_count": 97,
   "id": "69de00c7",
   "metadata": {},
   "outputs": [],
   "source": [
    "def my_function(param1, param2):\n",
    "    \"\"\"\n",
    "    This is a docstring for my_function.\n",
    "\n",
    "    Parameters:\n",
    "    - param1: Description of param1.\n",
    "    - param2: Description of param2.\n",
    "\n",
    "    Returns:\n",
    "    A description of the return value.\n",
    "    \"\"\""
   ]
  },
  {
   "cell_type": "markdown",
   "id": "8eefd4b3",
   "metadata": {},
   "source": [
    "Sol 2"
   ]
  },
  {
   "cell_type": "markdown",
   "id": "0a324fd1",
   "metadata": {},
   "source": [
    "Function Names:\n",
    "\n",
    "Use lowercase letters with underscores (snake_case).\n",
    "Choose meaningful and descriptive names.\n",
    "Variable Names:\n",
    "\n",
    "Use lowercase letters with underscores.\n",
    "Choose meaningful and descriptive names.\n",
    "Constants:\n",
    "\n",
    "Use uppercase letters with underscores.\n",
    "Used for values that should not be changed.\n",
    "Class Names:\n",
    "\n",
    "Use CamelCase.\n",
    "Choose descriptive and concise names.\n",
    "Module Names:\n",
    "\n",
    "Use lowercase letters with underscores.\n",
    "Keep names short and descriptive.\n",
    "Avoid Reserved Words:\n",
    "\n",
    "Avoid using names already reserved in Python."
   ]
  },
  {
   "cell_type": "code",
   "execution_count": null,
   "id": "597c5871",
   "metadata": {},
   "outputs": [],
   "source": []
  }
 ],
 "metadata": {
  "kernelspec": {
   "display_name": "Python 3 (ipykernel)",
   "language": "python",
   "name": "python3"
  },
  "language_info": {
   "codemirror_mode": {
    "name": "ipython",
    "version": 3
   },
   "file_extension": ".py",
   "mimetype": "text/x-python",
   "name": "python",
   "nbconvert_exporter": "python",
   "pygments_lexer": "ipython3",
   "version": "3.9.7"
  }
 },
 "nbformat": 4,
 "nbformat_minor": 5
}

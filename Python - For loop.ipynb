{
 "cells": [
  {
   "cell_type": "markdown",
   "id": "13e04b44",
   "metadata": {},
   "source": [
    "# Basic Level"
   ]
  },
  {
   "cell_type": "markdown",
   "id": "a924fc7e",
   "metadata": {},
   "source": [
    "Sol 1"
   ]
  },
  {
   "cell_type": "code",
   "execution_count": 1,
   "id": "e277e268",
   "metadata": {},
   "outputs": [
    {
     "name": "stdout",
     "output_type": "stream",
     "text": [
      "1\n",
      "2\n",
      "3\n",
      "4\n",
      "5\n",
      "6\n",
      "7\n",
      "8\n",
      "9\n",
      "10\n"
     ]
    }
   ],
   "source": [
    "for i in range(1,11):\n",
    "    print(i)"
   ]
  },
  {
   "cell_type": "markdown",
   "id": "dd8fe62c",
   "metadata": {},
   "source": [
    "Sol 2"
   ]
  },
  {
   "cell_type": "code",
   "execution_count": 2,
   "id": "9cd49adb",
   "metadata": {},
   "outputs": [
    {
     "name": "stdout",
     "output_type": "stream",
     "text": [
      "Sum :  10\n"
     ]
    }
   ],
   "source": [
    "list1 = [1,2,3,4]\n",
    "sum=0\n",
    "\n",
    "for i in list1:\n",
    "    sum += i\n",
    "    \n",
    "print(\"Sum : \",sum)"
   ]
  },
  {
   "cell_type": "markdown",
   "id": "47846787",
   "metadata": {},
   "source": [
    "Sol 3"
   ]
  },
  {
   "cell_type": "code",
   "execution_count": 6,
   "id": "7256ca97",
   "metadata": {},
   "outputs": [
    {
     "name": "stdout",
     "output_type": "stream",
     "text": [
      "p\n",
      "i\n",
      "d\n",
      "n\n",
      "a\n",
      "s\n"
     ]
    }
   ],
   "source": [
    "s = \"sandip\"\n",
    "\n",
    "for char in reversed(s):\n",
    "    print(char)"
   ]
  },
  {
   "cell_type": "markdown",
   "id": "ad207eac",
   "metadata": {},
   "source": [
    "Sol 4"
   ]
  },
  {
   "cell_type": "code",
   "execution_count": 8,
   "id": "270d7f86",
   "metadata": {},
   "outputs": [
    {
     "name": "stdout",
     "output_type": "stream",
     "text": [
      "Factorial :  24\n"
     ]
    }
   ],
   "source": [
    "n = 4\n",
    "fac = 1\n",
    "\n",
    "for i in range(1,n+1):\n",
    "    fac *= i\n",
    "    \n",
    "print(\"Factorial : \",fac)"
   ]
  },
  {
   "cell_type": "markdown",
   "id": "131480fd",
   "metadata": {},
   "source": [
    "Sol 5"
   ]
  },
  {
   "cell_type": "code",
   "execution_count": 9,
   "id": "2ecd67ee",
   "metadata": {},
   "outputs": [
    {
     "name": "stdout",
     "output_type": "stream",
     "text": [
      "Enter a number : 17\n",
      "Enter the number of multiplication table limit : 10\n",
      "17\n",
      "34\n",
      "51\n",
      "68\n",
      "85\n",
      "102\n",
      "119\n",
      "136\n",
      "153\n",
      "170\n"
     ]
    }
   ],
   "source": [
    "n = int(input(\"Enter a number : \"))\n",
    "h = int(input(\"Enter the number of multiplication table limit : \"))\n",
    "\n",
    "for i in range(1,h+1):\n",
    "    print(n*i)"
   ]
  },
  {
   "cell_type": "markdown",
   "id": "9e354ba0",
   "metadata": {},
   "source": [
    "Sol 6"
   ]
  },
  {
   "cell_type": "code",
   "execution_count": 11,
   "id": "40c9c563",
   "metadata": {},
   "outputs": [
    {
     "name": "stdout",
     "output_type": "stream",
     "text": [
      "Number of odd Numbers :  4\n",
      "Number of even Numbers :  3\n"
     ]
    }
   ],
   "source": [
    "list1 = [1,2,3,4,5,6,7]\n",
    "\n",
    "odd = 0\n",
    "even = 0\n",
    "\n",
    "for item in list1:\n",
    "    if item %2 == 0:\n",
    "        even += 1\n",
    "    else:\n",
    "        odd += 1\n",
    "        \n",
    "print(\"Number of odd Numbers : \",odd)\n",
    "print(\"Number of even Numbers : \",even)"
   ]
  },
  {
   "cell_type": "markdown",
   "id": "aed97cd5",
   "metadata": {},
   "source": [
    "Sol 7"
   ]
  },
  {
   "cell_type": "code",
   "execution_count": 13,
   "id": "7d072ab8",
   "metadata": {},
   "outputs": [
    {
     "name": "stdout",
     "output_type": "stream",
     "text": [
      "1\n",
      "4\n",
      "9\n",
      "16\n",
      "25\n"
     ]
    }
   ],
   "source": [
    "for i in range(1,6):\n",
    "    print(i*i)"
   ]
  },
  {
   "cell_type": "markdown",
   "id": "0caa9288",
   "metadata": {},
   "source": [
    "Sol 8"
   ]
  },
  {
   "cell_type": "code",
   "execution_count": 16,
   "id": "6b23dfe0",
   "metadata": {},
   "outputs": [
    {
     "name": "stdout",
     "output_type": "stream",
     "text": [
      "Enter a string : sandip\n",
      "Length of the string :  6\n"
     ]
    }
   ],
   "source": [
    "string = input(\"Enter a string : \")\n",
    "\n",
    "count = 0\n",
    "for char in string:\n",
    "    count += 1\n",
    "    \n",
    "print(\"Length of the string : \",count)"
   ]
  },
  {
   "cell_type": "markdown",
   "id": "39dfedef",
   "metadata": {},
   "source": [
    "Sol 9"
   ]
  },
  {
   "cell_type": "code",
   "execution_count": 17,
   "id": "2277a15b",
   "metadata": {},
   "outputs": [
    {
     "name": "stdout",
     "output_type": "stream",
     "text": [
      "Average of the list of numbers :  4.0\n"
     ]
    }
   ],
   "source": [
    "list1 = [1,2,3,4,5,6,7]\n",
    "\n",
    "s = 0\n",
    "count = 0\n",
    "for item in list1:\n",
    "    s += item\n",
    "    count += 1\n",
    "    \n",
    "avg = s/count\n",
    "print(\"Average of the list of numbers : \",avg)"
   ]
  },
  {
   "cell_type": "markdown",
   "id": "4c3d6dd2",
   "metadata": {},
   "source": [
    "Sol 10"
   ]
  },
  {
   "cell_type": "code",
   "execution_count": 21,
   "id": "933ecd31",
   "metadata": {},
   "outputs": [
    {
     "name": "stdout",
     "output_type": "stream",
     "text": [
      "Enter the limit number : 10\n",
      "0 1 1 2 3 5 8 13 21 34 "
     ]
    }
   ],
   "source": [
    "a,b = 0,1\n",
    "\n",
    "n = int(input(\"Enter the limit number : \"))\n",
    "for i in range(n):\n",
    "    print(a, end=' ')\n",
    "    c = a+b\n",
    "    a = b\n",
    "    b = c"
   ]
  },
  {
   "cell_type": "markdown",
   "id": "c4bed4d4",
   "metadata": {},
   "source": [
    "# Intermediate"
   ]
  },
  {
   "cell_type": "markdown",
   "id": "798f3690",
   "metadata": {},
   "source": [
    "Sol 11"
   ]
  },
  {
   "cell_type": "code",
   "execution_count": 41,
   "id": "2f463391",
   "metadata": {
    "scrolled": true
   },
   "outputs": [
    {
     "name": "stdout",
     "output_type": "stream",
     "text": [
      "The list contains duplicate items\n"
     ]
    }
   ],
   "source": [
    "list1 = [1,2,3,4,5,4,5]\n",
    "list2 = []\n",
    "\n",
    "for item in list1:\n",
    "    if item in list2:\n",
    "        duplicate = True\n",
    "    else:\n",
    "        list2.append(item)\n",
    "        duplicate = False\n",
    "if duplicate:\n",
    "    print(\"The list contains duplicate items\")\n",
    "else:\n",
    "    print(\"No, the list does not contains duplicates\")"
   ]
  },
  {
   "cell_type": "markdown",
   "id": "f1b4db4a",
   "metadata": {},
   "source": [
    "Sol 12"
   ]
  },
  {
   "cell_type": "code",
   "execution_count": 43,
   "id": "875c1b23",
   "metadata": {},
   "outputs": [
    {
     "name": "stdout",
     "output_type": "stream",
     "text": [
      "2 3 5 7 11 13 17 19 23 29 31 37 41 43 47 "
     ]
    }
   ],
   "source": [
    "def prime(n):\n",
    "    count = 0\n",
    "    for i in range(1,n+1):\n",
    "        if n%i == 0:\n",
    "            count += 1\n",
    "            \n",
    "    if count == 2:\n",
    "        return True\n",
    "    else:\n",
    "        return False\n",
    "\n",
    "for i in range(1,50):\n",
    "    if prime(i):\n",
    "        print(i,end = ' ')"
   ]
  },
  {
   "cell_type": "markdown",
   "id": "a08270d8",
   "metadata": {},
   "source": [
    "Sol 13"
   ]
  },
  {
   "cell_type": "code",
   "execution_count": 44,
   "id": "76bac2f0",
   "metadata": {},
   "outputs": [
    {
     "name": "stdout",
     "output_type": "stream",
     "text": [
      "Enter a string : sandip shaw\n",
      "Vowels count :  3\n"
     ]
    }
   ],
   "source": [
    "vowels = \"AEIOUaeiou\"\n",
    "string = input(\"Enter a string : \")\n",
    "count = 0\n",
    "\n",
    "for char in string:\n",
    "    if char in vowels:\n",
    "        count+=1\n",
    "        \n",
    "print(\"Vowels count : \",count)"
   ]
  },
  {
   "cell_type": "markdown",
   "id": "db6ca253",
   "metadata": {},
   "source": [
    "Sol 14"
   ]
  },
  {
   "cell_type": "code",
   "execution_count": 47,
   "id": "185a6251",
   "metadata": {},
   "outputs": [
    {
     "name": "stdout",
     "output_type": "stream",
     "text": [
      "Max Element :  9\n"
     ]
    }
   ],
   "source": [
    "matrix = [\n",
    "    [1, 5, 3],\n",
    "    [9, 2, 6],\n",
    "    [8, 4, 7]\n",
    "]\n",
    "\n",
    "max_elem = matrix[0][0]\n",
    "\n",
    "for list1 in matrix:\n",
    "    for item in list1:\n",
    "        if item > max_elem:\n",
    "            max_elem = item\n",
    "\n",
    "print(\"Max Element : \",max_elem) "
   ]
  },
  {
   "cell_type": "markdown",
   "id": "1427b74e",
   "metadata": {},
   "source": [
    "Sol 15"
   ]
  },
  {
   "cell_type": "code",
   "execution_count": 49,
   "id": "5bf0e27e",
   "metadata": {},
   "outputs": [
    {
     "name": "stdout",
     "output_type": "stream",
     "text": [
      "Enter the number you want to remove4\n",
      "New List :  [1, 2, 3, 5]\n"
     ]
    }
   ],
   "source": [
    "list1 = [1,2,3,4,5]\n",
    "new_list = []\n",
    "n = int(input(\"Enter the number you want to remove\"))\n",
    "for item in list1:\n",
    "    if item != n:\n",
    "        new_list.append(item)\n",
    "        \n",
    "print(\"New List : \",new_list)"
   ]
  },
  {
   "cell_type": "markdown",
   "id": "7c3e84bd",
   "metadata": {},
   "source": [
    "Sol 16"
   ]
  },
  {
   "cell_type": "code",
   "execution_count": 50,
   "id": "eb50b17e",
   "metadata": {},
   "outputs": [
    {
     "name": "stdout",
     "output_type": "stream",
     "text": [
      "Enter the multiplication table limit10\n",
      "Multiplication of  1\n",
      "1 * 1 = 1\n",
      "1 * 2 = 2\n",
      "1 * 3 = 3\n",
      "1 * 4 = 4\n",
      "1 * 5 = 5\n",
      "1 * 6 = 6\n",
      "1 * 7 = 7\n",
      "1 * 8 = 8\n",
      "1 * 9 = 9\n",
      "1 * 10 = 10\n",
      "Multiplication of  2\n",
      "2 * 1 = 2\n",
      "2 * 2 = 4\n",
      "2 * 3 = 6\n",
      "2 * 4 = 8\n",
      "2 * 5 = 10\n",
      "2 * 6 = 12\n",
      "2 * 7 = 14\n",
      "2 * 8 = 16\n",
      "2 * 9 = 18\n",
      "2 * 10 = 20\n",
      "Multiplication of  3\n",
      "3 * 1 = 3\n",
      "3 * 2 = 6\n",
      "3 * 3 = 9\n",
      "3 * 4 = 12\n",
      "3 * 5 = 15\n",
      "3 * 6 = 18\n",
      "3 * 7 = 21\n",
      "3 * 8 = 24\n",
      "3 * 9 = 27\n",
      "3 * 10 = 30\n",
      "Multiplication of  4\n",
      "4 * 1 = 4\n",
      "4 * 2 = 8\n",
      "4 * 3 = 12\n",
      "4 * 4 = 16\n",
      "4 * 5 = 20\n",
      "4 * 6 = 24\n",
      "4 * 7 = 28\n",
      "4 * 8 = 32\n",
      "4 * 9 = 36\n",
      "4 * 10 = 40\n",
      "Multiplication of  5\n",
      "5 * 1 = 5\n",
      "5 * 2 = 10\n",
      "5 * 3 = 15\n",
      "5 * 4 = 20\n",
      "5 * 5 = 25\n",
      "5 * 6 = 30\n",
      "5 * 7 = 35\n",
      "5 * 8 = 40\n",
      "5 * 9 = 45\n",
      "5 * 10 = 50\n"
     ]
    }
   ],
   "source": [
    "n = int(input(\"Enter the multiplication table limit\"))\n",
    "\n",
    "for i in range(1,6):\n",
    "    print(\"Multiplication of \",i)\n",
    "    for mul in range(1,n+1):\n",
    "        print(f\"{i} * {mul} = {i*mul}\")"
   ]
  },
  {
   "cell_type": "markdown",
   "id": "2050ed6f",
   "metadata": {},
   "source": [
    "Sol 17"
   ]
  },
  {
   "cell_type": "code",
   "execution_count": 51,
   "id": "a2ea63f5",
   "metadata": {},
   "outputs": [
    {
     "name": "stdout",
     "output_type": "stream",
     "text": [
      "Celcius Temperatures :  [48.888888888888886, 54.44444444444444, 37.77777777777778, 73.88888888888889]\n"
     ]
    }
   ],
   "source": [
    "far_list = [120,130,100,165]\n",
    "cel_list = []\n",
    "for item in far_list:\n",
    "    cel_list.append((item - 32) * 5 / 9)\n",
    "    \n",
    "print(\"Celcius Temperatures : \",cel_list)"
   ]
  },
  {
   "cell_type": "markdown",
   "id": "3a56064d",
   "metadata": {},
   "source": [
    "Sol 18"
   ]
  },
  {
   "cell_type": "code",
   "execution_count": 52,
   "id": "02fddc61",
   "metadata": {},
   "outputs": [
    {
     "name": "stdout",
     "output_type": "stream",
     "text": [
      "Common items :  [5, 6]\n"
     ]
    }
   ],
   "source": [
    "list1 = [1,2,3,4,5,6]\n",
    "list2 = [5,6,7,8,9]\n",
    "common = []\n",
    "for i in list1:\n",
    "    for j in list2:\n",
    "        if i == j:\n",
    "            common.append(i)\n",
    "            \n",
    "print(\"Common items : \",common)            \n"
   ]
  },
  {
   "cell_type": "markdown",
   "id": "88b391f7",
   "metadata": {},
   "source": [
    "Sol 19"
   ]
  },
  {
   "cell_type": "code",
   "execution_count": 56,
   "id": "eebdf6dd",
   "metadata": {},
   "outputs": [
    {
     "name": "stdout",
     "output_type": "stream",
     "text": [
      "\n",
      "*\n",
      "**\n",
      "***\n",
      "****\n",
      "*****\n"
     ]
    }
   ],
   "source": [
    "for i in range(6):\n",
    "    print('*'*i)"
   ]
  },
  {
   "cell_type": "markdown",
   "id": "058f781c",
   "metadata": {},
   "source": [
    "Sol 20"
   ]
  },
  {
   "cell_type": "code",
   "execution_count": 60,
   "id": "916928c8",
   "metadata": {},
   "outputs": [
    {
     "name": "stdout",
     "output_type": "stream",
     "text": [
      "Enter a number : 75\n",
      "Enter a number : 50\n",
      "GCD of the two numbers :  25\n"
     ]
    }
   ],
   "source": [
    "a,b = int(input(\"Enter a number : \")),int(input(\"Enter a number : \"))\n",
    "\n",
    "for i in range(1,max(a,b)+1):\n",
    "    if  a%i==0 and b%i==0:\n",
    "        gcd = i\n",
    "        \n",
    "print(\"GCD of the two numbers : \",gcd)"
   ]
  },
  {
   "cell_type": "markdown",
   "id": "37531636",
   "metadata": {},
   "source": [
    "## Advanced"
   ]
  },
  {
   "cell_type": "markdown",
   "id": "4b40d6d4",
   "metadata": {},
   "source": [
    "Sol 21"
   ]
  },
  {
   "cell_type": "code",
   "execution_count": 61,
   "id": "b61c4a5e",
   "metadata": {},
   "outputs": [
    {
     "name": "stdout",
     "output_type": "stream",
     "text": [
      "List with the sum of digits :  [6, 15, 17, 24]\n"
     ]
    }
   ],
   "source": [
    "list1 = [123,456,1457,7548]\n",
    "\n",
    "def sumdigit(n):\n",
    "    s = 0\n",
    "    for i in str(n):\n",
    "        s += int(i)\n",
    "        \n",
    "    return s\n",
    "\n",
    "sum_list = [sumdigit(item) for item in list1]\n",
    "print(\"List with the sum of digits : \",sum_list)\n"
   ]
  },
  {
   "cell_type": "markdown",
   "id": "4844e29a",
   "metadata": {},
   "source": [
    "Sol 22"
   ]
  },
  {
   "cell_type": "code",
   "execution_count": 67,
   "id": "80d3be14",
   "metadata": {},
   "outputs": [
    {
     "name": "stdout",
     "output_type": "stream",
     "text": [
      "Enter a number you want to find the prime factors of : 51\n"
     ]
    },
    {
     "data": {
      "text/plain": [
       "[3, 17]"
      ]
     },
     "execution_count": 67,
     "metadata": {},
     "output_type": "execute_result"
    }
   ],
   "source": [
    "def prime(n):\n",
    "    count = 0\n",
    "    for i in range(1,n+1):\n",
    "        if n%i == 0:\n",
    "            count += 1\n",
    "            \n",
    "    if count == 2:\n",
    "        return True\n",
    "    else:\n",
    "        return False\n",
    "n = int(input(\"Enter a number you want to find the prime factors of : \"))\n",
    "    \n",
    "prime_factor = [i for i in range(1,n+1) if n%i==0 and prime(i)]\n",
    "prime_factor"
   ]
  },
  {
   "cell_type": "markdown",
   "id": "ce032d0e",
   "metadata": {},
   "source": [
    "Sol 23"
   ]
  },
  {
   "cell_type": "code",
   "execution_count": 85,
   "id": "437e7f5e",
   "metadata": {},
   "outputs": [
    {
     "name": "stdout",
     "output_type": "stream",
     "text": [
      "Unique Items :  [1, 2, 3, 4, 5]\n"
     ]
    }
   ],
   "source": [
    "list1 = [1,2,3,4,5,4,5]\n",
    "new_list = []\n",
    "new_list = [item for index,item in enumerate(list1) if item not in list1[:index]]\n",
    "print(\"Unique Items : \",new_list)"
   ]
  },
  {
   "cell_type": "markdown",
   "id": "8bfca366",
   "metadata": {},
   "source": [
    "Sol 24"
   ]
  },
  {
   "cell_type": "code",
   "execution_count": 87,
   "id": "aad97f09",
   "metadata": {},
   "outputs": [
    {
     "name": "stdout",
     "output_type": "stream",
     "text": [
      "Enter the limit number : 50\n",
      "Palindrome list :  [11, 22, 33, 44]\n"
     ]
    }
   ],
   "source": [
    "n = int(input(\"Enter the limit number : \"))\n",
    "palindrome = [i for i in range(10,n+1) if str(i)==str(i)[::-1]]\n",
    "print(\"Palindrome list : \",palindrome)"
   ]
  },
  {
   "cell_type": "markdown",
   "id": "9ac7fb98",
   "metadata": {},
   "source": [
    "Sol 25"
   ]
  },
  {
   "cell_type": "code",
   "execution_count": 107,
   "id": "702d512c",
   "metadata": {},
   "outputs": [
    {
     "name": "stdout",
     "output_type": "stream",
     "text": [
      "[1, 2, 3, 4, 5, 'a', 'b', 6, 7, 8]\n"
     ]
    }
   ],
   "source": [
    "def flatten(list1):\n",
    "    return [item for sublist in list1 for item in (flatten(sublist) if isinstance(sublist,list) else [sublist])]\n",
    "\n",
    "nest_list = [1,2,3,[4,5,['a','b'],6],7,8]\n",
    "flat_list = flatten(nest_list)\n",
    "print(flat_list)"
   ]
  },
  {
   "cell_type": "markdown",
   "id": "f0553499",
   "metadata": {},
   "source": [
    "Sol 26"
   ]
  },
  {
   "cell_type": "code",
   "execution_count": 2,
   "id": "4a714cba",
   "metadata": {},
   "outputs": [
    {
     "name": "stdout",
     "output_type": "stream",
     "text": [
      "Sum of odd numbers :  25\n",
      "Sum of even numbers :  20\n"
     ]
    }
   ],
   "source": [
    "list1 = [1,2,3,4,5,6,7,8,9]\n",
    "\n",
    "odd_sum = sum([item for item in list1 if item%2!=0])\n",
    "even_sum = sum([item for item in list1 if item%2==0])\n",
    "\n",
    "print(\"Sum of odd numbers : \",odd_sum)\n",
    "print(\"Sum of even numbers : \",even_sum)\n"
   ]
  },
  {
   "cell_type": "markdown",
   "id": "b7898ca0",
   "metadata": {},
   "source": [
    "Sol 27"
   ]
  },
  {
   "cell_type": "code",
   "execution_count": 8,
   "id": "b83435b7",
   "metadata": {},
   "outputs": [
    {
     "name": "stdout",
     "output_type": "stream",
     "text": [
      "Squares of odd numbers upto 10 :  [1, 9, 25, 49, 81]\n"
     ]
    }
   ],
   "source": [
    "a = [i*i for i in range(1,11) if i%2!=0]\n",
    "print(\"Squares of odd numbers upto 10 : \",a)"
   ]
  },
  {
   "cell_type": "markdown",
   "id": "13975738",
   "metadata": {},
   "source": [
    "Sol 28"
   ]
  },
  {
   "cell_type": "code",
   "execution_count": 17,
   "id": "62760705",
   "metadata": {},
   "outputs": [
    {
     "name": "stdout",
     "output_type": "stream",
     "text": [
      "{'a': 1, 'b': 2, 'c': 3}\n"
     ]
    }
   ],
   "source": [
    "a = ['a', 'b', 'c']\n",
    "b = [1, 2, 3]\n",
    "\n",
    "combined = {key:value for key,value in zip(a, b)}\n",
    "print(combined)"
   ]
  },
  {
   "cell_type": "markdown",
   "id": "621570fb",
   "metadata": {},
   "source": [
    "Sol 29"
   ]
  },
  {
   "cell_type": "code",
   "execution_count": 18,
   "id": "bb02c265",
   "metadata": {},
   "outputs": [
    {
     "name": "stdout",
     "output_type": "stream",
     "text": [
      "Enter a string : Sandip Shaw\n",
      "vowel list :  ['a', 'i', 'a']\n"
     ]
    }
   ],
   "source": [
    "vowels = \"AEIOUaeiou\"\n",
    "\n",
    "string = input(\"Enter a string : \")\n",
    "vowel_list = [char for char in string if char in vowels]\n",
    "\n",
    "print(\"vowel list : \",vowel_list)"
   ]
  },
  {
   "cell_type": "markdown",
   "id": "9981bbda",
   "metadata": {},
   "source": [
    "Sol 30"
   ]
  },
  {
   "cell_type": "code",
   "execution_count": 22,
   "id": "dceebd05",
   "metadata": {},
   "outputs": [
    {
     "name": "stdout",
     "output_type": "stream",
     "text": [
      "Non numeric items in the list :  ['hello', 'hi']\n"
     ]
    }
   ],
   "source": [
    "list1 = [1,2,3,'hello','hi']\n",
    "\n",
    "num = [item for item in list1 if not str(item).isdigit()]\n",
    "print(\"Non numeric items in the list : \",num)"
   ]
  },
  {
   "cell_type": "markdown",
   "id": "0e90bf37",
   "metadata": {},
   "source": [
    "# Challenge Level"
   ]
  },
  {
   "cell_type": "markdown",
   "id": "8be1413f",
   "metadata": {},
   "source": [
    "Sol 31"
   ]
  },
  {
   "cell_type": "code",
   "execution_count": 4,
   "id": "ceab7201",
   "metadata": {},
   "outputs": [
    {
     "name": "stdout",
     "output_type": "stream",
     "text": [
      "Enter a number : 100\n",
      "[2, 3, 5, 7, 11, 13, 17, 19, 23, 29, 31, 37, 41, 43, 47, 53, 59, 61, 67, 71, 73, 79, 83, 89, 97]\n"
     ]
    }
   ],
   "source": [
    "def sieve_of_eratosthenes(limit):\n",
    "    primes = [True] * (limit + 1)\n",
    "    primes[0], primes[1] = False, False\n",
    "\n",
    "    for i in range(2, int(limit**0.5) + 1):\n",
    "        if primes[i]:\n",
    "            primes[i*i:limit+1:i] = [False] * len(primes[i*i:limit+1:i])\n",
    "\n",
    "    return [num for num, is_prime in enumerate(primes) if is_prime]\n",
    "\n",
    "limit = int(input(\"Enter a number : \"))\n",
    "prime_list = sieve_of_eratosthenes(limit)\n",
    "print(prime_list)"
   ]
  },
  {
   "cell_type": "markdown",
   "id": "2d634ba2",
   "metadata": {},
   "source": [
    "Sol 32"
   ]
  },
  {
   "cell_type": "code",
   "execution_count": 30,
   "id": "b92bc166",
   "metadata": {},
   "outputs": [
    {
     "name": "stdout",
     "output_type": "stream",
     "text": [
      "Enter limit number : 50\n",
      "[(3, 4, 5), (4, 3, 5), (5, 12, 13), (6, 8, 10), (7, 24, 25), (8, 6, 10), (8, 15, 17), (9, 12, 15), (9, 40, 41), (10, 24, 26), (12, 5, 13), (12, 9, 15), (12, 16, 20), (12, 35, 37), (14, 48, 50), (15, 8, 17), (15, 20, 25), (15, 36, 39), (16, 12, 20), (16, 30, 34), (18, 24, 30), (20, 15, 25), (20, 21, 29), (21, 20, 29), (21, 28, 35), (24, 7, 25), (24, 10, 26), (24, 18, 30), (24, 32, 40), (27, 36, 45), (28, 21, 35), (30, 16, 34), (30, 40, 50), (32, 24, 40), (35, 12, 37), (36, 15, 39), (36, 27, 45), (40, 9, 41), (40, 30, 50), (48, 14, 50)]\n"
     ]
    }
   ],
   "source": [
    "import math\n",
    "lim = int(input(\"Enter limit number : \"))\n",
    "squares = [i*i for i in range(1,lim+1)]\n",
    "unique_list = [(i,j,int(math.sqrt(i**2+j**2))) for i in range(1,lim) for j in range(1,lim) if i**2+j**2 in squares]\n",
    "print(unique_list)"
   ]
  },
  {
   "cell_type": "markdown",
   "id": "bf54a9b9",
   "metadata": {},
   "source": [
    "Sol 33"
   ]
  },
  {
   "cell_type": "code",
   "execution_count": 31,
   "id": "e5b4cae4",
   "metadata": {},
   "outputs": [
    {
     "name": "stdout",
     "output_type": "stream",
     "text": [
      "All possible combination :  [(1, 5), (1, 6), (1, 7), (1, 8), (2, 5), (2, 6), (2, 7), (2, 8), (3, 5), (3, 6), (3, 7), (3, 8), (4, 5), (4, 6), (4, 7), (4, 8)]\n"
     ]
    }
   ],
   "source": [
    "list1 = [1,2,3,4]\n",
    "list2 = [5,6,7,8]\n",
    "\n",
    "combination = [(i,j) for i in list1 for j in list2]\n",
    "print(\"All possible combination : \",combination)"
   ]
  },
  {
   "cell_type": "markdown",
   "id": "8f783993",
   "metadata": {},
   "source": [
    "Sol 34"
   ]
  },
  {
   "cell_type": "code",
   "execution_count": 40,
   "id": "1ee06a78",
   "metadata": {},
   "outputs": [
    {
     "name": "stdout",
     "output_type": "stream",
     "text": [
      "Mean :  14\n",
      "Median :  6\n",
      "Mode :  7\n"
     ]
    }
   ],
   "source": [
    "from statistics import mean,median,mode\n",
    "list1 = [1,2,3,4,5,6,7,8,9,102,7]\n",
    "\n",
    "m = mean(list1)\n",
    "me = median(list1)\n",
    "mo = mode(list1)\n",
    "\n",
    "print(\"Mean : \",m)\n",
    "print(\"Median : \",me)\n",
    "print(\"Mode : \",mo)"
   ]
  },
  {
   "cell_type": "markdown",
   "id": "56b44910",
   "metadata": {},
   "source": [
    "Sol 35"
   ]
  },
  {
   "cell_type": "code",
   "execution_count": 120,
   "id": "75efa845",
   "metadata": {},
   "outputs": [
    {
     "name": "stdout",
     "output_type": "stream",
     "text": [
      "Enter a number5\n",
      "     1\n",
      "    1 1\n",
      "   1 2 1\n",
      "  1 3 3 1\n",
      " 1 4 6 4 1\n"
     ]
    }
   ],
   "source": [
    "from math import factorial\n",
    "\n",
    "n = int(input(\"Enter a number\"))\n",
    "pascal = [\n",
    "    \" \" * (n-i) + \" \".join(str(factorial(i) // (factorial(i-j)*factorial(j)))   for j in range(i+1))\n",
    "    for i in range(n)]\n",
    "for row in pascal:\n",
    "    print(row)"
   ]
  },
  {
   "cell_type": "markdown",
   "id": "94344d4b",
   "metadata": {},
   "source": [
    "Sol 36"
   ]
  },
  {
   "cell_type": "code",
   "execution_count": 121,
   "id": "24674a42",
   "metadata": {},
   "outputs": [
    {
     "name": "stdout",
     "output_type": "stream",
     "text": [
      "[1, 2, 6, 6, 3]\n"
     ]
    }
   ],
   "source": [
    "from math import factorial\n",
    "def sumofdigit(no):\n",
    "    sum1=0\n",
    "    for char in str(no):\n",
    "        sum1 += int(char)\n",
    "    \n",
    "    return sum1\n",
    "    \n",
    "fac = [ sumofdigit(factorial(i))  for i in range(1,6)]\n",
    "print(fac)"
   ]
  },
  {
   "cell_type": "markdown",
   "id": "2a625eb6",
   "metadata": {},
   "source": [
    "Sol 37\n"
   ]
  },
  {
   "cell_type": "code",
   "execution_count": 135,
   "id": "0dfb54c3",
   "metadata": {},
   "outputs": [
    {
     "name": "stdout",
     "output_type": "stream",
     "text": [
      "Longest word :  hello\n"
     ]
    }
   ],
   "source": [
    "text = \"hello how are you doing\"\n",
    "\n",
    "word_list = [word for word in text.split()]\n",
    "print(\"Longest word : \",max(word_list,key = len))"
   ]
  },
  {
   "cell_type": "markdown",
   "id": "f7816d90",
   "metadata": {},
   "source": [
    "Sol 38"
   ]
  },
  {
   "cell_type": "code",
   "execution_count": 148,
   "id": "f6973cad",
   "metadata": {},
   "outputs": [
    {
     "name": "stdout",
     "output_type": "stream",
     "text": [
      "Words with more than 3 vowels :  ['comprehension']\n"
     ]
    }
   ],
   "source": [
    "word_list = [\"hello\", \"world\", \"python\", \"programming\", \"vowels\", \"list\", \"comprehension\"]\n",
    "\n",
    "def count_vowel(word):\n",
    "    return sum([1 for char in word if char.lower() in 'aeiou'])\n",
    "\n",
    "list1 = [word for word in word_list if count_vowel(word)>3]\n",
    "print(\"Words with more than 3 vowels : \",list1)"
   ]
  },
  {
   "cell_type": "markdown",
   "id": "25c7f8dc",
   "metadata": {},
   "source": [
    "Sol 39"
   ]
  },
  {
   "cell_type": "code",
   "execution_count": 153,
   "id": "2d6b9fdf",
   "metadata": {},
   "outputs": [
    {
     "name": "stdout",
     "output_type": "stream",
     "text": [
      "Sum of digits for 1 to 1000 :  [1, 2, 3, 4, 5, 6, 7, 8, 9, 1, 2, 3, 4, 5, 6, 7, 8, 9, 10, 2, 3, 4, 5, 6, 7, 8, 9, 10, 11, 3, 4, 5, 6, 7, 8, 9, 10, 11, 12, 4, 5, 6, 7, 8, 9, 10, 11, 12, 13, 5, 6, 7, 8, 9, 10, 11, 12, 13, 14, 6, 7, 8, 9, 10, 11, 12, 13, 14, 15, 7, 8, 9, 10, 11, 12, 13, 14, 15, 16, 8, 9, 10, 11, 12, 13, 14, 15, 16, 17, 9, 10, 11, 12, 13, 14, 15, 16, 17, 18, 1, 2, 3, 4, 5, 6, 7, 8, 9, 10, 2, 3, 4, 5, 6, 7, 8, 9, 10, 11, 3, 4, 5, 6, 7, 8, 9, 10, 11, 12, 4, 5, 6, 7, 8, 9, 10, 11, 12, 13, 5, 6, 7, 8, 9, 10, 11, 12, 13, 14, 6, 7, 8, 9, 10, 11, 12, 13, 14, 15, 7, 8, 9, 10, 11, 12, 13, 14, 15, 16, 8, 9, 10, 11, 12, 13, 14, 15, 16, 17, 9, 10, 11, 12, 13, 14, 15, 16, 17, 18, 10, 11, 12, 13, 14, 15, 16, 17, 18, 19, 2, 3, 4, 5, 6, 7, 8, 9, 10, 11, 3, 4, 5, 6, 7, 8, 9, 10, 11, 12, 4, 5, 6, 7, 8, 9, 10, 11, 12, 13, 5, 6, 7, 8, 9, 10, 11, 12, 13, 14, 6, 7, 8, 9, 10, 11, 12, 13, 14, 15, 7, 8, 9, 10, 11, 12, 13, 14, 15, 16, 8, 9, 10, 11, 12, 13, 14, 15, 16, 17, 9, 10, 11, 12, 13, 14, 15, 16, 17, 18, 10, 11, 12, 13, 14, 15, 16, 17, 18, 19, 11, 12, 13, 14, 15, 16, 17, 18, 19, 20, 3, 4, 5, 6, 7, 8, 9, 10, 11, 12, 4, 5, 6, 7, 8, 9, 10, 11, 12, 13, 5, 6, 7, 8, 9, 10, 11, 12, 13, 14, 6, 7, 8, 9, 10, 11, 12, 13, 14, 15, 7, 8, 9, 10, 11, 12, 13, 14, 15, 16, 8, 9, 10, 11, 12, 13, 14, 15, 16, 17, 9, 10, 11, 12, 13, 14, 15, 16, 17, 18, 10, 11, 12, 13, 14, 15, 16, 17, 18, 19, 11, 12, 13, 14, 15, 16, 17, 18, 19, 20, 12, 13, 14, 15, 16, 17, 18, 19, 20, 21, 4, 5, 6, 7, 8, 9, 10, 11, 12, 13, 5, 6, 7, 8, 9, 10, 11, 12, 13, 14, 6, 7, 8, 9, 10, 11, 12, 13, 14, 15, 7, 8, 9, 10, 11, 12, 13, 14, 15, 16, 8, 9, 10, 11, 12, 13, 14, 15, 16, 17, 9, 10, 11, 12, 13, 14, 15, 16, 17, 18, 10, 11, 12, 13, 14, 15, 16, 17, 18, 19, 11, 12, 13, 14, 15, 16, 17, 18, 19, 20, 12, 13, 14, 15, 16, 17, 18, 19, 20, 21, 13, 14, 15, 16, 17, 18, 19, 20, 21, 22, 5, 6, 7, 8, 9, 10, 11, 12, 13, 14, 6, 7, 8, 9, 10, 11, 12, 13, 14, 15, 7, 8, 9, 10, 11, 12, 13, 14, 15, 16, 8, 9, 10, 11, 12, 13, 14, 15, 16, 17, 9, 10, 11, 12, 13, 14, 15, 16, 17, 18, 10, 11, 12, 13, 14, 15, 16, 17, 18, 19, 11, 12, 13, 14, 15, 16, 17, 18, 19, 20, 12, 13, 14, 15, 16, 17, 18, 19, 20, 21, 13, 14, 15, 16, 17, 18, 19, 20, 21, 22, 14, 15, 16, 17, 18, 19, 20, 21, 22, 23, 6, 7, 8, 9, 10, 11, 12, 13, 14, 15, 7, 8, 9, 10, 11, 12, 13, 14, 15, 16, 8, 9, 10, 11, 12, 13, 14, 15, 16, 17, 9, 10, 11, 12, 13, 14, 15, 16, 17, 18, 10, 11, 12, 13, 14, 15, 16, 17, 18, 19, 11, 12, 13, 14, 15, 16, 17, 18, 19, 20, 12, 13, 14, 15, 16, 17, 18, 19, 20, 21, 13, 14, 15, 16, 17, 18, 19, 20, 21, 22, 14, 15, 16, 17, 18, 19, 20, 21, 22, 23, 15, 16, 17, 18, 19, 20, 21, 22, 23, 24, 7, 8, 9, 10, 11, 12, 13, 14, 15, 16, 8, 9, 10, 11, 12, 13, 14, 15, 16, 17, 9, 10, 11, 12, 13, 14, 15, 16, 17, 18, 10, 11, 12, 13, 14, 15, 16, 17, 18, 19, 11, 12, 13, 14, 15, 16, 17, 18, 19, 20, 12, 13, 14, 15, 16, 17, 18, 19, 20, 21, 13, 14, 15, 16, 17, 18, 19, 20, 21, 22, 14, 15, 16, 17, 18, 19, 20, 21, 22, 23, 15, 16, 17, 18, 19, 20, 21, 22, 23, 24, 16, 17, 18, 19, 20, 21, 22, 23, 24, 25, 8, 9, 10, 11, 12, 13, 14, 15, 16, 17, 9, 10, 11, 12, 13, 14, 15, 16, 17, 18, 10, 11, 12, 13, 14, 15, 16, 17, 18, 19, 11, 12, 13, 14, 15, 16, 17, 18, 19, 20, 12, 13, 14, 15, 16, 17, 18, 19, 20, 21, 13, 14, 15, 16, 17, 18, 19, 20, 21, 22, 14, 15, 16, 17, 18, 19, 20, 21, 22, 23, 15, 16, 17, 18, 19, 20, 21, 22, 23, 24, 16, 17, 18, 19, 20, 21, 22, 23, 24, 25, 17, 18, 19, 20, 21, 22, 23, 24, 25, 26, 9, 10, 11, 12, 13, 14, 15, 16, 17, 18, 10, 11, 12, 13, 14, 15, 16, 17, 18, 19, 11, 12, 13, 14, 15, 16, 17, 18, 19, 20, 12, 13, 14, 15, 16, 17, 18, 19, 20, 21, 13, 14, 15, 16, 17, 18, 19, 20, 21, 22, 14, 15, 16, 17, 18, 19, 20, 21, 22, 23, 15, 16, 17, 18, 19, 20, 21, 22, 23, 24, 16, 17, 18, 19, 20, 21, 22, 23, 24, 25, 17, 18, 19, 20, 21, 22, 23, 24, 25, 26, 18, 19, 20, 21, 22, 23, 24, 25, 26, 27, 1]\n"
     ]
    }
   ],
   "source": [
    "a = [sum([int(no) for no in str(i)]) for i in range(1,1001)]\n",
    "print(\"Sum of digits for 1 to 1000 : \",a)"
   ]
  },
  {
   "cell_type": "markdown",
   "id": "7b5d6f76",
   "metadata": {},
   "source": [
    "Sol 40"
   ]
  },
  {
   "cell_type": "code",
   "execution_count": 159,
   "id": "f0a52d94",
   "metadata": {},
   "outputs": [
    {
     "name": "stdout",
     "output_type": "stream",
     "text": [
      "Prime Palindrome numbers upto 1000 are :  [2, 3, 5, 7, 11, 101, 131, 151, 181, 191, 313, 353, 373, 383, 727, 757, 787, 797, 919, 929]"
     ]
    }
   ],
   "source": [
    "n=1000\n",
    "primepalin = [i for i in range(2,n) if sum(1 for j in range(1,i+1)  if i%j == 0) == 2 and str(i) == str(i)[::-1]]\n",
    "print(\"Prime Palindrome numbers upto 1000 are : \",primepalin, end='')"
   ]
  },
  {
   "cell_type": "code",
   "execution_count": null,
   "id": "7e471d9d",
   "metadata": {},
   "outputs": [],
   "source": []
  },
  {
   "cell_type": "code",
   "execution_count": null,
   "id": "8e449a0d",
   "metadata": {},
   "outputs": [],
   "source": []
  }
 ],
 "metadata": {
  "kernelspec": {
   "display_name": "Python 3 (ipykernel)",
   "language": "python",
   "name": "python3"
  },
  "language_info": {
   "codemirror_mode": {
    "name": "ipython",
    "version": 3
   },
   "file_extension": ".py",
   "mimetype": "text/x-python",
   "name": "python",
   "nbconvert_exporter": "python",
   "pygments_lexer": "ipython3",
   "version": "3.9.7"
  }
 },
 "nbformat": 4,
 "nbformat_minor": 5
}

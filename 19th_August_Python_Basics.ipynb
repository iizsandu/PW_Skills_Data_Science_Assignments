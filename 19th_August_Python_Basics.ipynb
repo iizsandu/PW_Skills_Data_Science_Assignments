{
 "cells": [
  {
   "cell_type": "markdown",
   "id": "4b4cbbf9",
   "metadata": {},
   "source": [
    "### Python Basics Variable"
   ]
  },
  {
   "cell_type": "markdown",
   "id": "f217b24d",
   "metadata": {},
   "source": [
    "Solution 1"
   ]
  },
  {
   "cell_type": "code",
   "execution_count": 4,
   "id": "d69b728d",
   "metadata": {},
   "outputs": [
    {
     "name": "stdout",
     "output_type": "stream",
     "text": [
      "Before Swapping x = 3 and y = 45\n",
      "After Swapping x = 45 and y = 3\n"
     ]
    }
   ],
   "source": [
    "# Declaring 2 variables\n",
    "\n",
    "x = 3\n",
    "y = 45\n",
    "print(f\"Before Swapping x = {x} and y = {y}\")\n",
    "\n",
    "# Swapping\n",
    "\n",
    "x = x+y\n",
    "y = x-y\n",
    "x = x-y\n",
    "\n",
    "print(f\"After Swapping x = {x} and y = {y}\")"
   ]
  },
  {
   "cell_type": "markdown",
   "id": "883d2b34",
   "metadata": {},
   "source": [
    "Solution 2"
   ]
  },
  {
   "cell_type": "code",
   "execution_count": 5,
   "id": "2920df38",
   "metadata": {},
   "outputs": [
    {
     "name": "stdout",
     "output_type": "stream",
     "text": [
      "Enter Length of the rectangle50\n",
      "Enter width of the rectangle10\n",
      "Area of the rectangle = 500\n"
     ]
    }
   ],
   "source": [
    "# Getting user Inputs\n",
    "\n",
    "length = int(input(\"Enter Length of the rectangle\"))\n",
    "width = int(input(\"Enter width of the rectangle\"))\n",
    "\n",
    "area = length * width # calculating the area\n",
    "\n",
    "print(f\"Area of the rectangle = {area}\")"
   ]
  },
  {
   "cell_type": "markdown",
   "id": "e6a0e2bb",
   "metadata": {},
   "source": [
    "Solution 3 "
   ]
  },
  {
   "cell_type": "code",
   "execution_count": 11,
   "id": "7d93dbbf",
   "metadata": {},
   "outputs": [
    {
     "name": "stdout",
     "output_type": "stream",
     "text": [
      "Enter the Celcius Temperature53.4\n",
      "Temperature in Celcius = 53.4\n",
      "Temperature in Fahrenheit = 128.12\n"
     ]
    }
   ],
   "source": [
    "# Getting user inputs\n",
    "\n",
    "cel = float(input(\"Enter the Celcius Temperature\"))\n",
    "\n",
    "far = 0.0 #initializing fahrenheit variable \n",
    "far = ((9/5) * cel) + 32\n",
    "\n",
    "print(f\"Temperature in Celcius = {cel}\")\n",
    "print(f\"Temperature in Fahrenheit = {far}\")"
   ]
  },
  {
   "cell_type": "markdown",
   "id": "f8d6b87a",
   "metadata": {},
   "source": [
    "### String Based Questions"
   ]
  },
  {
   "cell_type": "markdown",
   "id": "186f4acb",
   "metadata": {},
   "source": [
    "Solution 1"
   ]
  },
  {
   "cell_type": "code",
   "execution_count": 12,
   "id": "8bc9d4a5",
   "metadata": {},
   "outputs": [
    {
     "name": "stdout",
     "output_type": "stream",
     "text": [
      "Enter a stringSandip Shaw\n",
      "Length of the string =  11\n"
     ]
    }
   ],
   "source": [
    "# getting user inputs\n",
    "\n",
    "str1 = str(input(\"Enter a string\"))\n",
    "\n",
    "length = len(str1)  # calculating length\n",
    "print(\"Length of the string = \",length)"
   ]
  },
  {
   "cell_type": "markdown",
   "id": "1ced6327",
   "metadata": {},
   "source": [
    "Solution 2"
   ]
  },
  {
   "cell_type": "code",
   "execution_count": 14,
   "id": "af4d5dbe",
   "metadata": {},
   "outputs": [
    {
     "name": "stdout",
     "output_type": "stream",
     "text": [
      "Enter a sentence Hello how are you?\n",
      "Number of vowels in the given sentence is 7\n"
     ]
    }
   ],
   "source": [
    "count = 0 # initializing the counter variable\n",
    "\n",
    "#getting user input\n",
    "sentence = input(\"Enter a sentence \")\n",
    "vowel_list = ['a','e','i','o','u','A','E','I','O','U'] # initializing the vowels in a list\n",
    "\n",
    "for i in range(len(sentence)):\n",
    "    if sentence[i] in vowel_list:\n",
    "        count +=1\n",
    "\n",
    "print(f\"Number of vowels in the given sentence is {count}\")"
   ]
  },
  {
   "cell_type": "markdown",
   "id": "5ac4cd23",
   "metadata": {},
   "source": [
    "Solution 3 "
   ]
  },
  {
   "cell_type": "code",
   "execution_count": 17,
   "id": "b000d618",
   "metadata": {},
   "outputs": [
    {
     "name": "stdout",
     "output_type": "stream",
     "text": [
      "Enter a string Sandip\n",
      "Reversed String :  pidnaS\n"
     ]
    }
   ],
   "source": [
    "string = input(\"Enter a string \")\n",
    "\n",
    "rev = string[::-1] #slicing\n",
    "\n",
    "print(\"Reversed String : \",rev)"
   ]
  },
  {
   "cell_type": "markdown",
   "id": "8f8ca77f",
   "metadata": {},
   "source": [
    "Solution 4"
   ]
  },
  {
   "cell_type": "code",
   "execution_count": 19,
   "id": "51c9b765",
   "metadata": {},
   "outputs": [
    {
     "name": "stdout",
     "output_type": "stream",
     "text": [
      "Enter a string Sandip\n",
      "The given string is not palindrome\n"
     ]
    }
   ],
   "source": [
    "string = input(\"Enter a string \")\n",
    "rev = string[::-1]\n",
    "\n",
    "if string==rev:\n",
    "    print(\"The given string is palindrome\")\n",
    "else:\n",
    "    print(\"The given string is not palindrome\")"
   ]
  },
  {
   "cell_type": "markdown",
   "id": "76ab94bd",
   "metadata": {},
   "source": [
    "Solution 5"
   ]
  },
  {
   "cell_type": "code",
   "execution_count": 20,
   "id": "92371973",
   "metadata": {},
   "outputs": [
    {
     "name": "stdout",
     "output_type": "stream",
     "text": [
      "Enter a string sandip shaw\n",
      "STring without spaces =  sandipshaw\n"
     ]
    }
   ],
   "source": [
    "string = input(\"Enter a string \")\n",
    "modified_str = string.replace(\" \",\"\")\n",
    "\n",
    "print(\"STring without spaces = \",modified_str)"
   ]
  },
  {
   "cell_type": "code",
   "execution_count": null,
   "id": "39f7c137",
   "metadata": {},
   "outputs": [],
   "source": []
  }
 ],
 "metadata": {
  "kernelspec": {
   "display_name": "Python 3 (ipykernel)",
   "language": "python",
   "name": "python3"
  },
  "language_info": {
   "codemirror_mode": {
    "name": "ipython",
    "version": 3
   },
   "file_extension": ".py",
   "mimetype": "text/x-python",
   "name": "python",
   "nbconvert_exporter": "python",
   "pygments_lexer": "ipython3",
   "version": "3.9.7"
  }
 },
 "nbformat": 4,
 "nbformat_minor": 5
}

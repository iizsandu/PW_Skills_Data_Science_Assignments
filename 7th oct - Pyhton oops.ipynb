{
 "cells": [
  {
   "cell_type": "markdown",
   "id": "0323c0d8",
   "metadata": {},
   "source": [
    "### Problem 1"
   ]
  },
  {
   "cell_type": "code",
   "execution_count": 2,
   "id": "ea232063",
   "metadata": {},
   "outputs": [],
   "source": [
    "class bank:\n",
    "    \n",
    "    def __init__(self, acc_no, acc_holder, balance):\n",
    "        self.account_holder = acc_holder\n",
    "        self.account_number = acc_no\n",
    "        self.balance = balance\n",
    "        \n",
    "    def deposit(self,money):\n",
    "        if money>0:\n",
    "            self.balance += money\n",
    "            print(f\"Deposit successful. New updated balance : {self.balance}\")\n",
    "        else:\n",
    "            print(\"Please enter a positive value\")\n",
    "    \n",
    "    def withdraw(self,money):\n",
    "        if money>self.balance:\n",
    "            print(\"Insufficient funds\")\n",
    "        elif money<0:\n",
    "            print(\"Please enter a positive value\")\n",
    "        else:\n",
    "            self.balance -= money\n",
    "            print(\"Withdrawal successful. New updated balance : \",self.balance)"
   ]
  },
  {
   "cell_type": "code",
   "execution_count": 3,
   "id": "40309f95",
   "metadata": {},
   "outputs": [],
   "source": [
    "sandip = bank(1001,'sandip shaw',10000)"
   ]
  },
  {
   "cell_type": "code",
   "execution_count": 4,
   "id": "42f39f6f",
   "metadata": {},
   "outputs": [
    {
     "name": "stdout",
     "output_type": "stream",
     "text": [
      "Deposit successful. New updated balance : 10500\n"
     ]
    }
   ],
   "source": [
    "sandip.deposit(500)"
   ]
  },
  {
   "cell_type": "code",
   "execution_count": 6,
   "id": "32671052",
   "metadata": {},
   "outputs": [
    {
     "name": "stdout",
     "output_type": "stream",
     "text": [
      "Withdrawal successful. New updated balance :  8700\n"
     ]
    }
   ],
   "source": [
    "sandip.withdraw(1800)"
   ]
  },
  {
   "cell_type": "markdown",
   "id": "ae1672de",
   "metadata": {},
   "source": [
    "### Problem 2"
   ]
  },
  {
   "cell_type": "code",
   "execution_count": 9,
   "id": "01ce2338",
   "metadata": {},
   "outputs": [],
   "source": [
    "class employee_management:\n",
    "    \n",
    "    def __init__(self, employee_id, name, salary=0.0):\n",
    "        self.emp_id = employee_id\n",
    "        self.name = name\n",
    "        self.salary = salary\n",
    "        \n",
    "    def employee_details(self):\n",
    "        print(\"Employee Details :-\")\n",
    "        print(\"Employee ID : \",self.emp_id)\n",
    "        print(\"Employee Name : \",self.name)\n",
    "        print(\"Employee Salary : \",self.salary)\n",
    "        \n",
    "    def yearly_bonus(self):\n",
    "        bonus = 0\n",
    "        \n",
    "        if self.salary<40000:\n",
    "            bonus = 0.5 * self.salary \n",
    "        elif 40000<=self.salary<75000:\n",
    "            bonus = 0.75 * self.salary\n",
    "        else:\n",
    "            bonus = self.salary\n",
    "            \n",
    "        print(\"Yearly Bonus :\",bonus)\n",
    "        return bonus"
   ]
  },
  {
   "cell_type": "code",
   "execution_count": 10,
   "id": "2f0a1299",
   "metadata": {},
   "outputs": [
    {
     "name": "stdout",
     "output_type": "stream",
     "text": [
      "Employee Details :-\n",
      "Employee ID :  1001\n",
      "Employee Name :  Ashok\n",
      "Employee Salary :  66000\n"
     ]
    }
   ],
   "source": [
    "Ashok = employee_management(1001, 'Ashok', 66000)\n",
    "Ashok.employee_details()"
   ]
  },
  {
   "cell_type": "code",
   "execution_count": 11,
   "id": "23e3f5a9",
   "metadata": {},
   "outputs": [
    {
     "name": "stdout",
     "output_type": "stream",
     "text": [
      "Yearly Bonus : 49500.0\n"
     ]
    },
    {
     "data": {
      "text/plain": [
       "49500.0"
      ]
     },
     "execution_count": 11,
     "metadata": {},
     "output_type": "execute_result"
    }
   ],
   "source": [
    "Ashok.yearly_bonus()"
   ]
  },
  {
   "cell_type": "markdown",
   "id": "44d132f3",
   "metadata": {},
   "source": [
    "### Problem 3"
   ]
  },
  {
   "cell_type": "code",
   "execution_count": 19,
   "id": "5ace87c7",
   "metadata": {},
   "outputs": [],
   "source": [
    "class rental_system:\n",
    "    \n",
    "    def __init__(self):\n",
    "        self.available_vehicles = {'car' : 8, 'bike' : 10, 'scooter' : 7}\n",
    "        self.rented_vehicles = {'car' : 0, 'bike' : 0, 'scooter' : 0}\n",
    "        \n",
    "    def rent_vehicle(self, vehicle_type, quantity=1):\n",
    "        if vehicle_type in self.available_vehicles and quantity <= self.available_vehicles[vehicle_type]:\n",
    "            self.available_vehicles[vehicle_type] -= quantity\n",
    "            self.rented_vehicles[vehicle_type] += quantity\n",
    "            print(f\"Congratulations, you have successfully rented {quantity} {vehicle_type}s\")\n",
    "    \n",
    "    def return_vehicle(self, vehicle_type, quantity=1):\n",
    "        if self.rented_vehicles[vehicle_type] == 0:\n",
    "            print(\"You have not rented this vehicle from us!\")\n",
    "        else:\n",
    "            self.available_vehicles[vehicle_type] += quantity\n",
    "            self.rented_vehicles[vehicle_type] -= quantity\n",
    "            print(f\"Congratulations, you have successfully returned {quantity} {vehicle_type}s\")\n",
    "    \n",
    "    def show_stock(self):\n",
    "        print(\"Available vehicles and quantity\")\n",
    "        print(self.available_vehicles)"
   ]
  },
  {
   "cell_type": "code",
   "execution_count": 20,
   "id": "41b9e08e",
   "metadata": {},
   "outputs": [],
   "source": [
    "sandipshaw = rental_system()"
   ]
  },
  {
   "cell_type": "code",
   "execution_count": 21,
   "id": "7c582d86",
   "metadata": {},
   "outputs": [
    {
     "name": "stdout",
     "output_type": "stream",
     "text": [
      "Available vehicles and quantity\n",
      "{'car': 8, 'bike': 10, 'scooter': 7}\n"
     ]
    }
   ],
   "source": [
    "sandipshaw.show_stock()"
   ]
  },
  {
   "cell_type": "code",
   "execution_count": 22,
   "id": "66fac825",
   "metadata": {},
   "outputs": [
    {
     "name": "stdout",
     "output_type": "stream",
     "text": [
      "Congratulations, you have successfully rented 2 cars\n"
     ]
    }
   ],
   "source": [
    "sandipshaw.rent_vehicle('car',2)"
   ]
  },
  {
   "cell_type": "code",
   "execution_count": 24,
   "id": "0559cb27",
   "metadata": {},
   "outputs": [
    {
     "name": "stdout",
     "output_type": "stream",
     "text": [
      "You have not rented this vehicle from us!\n"
     ]
    }
   ],
   "source": [
    "sandipshaw.return_vehicle('bike',2)"
   ]
  },
  {
   "cell_type": "code",
   "execution_count": 25,
   "id": "2feed080",
   "metadata": {},
   "outputs": [
    {
     "name": "stdout",
     "output_type": "stream",
     "text": [
      "Congratulations, you have successfully returned 1 cars\n"
     ]
    }
   ],
   "source": [
    "sandipshaw.return_vehicle('car',1)"
   ]
  },
  {
   "cell_type": "markdown",
   "id": "4b3228db",
   "metadata": {},
   "source": [
    "### Problem 4"
   ]
  },
  {
   "cell_type": "code",
   "execution_count": 41,
   "id": "943464b4",
   "metadata": {},
   "outputs": [],
   "source": [
    "class library:\n",
    "    \n",
    "    def __init__(self):\n",
    "        self.available_books = [\"Dune\", \"Brave New World\", \"1984\", \"Sapiens\", \"Inferno\", \"Outliers\"]\n",
    "    \n",
    "    def issue_book(self, name):\n",
    "        if name in self.available_books:\n",
    "            self.available_books.remove(name)\n",
    "            print(f\"You have issued {name}. Kindly return within 7 days\")\n",
    "        else:\n",
    "            print(\"Book not available\")\n",
    "            \n",
    "    def add_book(self,*name):\n",
    "        self.availale_books += list(name)\n",
    "        print(\"Books added to the inventory\")\n",
    "        print(\"Updated Collection : \",self.available_books)\n",
    "    \n",
    "    def book_colletion(self):\n",
    "        print(\"Available Books\")\n",
    "        print(self.available_books)"
   ]
  },
  {
   "cell_type": "code",
   "execution_count": 42,
   "id": "91f0e81f",
   "metadata": {},
   "outputs": [],
   "source": [
    "meghna = library()"
   ]
  },
  {
   "cell_type": "code",
   "execution_count": 43,
   "id": "155aacec",
   "metadata": {},
   "outputs": [
    {
     "name": "stdout",
     "output_type": "stream",
     "text": [
      "Available Books\n",
      "['Dune', 'Brave New World', '1984', 'Sapiens', 'Inferno', 'Outliers']\n"
     ]
    }
   ],
   "source": [
    "meghna.book_colletion()"
   ]
  },
  {
   "cell_type": "code",
   "execution_count": 44,
   "id": "9caa8dab",
   "metadata": {},
   "outputs": [
    {
     "name": "stdout",
     "output_type": "stream",
     "text": [
      "You have issued Dune. Kindly return within 7 days\n"
     ]
    }
   ],
   "source": [
    "meghna.issue_book('Dune')"
   ]
  },
  {
   "cell_type": "markdown",
   "id": "1e7d41ff",
   "metadata": {},
   "source": [
    "### Problem 5"
   ]
  },
  {
   "cell_type": "code",
   "execution_count": 33,
   "id": "fe03d039",
   "metadata": {},
   "outputs": [],
   "source": [
    "class product_inventory:\n",
    "    \n",
    "    def __init__(self):\n",
    "        self.products = {'Saree' : 4, 'Salwaar' : 5, 'Jeans' : 7}\n",
    "    \n",
    "    def add_products(self,product,quantity):\n",
    "        if product in self.products:\n",
    "            self.products[product] += quantity\n",
    "        else:\n",
    "            self.products[product] = quantity\n",
    "        print(\"Updated List :-\")    \n",
    "        print(self.products)\n",
    "        \n",
    "            \n",
    "    def available_products(self):\n",
    "        print(\"Available Products\")\n",
    "        print(self.products)"
   ]
  },
  {
   "cell_type": "code",
   "execution_count": 34,
   "id": "822babe1",
   "metadata": {},
   "outputs": [],
   "source": [
    "ramesh = product_inventory()"
   ]
  },
  {
   "cell_type": "code",
   "execution_count": 35,
   "id": "6f4e4e3e",
   "metadata": {},
   "outputs": [
    {
     "name": "stdout",
     "output_type": "stream",
     "text": [
      "Available Products\n",
      "{'Saree': 4, 'Salwaar': 5, 'Jeans': 7}\n"
     ]
    }
   ],
   "source": [
    "ramesh.available_products()"
   ]
  },
  {
   "cell_type": "code",
   "execution_count": 36,
   "id": "0fed2bf7",
   "metadata": {},
   "outputs": [
    {
     "name": "stdout",
     "output_type": "stream",
     "text": [
      "Updated List :-\n",
      "{'Saree': 4, 'Salwaar': 5, 'Jeans': 7, 'Top': 3}\n"
     ]
    }
   ],
   "source": [
    "ramesh.add_products('Top',3)"
   ]
  },
  {
   "cell_type": "markdown",
   "id": "8caf56a8",
   "metadata": {},
   "source": [
    "### Problem 6"
   ]
  },
  {
   "cell_type": "code",
   "execution_count": 12,
   "id": "af84882a",
   "metadata": {},
   "outputs": [],
   "source": [
    "class area_perimeter:\n",
    "    \n",
    "    def __init__(self,width,length,height):\n",
    "        self.width = width\n",
    "        self.length = length\n",
    "        self.height=height\n",
    "        \n",
    "    def area(self):\n",
    "        print(\"Area = \",self.width*self.length)\n",
    "    \n",
    "    def perimeter(self):\n",
    "        print(\"Perimeter = \",2*(self.width+self.length))"
   ]
  },
  {
   "cell_type": "code",
   "execution_count": 13,
   "id": "81edd5c6",
   "metadata": {},
   "outputs": [],
   "source": [
    "check_area_perimeter = area_perimeter(5,10,2)"
   ]
  },
  {
   "cell_type": "code",
   "execution_count": 14,
   "id": "e315fc55",
   "metadata": {},
   "outputs": [
    {
     "name": "stdout",
     "output_type": "stream",
     "text": [
      "Area =  50\n"
     ]
    }
   ],
   "source": [
    "check_area_perimeter.area()"
   ]
  },
  {
   "cell_type": "code",
   "execution_count": 15,
   "id": "32455bd1",
   "metadata": {},
   "outputs": [
    {
     "name": "stdout",
     "output_type": "stream",
     "text": [
      "Perimeter =  30\n"
     ]
    }
   ],
   "source": [
    "check_area_perimeter.perimeter()"
   ]
  },
  {
   "cell_type": "markdown",
   "id": "60d7b415",
   "metadata": {},
   "source": [
    "### Problem 7"
   ]
  },
  {
   "cell_type": "code",
   "execution_count": 25,
   "id": "8fdd308d",
   "metadata": {},
   "outputs": [],
   "source": [
    "class student_management:\n",
    "    \n",
    "    def __init__(self,student_ID,name,grade=0):\n",
    "        self.stu_id = student_ID\n",
    "        self.name = name\n",
    "        self.grade = grade\n",
    "        \n",
    "    def avg_grade(self):\n",
    "        avg = sum(self.grade)/len(self.grade)\n",
    "        print(\"Average grade = \", avg)\n",
    "        \n",
    "    def student_detail(self):\n",
    "        print(\"Student details : \")\n",
    "        print(\"Student ID : \",self.stu_id)\n",
    "        print(\"Name : \",self.name)\n",
    "        print(\"Grade : \",self.grade)"
   ]
  },
  {
   "cell_type": "code",
   "execution_count": 26,
   "id": "b0c12a38",
   "metadata": {},
   "outputs": [],
   "source": [
    "suresh = student_management(1023,'Suresh',[66,74,56,83])"
   ]
  },
  {
   "cell_type": "code",
   "execution_count": 27,
   "id": "92f0f065",
   "metadata": {},
   "outputs": [
    {
     "name": "stdout",
     "output_type": "stream",
     "text": [
      "Student details : \n",
      "Student ID :  1023\n",
      "Name :  Suresh\n",
      "Grade :  [66, 74, 56, 83]\n"
     ]
    }
   ],
   "source": [
    "suresh.student_detail()"
   ]
  },
  {
   "cell_type": "code",
   "execution_count": 28,
   "id": "3fd53f2d",
   "metadata": {},
   "outputs": [
    {
     "name": "stdout",
     "output_type": "stream",
     "text": [
      "Average grade =  69.75\n"
     ]
    }
   ],
   "source": [
    "suresh.avg_grade()"
   ]
  },
  {
   "cell_type": "markdown",
   "id": "4880a9c2",
   "metadata": {},
   "source": [
    "### Problem 8"
   ]
  },
  {
   "cell_type": "code",
   "execution_count": 29,
   "id": "f0219d91",
   "metadata": {},
   "outputs": [],
   "source": [
    "class email:\n",
    "    \n",
    "    def __init__(self,sender,recipient,subject):\n",
    "        self.sender = sender\n",
    "        self.recipient = recipient\n",
    "        self.subject = subject\n",
    "        \n",
    "    def send_email(self):\n",
    "        print(\"Email sent successfully\")\n",
    "    \n",
    "    def email_details(self):\n",
    "        print(\"Sent by : \",self.sender)\n",
    "        print(\"Received by \",self.recipient)\n",
    "        print(\"Subject : \",self.subject)"
   ]
  },
  {
   "cell_type": "code",
   "execution_count": 30,
   "id": "a9f4fe6f",
   "metadata": {},
   "outputs": [
    {
     "name": "stdout",
     "output_type": "stream",
     "text": [
      "Sent by :  Sandip\n",
      "Received by  Meghna\n",
      "Subject :  Business meeting details\n"
     ]
    }
   ],
   "source": [
    "abhi = email('Sandip','Meghna',\"Business meeting details\")\n",
    "abhi.email_details()"
   ]
  },
  {
   "cell_type": "code",
   "execution_count": 32,
   "id": "b152bdae",
   "metadata": {},
   "outputs": [
    {
     "name": "stdout",
     "output_type": "stream",
     "text": [
      "Email sent successfully\n"
     ]
    }
   ],
   "source": [
    "abhi.send_email()"
   ]
  },
  {
   "cell_type": "markdown",
   "id": "8412d5e7",
   "metadata": {},
   "source": [
    "### Problem 9"
   ]
  },
  {
   "cell_type": "code",
   "execution_count": 54,
   "id": "ffd70762",
   "metadata": {},
   "outputs": [],
   "source": [
    "class social_media:\n",
    "    \n",
    "    def __init__(self,username,post):\n",
    "        self.username = username\n",
    "        self.post = post\n",
    "        \n",
    "    def add_post(self,title,content):\n",
    "        print(\"Post successfully created\")\n",
    "        self.post[title] = content\n",
    "    \n",
    "    def display_all_post(self):\n",
    "        for title,content in self.post.items():\n",
    "            print(f\"{title} : {content}\")\n",
    "        \n",
    "    def search_post(self,keyword):\n",
    "        if keyword in self.post.items():\n",
    "            your_post = self.post[keyword]\n",
    "            print(\"Post you are looking fot : \", your_post)\n",
    "        else:\n",
    "            print(\"Post not available\")"
   ]
  },
  {
   "cell_type": "code",
   "execution_count": 55,
   "id": "e2a65953",
   "metadata": {},
   "outputs": [],
   "source": [
    "sudip = social_media('sudip',{'Intro' : 'My name is Sudip Banerjee', 'City' : 'I live in Kolkata', 'Food' : 'My favourite meal is Biryani'})"
   ]
  },
  {
   "cell_type": "code",
   "execution_count": 56,
   "id": "0ccc9ac8",
   "metadata": {},
   "outputs": [
    {
     "name": "stdout",
     "output_type": "stream",
     "text": [
      "Post successfully created\n"
     ]
    }
   ],
   "source": [
    "sudip.add_post('Hobby','Playing Football')"
   ]
  },
  {
   "cell_type": "code",
   "execution_count": 57,
   "id": "70c1a86d",
   "metadata": {},
   "outputs": [
    {
     "name": "stdout",
     "output_type": "stream",
     "text": [
      "Intro : My name is Sudip Banerjee\n",
      "City : I live in Kolkata\n",
      "Food : My favourite meal is Biryani\n",
      "Hobby : Playing Football\n"
     ]
    }
   ],
   "source": [
    "sudip.display_all_post()"
   ]
  },
  {
   "cell_type": "markdown",
   "id": "cd5a9b4f",
   "metadata": {},
   "source": [
    "### Problem 10"
   ]
  },
  {
   "cell_type": "code",
   "execution_count": 58,
   "id": "9fcd4845",
   "metadata": {},
   "outputs": [
    {
     "name": "stdout",
     "output_type": "stream",
     "text": [
      "Task 'Write report' added with due date 2024-02-10\n",
      "Task 'Study for exam' added with due date 2024-02-15\n",
      "Task 'Exercise' added with due date 2024-02-12\n",
      "Pending tasks:\n",
      "Write report (Due Date: 2024-02-10)\n",
      "Study for exam (Due Date: 2024-02-15)\n",
      "Exercise (Due Date: 2024-02-12)\n",
      "Task 'Study for exam' marked as completed!\n",
      "Pending tasks:\n",
      "Write report (Due Date: 2024-02-10)\n",
      "Exercise (Due Date: 2024-02-12)\n"
     ]
    }
   ],
   "source": [
    "class ToDoList:\n",
    "    def __init__(self):\n",
    "        self.tasks = {}\n",
    "\n",
    "    def add_task(self, task, due_date):\n",
    "        print(f\"Task '{task}' added with due date {due_date}\")\n",
    "        self.tasks[task] = due_date\n",
    "\n",
    "    def mark_completed(self, task):\n",
    "        if task in self.tasks:\n",
    "            print(f\"Task '{task}' marked as completed!\")\n",
    "            del self.tasks[task]\n",
    "        else:\n",
    "            print(f\"Task '{task}' not found in the list.\")\n",
    "\n",
    "    def display_pending_tasks(self):\n",
    "        if not self.tasks:\n",
    "            print(\"No pending tasks.\")\n",
    "        else:\n",
    "            print(\"Pending tasks:\")\n",
    "            for task, due_date in self.tasks.items():\n",
    "                print(f\"{task} (Due Date: {due_date})\")\n",
    "\n",
    "todo_list = ToDoList()\n",
    "\n",
    "todo_list.add_task(\"Write report\", \"2024-02-10\")\n",
    "todo_list.add_task(\"Study for exam\", \"2024-02-15\")\n",
    "todo_list.add_task(\"Exercise\", \"2024-02-12\")\n",
    "\n",
    "todo_list.display_pending_tasks()\n",
    "\n",
    "todo_list.mark_completed(\"Study for exam\")\n",
    "\n",
    "todo_list.display_pending_tasks()"
   ]
  },
  {
   "cell_type": "code",
   "execution_count": null,
   "id": "f36e6bdc",
   "metadata": {},
   "outputs": [],
   "source": []
  }
 ],
 "metadata": {
  "kernelspec": {
   "display_name": "Python 3 (ipykernel)",
   "language": "python",
   "name": "python3"
  },
  "language_info": {
   "codemirror_mode": {
    "name": "ipython",
    "version": 3
   },
   "file_extension": ".py",
   "mimetype": "text/x-python",
   "name": "python",
   "nbconvert_exporter": "python",
   "pygments_lexer": "ipython3",
   "version": "3.9.7"
  }
 },
 "nbformat": 4,
 "nbformat_minor": 5
}

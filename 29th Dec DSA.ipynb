{
 "cells": [
  {
   "cell_type": "markdown",
   "id": "00192ef7",
   "metadata": {},
   "source": [
    "## Common class and methods "
   ]
  },
  {
   "cell_type": "code",
   "execution_count": 2,
   "id": "bdd2d693",
   "metadata": {},
   "outputs": [],
   "source": [
    "# define the list node\n",
    "\n",
    "class Node:\n",
    "    \n",
    "    def __init__(self, data=None, next=None):\n",
    "        self.data = data\n",
    "        self.next = next\n",
    "        \n",
    "    #method to set the data value\n",
    "    def setData(self,data):\n",
    "        self.data = data\n",
    "        \n",
    "    #method to get the data value\n",
    "    def getData(self):\n",
    "        return self.data\n",
    "    \n",
    "    #method to set the next\n",
    "    def setNext(self, next):\n",
    "        self.next=next\n",
    "        \n",
    "    #method to get the next\n",
    "    def getNext(self):\n",
    "        return self.next\n",
    "    \n",
    "#traverse the LL\n",
    "def traverse(head):\n",
    "    temp = head\n",
    "    while(temp): \n",
    "        print(temp.getData(),end = \"->\")\n",
    "        temp = temp.getNext() #jump to the next node\n",
    "\n",
    "#find Length\n",
    "def lengthRec(head):\n",
    "    if not head:\n",
    "        return 0\n",
    "    else:\n",
    "        return 1 + lengthRec(head.getNext())\n",
    "\n",
    "#Creating Nodes\n",
    "head = Node(1)\n",
    "node2 = Node(2)\n",
    "node3 = Node(3)\n",
    "node4 = Node(4)\n",
    "node5 = Node(5)\n",
    "\n",
    "#Create the Linkage\n",
    "head.setNext(node2)\n",
    "node2.setNext(node3)\n",
    "node3.setNext(node4)\n",
    "node4.setNext(node5)\n"
   ]
  },
  {
   "cell_type": "markdown",
   "id": "3d0e9862",
   "metadata": {},
   "source": [
    "Sol 1"
   ]
  },
  {
   "cell_type": "code",
   "execution_count": 5,
   "id": "b44c8fea",
   "metadata": {},
   "outputs": [
    {
     "name": "stdout",
     "output_type": "stream",
     "text": [
      "5->4->3->2->1->"
     ]
    }
   ],
   "source": [
    "def revLL(head):\n",
    "    \n",
    "    prev = None\n",
    "    current = head\n",
    "    \n",
    "    while current is not None :\n",
    "        next_node = current.getNext()\n",
    "        current.setNext(prev)\n",
    "        prev = current\n",
    "        current = next_node\n",
    "    \n",
    "    return prev\n",
    "\n",
    "new_head = revLL(head)\n",
    "traverse(new_head)"
   ]
  },
  {
   "cell_type": "code",
   "execution_count": 7,
   "id": "074bf09b",
   "metadata": {},
   "outputs": [
    {
     "name": "stdout",
     "output_type": "stream",
     "text": [
      "5->4->3->2->1->"
     ]
    }
   ],
   "source": [
    "p = new_head\n",
    "traverse(p)"
   ]
  },
  {
   "cell_type": "markdown",
   "id": "ddc29d87",
   "metadata": {},
   "source": [
    "Sol 2"
   ]
  },
  {
   "cell_type": "code",
   "execution_count": 19,
   "id": "033b9389",
   "metadata": {},
   "outputs": [
    {
     "name": "stdout",
     "output_type": "stream",
     "text": [
      "Linked List 1\n",
      "1->7->8->\n",
      "Linked List 2\n",
      "2->3->4->\n",
      "Linked List Merdged\n",
      "1->2->3->4->7->8->"
     ]
    }
   ],
   "source": [
    "def merdgeLL(head1,head2):\n",
    "    \n",
    "    p1 = head1\n",
    "    p2 = head2\n",
    "    \n",
    "    if p1.getData()<=p2.getData():\n",
    "        head3 = p1\n",
    "        p1 = p1.getNext()\n",
    "    else:\n",
    "        head3 = p2\n",
    "        p2 = p2.getNext()\n",
    "        \n",
    "    current = head3\n",
    "            \n",
    "    while (p1 is not None) or (p2 is not None):\n",
    "        if p2==None:\n",
    "            next_node = p1\n",
    "            p1 = p1.getNext()\n",
    "        elif p1==None:\n",
    "            next_node = p2\n",
    "            p2 = p2.getNext()\n",
    "        elif p1.getData() <= p2.getData():\n",
    "            next_node = p1\n",
    "            p1 = p1.getNext()\n",
    "        elif p2.getData() <= p1.getData():\n",
    "            next_node = p2\n",
    "            p2 = p2.getNext()\n",
    "    \n",
    "        \n",
    "        current.setNext(next_node)\n",
    "        current = current.getNext()\n",
    "        \n",
    "    return head3\n",
    "\n",
    "# creating Linked List 1\n",
    "\n",
    "#Creating Nodes\n",
    "head1 = Node(1)\n",
    "node1_2 = Node(7)\n",
    "node1_3 = Node(8)\n",
    "\n",
    "#Create the Linkage\n",
    "head1.setNext(node1_2)\n",
    "node1_2.setNext(node1_3)\n",
    "\n",
    "# creating Linked List 2#Creating Nodes\n",
    "head2 = Node(2)\n",
    "node2 = Node(3)\n",
    "node3 = Node(4)\n",
    "\n",
    "#Create the Linkage\n",
    "head2.setNext(node2)\n",
    "node2.setNext(node3)\n",
    "\n",
    "print(\"Linked List 1\")\n",
    "traverse(head1)\n",
    "print()\n",
    "print(\"Linked List 2\")\n",
    "traverse(head2)\n",
    "print()\n",
    "print(\"Linked List Merdged\")\n",
    "traverse(merdgeLL(head1,head2))"
   ]
  },
  {
   "cell_type": "markdown",
   "id": "9f582a92",
   "metadata": {},
   "source": [
    "Sol 3"
   ]
  },
  {
   "cell_type": "code",
   "execution_count": 22,
   "id": "fd3f851d",
   "metadata": {},
   "outputs": [
    {
     "name": "stdout",
     "output_type": "stream",
     "text": [
      "1->2->3->4->5->\n",
      "1->2->4->5->"
     ]
    }
   ],
   "source": [
    "def lengthRec(head):\n",
    "    if not head:\n",
    "        return 0\n",
    "    else:\n",
    "        return 1 + lengthRec(head.getNext())\n",
    "\n",
    "def delfuntion(head,k):\n",
    "    if (k>lengthRec(head) or k<0):\n",
    "        print(\"Postion you want to delete is invalid\")\n",
    "        return head\n",
    "    \n",
    "    if k==0: \n",
    "        head =  head.getNext()\n",
    "    else:\n",
    "        prev = head\n",
    "        i=0\n",
    "        while(i<k-1):\n",
    "            prev = prev.getNext()\n",
    "            i+=1\n",
    "            \n",
    "        del_element = prev.getNext()\n",
    "        del_element_next = del_element.getNext()\n",
    "        prev.setNext(prev.getNext().getNext())\n",
    "        \n",
    "    return head\n",
    "\n",
    "#Creating Nodes\n",
    "head = Node(1)\n",
    "node2 = Node(2)\n",
    "node3 = Node(3)\n",
    "node4 = Node(4)\n",
    "node5 = Node(5)\n",
    "\n",
    "#Create the Linkage\n",
    "head.setNext(node2)\n",
    "node2.setNext(node3)\n",
    "node3.setNext(node4)\n",
    "node4.setNext(node5)\n",
    "\n",
    "traverse(head)\n",
    "new_head = delfuntion(head,2)\n",
    "print()\n",
    "traverse(new_head)"
   ]
  },
  {
   "cell_type": "markdown",
   "id": "b01c5e2e",
   "metadata": {},
   "source": [
    "Sol 4"
   ]
  },
  {
   "cell_type": "code",
   "execution_count": 13,
   "id": "2dfaf892",
   "metadata": {},
   "outputs": [
    {
     "name": "stdout",
     "output_type": "stream",
     "text": [
      "Linked List 1\n",
      "1->2->3->4->\n",
      "Linked List 2\n",
      "9->8->3->4->\n",
      "Intersection Point\n",
      "Node value =  3\n"
     ]
    }
   ],
   "source": [
    "# creating Linked List 1\n",
    "\n",
    "#Creating Nodes\n",
    "head1 = Node(1)\n",
    "node1_2 = Node(2)\n",
    "node1_3 = Node(3)\n",
    "node1_4 = Node(4)\n",
    "\n",
    "#Create the Linkage\n",
    "head1.setNext(node1_2)\n",
    "node1_2.setNext(node1_3)\n",
    "node1_3.setNext(node1_4)\n",
    "\n",
    "# creating Linked List2 \n",
    "#Creating Nodes\n",
    "head2 = Node(9)\n",
    "node2 = Node(8)\n",
    "node3 = Node(3)\n",
    "node4 = Node(4)\n",
    "\n",
    "#Create the Linkage\n",
    "head2.setNext(node2)\n",
    "node2.setNext(node3)\n",
    "node3.setNext(node4)\n",
    "\n",
    "def findIntersection(head1,head2):\n",
    "    l1 = lengthRec(head1)\n",
    "    l2 = lengthRec(head2)\n",
    "    if l1<l2:\n",
    "        diff = l2-l1\n",
    "        p1 = head1\n",
    "        prev=head2\n",
    "        i=0\n",
    "        while i<diff:\n",
    "            prev = prev.getNext()\n",
    "            i+=1    \n",
    "        p2 = prev\n",
    "    else:\n",
    "        diff = l1-l2\n",
    "        p1 = head2\n",
    "        prev=head1\n",
    "        i=0\n",
    "        while i<diff:\n",
    "            prev = prev.getNext()\n",
    "            i+=1    \n",
    "        p2 = prev\n",
    "    \n",
    "    intersect_node = p1\n",
    "    while p1 is not None and p2 is not None:\n",
    "        if p1.getData()==p2.getData():\n",
    "            intersect_node = p1\n",
    "            break\n",
    "        else:\n",
    "            p1 = p1.getNext()\n",
    "            p2 = p2.getNext()\n",
    "    \n",
    "    return intersect_node.getData()\n",
    "\n",
    "print(\"Linked List 1\")\n",
    "traverse(head1)\n",
    "print()\n",
    "print(\"Linked List 2\")\n",
    "traverse(head2)\n",
    "print()\n",
    "print(\"Intersection Point\")\n",
    "print(\"Node value = \",findIntersection(head1,head2))\n",
    "    "
   ]
  },
  {
   "cell_type": "markdown",
   "id": "d5e7c565",
   "metadata": {},
   "source": [
    "Sol 5"
   ]
  },
  {
   "cell_type": "code",
   "execution_count": 17,
   "id": "70e77ce7",
   "metadata": {},
   "outputs": [
    {
     "name": "stdout",
     "output_type": "stream",
     "text": [
      "1->2->2->3->\n",
      "1->2->3->"
     ]
    }
   ],
   "source": [
    "#Creating Nodes\n",
    "head = Node(1)\n",
    "node2 = Node(2)\n",
    "node3 = Node(2)\n",
    "node4 = Node(3)\n",
    "\n",
    "#Create the Linkage\n",
    "head.setNext(node2)\n",
    "node2.setNext(node3)\n",
    "node3.setNext(node4)\n",
    "\n",
    "def remove_duplicates(head):\n",
    "    prev = head\n",
    "    current = prev.getNext()\n",
    "    next_node = current.getNext()\n",
    "\n",
    "    while current is not None:\n",
    "        if prev.getData() == current.getData():\n",
    "            prev.setNext(next_node)\n",
    "            current = next_node\n",
    "            if current:\n",
    "                next_node = current.getNext()\n",
    "        else:\n",
    "            prev = prev.getNext()\n",
    "            current = next_node\n",
    "            if current:\n",
    "                next_node = current.getNext()\n",
    "            \n",
    "    return head\n",
    "\n",
    "traverse(head)\n",
    "print()\n",
    "head = remove_duplicates(head)\n",
    "traverse(head)\n",
    "        "
   ]
  },
  {
   "cell_type": "markdown",
   "id": "3732a187",
   "metadata": {},
   "source": [
    "Sol 6"
   ]
  },
  {
   "cell_type": "code",
   "execution_count": 39,
   "id": "91b4ac03",
   "metadata": {},
   "outputs": [
    {
     "name": "stdout",
     "output_type": "stream",
     "text": [
      "1->2->3->4->\n",
      "9->8->3->4->\n",
      "sum\n",
      "0->1->7->8->"
     ]
    }
   ],
   "source": [
    "def listToNum(head):\n",
    "    string = \"\"\n",
    "    while head:\n",
    "        string += str(head.getData())\n",
    "        head = head.getNext()\n",
    "    return int(string[::-1])\n",
    "\n",
    "def sumlist(head1,head2):\n",
    "    listsum_No = listToNum(head1) + listToNum(head2)\n",
    "    \n",
    "    #create new Linked list\n",
    "    new_str = str(listsum_No)[::-1]\n",
    "    head3 = Node(int(new_str[0]))\n",
    "    prev = head3\n",
    "    \n",
    "    n = len(new_str)\n",
    "    i = 1\n",
    "    while i<n:\n",
    "        prev.setNext(Node(int(new_str[i])))\n",
    "        prev = prev.getNext()\n",
    "        i+=1\n",
    "    return head3\n",
    "\n",
    "#creating Linked List 1\n",
    "\n",
    "#Creating Nodes\n",
    "head1 = Node(1)\n",
    "node1_2 = Node(2)\n",
    "node1_3 = Node(3)\n",
    "node1_4 = Node(4)\n",
    "\n",
    "#Create the Linkage\n",
    "head1.setNext(node1_2)\n",
    "node1_2.setNext(node1_3)\n",
    "node1_3.setNext(node1_4)\n",
    "\n",
    "# creating Linked List2 \n",
    "#Creating Nodes\n",
    "head2 = Node(9)\n",
    "node2 = Node(8)\n",
    "node3 = Node(3)\n",
    "node4 = Node(4)\n",
    "\n",
    "#Create the Linkage\n",
    "head2.setNext(node2)\n",
    "node2.setNext(node3)\n",
    "node3.setNext(node4)\n",
    "        \n",
    "\n",
    "traverse(head1)\n",
    "print()\n",
    "traverse(head2)\n",
    "print()\n",
    "print(\"sum\")\n",
    "head3 = sumlist(head1,head2)\n",
    "traverse(head3)\n"
   ]
  },
  {
   "cell_type": "markdown",
   "id": "235d39f9",
   "metadata": {},
   "source": [
    "Sol 7"
   ]
  },
  {
   "cell_type": "code",
   "execution_count": 6,
   "id": "46675edd",
   "metadata": {},
   "outputs": [
    {
     "name": "stdout",
     "output_type": "stream",
     "text": [
      "1->2->3->4->5->\n",
      "2->1->4->3->5->"
     ]
    }
   ],
   "source": [
    "def swapAlternate(head):\n",
    "    prev = head\n",
    "    p1 = prev\n",
    "    p2 = prev.getNext()\n",
    "    \n",
    "    while p2:\n",
    "        temp = p1.getData()\n",
    "        p1.setData(p2.getData())\n",
    "        p2.setData(temp)\n",
    "        \n",
    "        p1 = p2.getNext()\n",
    "        if p1:\n",
    "            p2 = p1.getNext()\n",
    "        else:\n",
    "            break\n",
    "        \n",
    "    return head\n",
    "\n",
    "#Creating Nodes\n",
    "head1 = Node(1)\n",
    "node1_2 = Node(2)\n",
    "node1_3 = Node(3)\n",
    "node1_4 = Node(4)\n",
    "node1_5 = Node(5)\n",
    "\n",
    "#Create the Linkage\n",
    "head1.setNext(node1_2)\n",
    "node1_2.setNext(node1_3)\n",
    "node1_3.setNext(node1_4)\n",
    "node1_4.setNext(node1_5)\n",
    "\n",
    "traverse(head1)\n",
    "print()\n",
    "head = swapAlternate(head1)\n",
    "traverse(head)"
   ]
  },
  {
   "cell_type": "markdown",
   "id": "4fdb9b23",
   "metadata": {},
   "source": [
    "Sol 8"
   ]
  },
  {
   "cell_type": "code",
   "execution_count": 11,
   "id": "8503e34d",
   "metadata": {},
   "outputs": [
    {
     "name": "stdout",
     "output_type": "stream",
     "text": [
      "1->2->3->4->5->6->\n",
      "5->4->3->2->1->6->"
     ]
    }
   ],
   "source": [
    "def groupRev(head,k):\n",
    "    \n",
    "    tail = head\n",
    "    current = head\n",
    "    limit = head\n",
    "    \n",
    "    #shifting limit to the kth node\n",
    "    i = 0\n",
    "    while i<(k-1):\n",
    "        limit = limit.getNext()\n",
    "        i+=1\n",
    "        \n",
    "    next_node = head.getNext()\n",
    "    while current is not limit:\n",
    "        current = next_node\n",
    "        next_node = current.getNext()\n",
    "        current.setNext(head)\n",
    "        head = current\n",
    "        \n",
    "    tail.setNext(next_node)\n",
    "    \n",
    "    return head\n",
    "\n",
    "\n",
    "#Creating Nodes\n",
    "head1 = Node(1)\n",
    "node1_2 = Node(2)\n",
    "node1_3 = Node(3)\n",
    "node1_4 = Node(4)\n",
    "node1_5 = Node(5)\n",
    "node1_6 = Node(6)\n",
    "\n",
    "#Create the Linkage\n",
    "head1.setNext(node1_2)\n",
    "node1_2.setNext(node1_3)\n",
    "node1_3.setNext(node1_4)\n",
    "node1_4.setNext(node1_5)\n",
    "node1_5.setNext(node1_6)\n",
    "\n",
    "traverse(head1)\n",
    "print()\n",
    "\n",
    "head = groupRev(head1,5)\n",
    "traverse(head)\n"
   ]
  },
  {
   "cell_type": "markdown",
   "id": "87136184",
   "metadata": {},
   "source": [
    "Sol 9"
   ]
  },
  {
   "cell_type": "code",
   "execution_count": 14,
   "id": "6dd9f22b",
   "metadata": {},
   "outputs": [
    {
     "name": "stdout",
     "output_type": "stream",
     "text": [
      "Not Palindrome\n"
     ]
    }
   ],
   "source": [
    "def revLL(head):\n",
    "\n",
    "    prev = None\n",
    "    current = head\n",
    "\n",
    "    while current is not None :\n",
    "        next_node = current.getNext()\n",
    "        current.setNext(prev)\n",
    "        prev = current\n",
    "        current = next_node\n",
    "\n",
    "    return prev\n",
    "    \n",
    "def checkPalin(head):\n",
    "    \n",
    "    prev = head\n",
    "    revHead = revLL(head)\n",
    "\n",
    "    palin = True\n",
    "    while prev:\n",
    "        if prev.getData() != revHead.getData():\n",
    "            palin = False\n",
    "            break\n",
    "        else:\n",
    "            prev = prev.getNext()\n",
    "            revHead = revHead.getNext()\n",
    "\n",
    "    if palin:\n",
    "        print(\"It is palindrome\")\n",
    "    else:\n",
    "        print(\"Not Palindrome\")\n",
    "\n",
    "head = Node(1)\n",
    "node2 = Node(2)\n",
    "node3 = Node(3)\n",
    "node4 = Node(2)\n",
    "node5 = Node(5)\n",
    "\n",
    "#Create the Linkage\n",
    "head.setNext(node2)\n",
    "node2.setNext(node3)\n",
    "node3.setNext(node4)\n",
    "node4.setNext(node5)\n",
    "\n",
    "checkPalin(head)"
   ]
  },
  {
   "cell_type": "markdown",
   "id": "1cba3f13",
   "metadata": {},
   "source": [
    "Sol 10"
   ]
  },
  {
   "cell_type": "code",
   "execution_count": 65,
   "id": "cc4d9ef3",
   "metadata": {},
   "outputs": [
    {
     "name": "stdout",
     "output_type": "stream",
     "text": [
      "1->2->3->4->5->\n",
      "4->5->1->2->3->"
     ]
    }
   ],
   "source": [
    "def rotateLL(head,k):\n",
    "    \n",
    "    #find length of the LL\n",
    "    length = lengthRec(head)\n",
    "    tail1 = head\n",
    "    actual_k = k%length\n",
    "    \n",
    "    if actual_k == 0:\n",
    "        return head\n",
    "    i=0\n",
    "    while i<((length-actual_k)-1):\n",
    "        tail1 = tail1.getNext()\n",
    "        i+=1\n",
    "    \n",
    "    #shift the tail to the last node after which the rotation starts and break the linked list into 2 parts\n",
    "    head2 = tail1.getNext()\n",
    "    tail1.setNext(None)\n",
    "    \n",
    "    prev = head2\n",
    "    \n",
    "    while prev:\n",
    "        if prev.getNext():\n",
    "            prev = prev.getNext()\n",
    "        else:\n",
    "            break\n",
    "        \n",
    "    prev.setNext(head)\n",
    "    return head2\n",
    "\n",
    "head = Node(1)\n",
    "node2 = Node(2)\n",
    "node3 = Node(3)\n",
    "node4 = Node(4)\n",
    "node5 = Node(5)\n",
    "\n",
    "#Create the Linkage\n",
    "head.setNext(node2)\n",
    "node2.setNext(node3)\n",
    "node3.setNext(node4)\n",
    "node4.setNext(node5)\n",
    "\n",
    "traverse(head)\n",
    "print()\n",
    "head = rotateLL(head,27)\n",
    "traverse(head)    "
   ]
  },
  {
   "cell_type": "markdown",
   "id": "85b0523c",
   "metadata": {},
   "source": [
    "# Sol 11"
   ]
  },
  {
   "cell_type": "code",
   "execution_count": null,
   "id": "9c135291",
   "metadata": {},
   "outputs": [],
   "source": []
  },
  {
   "cell_type": "markdown",
   "id": "60463eff",
   "metadata": {},
   "source": [
    "Sol 12"
   ]
  },
  {
   "cell_type": "code",
   "execution_count": 87,
   "id": "8f05dffd",
   "metadata": {},
   "outputs": [
    {
     "name": "stdout",
     "output_type": "stream",
     "text": [
      "500->100->500->100->500->\n",
      "500->500->500->100->100->"
     ]
    }
   ],
   "source": [
    "def lengthRec(head):\n",
    "    if not head:\n",
    "        return 0\n",
    "    else:\n",
    "        return 1 + lengthRec(head.getNext())\n",
    "\n",
    "def evenLast(head):\n",
    "    length = lengthRec(head)\n",
    "    evenCheck = True\n",
    "    if length%2 == 0:\n",
    "        evenCheck = True\n",
    "    else:\n",
    "        evenCheck = False\n",
    "        \n",
    "    odd = head\n",
    "    head2 = head.getNext()\n",
    "    even = head2\n",
    "    \n",
    "    if evenCheck:\n",
    "        while even.getNext():\n",
    "            odd.setNext(odd.getNext().getNext())\n",
    "            odd = odd.getNext()\n",
    "            even.setNext(even.getNext().getNext())\n",
    "            even = even.getNext()\n",
    "    else:\n",
    "        while even:\n",
    "            odd.setNext(odd.getNext().getNext())\n",
    "            odd = odd.getNext()\n",
    "            even.setNext(even.getNext().getNext())\n",
    "            even = even.getNext()\n",
    "    \n",
    "    odd.setNext(head2)\n",
    "    \n",
    "    return head\n",
    "\n",
    "head = Node(500)\n",
    "node2 = Node(100)\n",
    "node3 = Node(500)\n",
    "node4 = Node(100)\n",
    "node5 = Node(500)\n",
    "\n",
    "#Create the Linkage\n",
    "head.setNext(node2)\n",
    "node2.setNext(node3)\n",
    "node3.setNext(node4)\n",
    "node4.setNext(node5)\n",
    "\n",
    "traverse(head)\n",
    "print()\n",
    "\n",
    "head = evenLast(head)\n",
    "traverse(head)"
   ]
  },
  {
   "cell_type": "markdown",
   "id": "329e1590",
   "metadata": {},
   "source": [
    "SOl 13"
   ]
  },
  {
   "cell_type": "code",
   "execution_count": 90,
   "id": "c6760d44",
   "metadata": {},
   "outputs": [
    {
     "name": "stdout",
     "output_type": "stream",
     "text": [
      "1->2->3->4->5->\n",
      "1->2->3->4->6->"
     ]
    }
   ],
   "source": [
    "def addOne(head):\n",
    "    prev = head\n",
    "    \n",
    "    while prev.getNext():\n",
    "        prev = prev.getNext()\n",
    "    \n",
    "    prev.setData(prev.getData()+1)\n",
    "    return head\n",
    "\n",
    "head = Node(1)\n",
    "node2 = Node(2)\n",
    "node3 = Node(3)\n",
    "node4 = Node(4)\n",
    "node5 = Node(5)\n",
    "\n",
    "#Create the Linkage\n",
    "head.setNext(node2)\n",
    "node2.setNext(node3)\n",
    "node3.setNext(node4)\n",
    "node4.setNext(node5)\n",
    "\n",
    "traverse(head)\n",
    "print()\n",
    "\n",
    "head = addOne(head)\n",
    "traverse(head)\n",
    "    "
   ]
  },
  {
   "cell_type": "markdown",
   "id": "8632dbea",
   "metadata": {},
   "source": [
    "Sol 14"
   ]
  },
  {
   "cell_type": "code",
   "execution_count": 99,
   "id": "82262a9a",
   "metadata": {},
   "outputs": [
    {
     "name": "stdout",
     "output_type": "stream",
     "text": [
      "5\n"
     ]
    }
   ],
   "source": [
    "def findTargetIndex(arr,target):\n",
    "    length = len(arr)\n",
    "    if target in arr:\n",
    "        return arr.index(target)\n",
    "    elif target >= arr[length-1]:\n",
    "        return length\n",
    "    else:\n",
    "        i=0\n",
    "        while arr[i]<target:\n",
    "            i+=1\n",
    "        \n",
    "        return i\n",
    "\n",
    "arr = [1,2,3,5,6]\n",
    "index = findTargetIndex(arr,7)\n",
    "print(index)"
   ]
  },
  {
   "cell_type": "markdown",
   "id": "6cc9acf3",
   "metadata": {},
   "source": [
    "Sol 15"
   ]
  },
  {
   "cell_type": "code",
   "execution_count": 105,
   "id": "1b70d34c",
   "metadata": {},
   "outputs": [
    {
     "name": "stdout",
     "output_type": "stream",
     "text": [
      "2\n"
     ]
    }
   ],
   "source": [
    "# assumimng that the sorted array has been rotated atleast once \n",
    "\n",
    "def checkMin(arr):\n",
    "    temp = 0\n",
    "    while arr[temp]<arr[temp+1]:\n",
    "        temp+=1\n",
    "    return arr[temp+1]\n",
    "\n",
    "arr = [4,5,6,7,2]\n",
    "print(checkMin(arr))"
   ]
  },
  {
   "cell_type": "markdown",
   "id": "72246b38",
   "metadata": {},
   "source": [
    "Sol 16"
   ]
  },
  {
   "cell_type": "code",
   "execution_count": 108,
   "id": "43c8ac5a",
   "metadata": {},
   "outputs": [
    {
     "name": "stdout",
     "output_type": "stream",
     "text": [
      "3\n"
     ]
    }
   ],
   "source": [
    "def sorted_target(arr,target):\n",
    "    return arr.index(target)\n",
    "\n",
    "arr =  [4, 5, 6, 7, 0, 1, 2]\n",
    "print(sorted_target(arr,7))"
   ]
  },
  {
   "cell_type": "markdown",
   "id": "e2f8d8e1",
   "metadata": {},
   "source": [
    "Sol 17"
   ]
  },
  {
   "cell_type": "code",
   "execution_count": 110,
   "id": "b1b6257b",
   "metadata": {},
   "outputs": [
    {
     "name": "stdout",
     "output_type": "stream",
     "text": [
      "3\n"
     ]
    }
   ],
   "source": [
    "def findMaxIndex(arr):\n",
    "    return arr.index(max(arr))\n",
    "\n",
    "arr =  [4, 5, 6, 7, 0, 1, 2]\n",
    "print(findMaxIndex(arr))"
   ]
  },
  {
   "cell_type": "markdown",
   "id": "60d850df",
   "metadata": {},
   "source": [
    "# Sol 18"
   ]
  },
  {
   "cell_type": "code",
   "execution_count": 9,
   "id": "7fced9c6",
   "metadata": {},
   "outputs": [
    {
     "name": "stdout",
     "output_type": "stream",
     "text": [
      "8\n"
     ]
    }
   ],
   "source": [
    "def countNegative(NumList):\n",
    "    count = 0\n",
    "    for row in NumList:\n",
    "        for i in range(len(row)-1,-1,-1):\n",
    "            if row[i] < 0:\n",
    "                count += 1\n",
    "    return count\n",
    "\n",
    "grid = [[4, 3, 2, -1], [3, 2, 1, -1], [1, 1, -1, -2], [-1, -1, -2, -3]]\n",
    "print(countNegative(grid))"
   ]
  },
  {
   "cell_type": "markdown",
   "id": "7e6d2c7e",
   "metadata": {},
   "source": [
    "Sol 19"
   ]
  },
  {
   "cell_type": "code",
   "execution_count": 13,
   "id": "95a0004b",
   "metadata": {},
   "outputs": [
    {
     "name": "stdout",
     "output_type": "stream",
     "text": [
      "True\n"
     ]
    }
   ],
   "source": [
    "def checkTarget(arr,target):\n",
    "    for row in arr:\n",
    "        if target <= row[-1]:\n",
    "            if target in row:\n",
    "                return True\n",
    "            \n",
    "    return False\n",
    "\n",
    "matrix = [[1, 3, 5, 7], [10, 11, 16, 20], [23, 30, 34, 60]]\n",
    "print(checkTarget(matrix,3))\n",
    "            "
   ]
  },
  {
   "cell_type": "markdown",
   "id": "6a6f5db4",
   "metadata": {},
   "source": [
    "Sol 20"
   ]
  },
  {
   "cell_type": "code",
   "execution_count": 43,
   "id": "4f76e3c5",
   "metadata": {},
   "outputs": [
    {
     "name": "stdout",
     "output_type": "stream",
     "text": [
      "4.5\n"
     ]
    }
   ],
   "source": [
    "def combineSortedArray(arr1,arr2):\n",
    "    p1 = 0\n",
    "    l1 = len(arr1)\n",
    "    p2 = 0\n",
    "    l2 = len(arr2)\n",
    "    sort_arr = [None]*((l1+l2))\n",
    "    i=0\n",
    "                       \n",
    "    while p1<l1 and p2<l2:\n",
    "        if arr1[p1] < arr2[p2]:\n",
    "            sort_arr[i] = arr1[p1]\n",
    "            if p1!=l1:\n",
    "                p1+=1\n",
    "        else:\n",
    "            sort_arr[i] = arr2[p2]\n",
    "            if p2!=l2:\n",
    "                p2+=1\n",
    "        i+=1\n",
    "        \n",
    "    while p1<l1:\n",
    "        sort_arr[i] = arr1[p1]\n",
    "        i+=1\n",
    "        p1+=1\n",
    "    while p2<l2:\n",
    "        sort_arr[i] = arr2[p2]\n",
    "        i+=1\n",
    "        p2+=1\n",
    "\n",
    "    return sort_arr\n",
    "\n",
    "def median(arr1,arr2):\n",
    "    arr = combineSortedArray(arr1,arr2)\n",
    "    l = len(arr)\n",
    "    if l%2==0:\n",
    "        return (arr[l//2] + arr[(l//2)-1])/2\n",
    "    else:\n",
    "        return arr[(l//2)]\n",
    "    \n",
    "\n",
    "a = [1,4,8,12]\n",
    "b = [2,3,5,9]\n",
    "\n",
    "print(median(a,b))"
   ]
  },
  {
   "cell_type": "markdown",
   "id": "e7d0493d",
   "metadata": {},
   "source": [
    "Sol 21"
   ]
  },
  {
   "cell_type": "code",
   "execution_count": 21,
   "id": "f4a67087",
   "metadata": {},
   "outputs": [
    {
     "name": "stdout",
     "output_type": "stream",
     "text": [
      "c\n"
     ]
    }
   ],
   "source": [
    "def charTarget(arr,target):\n",
    "    lower_arr = [char.lower() for char in arr]\n",
    "    diff_arr = [ord(char)-ord(target) for char in arr]\n",
    "    temp_arr = [num for num  in diff_arr if num>=0]\n",
    "    return lower_arr[diff_arr.index(min(temp_arr))]\n",
    "    \n",
    "letters = ['c', 'f', 'j']\n",
    "target = 'a'\n",
    "\n",
    "print(charTarget(letters,target))"
   ]
  },
  {
   "cell_type": "markdown",
   "id": "129d24cc",
   "metadata": {},
   "source": [
    "Sol 22"
   ]
  },
  {
   "cell_type": "code",
   "execution_count": 23,
   "id": "d4062089",
   "metadata": {},
   "outputs": [
    {
     "name": "stdout",
     "output_type": "stream",
     "text": [
      "[0, 0, 0, 0, 0, 1, 1, 1, 1, 1, 2, 2]\n"
     ]
    }
   ],
   "source": [
    "'''\n",
    "Let Red represent 0\n",
    "    White represent 1\n",
    "    Blue represent 2'''\n",
    "\n",
    "def sortBalls(arr):\n",
    "    left = 0\n",
    "    mid = 0\n",
    "    right = len(arr)-1\n",
    "    \n",
    "    while mid<=right:\n",
    "        if arr[mid] == 0:\n",
    "            arr[mid],arr[left] = arr[left],arr[mid]\n",
    "            left += 1\n",
    "            mid += 1\n",
    "        elif arr[mid] == 1:\n",
    "            mid+=1\n",
    "        else:\n",
    "            arr[mid],arr[right] = arr[right],arr[mid]\n",
    "            right-=1\n",
    "    return arr\n",
    "\n",
    "arr = [0,1,1,0,1,2,1,2,0,0,0,1]\n",
    "print(sortBalls(arr))"
   ]
  },
  {
   "cell_type": "markdown",
   "id": "23b8f7e6",
   "metadata": {},
   "source": [
    "Sol 23"
   ]
  },
  {
   "cell_type": "code",
   "execution_count": 51,
   "id": "0bfc4351",
   "metadata": {},
   "outputs": [
    {
     "name": "stdout",
     "output_type": "stream",
     "text": [
      "6\n"
     ]
    }
   ],
   "source": [
    "# find kth largest element\n",
    "\n",
    "def kthLargest(arr,k):\n",
    "    # sort the array\n",
    "    arr.sort()\n",
    "    return arr[:-1][len(arr)-k]\n",
    "            \n",
    "nums = [3, 2, 1, 5, 6, 4,9]\n",
    "print(kthLargest(nums,2))"
   ]
  },
  {
   "cell_type": "markdown",
   "id": "f40ec9a9",
   "metadata": {},
   "source": [
    "Sol 24"
   ]
  },
  {
   "cell_type": "code",
   "execution_count": 5,
   "id": "68c676a2",
   "metadata": {},
   "outputs": [
    {
     "name": "stdout",
     "output_type": "stream",
     "text": [
      "[90, 100, 2, 49, 1, 5, 3, 23]\n"
     ]
    }
   ],
   "source": [
    "def wave(arr):\n",
    "    for i in range(0,len(arr)-1,2):\n",
    "        if (i>0 and arr[i]>arr[i-1]):\n",
    "            arr[i],arr[i-1] = arr[i-1],arr[i]\n",
    "        if (i<len(arr)-1 and arr[i]>arr[i+1]):\n",
    "            arr[i],arr[i+1] = arr[i+1],arr[i]\n",
    "    return arr\n",
    "\n",
    "a = [100,90,49,2,3,1,5,23]\n",
    "print(wave(a))"
   ]
  },
  {
   "cell_type": "markdown",
   "id": "568ab762",
   "metadata": {},
   "source": [
    "Sol 25"
   ]
  },
  {
   "cell_type": "code",
   "execution_count": 6,
   "id": "d2bf1460",
   "metadata": {},
   "outputs": [
    {
     "name": "stdout",
     "output_type": "stream",
     "text": [
      "15\n"
     ]
    }
   ],
   "source": [
    "def sumArr(arr):\n",
    "    summation = 0\n",
    "    for num in arr:\n",
    "        summation += num\n",
    "    return summation\n",
    "\n",
    "a = [1,2,3,4,5]\n",
    "print(sumArr(a))"
   ]
  },
  {
   "cell_type": "markdown",
   "id": "f7749c33",
   "metadata": {},
   "source": [
    "Sol 26"
   ]
  },
  {
   "cell_type": "code",
   "execution_count": 9,
   "id": "d5735a3a",
   "metadata": {},
   "outputs": [
    {
     "name": "stdout",
     "output_type": "stream",
     "text": [
      "5\n"
     ]
    }
   ],
   "source": [
    "def findMax(arr):\n",
    "    maximum = 0\n",
    "    for num in arr:\n",
    "        if maximum<num:\n",
    "            maximum = num\n",
    "    return maximum\n",
    "\n",
    "a = [1,2,3,4,5]\n",
    "print(findMax(a))"
   ]
  },
  {
   "cell_type": "markdown",
   "id": "70ee1e52",
   "metadata": {},
   "source": [
    "Sol 27"
   ]
  },
  {
   "cell_type": "code",
   "execution_count": 10,
   "id": "467f3655",
   "metadata": {},
   "outputs": [
    {
     "name": "stdout",
     "output_type": "stream",
     "text": [
      "2\n"
     ]
    }
   ],
   "source": [
    "def linearSearch(arr,target):\n",
    "    for i in range(len(arr)-1):\n",
    "        if arr[i] == target:\n",
    "            return i\n",
    "        \n",
    "    return None\n",
    "\n",
    "a = [1,2,3,4,5]\n",
    "print(linearSearch(a,3))\n",
    "          "
   ]
  },
  {
   "cell_type": "markdown",
   "id": "1c40aeb7",
   "metadata": {},
   "source": [
    "Sol 28"
   ]
  },
  {
   "cell_type": "code",
   "execution_count": 2,
   "id": "9f129058",
   "metadata": {},
   "outputs": [
    {
     "name": "stdout",
     "output_type": "stream",
     "text": [
      "120\n"
     ]
    }
   ],
   "source": [
    "def fact(num):\n",
    "    if num == 0 or num == 1:\n",
    "        return 1\n",
    "    return num * fact(num-1)\n",
    "\n",
    "print(fact(5))"
   ]
  },
  {
   "cell_type": "markdown",
   "id": "a44574df",
   "metadata": {},
   "source": [
    "Sol 29"
   ]
  },
  {
   "cell_type": "code",
   "execution_count": 2,
   "id": "21098c3d",
   "metadata": {},
   "outputs": [
    {
     "name": "stdout",
     "output_type": "stream",
     "text": [
      "True\n"
     ]
    }
   ],
   "source": [
    "def checkPrime(num):\n",
    "    count = 0\n",
    "    for i in range(1,num+1):\n",
    "        if num%i == 0:\n",
    "            count+=1\n",
    "    if count==2:\n",
    "        return True\n",
    "    else:\n",
    "        return False\n",
    "\n",
    "print(checkPrime(5))"
   ]
  },
  {
   "cell_type": "markdown",
   "id": "b844915f",
   "metadata": {},
   "source": [
    "Sol 30"
   ]
  },
  {
   "cell_type": "code",
   "execution_count": 3,
   "id": "cd5c0eb0",
   "metadata": {},
   "outputs": [
    {
     "name": "stdout",
     "output_type": "stream",
     "text": [
      "0 1 1 2 3 "
     ]
    }
   ],
   "source": [
    "def fibo(num):\n",
    "    a, b = 0, 1\n",
    "    count = 0\n",
    "    while count < num:\n",
    "        print(a, end=\" \")\n",
    "        a, b = b, a + b\n",
    "        count += 1\n",
    "    return\n",
    "\n",
    "fibo(5)\n",
    "\n",
    "    "
   ]
  },
  {
   "cell_type": "markdown",
   "id": "44fc072c",
   "metadata": {},
   "source": [
    "Sol 31"
   ]
  },
  {
   "cell_type": "code",
   "execution_count": 8,
   "id": "59e7783f",
   "metadata": {},
   "outputs": [
    {
     "name": "stdout",
     "output_type": "stream",
     "text": [
      "256\n"
     ]
    }
   ],
   "source": [
    "def power(num,p):\n",
    "    if p == 0:\n",
    "        return 1\n",
    "    return num * power(num,p-1)\n",
    "\n",
    "print(power(2,8))"
   ]
  },
  {
   "cell_type": "markdown",
   "id": "bd4f1616",
   "metadata": {},
   "source": [
    "Sol 32"
   ]
  },
  {
   "cell_type": "code",
   "execution_count": 12,
   "id": "bd1cc44b",
   "metadata": {},
   "outputs": [
    {
     "name": "stdout",
     "output_type": "stream",
     "text": [
      "olleh\n"
     ]
    }
   ],
   "source": [
    "def strrev(string):\n",
    "    return string[::-1]\n",
    "\n",
    "print(strrev(\"hello\"))"
   ]
  },
  {
   "cell_type": "code",
   "execution_count": null,
   "id": "b232a3f1",
   "metadata": {},
   "outputs": [],
   "source": []
  },
  {
   "cell_type": "code",
   "execution_count": null,
   "id": "f0b278ea",
   "metadata": {},
   "outputs": [],
   "source": []
  }
 ],
 "metadata": {
  "kernelspec": {
   "display_name": "Python 3 (ipykernel)",
   "language": "python",
   "name": "python3"
  },
  "language_info": {
   "codemirror_mode": {
    "name": "ipython",
    "version": 3
   },
   "file_extension": ".py",
   "mimetype": "text/x-python",
   "name": "python",
   "nbconvert_exporter": "python",
   "pygments_lexer": "ipython3",
   "version": "3.9.7"
  }
 },
 "nbformat": 4,
 "nbformat_minor": 5
}

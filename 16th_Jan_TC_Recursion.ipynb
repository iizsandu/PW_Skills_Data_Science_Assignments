{
 "cells": [
  {
   "cell_type": "markdown",
   "id": "c64256bd",
   "metadata": {},
   "source": [
    "Solution 1 - Time Complexity = O(nlogn)"
   ]
  },
  {
   "cell_type": "markdown",
   "id": "11fdd815",
   "metadata": {},
   "source": [
    "Soltution 2 - Time Complexity - O(n^2)"
   ]
  },
  {
   "cell_type": "markdown",
   "id": "11036135",
   "metadata": {},
   "source": [
    "Solution 3 - Time Complexity = O(n)"
   ]
  },
  {
   "cell_type": "markdown",
   "id": "2f074bdf",
   "metadata": {},
   "source": [
    "Solution 4 - Time Complexity = O(n^2)"
   ]
  },
  {
   "cell_type": "markdown",
   "id": "401a599f",
   "metadata": {},
   "source": [
    "Solution 5 - Time Complexity = O(n^2)"
   ]
  },
  {
   "cell_type": "markdown",
   "id": "eca53c8e",
   "metadata": {},
   "source": [
    "Solution 6"
   ]
  },
  {
   "cell_type": "code",
   "execution_count": 5,
   "id": "8d8b72f9",
   "metadata": {},
   "outputs": [
    {
     "name": "stdout",
     "output_type": "stream",
     "text": [
      "10\n"
     ]
    }
   ],
   "source": [
    "def sum_of_digits(num):\n",
    "    if num<10:\n",
    "        return num\n",
    "    temp = num%10\n",
    "    return temp + sum_of_digits(num//10)\n",
    "\n",
    "num = 1234\n",
    "print(sum_of_digits(num))"
   ]
  },
  {
   "cell_type": "markdown",
   "id": "e4adf657",
   "metadata": {},
   "source": [
    "Solution 7"
   ]
  },
  {
   "cell_type": "code",
   "execution_count": 7,
   "id": "ccb40d3d",
   "metadata": {},
   "outputs": [
    {
     "name": "stdout",
     "output_type": "stream",
     "text": [
      "Enter a fibonacci limit6\n",
      "0,1,1,2,3,5,"
     ]
    }
   ],
   "source": [
    "def fibo(n):\n",
    "    if n==0:\n",
    "        return 0\n",
    "    elif n==1:\n",
    "        return 1\n",
    "    return fibo(n-1) + fibo(n-2)\n",
    "\n",
    "i = int(input(\"Enter a fibonacci limit\"))\n",
    "for j in range(i):\n",
    "    print(fibo(j),end=\",\")"
   ]
  },
  {
   "cell_type": "markdown",
   "id": "586df23b",
   "metadata": {},
   "source": [
    "Solution 8"
   ]
  },
  {
   "cell_type": "code",
   "execution_count": 14,
   "id": "4364121c",
   "metadata": {
    "scrolled": true
   },
   "outputs": [
    {
     "name": "stdout",
     "output_type": "stream",
     "text": [
      "There are sets which adds up to target\n"
     ]
    }
   ],
   "source": [
    "def factor_sum(arr,target_sum,cr):\n",
    "    if target_sum==0:\n",
    "        return True\n",
    "    elif cr == 0:\n",
    "        return False\n",
    "    \n",
    "    if arr[cr-1]>target_sum:\n",
    "        return factor_sum(arr,target_sum,cr-1)\n",
    "    \n",
    "    return factor_sum(arr,target_sum-arr[cr-1],cr-1) or factor_sum(arr, target_sum, cr-1)\n",
    "\n",
    "set = [3, 34, 4, 12, 5]\n",
    "sum = 7\n",
    "n = len(set)\n",
    "if factor_sum(set,sum,n):\n",
    "    print(\"There are sets which adds up to target\")\n",
    "else:\n",
    "    print('No')"
   ]
  },
  {
   "cell_type": "markdown",
   "id": "d9dd4645",
   "metadata": {},
   "source": [
    "Solution 9"
   ]
  },
  {
   "cell_type": "code",
   "execution_count": 12,
   "id": "1aeb053b",
   "metadata": {},
   "outputs": [
    {
     "name": "stdout",
     "output_type": "stream",
     "text": [
      "True\n"
     ]
    }
   ],
   "source": [
    "def find_substring(string,arr,ci):\n",
    "    if string[:ci+1] in arr:\n",
    "        if len(string)==ci+1:\n",
    "            return True\n",
    "        else:\n",
    "            return find_substring(string[ci+1:],arr,0)  \n",
    "    elif len(string)==ci+1:\n",
    "        return False\n",
    "\n",
    "    return find_substring(string,arr,ci+1)    \n",
    "    \n",
    "    \n",
    "    \n",
    "if find_substring('leetcode',['leet','code'],0):\n",
    "    print('True')\n",
    "else:\n",
    "    print('False')"
   ]
  },
  {
   "cell_type": "markdown",
   "id": "6d9230ac",
   "metadata": {},
   "source": [
    "Solution 10"
   ]
  },
  {
   "cell_type": "code",
   "execution_count": 53,
   "id": "71d70f26",
   "metadata": {},
   "outputs": [
    {
     "name": "stdout",
     "output_type": "stream",
     "text": [
      "[0, 0, 0, 0]\n",
      "[0, 0, 0, 0]\n",
      "[0, 0, 0, 0]\n",
      "[0, 0, 0, 0]\n",
      "\n",
      "[0, 0, 0, 0]\n",
      "[0, 0, 0, 0]\n",
      "[0, 0, 0, 0]\n",
      "[0, 0, 0, 0]\n",
      "\n"
     ]
    }
   ],
   "source": [
    "def is_safe(row,col,queen_count,n):\n",
    "    for posi in queen_count:\n",
    "        #check column\n",
    "        if posi[1]==col:\n",
    "            return False\n",
    "        #check upper left diagonal\n",
    "        elif ((posi[0]-posi[1])+(n-1)) == ((row-col)+(n-1)):\n",
    "            return False\n",
    "        #check upper right diagonal\n",
    "        elif (posi[0]+posi[1]) == (row+col):\n",
    "            return False\n",
    "    return True\n",
    "    \n",
    "def n_queens(board,row,n,queen_count=[],solutions = []):\n",
    "    if  len(queen_count)==n:\n",
    "        print(board)\n",
    "        solutions.append(board)\n",
    "        return\n",
    "\n",
    "    for i in range(n):\n",
    "        if is_safe(row,i,queen_count,n):\n",
    "            board[row][i]=1\n",
    "            queen_count.append((row,i))\n",
    "            n_queens(board,row+1,n,queen_count,solutions)\n",
    "            board[row][i]=0\n",
    "            queen_count.remove((row,i))\n",
    "\n",
    "    return solutions\n",
    "\n",
    "n = 4\n",
    "board = [[0] * n for _ in range(n)]\n",
    "solutions = n_queens(board, 0, n)\n",
    "for solution in solutions:\n",
    "    for row in solution:\n",
    "        print(row)\n",
    "    print()\n",
    "\n",
    "\n",
    "\n",
    "\n",
    "    \n"
   ]
  },
  {
   "cell_type": "code",
   "execution_count": 49,
   "id": "74c4a45f",
   "metadata": {},
   "outputs": [
    {
     "data": {
      "text/plain": [
       "[[[1, 2], [2, 3]], [[12, 14]]]"
      ]
     },
     "execution_count": 49,
     "metadata": {},
     "output_type": "execute_result"
    }
   ],
   "source": [
    "a = [[1,2],[2,3]]\n",
    "c = [[12,14]]\n",
    "b=[]\n",
    "b.append(a)\n",
    "b.append(c)\n",
    "b"
   ]
  },
  {
   "cell_type": "code",
   "execution_count": null,
   "id": "480fcf7f",
   "metadata": {},
   "outputs": [],
   "source": []
  },
  {
   "cell_type": "code",
   "execution_count": null,
   "id": "685bf33d",
   "metadata": {},
   "outputs": [],
   "source": []
  },
  {
   "cell_type": "code",
   "execution_count": null,
   "id": "0c29fca8",
   "metadata": {},
   "outputs": [],
   "source": []
  },
  {
   "cell_type": "code",
   "execution_count": null,
   "id": "10d2e6e2",
   "metadata": {},
   "outputs": [],
   "source": []
  },
  {
   "cell_type": "code",
   "execution_count": null,
   "id": "890dc19a",
   "metadata": {},
   "outputs": [],
   "source": []
  },
  {
   "cell_type": "code",
   "execution_count": null,
   "id": "a869bdc2",
   "metadata": {},
   "outputs": [],
   "source": []
  },
  {
   "cell_type": "code",
   "execution_count": null,
   "id": "205d68ff",
   "metadata": {},
   "outputs": [],
   "source": []
  },
  {
   "cell_type": "code",
   "execution_count": null,
   "id": "b87d64e7",
   "metadata": {},
   "outputs": [],
   "source": []
  },
  {
   "cell_type": "code",
   "execution_count": null,
   "id": "27065b45",
   "metadata": {},
   "outputs": [],
   "source": []
  },
  {
   "cell_type": "code",
   "execution_count": null,
   "id": "74a13416",
   "metadata": {},
   "outputs": [],
   "source": []
  },
  {
   "cell_type": "code",
   "execution_count": null,
   "id": "ada6231d",
   "metadata": {},
   "outputs": [],
   "source": []
  }
 ],
 "metadata": {
  "kernelspec": {
   "display_name": "Python 3 (ipykernel)",
   "language": "python",
   "name": "python3"
  },
  "language_info": {
   "codemirror_mode": {
    "name": "ipython",
    "version": 3
   },
   "file_extension": ".py",
   "mimetype": "text/x-python",
   "name": "python",
   "nbconvert_exporter": "python",
   "pygments_lexer": "ipython3",
   "version": "3.12.2"
  }
 },
 "nbformat": 4,
 "nbformat_minor": 5
}
